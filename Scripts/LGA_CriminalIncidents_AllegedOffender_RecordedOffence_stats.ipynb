{
 "cells": [
  {
   "cell_type": "code",
   "execution_count": 37,
   "id": "a7fa42f7",
   "metadata": {
    "ExecuteTime": {
     "end_time": "2022-01-04T09:51:57.083762Z",
     "start_time": "2022-01-04T09:51:57.041501Z"
    }
   },
   "outputs": [],
   "source": [
    "# Import the required libraries and dependencies\n",
    "import pandas as pd\n",
    "import numpy as np\n",
    "\n",
    "from plotly.offline import init_notebook_mode, iplot\n",
    "import plotly.graph_objs as go\n",
    "from plotly import subplots\n",
    "import chart_studio.plotly as py\n",
    "\n",
    "import matplotlib.pyplot as plt\n",
    "import scipy.stats as st\n",
    "\n",
    "import seaborn as sns\n"
   ]
  },
  {
   "cell_type": "code",
   "execution_count": 38,
   "id": "fa8efee2",
   "metadata": {
    "ExecuteTime": {
     "end_time": "2022-01-04T09:51:57.099766Z",
     "start_time": "2022-01-04T09:51:57.093767Z"
    }
   },
   "outputs": [],
   "source": [
    "# Set data files input path\n",
    "path = \"../Data/\""
   ]
  },
  {
   "cell_type": "code",
   "execution_count": 39,
   "id": "54ecfdec",
   "metadata": {
    "ExecuteTime": {
     "end_time": "2022-01-04T09:52:04.719624Z",
     "start_time": "2022-01-04T09:51:57.260293Z"
    }
   },
   "outputs": [],
   "source": [
    "# Read criminal incidents file\n",
    "xls_lga_ci = pd.ExcelFile(path+'LGA_Criminal_Incidents_Year_Ending_September_2021.xlsx')\n",
    "\n",
    "lga_ci_tab1 = pd.read_excel(xls_lga_ci, \"Table 01\")\n",
    "lga_ci_tab2 = pd.read_excel(xls_lga_ci, \"Table 02\")"
   ]
  },
  {
   "cell_type": "code",
   "execution_count": 40,
   "id": "c2589641",
   "metadata": {
    "ExecuteTime": {
     "end_time": "2022-01-04T09:52:11.671953Z",
     "start_time": "2022-01-04T09:52:04.721624Z"
    }
   },
   "outputs": [],
   "source": [
    "# Read recorded offences file\n",
    "xls_lga_ro = pd.ExcelFile(path+'LGA_Recorded_Offences_Year_Ending_September_2021.xlsx')\n",
    "\n",
    "lga_ro_tab1 = pd.read_excel(xls_lga_ro, \"Table 01\")\n",
    "lga_ro_tab2 = pd.read_excel(xls_lga_ro, \"Table 02\")\n"
   ]
  },
  {
   "cell_type": "code",
   "execution_count": 41,
   "id": "5d2cd255",
   "metadata": {
    "ExecuteTime": {
     "end_time": "2022-01-04T09:52:13.100421Z",
     "start_time": "2022-01-04T09:52:11.673955Z"
    }
   },
   "outputs": [],
   "source": [
    "# Read alleged offenders file\n",
    "xls_lga_ao = pd.ExcelFile(path+'LGA_Alleged_Offenders_Year_Ending_September_2021.xlsx')\n",
    "\n",
    "lga_ao_tab1 = pd.read_excel(xls_lga_ao, \"Table 01\")\n",
    "lga_ao_tab2 = pd.read_excel(xls_lga_ao, \"Table 02\")\n"
   ]
  },
  {
   "cell_type": "code",
   "execution_count": 42,
   "id": "7a4a9a3e",
   "metadata": {
    "ExecuteTime": {
     "end_time": "2022-01-04T09:52:13.146436Z",
     "start_time": "2022-01-04T09:52:13.103416Z"
    }
   },
   "outputs": [],
   "source": [
    "# Get data for Crime Incidents, Recorded Offences and Alleged Offenders, Family Incidents\n",
    "# for each police service metropolitan region \n",
    "\n",
    "lga_ci_by_year = lga_ci_tab1['Incidents Recorded'].loc[(lga_ci_tab1['Police Region'].str[:1] == '1') \n",
    "                                                       & (lga_ci_tab1['Local Government Area'] == 'Total')].values + \\\n",
    "                 lga_ci_tab1['Incidents Recorded'].loc[(lga_ci_tab1['Police Region'].str[:1] == '2') \n",
    "                                                       & (lga_ci_tab1['Local Government Area'] == 'Total')].values + \\\n",
    "                 lga_ci_tab1['Incidents Recorded'].loc[(lga_ci_tab1['Police Region'].str[:1] == '3') \n",
    "                                                       & (lga_ci_tab1['Local Government Area'] == 'Total')].values + \\\n",
    "                 lga_ci_tab1['Incidents Recorded'].loc[(lga_ci_tab1['Police Region'].str[:1] == '4') \n",
    "                                                       & (lga_ci_tab1['Local Government Area'] == 'Total')].values \n",
    "\n",
    "lga_ro_by_year = lga_ro_tab1['Offence Count'].loc[(lga_ro_tab1['Police Region'].str[:1] == '1') \n",
    "                                                       & (lga_ro_tab1['Local Government Area'] == 'Total')].values + \\\n",
    "                 lga_ro_tab1['Offence Count'].loc[(lga_ro_tab1['Police Region'].str[:1] == '2') \n",
    "                                                       & (lga_ro_tab1['Local Government Area'] == 'Total')].values + \\\n",
    "                 lga_ro_tab1['Offence Count'].loc[(lga_ro_tab1['Police Region'].str[:1] == '3') \n",
    "                                                       & (lga_ro_tab1['Local Government Area'] == 'Total')].values + \\\n",
    "                 lga_ro_tab1['Offence Count'].loc[(lga_ro_tab1['Police Region'].str[:1] == '4') \n",
    "                                                       & (lga_ro_tab1['Local Government Area'] == 'Total')].values\n",
    "\n",
    "lga_ao_by_year = lga_ao_tab1['Alleged Offender Incidents'].loc[(lga_ao_tab1['Police Region'].str[:1] == '1') \n",
    "                                                       & (lga_ao_tab1['Local Government Area'] == 'Total')].values + \\\n",
    "                 lga_ao_tab1['Alleged Offender Incidents'].loc[(lga_ao_tab1['Police Region'].str[:1] == '2') \n",
    "                                                       & (lga_ao_tab1['Local Government Area'] == 'Total')].values + \\\n",
    "                 lga_ao_tab1['Alleged Offender Incidents'].loc[(lga_ao_tab1['Police Region'].str[:1] == '3') \n",
    "                                                       & (lga_ao_tab1['Local Government Area'] == 'Total')].values + \\\n",
    "                 lga_ao_tab1['Alleged Offender Incidents'].loc[(lga_ao_tab1['Police Region'].str[:1] == '4') \n",
    "                                                       & (lga_ao_tab1['Local Government Area'] == 'Total')].values\n"
   ]
  },
  {
   "cell_type": "code",
   "execution_count": 43,
   "id": "6492487c",
   "metadata": {
    "ExecuteTime": {
     "end_time": "2022-01-04T09:52:13.177443Z",
     "start_time": "2022-01-04T09:52:13.150440Z"
    }
   },
   "outputs": [],
   "source": [
    "# Calculate rate per 100K population for Crime Incidents, Recorded Offences and Alleged Offenders, Family Incidents\n",
    "# for each police service metropolitan region \n",
    "\n",
    "lga_ci_rate_by_year = lga_ci_tab1['Rate per 100,000 population'].loc[(lga_ci_tab1['Police Region'].str[:1] == '1') \n",
    "                                                       & (lga_ci_tab1['Local Government Area'] == 'Total')].values + \\\n",
    "                      lga_ci_tab1['Rate per 100,000 population'].loc[(lga_ci_tab1['Police Region'].str[:1] == '2') \n",
    "                                                       & (lga_ci_tab1['Local Government Area'] == 'Total')].values + \\\n",
    "                      lga_ci_tab1['Rate per 100,000 population'].loc[(lga_ci_tab1['Police Region'].str[:1] == '3') \n",
    "                                                       & (lga_ci_tab1['Local Government Area'] == 'Total')].values +\\\n",
    "                      lga_ci_tab1['Rate per 100,000 population'].loc[(lga_ci_tab1['Police Region'].str[:1] == '4') \n",
    "                                                       & (lga_ci_tab1['Local Government Area'] == 'Total')].values\n",
    "\n",
    "lga_ro_rate_by_year = lga_ro_tab1['Rate per 100,000 population'].loc[(lga_ro_tab1['Police Region'].str[:1] == '1') \n",
    "                                                       & (lga_ro_tab1['Local Government Area'] == 'Total')].values + \\\n",
    "                      lga_ro_tab1['Rate per 100,000 population'].loc[(lga_ro_tab1['Police Region'].str[:1] == '2') \n",
    "                                                       & (lga_ro_tab1['Local Government Area'] == 'Total')].values + \\\n",
    "                      lga_ro_tab1['Rate per 100,000 population'].loc[(lga_ro_tab1['Police Region'].str[:1] == '3') \n",
    "                                                       & (lga_ro_tab1['Local Government Area'] == 'Total')].values + \\\n",
    "                      lga_ro_tab1['Rate per 100,000 population'].loc[(lga_ro_tab1['Police Region'].str[:1] == '4') \n",
    "                                                       & (lga_ro_tab1['Local Government Area'] == 'Total')].values\n",
    "\n",
    "lga_ao_rate_by_year = lga_ao_tab1['Rate per 100,000 population'].loc[(lga_ao_tab1['Police Region'].str[:1] == '1') \n",
    "                                                       & (lga_ao_tab1['Local Government Area'] == 'Total')].values + \\\n",
    "                      lga_ao_tab1['Rate per 100,000 population'].loc[(lga_ao_tab1['Police Region'].str[:1] == '2') \n",
    "                                                       & (lga_ao_tab1['Local Government Area'] == 'Total')].values + \\\n",
    "                      lga_ao_tab1['Rate per 100,000 population'].loc[(lga_ao_tab1['Police Region'].str[:1] == '3') \n",
    "                                                       & (lga_ao_tab1['Local Government Area'] == 'Total')].values + \\\n",
    "                      lga_ao_tab1['Rate per 100,000 population'].loc[(lga_ao_tab1['Police Region'].str[:1] == '4') \n",
    "                                                       & (lga_ao_tab1['Local Government Area'] == 'Total')].values\n"
   ]
  },
  {
   "cell_type": "code",
   "execution_count": 44,
   "id": "c3b13e5c",
   "metadata": {
    "ExecuteTime": {
     "end_time": "2022-01-04T09:52:13.208197Z",
     "start_time": "2022-01-04T09:52:13.179445Z"
    }
   },
   "outputs": [],
   "source": [
    "# Check years in datasets to ensure they are in the same period of 2012 - 2021\n",
    "lga_ci_year = lga_ci_tab1['Year'].drop_duplicates()\n",
    "lga_ro_year = lga_ro_tab1['Year'].drop_duplicates()\n",
    "lga_ao_year = lga_ao_tab1['Year'].drop_duplicates()\n"
   ]
  },
  {
   "cell_type": "code",
   "execution_count": 45,
   "id": "ac23d265",
   "metadata": {
    "ExecuteTime": {
     "end_time": "2022-01-04T09:52:13.223507Z",
     "start_time": "2022-01-04T09:52:13.210188Z"
    },
    "scrolled": true
   },
   "outputs": [],
   "source": [
    "# Create new dataframe\n",
    "ci_re_ao_df = pd.DataFrame({'Year': lga_ci_year, \n",
    "                    'Criminal Incidents': lga_ci_by_year,\n",
    "                    'CI Rate': lga_ci_rate_by_year,\n",
    "                    'Recorded Offences': lga_ro_by_year, \n",
    "                    'RO Rate': lga_ro_rate_by_year,\n",
    "                    'Alleged Offenders': lga_ao_by_year,\n",
    "                    'AO Rate': lga_ao_rate_by_year,\n",
    "                    'Total' : lga_ci_by_year + lga_ro_by_year + lga_ao_by_year,\n",
    "                    'Population': lga_ci_by_year/lga_ci_rate_by_year*100000\n",
    "                  })"
   ]
  },
  {
   "cell_type": "code",
   "execution_count": 46,
   "id": "79af8978",
   "metadata": {
    "ExecuteTime": {
     "end_time": "2022-01-04T09:52:13.255503Z",
     "start_time": "2022-01-04T09:52:13.226510Z"
    }
   },
   "outputs": [
    {
     "data": {
      "text/html": [
       "<div>\n",
       "<style scoped>\n",
       "    .dataframe tbody tr th:only-of-type {\n",
       "        vertical-align: middle;\n",
       "    }\n",
       "\n",
       "    .dataframe tbody tr th {\n",
       "        vertical-align: top;\n",
       "    }\n",
       "\n",
       "    .dataframe thead th {\n",
       "        text-align: right;\n",
       "    }\n",
       "</style>\n",
       "<table border=\"1\" class=\"dataframe\">\n",
       "  <thead>\n",
       "    <tr style=\"text-align: right;\">\n",
       "      <th></th>\n",
       "      <th>Year</th>\n",
       "      <th>Criminal Incidents</th>\n",
       "      <th>CI Rate</th>\n",
       "      <th>Recorded Offences</th>\n",
       "      <th>RO Rate</th>\n",
       "      <th>Alleged Offenders</th>\n",
       "      <th>AO Rate</th>\n",
       "      <th>Total</th>\n",
       "      <th>Population</th>\n",
       "    </tr>\n",
       "  </thead>\n",
       "  <tbody>\n",
       "    <tr>\n",
       "      <th>0</th>\n",
       "      <td>2021</td>\n",
       "      <td>356549</td>\n",
       "      <td>21248.43</td>\n",
       "      <td>493293</td>\n",
       "      <td>29459.89</td>\n",
       "      <td>172671</td>\n",
       "      <td>10446.38</td>\n",
       "      <td>1022513</td>\n",
       "      <td>1678001.58</td>\n",
       "    </tr>\n",
       "    <tr>\n",
       "      <th>1</th>\n",
       "      <td>2020</td>\n",
       "      <td>410764</td>\n",
       "      <td>24287.39</td>\n",
       "      <td>548465</td>\n",
       "      <td>32536.65</td>\n",
       "      <td>192965</td>\n",
       "      <td>11485.34</td>\n",
       "      <td>1152194</td>\n",
       "      <td>1691264.56</td>\n",
       "    </tr>\n",
       "    <tr>\n",
       "      <th>2</th>\n",
       "      <td>2019</td>\n",
       "      <td>394767</td>\n",
       "      <td>23847.41</td>\n",
       "      <td>525241</td>\n",
       "      <td>31803.16</td>\n",
       "      <td>162167</td>\n",
       "      <td>9939.46</td>\n",
       "      <td>1082175</td>\n",
       "      <td>1655387.13</td>\n",
       "    </tr>\n",
       "    <tr>\n",
       "      <th>3</th>\n",
       "      <td>2018</td>\n",
       "      <td>381193</td>\n",
       "      <td>23381.39</td>\n",
       "      <td>504689</td>\n",
       "      <td>31094.41</td>\n",
       "      <td>155388</td>\n",
       "      <td>9715.27</td>\n",
       "      <td>1041270</td>\n",
       "      <td>1630326.74</td>\n",
       "    </tr>\n",
       "    <tr>\n",
       "      <th>4</th>\n",
       "      <td>2017</td>\n",
       "      <td>388389</td>\n",
       "      <td>24513.68</td>\n",
       "      <td>513972</td>\n",
       "      <td>32464.40</td>\n",
       "      <td>158706</td>\n",
       "      <td>10185.49</td>\n",
       "      <td>1061067</td>\n",
       "      <td>1584376.78</td>\n",
       "    </tr>\n",
       "    <tr>\n",
       "      <th>5</th>\n",
       "      <td>2016</td>\n",
       "      <td>409373</td>\n",
       "      <td>26304.42</td>\n",
       "      <td>541368</td>\n",
       "      <td>34796.25</td>\n",
       "      <td>157383</td>\n",
       "      <td>10279.90</td>\n",
       "      <td>1108124</td>\n",
       "      <td>1556289.52</td>\n",
       "    </tr>\n",
       "    <tr>\n",
       "      <th>6</th>\n",
       "      <td>2015</td>\n",
       "      <td>358499</td>\n",
       "      <td>23525.30</td>\n",
       "      <td>484868</td>\n",
       "      <td>31868.06</td>\n",
       "      <td>145121</td>\n",
       "      <td>9677.23</td>\n",
       "      <td>988488</td>\n",
       "      <td>1523887.35</td>\n",
       "    </tr>\n",
       "    <tr>\n",
       "      <th>7</th>\n",
       "      <td>2014</td>\n",
       "      <td>344922</td>\n",
       "      <td>23052.10</td>\n",
       "      <td>453935</td>\n",
       "      <td>30364.46</td>\n",
       "      <td>141126</td>\n",
       "      <td>9600.41</td>\n",
       "      <td>939983</td>\n",
       "      <td>1496271.42</td>\n",
       "    </tr>\n",
       "    <tr>\n",
       "      <th>8</th>\n",
       "      <td>2013</td>\n",
       "      <td>334927</td>\n",
       "      <td>22930.01</td>\n",
       "      <td>431391</td>\n",
       "      <td>29544.41</td>\n",
       "      <td>135671</td>\n",
       "      <td>9393.22</td>\n",
       "      <td>901989</td>\n",
       "      <td>1460649.37</td>\n",
       "    </tr>\n",
       "    <tr>\n",
       "      <th>9</th>\n",
       "      <td>2012</td>\n",
       "      <td>330923</td>\n",
       "      <td>23054.34</td>\n",
       "      <td>408983</td>\n",
       "      <td>28472.58</td>\n",
       "      <td>124409</td>\n",
       "      <td>8828.47</td>\n",
       "      <td>864315</td>\n",
       "      <td>1435404.66</td>\n",
       "    </tr>\n",
       "  </tbody>\n",
       "</table>\n",
       "</div>"
      ],
      "text/plain": [
       "   Year  Criminal Incidents   CI Rate  Recorded Offences   RO Rate  \\\n",
       "0  2021              356549  21248.43             493293  29459.89   \n",
       "1  2020              410764  24287.39             548465  32536.65   \n",
       "2  2019              394767  23847.41             525241  31803.16   \n",
       "3  2018              381193  23381.39             504689  31094.41   \n",
       "4  2017              388389  24513.68             513972  32464.40   \n",
       "5  2016              409373  26304.42             541368  34796.25   \n",
       "6  2015              358499  23525.30             484868  31868.06   \n",
       "7  2014              344922  23052.10             453935  30364.46   \n",
       "8  2013              334927  22930.01             431391  29544.41   \n",
       "9  2012              330923  23054.34             408983  28472.58   \n",
       "\n",
       "   Alleged Offenders   AO Rate    Total  Population  \n",
       "0             172671  10446.38  1022513  1678001.58  \n",
       "1             192965  11485.34  1152194  1691264.56  \n",
       "2             162167   9939.46  1082175  1655387.13  \n",
       "3             155388   9715.27  1041270  1630326.74  \n",
       "4             158706  10185.49  1061067  1584376.78  \n",
       "5             157383  10279.90  1108124  1556289.52  \n",
       "6             145121   9677.23   988488  1523887.35  \n",
       "7             141126   9600.41   939983  1496271.42  \n",
       "8             135671   9393.22   901989  1460649.37  \n",
       "9             124409   8828.47   864315  1435404.66  "
      ]
     },
     "execution_count": 46,
     "metadata": {},
     "output_type": "execute_result"
    }
   ],
   "source": [
    "# Reset dataframe index\n",
    "ci_re_ao_df.reset_index(drop=True,inplace=True)\n",
    "ci_re_ao_df.round(decimals=2)"
   ]
  },
  {
   "cell_type": "code",
   "execution_count": 47,
   "id": "61f74644",
   "metadata": {
    "ExecuteTime": {
     "end_time": "2022-01-04T09:52:13.317029Z",
     "start_time": "2022-01-04T09:52:13.258507Z"
    }
   },
   "outputs": [
    {
     "data": {
      "text/html": [
       "<div>\n",
       "<style scoped>\n",
       "    .dataframe tbody tr th:only-of-type {\n",
       "        vertical-align: middle;\n",
       "    }\n",
       "\n",
       "    .dataframe tbody tr th {\n",
       "        vertical-align: top;\n",
       "    }\n",
       "\n",
       "    .dataframe thead th {\n",
       "        text-align: right;\n",
       "    }\n",
       "</style>\n",
       "<table border=\"1\" class=\"dataframe\">\n",
       "  <thead>\n",
       "    <tr style=\"text-align: right;\">\n",
       "      <th></th>\n",
       "      <th>Criminal Incidents</th>\n",
       "      <th>CI Rate</th>\n",
       "      <th>Recorded Offences</th>\n",
       "      <th>RO Rate</th>\n",
       "      <th>Alleged Offenders</th>\n",
       "      <th>AO Rate</th>\n",
       "      <th>Total</th>\n",
       "      <th>Population</th>\n",
       "    </tr>\n",
       "  </thead>\n",
       "  <tbody>\n",
       "    <tr>\n",
       "      <th>count</th>\n",
       "      <td>10.0</td>\n",
       "      <td>10.0</td>\n",
       "      <td>10.0</td>\n",
       "      <td>10.0</td>\n",
       "      <td>10.0</td>\n",
       "      <td>10.0</td>\n",
       "      <td>10.0</td>\n",
       "      <td>10.0</td>\n",
       "    </tr>\n",
       "    <tr>\n",
       "      <th>mean</th>\n",
       "      <td>371,030.6</td>\n",
       "      <td>23,614.45</td>\n",
       "      <td>490,620.5</td>\n",
       "      <td>31,240.43</td>\n",
       "      <td>154,560.7</td>\n",
       "      <td>9,955.12</td>\n",
       "      <td>1,016,211.8</td>\n",
       "      <td>1,571,185.91</td>\n",
       "    </tr>\n",
       "    <tr>\n",
       "      <th>std</th>\n",
       "      <td>29,772.09</td>\n",
       "      <td>1,304.28</td>\n",
       "      <td>46,454.24</td>\n",
       "      <td>1,856.8</td>\n",
       "      <td>19,499.59</td>\n",
       "      <td>713.94</td>\n",
       "      <td>92,297.04</td>\n",
       "      <td>91,479.24</td>\n",
       "    </tr>\n",
       "    <tr>\n",
       "      <th>min</th>\n",
       "      <td>330,923.0</td>\n",
       "      <td>21,248.43</td>\n",
       "      <td>408,983.0</td>\n",
       "      <td>28,472.58</td>\n",
       "      <td>124,409.0</td>\n",
       "      <td>8,828.47</td>\n",
       "      <td>864,315.0</td>\n",
       "      <td>1,435,404.66</td>\n",
       "    </tr>\n",
       "    <tr>\n",
       "      <th>25%</th>\n",
       "      <td>347,828.75</td>\n",
       "      <td>23,052.66</td>\n",
       "      <td>461,668.25</td>\n",
       "      <td>29,749.42</td>\n",
       "      <td>142,124.75</td>\n",
       "      <td>9,619.61</td>\n",
       "      <td>952,109.25</td>\n",
       "      <td>1,503,175.41</td>\n",
       "    </tr>\n",
       "    <tr>\n",
       "      <th>50%</th>\n",
       "      <td>369,846.0</td>\n",
       "      <td>23,453.34</td>\n",
       "      <td>498,991.0</td>\n",
       "      <td>31,448.79</td>\n",
       "      <td>156,385.5</td>\n",
       "      <td>9,827.37</td>\n",
       "      <td>1,031,891.5</td>\n",
       "      <td>1,570,333.15</td>\n",
       "    </tr>\n",
       "    <tr>\n",
       "      <th>75%</th>\n",
       "      <td>393,172.5</td>\n",
       "      <td>24,177.39</td>\n",
       "      <td>522,423.75</td>\n",
       "      <td>32,315.31</td>\n",
       "      <td>161,301.75</td>\n",
       "      <td>10,256.3</td>\n",
       "      <td>1,076,898.0</td>\n",
       "      <td>1,649,122.03</td>\n",
       "    </tr>\n",
       "    <tr>\n",
       "      <th>max</th>\n",
       "      <td>410,764.0</td>\n",
       "      <td>26,304.42</td>\n",
       "      <td>548,465.0</td>\n",
       "      <td>34,796.25</td>\n",
       "      <td>192,965.0</td>\n",
       "      <td>11,485.34</td>\n",
       "      <td>1,152,194.0</td>\n",
       "      <td>1,691,264.56</td>\n",
       "    </tr>\n",
       "  </tbody>\n",
       "</table>\n",
       "</div>"
      ],
      "text/plain": [
       "      Criminal Incidents    CI Rate Recorded Offences    RO Rate  \\\n",
       "count               10.0       10.0              10.0       10.0   \n",
       "mean           371,030.6  23,614.45         490,620.5  31,240.43   \n",
       "std            29,772.09   1,304.28         46,454.24    1,856.8   \n",
       "min            330,923.0  21,248.43         408,983.0  28,472.58   \n",
       "25%           347,828.75  23,052.66        461,668.25  29,749.42   \n",
       "50%            369,846.0  23,453.34         498,991.0  31,448.79   \n",
       "75%            393,172.5  24,177.39        522,423.75  32,315.31   \n",
       "max            410,764.0  26,304.42         548,465.0  34,796.25   \n",
       "\n",
       "      Alleged Offenders    AO Rate        Total    Population  \n",
       "count              10.0       10.0         10.0          10.0  \n",
       "mean          154,560.7   9,955.12  1,016,211.8  1,571,185.91  \n",
       "std           19,499.59     713.94    92,297.04     91,479.24  \n",
       "min           124,409.0   8,828.47    864,315.0  1,435,404.66  \n",
       "25%          142,124.75   9,619.61   952,109.25  1,503,175.41  \n",
       "50%           156,385.5   9,827.37  1,031,891.5  1,570,333.15  \n",
       "75%          161,301.75   10,256.3  1,076,898.0  1,649,122.03  \n",
       "max           192,965.0  11,485.34  1,152,194.0  1,691,264.56  "
      ]
     },
     "execution_count": 47,
     "metadata": {},
     "output_type": "execute_result"
    }
   ],
   "source": [
    "# Calculate statistics of Criminal Incidents, Recorded Offences and Alleged Offenders for the last 10 years\n",
    "reindex_ci_re_ao_df=[]\n",
    "reindex_ci_re_ao_df = ci_re_ao_df.set_index('Year')\n",
    "stats = reindex_ci_re_ao_df.describe().round(decimals=2)\n",
    "stats.applymap('{:,}'.format)"
   ]
  },
  {
   "cell_type": "code",
   "execution_count": 48,
   "id": "1f872964",
   "metadata": {
    "ExecuteTime": {
     "end_time": "2022-01-04T09:52:13.332285Z",
     "start_time": "2022-01-04T09:52:13.321033Z"
    }
   },
   "outputs": [
    {
     "data": {
      "text/plain": [
       "Criminal Incidents    2020\n",
       "CI Rate               2016\n",
       "Recorded Offences     2020\n",
       "RO Rate               2016\n",
       "Alleged Offenders     2020\n",
       "AO Rate               2020\n",
       "Total                 2020\n",
       "Population            2020\n",
       "dtype: int64"
      ]
     },
     "execution_count": 48,
     "metadata": {},
     "output_type": "execute_result"
    }
   ],
   "source": [
    "# Get the year that has the highest crime figures\n",
    "reindex_ci_re_ao_df.idxmax()"
   ]
  },
  {
   "cell_type": "code",
   "execution_count": 49,
   "id": "3807dfb3",
   "metadata": {
    "ExecuteTime": {
     "end_time": "2022-01-04T09:52:13.363804Z",
     "start_time": "2022-01-04T09:52:13.334796Z"
    }
   },
   "outputs": [
    {
     "data": {
      "text/plain": [
       "Criminal Incidents    2012\n",
       "CI Rate               2021\n",
       "Recorded Offences     2012\n",
       "RO Rate               2012\n",
       "Alleged Offenders     2012\n",
       "AO Rate               2012\n",
       "Total                 2012\n",
       "Population            2012\n",
       "dtype: int64"
      ]
     },
     "execution_count": 49,
     "metadata": {},
     "output_type": "execute_result"
    }
   ],
   "source": [
    "# Get the year that has the lowest crime figures\n",
    "reindex_ci_re_ao_df.idxmin()"
   ]
  },
  {
   "cell_type": "code",
   "execution_count": 50,
   "id": "645b6391",
   "metadata": {
    "ExecuteTime": {
     "end_time": "2022-01-04T09:52:13.395416Z",
     "start_time": "2022-01-04T09:52:13.368805Z"
    }
   },
   "outputs": [
    {
     "data": {
      "text/html": [
       "<div>\n",
       "<style scoped>\n",
       "    .dataframe tbody tr th:only-of-type {\n",
       "        vertical-align: middle;\n",
       "    }\n",
       "\n",
       "    .dataframe tbody tr th {\n",
       "        vertical-align: top;\n",
       "    }\n",
       "\n",
       "    .dataframe thead th {\n",
       "        text-align: right;\n",
       "    }\n",
       "</style>\n",
       "<table border=\"1\" class=\"dataframe\">\n",
       "  <thead>\n",
       "    <tr style=\"text-align: right;\">\n",
       "      <th></th>\n",
       "      <th>Criminal Incidents</th>\n",
       "      <th>CI Rate</th>\n",
       "      <th>Recorded Offences</th>\n",
       "      <th>RO Rate</th>\n",
       "      <th>Alleged Offenders</th>\n",
       "      <th>AO Rate</th>\n",
       "      <th>Total</th>\n",
       "      <th>Population</th>\n",
       "    </tr>\n",
       "    <tr>\n",
       "      <th>Year</th>\n",
       "      <th></th>\n",
       "      <th></th>\n",
       "      <th></th>\n",
       "      <th></th>\n",
       "      <th></th>\n",
       "      <th></th>\n",
       "      <th></th>\n",
       "      <th></th>\n",
       "    </tr>\n",
       "  </thead>\n",
       "  <tbody>\n",
       "    <tr>\n",
       "      <th>2012</th>\n",
       "      <td>NaN</td>\n",
       "      <td>NaN</td>\n",
       "      <td>NaN</td>\n",
       "      <td>NaN</td>\n",
       "      <td>NaN</td>\n",
       "      <td>NaN</td>\n",
       "      <td>NaN</td>\n",
       "      <td>NaN</td>\n",
       "    </tr>\n",
       "    <tr>\n",
       "      <th>2013</th>\n",
       "      <td>0.012099</td>\n",
       "      <td>-0.005393</td>\n",
       "      <td>0.054790</td>\n",
       "      <td>0.037644</td>\n",
       "      <td>0.090524</td>\n",
       "      <td>0.063968</td>\n",
       "      <td>0.043588</td>\n",
       "      <td>0.017587</td>\n",
       "    </tr>\n",
       "    <tr>\n",
       "      <th>2014</th>\n",
       "      <td>0.029842</td>\n",
       "      <td>0.005325</td>\n",
       "      <td>0.052259</td>\n",
       "      <td>0.027756</td>\n",
       "      <td>0.040208</td>\n",
       "      <td>0.022057</td>\n",
       "      <td>0.042122</td>\n",
       "      <td>0.024388</td>\n",
       "    </tr>\n",
       "    <tr>\n",
       "      <th>2015</th>\n",
       "      <td>0.039363</td>\n",
       "      <td>0.020527</td>\n",
       "      <td>0.068144</td>\n",
       "      <td>0.049519</td>\n",
       "      <td>0.028308</td>\n",
       "      <td>0.008002</td>\n",
       "      <td>0.051602</td>\n",
       "      <td>0.018456</td>\n",
       "    </tr>\n",
       "    <tr>\n",
       "      <th>2016</th>\n",
       "      <td>0.141908</td>\n",
       "      <td>0.118134</td>\n",
       "      <td>0.116527</td>\n",
       "      <td>0.091885</td>\n",
       "      <td>0.084495</td>\n",
       "      <td>0.062277</td>\n",
       "      <td>0.121029</td>\n",
       "      <td>0.021263</td>\n",
       "    </tr>\n",
       "    <tr>\n",
       "      <th>2017</th>\n",
       "      <td>-0.051259</td>\n",
       "      <td>-0.068078</td>\n",
       "      <td>-0.050605</td>\n",
       "      <td>-0.067014</td>\n",
       "      <td>0.008406</td>\n",
       "      <td>-0.009183</td>\n",
       "      <td>-0.042465</td>\n",
       "      <td>0.018048</td>\n",
       "    </tr>\n",
       "    <tr>\n",
       "      <th>2018</th>\n",
       "      <td>-0.018528</td>\n",
       "      <td>-0.046190</td>\n",
       "      <td>-0.018061</td>\n",
       "      <td>-0.042200</td>\n",
       "      <td>-0.020907</td>\n",
       "      <td>-0.046166</td>\n",
       "      <td>-0.018658</td>\n",
       "      <td>0.029002</td>\n",
       "    </tr>\n",
       "    <tr>\n",
       "      <th>2019</th>\n",
       "      <td>0.035609</td>\n",
       "      <td>0.019931</td>\n",
       "      <td>0.040722</td>\n",
       "      <td>0.022793</td>\n",
       "      <td>0.043626</td>\n",
       "      <td>0.023076</td>\n",
       "      <td>0.039284</td>\n",
       "      <td>0.015371</td>\n",
       "    </tr>\n",
       "    <tr>\n",
       "      <th>2020</th>\n",
       "      <td>0.040523</td>\n",
       "      <td>0.018450</td>\n",
       "      <td>0.044216</td>\n",
       "      <td>0.023064</td>\n",
       "      <td>0.189915</td>\n",
       "      <td>0.155529</td>\n",
       "      <td>0.064702</td>\n",
       "      <td>0.021673</td>\n",
       "    </tr>\n",
       "    <tr>\n",
       "      <th>2021</th>\n",
       "      <td>-0.131986</td>\n",
       "      <td>-0.125125</td>\n",
       "      <td>-0.100593</td>\n",
       "      <td>-0.094563</td>\n",
       "      <td>-0.105169</td>\n",
       "      <td>-0.090460</td>\n",
       "      <td>-0.112551</td>\n",
       "      <td>-0.007842</td>\n",
       "    </tr>\n",
       "  </tbody>\n",
       "</table>\n",
       "</div>"
      ],
      "text/plain": [
       "      Criminal Incidents   CI Rate  Recorded Offences   RO Rate  \\\n",
       "Year                                                              \n",
       "2012                 NaN       NaN                NaN       NaN   \n",
       "2013            0.012099 -0.005393           0.054790  0.037644   \n",
       "2014            0.029842  0.005325           0.052259  0.027756   \n",
       "2015            0.039363  0.020527           0.068144  0.049519   \n",
       "2016            0.141908  0.118134           0.116527  0.091885   \n",
       "2017           -0.051259 -0.068078          -0.050605 -0.067014   \n",
       "2018           -0.018528 -0.046190          -0.018061 -0.042200   \n",
       "2019            0.035609  0.019931           0.040722  0.022793   \n",
       "2020            0.040523  0.018450           0.044216  0.023064   \n",
       "2021           -0.131986 -0.125125          -0.100593 -0.094563   \n",
       "\n",
       "      Alleged Offenders   AO Rate     Total  Population  \n",
       "Year                                                     \n",
       "2012                NaN       NaN       NaN         NaN  \n",
       "2013           0.090524  0.063968  0.043588    0.017587  \n",
       "2014           0.040208  0.022057  0.042122    0.024388  \n",
       "2015           0.028308  0.008002  0.051602    0.018456  \n",
       "2016           0.084495  0.062277  0.121029    0.021263  \n",
       "2017           0.008406 -0.009183 -0.042465    0.018048  \n",
       "2018          -0.020907 -0.046166 -0.018658    0.029002  \n",
       "2019           0.043626  0.023076  0.039284    0.015371  \n",
       "2020           0.189915  0.155529  0.064702    0.021673  \n",
       "2021          -0.105169 -0.090460 -0.112551   -0.007842  "
      ]
     },
     "execution_count": 50,
     "metadata": {},
     "output_type": "execute_result"
    }
   ],
   "source": [
    "# Calculate the yearly percentage changes in crime incidents & offences\n",
    "new_df=[]\n",
    "new_df=reindex_ci_re_ao_df\n",
    "new_df = new_df.sort_values(\"Year\",ascending=True)\n",
    "new_df.pct_change(periods=1)"
   ]
  },
  {
   "cell_type": "code",
   "execution_count": 51,
   "id": "4918dbc9",
   "metadata": {
    "ExecuteTime": {
     "end_time": "2022-01-04T09:52:13.689096Z",
     "start_time": "2022-01-04T09:52:13.398709Z"
    }
   },
   "outputs": [
    {
     "data": {
      "image/png": "[encoded data removed]",
      "text/plain": [
       "<Figure size 432x288 with 1 Axes>"
      ]
     },
     "metadata": {
      "needs_background": "light"
     },
     "output_type": "display_data"
    },
    {
     "data": {
      "text/plain": [
       "<Figure size 1080x576 with 0 Axes>"
      ]
     },
     "metadata": {},
     "output_type": "display_data"
    }
   ],
   "source": [
    "# Generate a bar plot showing the distribution of Criminal Incidents, Recorded Offences and Alleged Offenders\n",
    "only_ci_re_ao_df = reindex_ci_re_ao_df[['Criminal Incidents','Recorded Offences','Alleged Offenders']]\n",
    "only_ci_re_ao_df.plot(kind=\"bar\", color=['red', 'green', 'blue','black'])\n",
    "\n",
    "# Add title and label\n",
    "plt.title(\"Yearly Criminal Incidents, Recorded Offences and Alleged Offenders\",fontsize=16)\n",
    "plt.xlabel(\"Year\",fontsize=14)\n",
    "plt.figure(figsize=(15,8))\n",
    "plt.show()"
   ]
  },
  {
   "cell_type": "code",
   "execution_count": 52,
   "id": "edcf65da",
   "metadata": {
    "ExecuteTime": {
     "end_time": "2022-01-04T09:52:13.937541Z",
     "start_time": "2022-01-04T09:52:13.691094Z"
    }
   },
   "outputs": [
    {
     "data": {
      "image/png": "[encoded data removed]",
      "text/plain": [
       "<Figure size 432x288 with 1 Axes>"
      ]
     },
     "metadata": {
      "needs_background": "light"
     },
     "output_type": "display_data"
    },
    {
     "data": {
      "text/plain": [
       "<Figure size 1080x576 with 0 Axes>"
      ]
     },
     "metadata": {},
     "output_type": "display_data"
    }
   ],
   "source": [
    "# Generate a bar plot showing the distribution Rate per 100K Population for Criminal Incidents, Recorded Offences and Alleged Offenders\n",
    "rate_ci_re_ao_df = reindex_ci_re_ao_df[['CI Rate','RO Rate','AO Rate']]\n",
    "rate_ci_re_ao_df.plot(kind=\"bar\", color=['red', 'green', 'blue','black'])\n",
    "\n",
    "# Add title and label\n",
    "plt.title(\"Rate per 100K population - Criminal Incidents/ Offence Reports\",fontsize=16)\n",
    "plt.xlabel(\"Year\",fontsize=14)\n",
    "plt.figure(figsize=(15,8))\n",
    "plt.show()"
   ]
  },
  {
   "cell_type": "code",
   "execution_count": 53,
   "id": "af217700",
   "metadata": {
    "ExecuteTime": {
     "end_time": "2022-01-04T09:52:13.969070Z",
     "start_time": "2022-01-04T09:52:13.939547Z"
    },
    "scrolled": true
   },
   "outputs": [
    {
     "data": {
      "text/html": [
       "<div>\n",
       "<style scoped>\n",
       "    .dataframe tbody tr th:only-of-type {\n",
       "        vertical-align: middle;\n",
       "    }\n",
       "\n",
       "    .dataframe tbody tr th {\n",
       "        vertical-align: top;\n",
       "    }\n",
       "\n",
       "    .dataframe thead th {\n",
       "        text-align: right;\n",
       "    }\n",
       "</style>\n",
       "<table border=\"1\" class=\"dataframe\">\n",
       "  <thead>\n",
       "    <tr style=\"text-align: right;\">\n",
       "      <th></th>\n",
       "      <th>Criminal Incidents</th>\n",
       "      <th>CI Rate</th>\n",
       "      <th>Recorded Offences</th>\n",
       "      <th>RO Rate</th>\n",
       "      <th>Alleged Offenders</th>\n",
       "      <th>AO Rate</th>\n",
       "      <th>Total</th>\n",
       "      <th>Population</th>\n",
       "    </tr>\n",
       "    <tr>\n",
       "      <th>Year</th>\n",
       "      <th></th>\n",
       "      <th></th>\n",
       "      <th></th>\n",
       "      <th></th>\n",
       "      <th></th>\n",
       "      <th></th>\n",
       "      <th></th>\n",
       "      <th></th>\n",
       "    </tr>\n",
       "  </thead>\n",
       "  <tbody>\n",
       "    <tr>\n",
       "      <th>2012</th>\n",
       "      <td>330923</td>\n",
       "      <td>23054.34</td>\n",
       "      <td>408983</td>\n",
       "      <td>28472.58</td>\n",
       "      <td>124409</td>\n",
       "      <td>8828.47</td>\n",
       "      <td>864315</td>\n",
       "      <td>1435404.66</td>\n",
       "    </tr>\n",
       "    <tr>\n",
       "      <th>2013</th>\n",
       "      <td>334927</td>\n",
       "      <td>22930.01</td>\n",
       "      <td>431391</td>\n",
       "      <td>29544.41</td>\n",
       "      <td>135671</td>\n",
       "      <td>9393.22</td>\n",
       "      <td>901989</td>\n",
       "      <td>1460649.37</td>\n",
       "    </tr>\n",
       "    <tr>\n",
       "      <th>2014</th>\n",
       "      <td>344922</td>\n",
       "      <td>23052.10</td>\n",
       "      <td>453935</td>\n",
       "      <td>30364.46</td>\n",
       "      <td>141126</td>\n",
       "      <td>9600.41</td>\n",
       "      <td>939983</td>\n",
       "      <td>1496271.42</td>\n",
       "    </tr>\n",
       "    <tr>\n",
       "      <th>2015</th>\n",
       "      <td>358499</td>\n",
       "      <td>23525.30</td>\n",
       "      <td>484868</td>\n",
       "      <td>31868.06</td>\n",
       "      <td>145121</td>\n",
       "      <td>9677.23</td>\n",
       "      <td>988488</td>\n",
       "      <td>1523887.35</td>\n",
       "    </tr>\n",
       "    <tr>\n",
       "      <th>2016</th>\n",
       "      <td>409373</td>\n",
       "      <td>26304.42</td>\n",
       "      <td>541368</td>\n",
       "      <td>34796.25</td>\n",
       "      <td>157383</td>\n",
       "      <td>10279.90</td>\n",
       "      <td>1108124</td>\n",
       "      <td>1556289.52</td>\n",
       "    </tr>\n",
       "    <tr>\n",
       "      <th>2017</th>\n",
       "      <td>388389</td>\n",
       "      <td>24513.68</td>\n",
       "      <td>513972</td>\n",
       "      <td>32464.40</td>\n",
       "      <td>158706</td>\n",
       "      <td>10185.49</td>\n",
       "      <td>1061067</td>\n",
       "      <td>1584376.78</td>\n",
       "    </tr>\n",
       "    <tr>\n",
       "      <th>2018</th>\n",
       "      <td>381193</td>\n",
       "      <td>23381.39</td>\n",
       "      <td>504689</td>\n",
       "      <td>31094.41</td>\n",
       "      <td>155388</td>\n",
       "      <td>9715.27</td>\n",
       "      <td>1041270</td>\n",
       "      <td>1630326.74</td>\n",
       "    </tr>\n",
       "    <tr>\n",
       "      <th>2019</th>\n",
       "      <td>394767</td>\n",
       "      <td>23847.41</td>\n",
       "      <td>525241</td>\n",
       "      <td>31803.16</td>\n",
       "      <td>162167</td>\n",
       "      <td>9939.46</td>\n",
       "      <td>1082175</td>\n",
       "      <td>1655387.13</td>\n",
       "    </tr>\n",
       "    <tr>\n",
       "      <th>2020</th>\n",
       "      <td>410764</td>\n",
       "      <td>24287.39</td>\n",
       "      <td>548465</td>\n",
       "      <td>32536.65</td>\n",
       "      <td>192965</td>\n",
       "      <td>11485.34</td>\n",
       "      <td>1152194</td>\n",
       "      <td>1691264.56</td>\n",
       "    </tr>\n",
       "    <tr>\n",
       "      <th>2021</th>\n",
       "      <td>356549</td>\n",
       "      <td>21248.43</td>\n",
       "      <td>493293</td>\n",
       "      <td>29459.89</td>\n",
       "      <td>172671</td>\n",
       "      <td>10446.38</td>\n",
       "      <td>1022513</td>\n",
       "      <td>1678001.58</td>\n",
       "    </tr>\n",
       "  </tbody>\n",
       "</table>\n",
       "</div>"
      ],
      "text/plain": [
       "      Criminal Incidents   CI Rate  Recorded Offences   RO Rate  \\\n",
       "Year                                                              \n",
       "2012              330923  23054.34             408983  28472.58   \n",
       "2013              334927  22930.01             431391  29544.41   \n",
       "2014              344922  23052.10             453935  30364.46   \n",
       "2015              358499  23525.30             484868  31868.06   \n",
       "2016              409373  26304.42             541368  34796.25   \n",
       "2017              388389  24513.68             513972  32464.40   \n",
       "2018              381193  23381.39             504689  31094.41   \n",
       "2019              394767  23847.41             525241  31803.16   \n",
       "2020              410764  24287.39             548465  32536.65   \n",
       "2021              356549  21248.43             493293  29459.89   \n",
       "\n",
       "      Alleged Offenders   AO Rate    Total  Population  \n",
       "Year                                                    \n",
       "2012             124409   8828.47   864315  1435404.66  \n",
       "2013             135671   9393.22   901989  1460649.37  \n",
       "2014             141126   9600.41   939983  1496271.42  \n",
       "2015             145121   9677.23   988488  1523887.35  \n",
       "2016             157383  10279.90  1108124  1556289.52  \n",
       "2017             158706  10185.49  1061067  1584376.78  \n",
       "2018             155388   9715.27  1041270  1630326.74  \n",
       "2019             162167   9939.46  1082175  1655387.13  \n",
       "2020             192965  11485.34  1152194  1691264.56  \n",
       "2021             172671  10446.38  1022513  1678001.58  "
      ]
     },
     "execution_count": 53,
     "metadata": {},
     "output_type": "execute_result"
    }
   ],
   "source": [
    "# Sort data by year ascending order\n",
    "reindex_ci_re_ao_df = reindex_ci_re_ao_df.sort_values(\"Year\")\n",
    "reindex_ci_re_ao_df.round(decimals=2) "
   ]
  },
  {
   "cell_type": "code",
   "execution_count": 54,
   "id": "727ed6aa",
   "metadata": {
    "ExecuteTime": {
     "end_time": "2022-01-04T09:52:14.248158Z",
     "start_time": "2022-01-04T09:52:13.972073Z"
    }
   },
   "outputs": [
    {
     "data": {
      "text/plain": [
       "<matplotlib.legend.Legend at 0x20d2a263310>"
      ]
     },
     "execution_count": 54,
     "metadata": {},
     "output_type": "execute_result"
    },
    {
     "data": {
      "image/png": "[encoded data removed]",
      "text/plain": [
       "<Figure size 432x288 with 1 Axes>"
      ]
     },
     "metadata": {
      "needs_background": "light"
     },
     "output_type": "display_data"
    }
   ],
   "source": [
    "# Plotting the KDE Plot using seaborn\n",
    "# Perform kde plot for Criminal Incidents, Recorded Offences and Alleged Offenders on the same axis\n",
    "sns.kdeplot(only_ci_re_ao_df['Criminal Incidents'], color='r', shade=True, label=\"Criminal Incidents\")\n",
    "sns.kdeplot(only_ci_re_ao_df['Recorded Offences'], color='g', shade=True, label=\"Recorded Offences\")\n",
    "sns.kdeplot(only_ci_re_ao_df['Alleged Offenders'], color='b', shade=True, label=\"Alleged Offenders\")\n",
    "\n",
    "plt.xlabel('Number of Incidents & Offences')\n",
    "plt.ylabel('Probability Density')\n",
    "plt.title(\"Kernel Density Estimate plot using Gaussian kernels\",fontsize=16)\n",
    "plt.legend()"
   ]
  },
  {
   "cell_type": "code",
   "execution_count": 55,
   "id": "d45b105b",
   "metadata": {
    "ExecuteTime": {
     "end_time": "2022-01-04T09:52:14.465136Z",
     "start_time": "2022-01-04T09:52:14.251161Z"
    }
   },
   "outputs": [
    {
     "data": {
      "text/plain": [
       "Text(0.5, 1.0, 'Kernel Density Estimate plot using Gaussian kernels')"
      ]
     },
     "execution_count": 55,
     "metadata": {},
     "output_type": "execute_result"
    },
    {
     "data": {
      "image/png": "[encoded data removed]",
      "text/plain": [
       "<Figure size 432x288 with 1 Axes>"
      ]
     },
     "metadata": {
      "needs_background": "light"
     },
     "output_type": "display_data"
    }
   ],
   "source": [
    "# Plotting the KDE Plot using pandas\n",
    "# Perform kde plot for Criminal Incidents, Recorded Offences and Alleged Offenders on the same axis\n",
    "ax = only_ci_re_ao_df.plot.kde()\n",
    "plt.title(\"Kernel Density Estimate plot using Gaussian kernels\",fontsize=16)"
   ]
  },
  {
   "cell_type": "code",
   "execution_count": 56,
   "id": "afcb6550",
   "metadata": {
    "ExecuteTime": {
     "end_time": "2022-01-04T09:52:14.937751Z",
     "start_time": "2022-01-04T09:52:14.467138Z"
    }
   },
   "outputs": [
    {
     "data": {
      "image/png": "[encoded data removed]",
      "text/plain": [
       "<Figure size 432x288 with 4 Axes>"
      ]
     },
     "metadata": {
      "needs_background": "light"
     },
     "output_type": "display_data"
    }
   ],
   "source": [
    "from statsmodels.tsa.seasonal import seasonal_decompose\n",
    "\n",
    "# Get Criminal Incidents data and plot seasonal_decompose graph with Observed, Trend, Seasonal and Residuel graphs\n",
    "ci_series = reindex_ci_re_ao_df[\"Criminal Incidents\"].squeeze()\n",
    "result = seasonal_decompose(ci_series, model='multiplicative', period=1).plot()\n",
    "\n",
    "plt.show()"
   ]
  },
  {
   "cell_type": "code",
   "execution_count": 57,
   "id": "c1af494a",
   "metadata": {
    "ExecuteTime": {
     "end_time": "2022-01-04T09:52:15.403603Z",
     "start_time": "2022-01-04T09:52:14.939751Z"
    }
   },
   "outputs": [
    {
     "data": {
      "image/png": "[encoded data removed]",
      "text/plain": [
       "<Figure size 432x288 with 4 Axes>"
      ]
     },
     "metadata": {
      "needs_background": "light"
     },
     "output_type": "display_data"
    }
   ],
   "source": [
    "# Get Recorded Offences data and plot seasonal_decompose graph with Observed, Trend, Seasonal and Residuel graphs\n",
    "\n",
    "ro_series = reindex_ci_re_ao_df[\"Recorded Offences\"].squeeze()\n",
    "result = seasonal_decompose(ro_series, model='multiplicative', period=1).plot()\n",
    "\n",
    "plt.show()"
   ]
  },
  {
   "cell_type": "code",
   "execution_count": 58,
   "id": "f50e4adb",
   "metadata": {
    "ExecuteTime": {
     "end_time": "2022-01-04T09:52:15.812674Z",
     "start_time": "2022-01-04T09:52:15.405606Z"
    }
   },
   "outputs": [
    {
     "data": {
      "image/png": "[encoded data removed]",
      "text/plain": [
       "<Figure size 432x288 with 4 Axes>"
      ]
     },
     "metadata": {
      "needs_background": "light"
     },
     "output_type": "display_data"
    }
   ],
   "source": [
    "# Get Alleged Offenders data and plot seasonal_decompose graph with Observed, Trend, Seasonal and Residuel graphs\n",
    "ao_series = reindex_ci_re_ao_df[\"Alleged Offenders\"].squeeze()\n",
    "result = seasonal_decompose(ao_series, model='multiplative', period=1).plot()\n",
    "\n",
    "plt.show()"
   ]
  },
  {
   "cell_type": "code",
   "execution_count": 61,
   "id": "8b9246b1",
   "metadata": {
    "ExecuteTime": {
     "end_time": "2022-01-04T09:53:24.251667Z",
     "start_time": "2022-01-04T09:53:23.677565Z"
    }
   },
   "outputs": [],
   "source": [
    "# Read family incidents file\n",
    "xls_lga_fi = pd.ExcelFile(path+'LGA_Family_Incidents_Year_Ending_September_2021.xlsx')\n",
    "\n",
    "lga_fi_tab1 = pd.read_excel(xls_lga_fi, \"Table 01\")\n",
    "lga_fi_tab2 = pd.read_excel(xls_lga_fi, \"Table 02\")"
   ]
  },
  {
   "cell_type": "code",
   "execution_count": 63,
   "id": "79f8b27a",
   "metadata": {
    "ExecuteTime": {
     "end_time": "2022-01-04T09:55:36.375010Z",
     "start_time": "2022-01-04T09:55:36.351018Z"
    }
   },
   "outputs": [
    {
     "data": {
      "text/html": [
       "<div>\n",
       "<style scoped>\n",
       "    .dataframe tbody tr th:only-of-type {\n",
       "        vertical-align: middle;\n",
       "    }\n",
       "\n",
       "    .dataframe tbody tr th {\n",
       "        vertical-align: top;\n",
       "    }\n",
       "\n",
       "    .dataframe thead th {\n",
       "        text-align: right;\n",
       "    }\n",
       "</style>\n",
       "<table border=\"1\" class=\"dataframe\">\n",
       "  <thead>\n",
       "    <tr style=\"text-align: right;\">\n",
       "      <th></th>\n",
       "      <th>index</th>\n",
       "      <th>Year</th>\n",
       "      <th>AFM Counter</th>\n",
       "    </tr>\n",
       "  </thead>\n",
       "  <tbody>\n",
       "    <tr>\n",
       "      <th>0</th>\n",
       "      <td>0</td>\n",
       "      <td>2017</td>\n",
       "      <td>74208.0</td>\n",
       "    </tr>\n",
       "    <tr>\n",
       "      <th>1</th>\n",
       "      <td>1</td>\n",
       "      <td>2018</td>\n",
       "      <td>76895.0</td>\n",
       "    </tr>\n",
       "    <tr>\n",
       "      <th>2</th>\n",
       "      <td>2</td>\n",
       "      <td>2019</td>\n",
       "      <td>82674.0</td>\n",
       "    </tr>\n",
       "    <tr>\n",
       "      <th>3</th>\n",
       "      <td>3</td>\n",
       "      <td>2020</td>\n",
       "      <td>88742.0</td>\n",
       "    </tr>\n",
       "    <tr>\n",
       "      <th>4</th>\n",
       "      <td>4</td>\n",
       "      <td>2021</td>\n",
       "      <td>91143.0</td>\n",
       "    </tr>\n",
       "  </tbody>\n",
       "</table>\n",
       "</div>"
      ],
      "text/plain": [
       "   index  Year  AFM Counter\n",
       "0      0  2017      74208.0\n",
       "1      1  2018      76895.0\n",
       "2      2  2019      82674.0\n",
       "3      3  2020      88742.0\n",
       "4      4  2021      91143.0"
      ]
     },
     "execution_count": 63,
     "metadata": {},
     "output_type": "execute_result"
    }
   ],
   "source": [
    "# Total family incidents count\n",
    "lga_fi_group2 = lga_fi_tab2.groupby(['Year']).sum()\n",
    "lga_fi_group2 = lga_fi_group1.reset_index()\n",
    "lga_fi_group2\n"
   ]
  },
  {
   "cell_type": "code",
   "execution_count": 65,
   "id": "b6d55d99",
   "metadata": {
    "ExecuteTime": {
     "end_time": "2022-01-04T09:55:38.151470Z",
     "start_time": "2022-01-04T09:55:37.795642Z"
    }
   },
   "outputs": [
    {
     "data": {
      "image/png": "[encoded data removed]",
      "text/plain": [
       "<Figure size 432x288 with 4 Axes>"
      ]
     },
     "metadata": {
      "needs_background": "light"
     },
     "output_type": "display_data"
    }
   ],
   "source": [
    "# Get family incidents data and plot seasonal_decompose graph with Observed, Trend, Seasonal and Residuel graphs\n",
    "fi_series = lga_fi_group2[\"AFM Counter\"].squeeze()\n",
    "result = seasonal_decompose(fi_series, model='multiplative', period=1).plot()\n",
    "\n",
    "plt.show()"
   ]
  },
  {
   "cell_type": "code",
   "execution_count": null,
   "id": "fd6f968d",
   "metadata": {},
   "outputs": [],
   "source": []
  }
 ],
 "metadata": {
  "kernelspec": {
   "display_name": "Python 3 (ipykernel)",
   "language": "python",
   "name": "python3"
  },
  "language_info": {
   "codemirror_mode": {
    "name": "ipython",
    "version": 3
   },
   "file_extension": ".py",
   "mimetype": "text/x-python",
   "name": "python",
   "nbconvert_exporter": "python",
   "pygments_lexer": "ipython3",
   "version": "3.9.7"
  }
 },
 "nbformat": 4,
 "nbformat_minor": 5
}
