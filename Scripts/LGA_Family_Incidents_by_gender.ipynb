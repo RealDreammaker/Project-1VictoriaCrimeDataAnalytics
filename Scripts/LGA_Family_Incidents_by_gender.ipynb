{
 "cells": [
  {
   "cell_type": "code",
   "execution_count": 1,
   "id": "0d4941b6-74bc-4407-a2ba-077392a632ff",
   "metadata": {},
   "outputs": [],
   "source": [
    "# Dependencies and Setup\n",
    "import matplotlib.pyplot as plt\n",
    "import pandas as pd\n",
    "import scipy.stats as st\n",
    "import numpy as np"
   ]
  },
  {
   "cell_type": "code",
   "execution_count": 2,
   "id": "156baed6-2a4d-4dc1-a5fd-4215dcc0fb1f",
   "metadata": {},
   "outputs": [],
   "source": [
    "Family_incidents_xlx_path = pd.ExcelFile(\"LGA_Family_Incidents_Year_Ending_September_2021.xlsx\")"
   ]
  },
  {
   "cell_type": "code",
   "execution_count": 3,
   "id": "03632e5a-a1e4-4d23-a301-73543b67629c",
   "metadata": {},
   "outputs": [],
   "source": [
    "Family_incidents_df = pd.read_excel(Family_incidents_xlx_path,'Table 03')"
   ]
  },
  {
   "cell_type": "code",
   "execution_count": 4,
   "id": "195ce720-b168-43e9-afec-81d0d930fc85",
   "metadata": {},
   "outputs": [
    {
     "data": {
      "text/html": [
       "<div>\n",
       "<style scoped>\n",
       "    .dataframe tbody tr th:only-of-type {\n",
       "        vertical-align: middle;\n",
       "    }\n",
       "\n",
       "    .dataframe tbody tr th {\n",
       "        vertical-align: top;\n",
       "    }\n",
       "\n",
       "    .dataframe thead th {\n",
       "        text-align: right;\n",
       "    }\n",
       "</style>\n",
       "<table border=\"1\" class=\"dataframe\">\n",
       "  <thead>\n",
       "    <tr style=\"text-align: right;\">\n",
       "      <th></th>\n",
       "      <th>Year</th>\n",
       "      <th>Year ending</th>\n",
       "      <th>Local Government Area</th>\n",
       "      <th>AFM Sex</th>\n",
       "      <th>AFM Counter</th>\n",
       "    </tr>\n",
       "  </thead>\n",
       "  <tbody>\n",
       "    <tr>\n",
       "      <th>0</th>\n",
       "      <td>2021</td>\n",
       "      <td>September</td>\n",
       "      <td>Alpine</td>\n",
       "      <td>Females</td>\n",
       "      <td>107</td>\n",
       "    </tr>\n",
       "    <tr>\n",
       "      <th>1</th>\n",
       "      <td>2021</td>\n",
       "      <td>September</td>\n",
       "      <td>Alpine</td>\n",
       "      <td>Males</td>\n",
       "      <td>46</td>\n",
       "    </tr>\n",
       "    <tr>\n",
       "      <th>2</th>\n",
       "      <td>2021</td>\n",
       "      <td>September</td>\n",
       "      <td>Ararat</td>\n",
       "      <td>Females</td>\n",
       "      <td>231</td>\n",
       "    </tr>\n",
       "    <tr>\n",
       "      <th>3</th>\n",
       "      <td>2021</td>\n",
       "      <td>September</td>\n",
       "      <td>Ararat</td>\n",
       "      <td>Males</td>\n",
       "      <td>77</td>\n",
       "    </tr>\n",
       "    <tr>\n",
       "      <th>4</th>\n",
       "      <td>2021</td>\n",
       "      <td>September</td>\n",
       "      <td>Ballarat</td>\n",
       "      <td>Females</td>\n",
       "      <td>1775</td>\n",
       "    </tr>\n",
       "  </tbody>\n",
       "</table>\n",
       "</div>"
      ],
      "text/plain": [
       "   Year Year ending Local Government Area  AFM Sex  AFM Counter\n",
       "0  2021   September                Alpine  Females          107\n",
       "1  2021   September                Alpine    Males           46\n",
       "2  2021   September                Ararat  Females          231\n",
       "3  2021   September                Ararat    Males           77\n",
       "4  2021   September              Ballarat  Females         1775"
      ]
     },
     "execution_count": 4,
     "metadata": {},
     "output_type": "execute_result"
    }
   ],
   "source": [
    "Family_incidents_df.head()"
   ]
  },
  {
   "cell_type": "code",
   "execution_count": 5,
   "id": "d1c70678-737f-406f-94cf-2b7e8f85da6b",
   "metadata": {},
   "outputs": [
    {
     "data": {
      "text/html": [
       "<div>\n",
       "<style scoped>\n",
       "    .dataframe tbody tr th:only-of-type {\n",
       "        vertical-align: middle;\n",
       "    }\n",
       "\n",
       "    .dataframe tbody tr th {\n",
       "        vertical-align: top;\n",
       "    }\n",
       "\n",
       "    .dataframe thead th {\n",
       "        text-align: right;\n",
       "    }\n",
       "</style>\n",
       "<table border=\"1\" class=\"dataframe\">\n",
       "  <thead>\n",
       "    <tr style=\"text-align: right;\">\n",
       "      <th></th>\n",
       "      <th></th>\n",
       "      <th>sum</th>\n",
       "    </tr>\n",
       "    <tr>\n",
       "      <th>Year</th>\n",
       "      <th>AFM Sex</th>\n",
       "      <th></th>\n",
       "    </tr>\n",
       "  </thead>\n",
       "  <tbody>\n",
       "    <tr>\n",
       "      <th rowspan=\"2\" valign=\"top\">2017</th>\n",
       "      <th>Females</th>\n",
       "      <td>56353</td>\n",
       "    </tr>\n",
       "    <tr>\n",
       "      <th>Males</th>\n",
       "      <td>18827</td>\n",
       "    </tr>\n",
       "    <tr>\n",
       "      <th rowspan=\"2\" valign=\"top\">2018</th>\n",
       "      <th>Females</th>\n",
       "      <td>58448</td>\n",
       "    </tr>\n",
       "    <tr>\n",
       "      <th>Males</th>\n",
       "      <td>19340</td>\n",
       "    </tr>\n",
       "    <tr>\n",
       "      <th rowspan=\"2\" valign=\"top\">2019</th>\n",
       "      <th>Females</th>\n",
       "      <td>62718</td>\n",
       "    </tr>\n",
       "    <tr>\n",
       "      <th>Males</th>\n",
       "      <td>20841</td>\n",
       "    </tr>\n",
       "    <tr>\n",
       "      <th rowspan=\"2\" valign=\"top\">2020</th>\n",
       "      <th>Females</th>\n",
       "      <td>67202</td>\n",
       "    </tr>\n",
       "    <tr>\n",
       "      <th>Males</th>\n",
       "      <td>22588</td>\n",
       "    </tr>\n",
       "    <tr>\n",
       "      <th rowspan=\"2\" valign=\"top\">2021</th>\n",
       "      <th>Females</th>\n",
       "      <td>68953</td>\n",
       "    </tr>\n",
       "    <tr>\n",
       "      <th>Males</th>\n",
       "      <td>23262</td>\n",
       "    </tr>\n",
       "  </tbody>\n",
       "</table>\n",
       "</div>"
      ],
      "text/plain": [
       "                sum\n",
       "Year AFM Sex       \n",
       "2017 Females  56353\n",
       "     Males    18827\n",
       "2018 Females  58448\n",
       "     Males    19340\n",
       "2019 Females  62718\n",
       "     Males    20841\n",
       "2020 Females  67202\n",
       "     Males    22588\n",
       "2021 Females  68953\n",
       "     Males    23262"
      ]
     },
     "execution_count": 5,
     "metadata": {},
     "output_type": "execute_result"
    }
   ],
   "source": [
    "AFM_by_gender = Family_incidents_df.groupby(['Year','AFM Sex'])['AFM Counter'].agg(['sum'])\n",
    "AFM_by_gender.head(10)"
   ]
  },
  {
   "cell_type": "code",
   "execution_count": 9,
   "id": "eb945c6a-07c2-4a18-a1d2-d9554361f46a",
   "metadata": {},
   "outputs": [
    {
     "data": {
      "text/plain": [
       "Year\n",
       "2017    56353\n",
       "2018    58448\n",
       "2019    62718\n",
       "2020    67202\n",
       "2021    68953\n",
       "Name: AFM Counter, dtype: int64"
      ]
     },
     "execution_count": 9,
     "metadata": {},
     "output_type": "execute_result"
    }
   ],
   "source": [
    "Females = Family_incidents_df[Family_incidents_df['AFM Sex']=='Females']\n",
    "Females = Females.groupby(['Year'])['AFM Counter'].sum()\n",
    "Females.head()"
   ]
  },
  {
   "cell_type": "code",
   "execution_count": 10,
   "id": "c482e04b-47fc-483c-acc1-7d89ce7de23a",
   "metadata": {},
   "outputs": [
    {
     "data": {
      "text/plain": [
       "Year\n",
       "2017    18827\n",
       "2018    19340\n",
       "2019    20841\n",
       "2020    22588\n",
       "2021    23262\n",
       "Name: AFM Counter, dtype: int64"
      ]
     },
     "execution_count": 10,
     "metadata": {},
     "output_type": "execute_result"
    }
   ],
   "source": [
    "Males = Family_incidents_df[Family_incidents_df['AFM Sex']=='Males']\n",
    "Males = Males.groupby(['Year'])['AFM Counter'].sum()\n",
    "Males.head()"
   ]
  },
  {
   "cell_type": "code",
   "execution_count": 17,
   "id": "f0f0ca12-6c8f-4e07-a94f-963a44230ce8",
   "metadata": {},
   "outputs": [
    {
     "data": {
      "text/plain": [
       "<function matplotlib.pyplot.show(close=None, block=None)>"
      ]
     },
     "execution_count": 17,
     "metadata": {},
     "output_type": "execute_result"
    },
    {
     "data": {
      "image/png": "[encoded data removed]",
      "text/plain": [
       "<Figure size 432x288 with 1 Axes>"
      ]
     },
     "metadata": {
      "needs_background": "light"
     },
     "output_type": "display_data"
    }
   ],
   "source": [
    "x = np.arange(2017,2022,1)\n",
    "plt.plot(x,Females, marker=\"o\", color=\"red\", linewidth=1, label=\"Females\")\n",
    "plt.plot(x,Males, marker=\"+\", color=\"blue\", linewidth=1, label=\"Males\")\n",
    "plt.legend(loc='lower right', bbox_to_anchor=(1, 0.2))\n",
    "plt.title(\"Affected Family Members by gender over last 5 years\")\n",
    "plt.xlabel(\"Year\")\n",
    "plt.ylabel(\"Affected Family Members\")\n",
    "plt.show"
   ]
  },
  {
   "cell_type": "code",
   "execution_count": null,
   "id": "7bf28a26-38a4-49db-844b-e7215b491a7a",
   "metadata": {},
   "outputs": [],
   "source": []
  }
 ],
 "metadata": {
  "kernelspec": {
   "display_name": "Python 3",
   "language": "python",
   "name": "python3"
  },
  "language_info": {
   "codemirror_mode": {
    "name": "ipython",
    "version": 3
   },
   "file_extension": ".py",
   "mimetype": "text/x-python",
   "name": "python",
   "nbconvert_exporter": "python",
   "pygments_lexer": "ipython3",
   "version": "3.8.8"
  }
 },
 "nbformat": 4,
 "nbformat_minor": 5
}
