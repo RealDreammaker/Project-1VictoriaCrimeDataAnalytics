{
 "cells": [
  {
   "cell_type": "code",
   "execution_count": 44,
   "id": "5eefcb61-2256-4eb1-a432-fee66686ec5f",
   "metadata": {},
   "outputs": [],
   "source": [
    "# Dependencies and Setup\n",
    "import matplotlib.pyplot as plt\n",
    "import pandas as pd\n",
    "import scipy.stats as st\n",
    "import numpy as np"
   ]
  },
  {
   "cell_type": "code",
   "execution_count": 57,
   "id": "31990d58-6c32-41ba-b750-be10bda7a9f5",
   "metadata": {},
   "outputs": [],
   "source": [
    "Victim_reports_xlx_path = pd.ExcelFile(\"LGA_Victim_Reports_Year_Ending_September_2021.xlsx\")"
   ]
  },
  {
   "cell_type": "code",
   "execution_count": 66,
   "id": "69bbe1f3-510a-4cc2-8415-d4a9553ad952",
   "metadata": {},
   "outputs": [],
   "source": [
    "Victim_reports_df = pd.read_excel(Victim_reports_xlx_path,'Table 03')"
   ]
  },
  {
   "cell_type": "code",
   "execution_count": 72,
   "id": "6a4b7141-aa80-4f7c-95ce-7fca05b1192a",
   "metadata": {},
   "outputs": [
    {
     "data": {
      "text/html": [
       "<div>\n",
       "<style scoped>\n",
       "    .dataframe tbody tr th:only-of-type {\n",
       "        vertical-align: middle;\n",
       "    }\n",
       "\n",
       "    .dataframe tbody tr th {\n",
       "        vertical-align: top;\n",
       "    }\n",
       "\n",
       "    .dataframe thead th {\n",
       "        text-align: right;\n",
       "    }\n",
       "</style>\n",
       "<table border=\"1\" class=\"dataframe\">\n",
       "  <thead>\n",
       "    <tr style=\"text-align: right;\">\n",
       "      <th></th>\n",
       "      <th>Year</th>\n",
       "      <th>Year ending</th>\n",
       "      <th>Local Government Area</th>\n",
       "      <th>Age Group</th>\n",
       "      <th>Victim Reports</th>\n",
       "    </tr>\n",
       "  </thead>\n",
       "  <tbody>\n",
       "    <tr>\n",
       "      <th>0</th>\n",
       "      <td>2021</td>\n",
       "      <td>September</td>\n",
       "      <td>Alpine</td>\n",
       "      <td>00 - 24 years</td>\n",
       "      <td>42</td>\n",
       "    </tr>\n",
       "    <tr>\n",
       "      <th>1</th>\n",
       "      <td>2021</td>\n",
       "      <td>September</td>\n",
       "      <td>Alpine</td>\n",
       "      <td>25 - 34 years</td>\n",
       "      <td>27</td>\n",
       "    </tr>\n",
       "    <tr>\n",
       "      <th>2</th>\n",
       "      <td>2021</td>\n",
       "      <td>September</td>\n",
       "      <td>Alpine</td>\n",
       "      <td>35 - 44 years</td>\n",
       "      <td>34</td>\n",
       "    </tr>\n",
       "    <tr>\n",
       "      <th>3</th>\n",
       "      <td>2021</td>\n",
       "      <td>September</td>\n",
       "      <td>Alpine</td>\n",
       "      <td>45 - 54 years</td>\n",
       "      <td>29</td>\n",
       "    </tr>\n",
       "    <tr>\n",
       "      <th>4</th>\n",
       "      <td>2021</td>\n",
       "      <td>September</td>\n",
       "      <td>Alpine</td>\n",
       "      <td>55 + years</td>\n",
       "      <td>59</td>\n",
       "    </tr>\n",
       "    <tr>\n",
       "      <th>5</th>\n",
       "      <td>2021</td>\n",
       "      <td>September</td>\n",
       "      <td>Ararat</td>\n",
       "      <td>00 - 24 years</td>\n",
       "      <td>101</td>\n",
       "    </tr>\n",
       "    <tr>\n",
       "      <th>6</th>\n",
       "      <td>2021</td>\n",
       "      <td>September</td>\n",
       "      <td>Ararat</td>\n",
       "      <td>25 - 34 years</td>\n",
       "      <td>103</td>\n",
       "    </tr>\n",
       "    <tr>\n",
       "      <th>7</th>\n",
       "      <td>2021</td>\n",
       "      <td>September</td>\n",
       "      <td>Ararat</td>\n",
       "      <td>35 - 44 years</td>\n",
       "      <td>100</td>\n",
       "    </tr>\n",
       "    <tr>\n",
       "      <th>8</th>\n",
       "      <td>2021</td>\n",
       "      <td>September</td>\n",
       "      <td>Ararat</td>\n",
       "      <td>45 - 54 years</td>\n",
       "      <td>84</td>\n",
       "    </tr>\n",
       "    <tr>\n",
       "      <th>9</th>\n",
       "      <td>2021</td>\n",
       "      <td>September</td>\n",
       "      <td>Ararat</td>\n",
       "      <td>55 + years</td>\n",
       "      <td>129</td>\n",
       "    </tr>\n",
       "  </tbody>\n",
       "</table>\n",
       "</div>"
      ],
      "text/plain": [
       "   Year Year ending Local Government Area      Age Group  Victim Reports\n",
       "0  2021   September                Alpine  00 - 24 years              42\n",
       "1  2021   September                Alpine  25 - 34 years              27\n",
       "2  2021   September                Alpine  35 - 44 years              34\n",
       "3  2021   September                Alpine  45 - 54 years              29\n",
       "4  2021   September                Alpine     55 + years              59\n",
       "5  2021   September                Ararat  00 - 24 years             101\n",
       "6  2021   September                Ararat  25 - 34 years             103\n",
       "7  2021   September                Ararat  35 - 44 years             100\n",
       "8  2021   September                Ararat  45 - 54 years              84\n",
       "9  2021   September                Ararat     55 + years             129"
      ]
     },
     "execution_count": 72,
     "metadata": {},
     "output_type": "execute_result"
    }
   ],
   "source": [
    "Victim_reports_df.head(10)"
   ]
  },
  {
   "cell_type": "code",
   "execution_count": 64,
   "id": "50cf3ace-997a-40f8-b8ba-84161ec00fe8",
   "metadata": {},
   "outputs": [
    {
     "data": {
      "text/plain": [
       "Year                     3950\n",
       "Year ending              3950\n",
       "Local Government Area    3950\n",
       "Age Group                3950\n",
       "Victim Reports           3950\n",
       "dtype: int64"
      ]
     },
     "execution_count": 64,
     "metadata": {},
     "output_type": "execute_result"
    }
   ],
   "source": [
    "Victim_reports_df.count()"
   ]
  },
  {
   "cell_type": "code",
   "execution_count": 71,
   "id": "f044849d-d429-4a06-b668-819516b38c72",
   "metadata": {},
   "outputs": [
    {
     "data": {
      "text/html": [
       "<div>\n",
       "<style scoped>\n",
       "    .dataframe tbody tr th:only-of-type {\n",
       "        vertical-align: middle;\n",
       "    }\n",
       "\n",
       "    .dataframe tbody tr th {\n",
       "        vertical-align: top;\n",
       "    }\n",
       "\n",
       "    .dataframe thead th {\n",
       "        text-align: right;\n",
       "    }\n",
       "</style>\n",
       "<table border=\"1\" class=\"dataframe\">\n",
       "  <thead>\n",
       "    <tr style=\"text-align: right;\">\n",
       "      <th></th>\n",
       "      <th></th>\n",
       "      <th>sum</th>\n",
       "    </tr>\n",
       "    <tr>\n",
       "      <th>Year</th>\n",
       "      <th>Age Group</th>\n",
       "      <th></th>\n",
       "    </tr>\n",
       "  </thead>\n",
       "  <tbody>\n",
       "    <tr>\n",
       "      <th rowspan=\"5\" valign=\"top\">2012</th>\n",
       "      <th>00 - 24 years</th>\n",
       "      <td>42464</td>\n",
       "    </tr>\n",
       "    <tr>\n",
       "      <th>25 - 34 years</th>\n",
       "      <td>47631</td>\n",
       "    </tr>\n",
       "    <tr>\n",
       "      <th>35 - 44 years</th>\n",
       "      <td>41386</td>\n",
       "    </tr>\n",
       "    <tr>\n",
       "      <th>45 - 54 years</th>\n",
       "      <td>31509</td>\n",
       "    </tr>\n",
       "    <tr>\n",
       "      <th>55 + years</th>\n",
       "      <td>32154</td>\n",
       "    </tr>\n",
       "    <tr>\n",
       "      <th rowspan=\"5\" valign=\"top\">2013</th>\n",
       "      <th>00 - 24 years</th>\n",
       "      <td>41042</td>\n",
       "    </tr>\n",
       "    <tr>\n",
       "      <th>25 - 34 years</th>\n",
       "      <td>47170</td>\n",
       "    </tr>\n",
       "    <tr>\n",
       "      <th>35 - 44 years</th>\n",
       "      <td>40471</td>\n",
       "    </tr>\n",
       "    <tr>\n",
       "      <th>45 - 54 years</th>\n",
       "      <td>31493</td>\n",
       "    </tr>\n",
       "    <tr>\n",
       "      <th>55 + years</th>\n",
       "      <td>32569</td>\n",
       "    </tr>\n",
       "  </tbody>\n",
       "</table>\n",
       "</div>"
      ],
      "text/plain": [
       "                      sum\n",
       "Year Age Group           \n",
       "2012 00 - 24 years  42464\n",
       "     25 - 34 years  47631\n",
       "     35 - 44 years  41386\n",
       "     45 - 54 years  31509\n",
       "     55 + years     32154\n",
       "2013 00 - 24 years  41042\n",
       "     25 - 34 years  47170\n",
       "     35 - 44 years  40471\n",
       "     45 - 54 years  31493\n",
       "     55 + years     32569"
      ]
     },
     "execution_count": 71,
     "metadata": {},
     "output_type": "execute_result"
    }
   ],
   "source": [
    "Total_victim_reports_by_age = Victim_reports_df.groupby(['Year','Age Group'])['Victim Reports'].agg(['sum'])\n",
    "Total_victim_reports_by_age.head(10)"
   ]
  },
  {
   "cell_type": "code",
   "execution_count": 76,
   "id": "516b0f2d-077a-41e3-b6cd-8e00e324edf9",
   "metadata": {},
   "outputs": [
    {
     "data": {
      "text/html": [
       "<div>\n",
       "<style scoped>\n",
       "    .dataframe tbody tr th:only-of-type {\n",
       "        vertical-align: middle;\n",
       "    }\n",
       "\n",
       "    .dataframe tbody tr th {\n",
       "        vertical-align: top;\n",
       "    }\n",
       "\n",
       "    .dataframe thead th {\n",
       "        text-align: right;\n",
       "    }\n",
       "</style>\n",
       "<table border=\"1\" class=\"dataframe\">\n",
       "  <thead>\n",
       "    <tr style=\"text-align: right;\">\n",
       "      <th></th>\n",
       "      <th>sum</th>\n",
       "    </tr>\n",
       "    <tr>\n",
       "      <th>Age Group</th>\n",
       "      <th></th>\n",
       "    </tr>\n",
       "  </thead>\n",
       "  <tbody>\n",
       "    <tr>\n",
       "      <th>00 - 24 years</th>\n",
       "      <td>410914</td>\n",
       "    </tr>\n",
       "    <tr>\n",
       "      <th>25 - 34 years</th>\n",
       "      <td>521385</td>\n",
       "    </tr>\n",
       "    <tr>\n",
       "      <th>35 - 44 years</th>\n",
       "      <td>424793</td>\n",
       "    </tr>\n",
       "    <tr>\n",
       "      <th>45 - 54 years</th>\n",
       "      <td>341886</td>\n",
       "    </tr>\n",
       "    <tr>\n",
       "      <th>55 + years</th>\n",
       "      <td>368705</td>\n",
       "    </tr>\n",
       "  </tbody>\n",
       "</table>\n",
       "</div>"
      ],
      "text/plain": [
       "                  sum\n",
       "Age Group            \n",
       "00 - 24 years  410914\n",
       "25 - 34 years  521385\n",
       "35 - 44 years  424793\n",
       "45 - 54 years  341886\n",
       "55 + years     368705"
      ]
     },
     "execution_count": 76,
     "metadata": {},
     "output_type": "execute_result"
    }
   ],
   "source": [
    "Total_Age_Group = Victim_reports_df.groupby(['Age Group'])['Victim Reports'].agg(['sum'])\n",
    "Total_Age_Group.head()"
   ]
  },
  {
   "cell_type": "code",
   "execution_count": 78,
   "id": "2ea48d31-e480-4f44-b680-6616b10a211d",
   "metadata": {},
   "outputs": [
    {
     "data": {
      "text/html": [
       "<div>\n",
       "<style scoped>\n",
       "    .dataframe tbody tr th:only-of-type {\n",
       "        vertical-align: middle;\n",
       "    }\n",
       "\n",
       "    .dataframe tbody tr th {\n",
       "        vertical-align: top;\n",
       "    }\n",
       "\n",
       "    .dataframe thead th {\n",
       "        text-align: right;\n",
       "    }\n",
       "</style>\n",
       "<table border=\"1\" class=\"dataframe\">\n",
       "  <thead>\n",
       "    <tr style=\"text-align: right;\">\n",
       "      <th></th>\n",
       "      <th>sum</th>\n",
       "    </tr>\n",
       "    <tr>\n",
       "      <th>Year</th>\n",
       "      <th></th>\n",
       "    </tr>\n",
       "  </thead>\n",
       "  <tbody>\n",
       "    <tr>\n",
       "      <th>2012</th>\n",
       "      <td>195144</td>\n",
       "    </tr>\n",
       "    <tr>\n",
       "      <th>2013</th>\n",
       "      <td>192745</td>\n",
       "    </tr>\n",
       "    <tr>\n",
       "      <th>2014</th>\n",
       "      <td>196123</td>\n",
       "    </tr>\n",
       "    <tr>\n",
       "      <th>2015</th>\n",
       "      <td>201923</td>\n",
       "    </tr>\n",
       "    <tr>\n",
       "      <th>2016</th>\n",
       "      <td>232695</td>\n",
       "    </tr>\n",
       "    <tr>\n",
       "      <th>2017</th>\n",
       "      <td>216893</td>\n",
       "    </tr>\n",
       "    <tr>\n",
       "      <th>2018</th>\n",
       "      <td>210928</td>\n",
       "    </tr>\n",
       "    <tr>\n",
       "      <th>2019</th>\n",
       "      <td>217269</td>\n",
       "    </tr>\n",
       "    <tr>\n",
       "      <th>2020</th>\n",
       "      <td>209358</td>\n",
       "    </tr>\n",
       "    <tr>\n",
       "      <th>2021</th>\n",
       "      <td>194605</td>\n",
       "    </tr>\n",
       "  </tbody>\n",
       "</table>\n",
       "</div>"
      ],
      "text/plain": [
       "         sum\n",
       "Year        \n",
       "2012  195144\n",
       "2013  192745\n",
       "2014  196123\n",
       "2015  201923\n",
       "2016  232695\n",
       "2017  216893\n",
       "2018  210928\n",
       "2019  217269\n",
       "2020  209358\n",
       "2021  194605"
      ]
     },
     "execution_count": 78,
     "metadata": {},
     "output_type": "execute_result"
    }
   ],
   "source": [
    "Total_by_year = Victim_reports_df.groupby(['Year'])['Victim Reports'].agg(['sum'])\n",
    "Total_by_year.head(10)"
   ]
  },
  {
   "cell_type": "code",
   "execution_count": 107,
   "id": "b633563a-077d-4368-b5c4-5bff4dac98d6",
   "metadata": {},
   "outputs": [
    {
     "data": {
      "text/plain": [
       "<function matplotlib.pyplot.show(close=None, block=None)>"
      ]
     },
     "execution_count": 107,
     "metadata": {},
     "output_type": "execute_result"
    },
    {
     "data": {
      "image/png": "[encoded data removed]",
      "text/plain": [
       "<Figure size 432x288 with 1 Axes>"
      ]
     },
     "metadata": {
      "needs_background": "light"
     },
     "output_type": "display_data"
    }
   ],
   "source": [
    "x = np.arange(2012,2022,1)\n",
    "plt.plot(x,Total_by_year, marker=\"o\", color=\"red\", linewidth=1, label=\"Victim Reports\")\n",
    "plt.legend(loc='upper right', bbox_to_anchor=(1, 0.8))\n",
    "plt.title(\"Victim Reports over last 10 years\")\n",
    "plt.xlabel(\"Year\")\n",
    "plt.ylabel(\"Victim Reports\")\n",
    "plt.show"
   ]
  },
  {
   "cell_type": "code",
   "execution_count": 91,
   "id": "a34314ec-43fe-46e5-ba0f-5559adf2ef7a",
   "metadata": {},
   "outputs": [],
   "source": [
    "Age_Groups = ['00 - 24 years','25 - 34 years','35 - 44 years','45 - 54 years','55 + years']\n",
    "Victim_Reports = [410914,521385,424793,341886,368705]\n",
    "colors = [\"yellow\",\"green\",\"lightblue\",\"orange\",\"lightcoral\"]\n",
    "explode = (0,0.1,0,0,0)"
   ]
  },
  {
   "cell_type": "code",
   "execution_count": 93,
   "id": "9682b849-d345-481b-a32f-61c0491bac2e",
   "metadata": {},
   "outputs": [
    {
     "data": {
      "image/png": "[encoded data removed]",
      "text/plain": [
       "<Figure size 432x288 with 1 Axes>"
      ]
     },
     "metadata": {},
     "output_type": "display_data"
    }
   ],
   "source": [
    "plt.pie(Victim_Reports, explode=explode, labels=Age_Groups, colors=colors,\n",
    "        autopct=\"%1.1f%%\", shadow=True, startangle=140)\n",
    "plt.title(\"% of victim reports for different age group over last 10 years\")\n",
    "plt.axis(\"equal\")\n",
    "plt.show()"
   ]
  },
  {
   "cell_type": "code",
   "execution_count": null,
   "id": "5ebb83a3-2cb7-42ee-82b4-97cb9c90d12a",
   "metadata": {},
   "outputs": [],
   "source": []
  },
  {
   "cell_type": "code",
   "execution_count": null,
   "id": "1ec36788-e270-4c87-95c6-28137edfbdf7",
   "metadata": {},
   "outputs": [],
   "source": []
  },
  {
   "cell_type": "code",
   "execution_count": null,
   "id": "6c7beb47-fe15-49d0-8a83-0e8f872def72",
   "metadata": {},
   "outputs": [],
   "source": []
  },
  {
   "cell_type": "code",
   "execution_count": null,
   "id": "8fd55c90-685a-4511-b86f-755b83cfdea4",
   "metadata": {},
   "outputs": [],
   "source": []
  },
  {
   "cell_type": "code",
   "execution_count": null,
   "id": "70e4a2f3-e8df-427e-b0de-c3d4c3a0cefc",
   "metadata": {},
   "outputs": [],
   "source": []
  },
  {
   "cell_type": "code",
   "execution_count": null,
   "id": "1a8b8635-16cc-4d9a-976b-eceeaeca0f06",
   "metadata": {},
   "outputs": [],
   "source": []
  },
  {
   "cell_type": "code",
   "execution_count": null,
   "id": "6d35c639-8795-4e8f-92a3-5fa8199a065c",
   "metadata": {},
   "outputs": [],
   "source": []
  },
  {
   "cell_type": "code",
   "execution_count": null,
   "id": "c1b35ec1-1be1-40dd-b108-7dffe9b8b03c",
   "metadata": {},
   "outputs": [],
   "source": []
  },
  {
   "cell_type": "code",
   "execution_count": null,
   "id": "093b3399-d409-4335-9c05-f0c7a5bbf184",
   "metadata": {},
   "outputs": [],
   "source": []
  },
  {
   "cell_type": "code",
   "execution_count": null,
   "id": "41ccae7f-059c-4a1d-a6bc-f03396ba48a8",
   "metadata": {},
   "outputs": [],
   "source": []
  },
  {
   "cell_type": "code",
   "execution_count": null,
   "id": "80d50a65-5dfa-49f1-a9a1-d9763a3db41d",
   "metadata": {},
   "outputs": [],
   "source": []
  },
  {
   "cell_type": "code",
   "execution_count": null,
   "id": "c96a02b7-8425-47d9-96dd-25cde3951baf",
   "metadata": {},
   "outputs": [],
   "source": []
  },
  {
   "cell_type": "code",
   "execution_count": null,
   "id": "afdcfac2-c69a-4956-8f72-49fa4c1e4d22",
   "metadata": {},
   "outputs": [],
   "source": []
  },
  {
   "cell_type": "code",
   "execution_count": null,
   "id": "5aedc13a-add9-46f6-9f96-d1cbba0a993f",
   "metadata": {},
   "outputs": [],
   "source": []
  },
  {
   "cell_type": "code",
   "execution_count": null,
   "id": "2cb4bfe5-d262-4d85-a7ef-4f3e392736b7",
   "metadata": {},
   "outputs": [],
   "source": []
  },
  {
   "cell_type": "code",
   "execution_count": null,
   "id": "ff59d7ec-9f8f-4199-8e12-63a89b903790",
   "metadata": {},
   "outputs": [],
   "source": []
  },
  {
   "cell_type": "code",
   "execution_count": null,
   "id": "8a42a93a-3366-4553-9c5d-042f594a485b",
   "metadata": {},
   "outputs": [],
   "source": []
  },
  {
   "cell_type": "code",
   "execution_count": null,
   "id": "f986899e-bcf2-4704-a76e-df1070356939",
   "metadata": {},
   "outputs": [],
   "source": []
  },
  {
   "cell_type": "code",
   "execution_count": null,
   "id": "33c3abf3-16f5-47c3-8a4b-46661a606cfa",
   "metadata": {},
   "outputs": [],
   "source": []
  },
  {
   "cell_type": "code",
   "execution_count": null,
   "id": "2ef83d35-c816-4e02-9f02-7f80f46e1dba",
   "metadata": {},
   "outputs": [],
   "source": []
  },
  {
   "cell_type": "code",
   "execution_count": null,
   "id": "053b3c7c-d124-4f44-a563-fdf0a6f51428",
   "metadata": {},
   "outputs": [],
   "source": []
  },
  {
   "cell_type": "code",
   "execution_count": null,
   "id": "eb055a7d-6cf8-4104-a0d4-9e00e5419fa9",
   "metadata": {},
   "outputs": [],
   "source": []
  },
  {
   "cell_type": "code",
   "execution_count": null,
   "id": "a4174f76-4077-4bde-a813-19bd5697a051",
   "metadata": {},
   "outputs": [],
   "source": []
  },
  {
   "cell_type": "code",
   "execution_count": null,
   "id": "04a801df-45e7-4c09-8fa0-1b8aa65e6005",
   "metadata": {},
   "outputs": [],
   "source": []
  },
  {
   "cell_type": "code",
   "execution_count": null,
   "id": "910af45a-38d3-4382-a0e1-24d7fdfa480e",
   "metadata": {},
   "outputs": [],
   "source": []
  },
  {
   "cell_type": "code",
   "execution_count": null,
   "id": "c867386e-d962-4edd-ad0e-2381fce7c471",
   "metadata": {},
   "outputs": [],
   "source": []
  },
  {
   "cell_type": "code",
   "execution_count": null,
   "id": "9f0ec38c-1ce7-4c7f-a7eb-85ffbe217367",
   "metadata": {},
   "outputs": [],
   "source": []
  },
  {
   "cell_type": "code",
   "execution_count": null,
   "id": "c8e9f027-9ff3-47c2-85f9-4e17b0d3feff",
   "metadata": {},
   "outputs": [],
   "source": []
  },
  {
   "cell_type": "code",
   "execution_count": null,
   "id": "4bef9ab2-e68a-4611-a428-205acfba5290",
   "metadata": {},
   "outputs": [],
   "source": []
  },
  {
   "cell_type": "code",
   "execution_count": null,
   "id": "a4e28c9f-3972-4982-8afc-933815d16978",
   "metadata": {},
   "outputs": [],
   "source": []
  },
  {
   "cell_type": "code",
   "execution_count": null,
   "id": "e6cfae71-1715-4046-bb1c-cfdcad02e8ff",
   "metadata": {},
   "outputs": [],
   "source": []
  },
  {
   "cell_type": "code",
   "execution_count": null,
   "id": "eb20249f-723f-412e-975d-7e3ff5e08492",
   "metadata": {},
   "outputs": [],
   "source": []
  },
  {
   "cell_type": "code",
   "execution_count": null,
   "id": "2b91511e-ea5b-4d6d-bf47-906a81080ce4",
   "metadata": {},
   "outputs": [],
   "source": []
  },
  {
   "cell_type": "code",
   "execution_count": null,
   "id": "38553dd1-a636-4953-8fdf-a20a2266f24d",
   "metadata": {},
   "outputs": [],
   "source": []
  },
  {
   "cell_type": "code",
   "execution_count": null,
   "id": "c285bab3-9c9a-4c90-83ad-4fcbd884484c",
   "metadata": {},
   "outputs": [],
   "source": []
  },
  {
   "cell_type": "code",
   "execution_count": null,
   "id": "6ab3f692-521a-4f4a-8bcd-bc8903d82908",
   "metadata": {},
   "outputs": [],
   "source": []
  },
  {
   "cell_type": "code",
   "execution_count": null,
   "id": "e66e45ae-154b-4330-b6d4-92bf64f59422",
   "metadata": {},
   "outputs": [],
   "source": []
  },
  {
   "cell_type": "code",
   "execution_count": null,
   "id": "b18f2b55-1935-41d6-9082-dd07605698e7",
   "metadata": {},
   "outputs": [],
   "source": []
  },
  {
   "cell_type": "code",
   "execution_count": null,
   "id": "0ef3a8cb-f8f3-43df-b192-5cb1d9310090",
   "metadata": {},
   "outputs": [],
   "source": []
  },
  {
   "cell_type": "code",
   "execution_count": null,
   "id": "5af59a41-a8b4-45a6-ab6b-bb9022a94502",
   "metadata": {},
   "outputs": [],
   "source": []
  },
  {
   "cell_type": "code",
   "execution_count": null,
   "id": "115fc800-886f-4f5d-b85b-c1a5c75f3c3d",
   "metadata": {},
   "outputs": [],
   "source": []
  },
  {
   "cell_type": "code",
   "execution_count": null,
   "id": "40ed1870-014b-485b-931a-0017adb99986",
   "metadata": {},
   "outputs": [],
   "source": []
  },
  {
   "cell_type": "code",
   "execution_count": null,
   "id": "f0da6e39-7c8a-4103-b635-2c02470d2e00",
   "metadata": {},
   "outputs": [],
   "source": []
  },
  {
   "cell_type": "code",
   "execution_count": null,
   "id": "e36fb86c-dc6d-4102-8dcb-528b184eafa8",
   "metadata": {},
   "outputs": [],
   "source": []
  },
  {
   "cell_type": "code",
   "execution_count": null,
   "id": "d1c78c8e-d840-48ac-9191-c6e5e09369cf",
   "metadata": {},
   "outputs": [],
   "source": []
  },
  {
   "cell_type": "code",
   "execution_count": null,
   "id": "cc8ed1f5-2ca6-4894-be62-05a1421e4c4b",
   "metadata": {},
   "outputs": [],
   "source": []
  },
  {
   "cell_type": "code",
   "execution_count": null,
   "id": "0e440b7f-6333-40d6-9e1a-7e80dc877b1d",
   "metadata": {},
   "outputs": [],
   "source": []
  },
  {
   "cell_type": "code",
   "execution_count": null,
   "id": "881efbb2-e79f-4c79-bce9-209bc6721f7c",
   "metadata": {},
   "outputs": [],
   "source": []
  }
 ],
 "metadata": {
  "kernelspec": {
   "display_name": "Python 3",
   "language": "python",
   "name": "python3"
  },
  "language_info": {
   "codemirror_mode": {
    "name": "ipython",
    "version": 3
   },
   "file_extension": ".py",
   "mimetype": "text/x-python",
   "name": "python",
   "nbconvert_exporter": "python",
   "pygments_lexer": "ipython3",
   "version": "3.8.8"
  }
 },
 "nbformat": 4,
 "nbformat_minor": 5
}
