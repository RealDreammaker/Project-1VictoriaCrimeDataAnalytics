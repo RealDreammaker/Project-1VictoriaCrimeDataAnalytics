{
 "cells": [
  {
   "cell_type": "code",
<<<<<<< HEAD
   "execution_count": 2,
=======
<<<<<<< HEAD
   "execution_count": 5,
=======
   "execution_count": 1,
>>>>>>> c1e6771b9d796655c5428f625304f93f121d1f9b
>>>>>>> 7e0c279ff50e4520b93531d012acb4c4183aa3e0
   "id": "1082e0ed",
   "metadata": {
    "ExecuteTime": {
     "end_time": "2022-01-02T03:44:06.319870Z",
     "start_time": "2022-01-02T03:44:04.205218Z"
    },
    "scrolled": true
   },
   "outputs": [],
   "source": [
    "# Dependencies and Setup\n",
    "import matplotlib.pyplot as plt\n",
    "import pandas as pd\n",
    "import scipy.stats as st\n",
    "import numpy as np\n",
    "from sklearn import datasets\n",
    "from scipy.stats import linregress\n",
    "\n",
    "xls = pd.ExcelFile(\"../Data/Data_Tables_LGA_Criminal_Incidents_Year_Ending_September_2021.xlsx\")\n",
    "df = pd.read_excel (xls,'Table 01')\n",
    "df3 = pd.read_excel (xls,'Table 03')"
   ]
  },
  {
   "cell_type": "code",
<<<<<<< HEAD
   "execution_count": 3,
=======
<<<<<<< HEAD
   "execution_count": 6,
>>>>>>> 7e0c279ff50e4520b93531d012acb4c4183aa3e0
   "id": "a8cc588a",
   "metadata": {},
   "outputs": [
    {
     "data": {
      "text/html": [
       "<div>\n",
       "<style scoped>\n",
       "    .dataframe tbody tr th:only-of-type {\n",
       "        vertical-align: middle;\n",
       "    }\n",
       "\n",
       "    .dataframe tbody tr th {\n",
       "        vertical-align: top;\n",
       "    }\n",
       "\n",
       "    .dataframe thead th {\n",
       "        text-align: right;\n",
       "    }\n",
       "</style>\n",
       "<table border=\"1\" class=\"dataframe\">\n",
       "  <thead>\n",
       "    <tr style=\"text-align: right;\">\n",
       "      <th></th>\n",
       "      <th>Year</th>\n",
       "      <th>Year ending</th>\n",
       "      <th>Local Government Area</th>\n",
       "      <th>Postcode</th>\n",
       "      <th>Suburb/Town Name</th>\n",
       "      <th>Offence Division</th>\n",
       "      <th>Offence Subdivision</th>\n",
       "      <th>Offence Subgroup</th>\n",
       "      <th>Incidents Recorded</th>\n",
       "      <th>Unnamed: 9</th>\n",
       "    </tr>\n",
       "  </thead>\n",
       "  <tbody>\n",
       "    <tr>\n",
       "      <th>0</th>\n",
       "      <td>2021</td>\n",
       "      <td>September</td>\n",
       "      <td>Alpine</td>\n",
       "      <td>3691</td>\n",
       "      <td>Dederang</td>\n",
       "      <td>A Crimes against the person</td>\n",
       "      <td>A20 Assault and related offences</td>\n",
       "      <td>A211 FV Serious assault</td>\n",
       "      <td>1</td>\n",
       "      <td>NaN</td>\n",
       "    </tr>\n",
       "    <tr>\n",
       "      <th>1</th>\n",
       "      <td>2021</td>\n",
       "      <td>September</td>\n",
       "      <td>Alpine</td>\n",
       "      <td>3691</td>\n",
       "      <td>Dederang</td>\n",
       "      <td>A Crimes against the person</td>\n",
       "      <td>Other crimes against the person</td>\n",
       "      <td>Other crimes against the person</td>\n",
       "      <td>1</td>\n",
       "      <td>NaN</td>\n",
       "    </tr>\n",
       "    <tr>\n",
       "      <th>2</th>\n",
       "      <td>2021</td>\n",
       "      <td>September</td>\n",
       "      <td>Alpine</td>\n",
       "      <td>3691</td>\n",
       "      <td>Dederang</td>\n",
       "      <td>B Property and deception offences</td>\n",
       "      <td>B30 Burglary/Break and enter</td>\n",
       "      <td>B321 Residential non-aggravated burglary</td>\n",
       "      <td>1</td>\n",
       "      <td>NaN</td>\n",
       "    </tr>\n",
       "    <tr>\n",
       "      <th>3</th>\n",
       "      <td>2021</td>\n",
       "      <td>September</td>\n",
       "      <td>Alpine</td>\n",
       "      <td>3691</td>\n",
       "      <td>Dederang</td>\n",
       "      <td>B Property and deception offences</td>\n",
       "      <td>B50 Deception</td>\n",
       "      <td>B53 Obtain benefit by deception</td>\n",
       "      <td>1</td>\n",
       "      <td>NaN</td>\n",
       "    </tr>\n",
       "    <tr>\n",
       "      <th>4</th>\n",
       "      <td>2021</td>\n",
       "      <td>September</td>\n",
       "      <td>Alpine</td>\n",
       "      <td>3691</td>\n",
       "      <td>Gundowring</td>\n",
       "      <td>C Drug offences</td>\n",
       "      <td>C10 Drug dealing and trafficking</td>\n",
       "      <td>C12 Drug trafficking</td>\n",
       "      <td>1</td>\n",
       "      <td>NaN</td>\n",
       "    </tr>\n",
       "    <tr>\n",
       "      <th>...</th>\n",
       "      <td>...</td>\n",
       "      <td>...</td>\n",
       "      <td>...</td>\n",
       "      <td>...</td>\n",
       "      <td>...</td>\n",
       "      <td>...</td>\n",
       "      <td>...</td>\n",
       "      <td>...</td>\n",
       "      <td>...</td>\n",
       "      <td>...</td>\n",
       "    </tr>\n",
       "    <tr>\n",
       "      <th>323092</th>\n",
       "      <td>2012</td>\n",
       "      <td>September</td>\n",
       "      <td>Yarriambiack</td>\n",
       "      <td>3489</td>\n",
       "      <td>Tempy</td>\n",
       "      <td>A Crimes against the person</td>\n",
       "      <td>A20 Assault and related offences</td>\n",
       "      <td>A232 Non-FV Common assault</td>\n",
       "      <td>1</td>\n",
       "      <td>NaN</td>\n",
       "    </tr>\n",
       "    <tr>\n",
       "      <th>323093</th>\n",
       "      <td>2012</td>\n",
       "      <td>September</td>\n",
       "      <td>Yarriambiack</td>\n",
       "      <td>3489</td>\n",
       "      <td>Tempy</td>\n",
       "      <td>A Crimes against the person</td>\n",
       "      <td>A70 Stalking, harassment and threatening behav...</td>\n",
       "      <td>A711 FV Stalking</td>\n",
       "      <td>1</td>\n",
       "      <td>NaN</td>\n",
       "    </tr>\n",
       "    <tr>\n",
       "      <th>323094</th>\n",
       "      <td>2012</td>\n",
       "      <td>September</td>\n",
       "      <td>Yarriambiack</td>\n",
       "      <td>3489</td>\n",
       "      <td>Tempy</td>\n",
       "      <td>A Crimes against the person</td>\n",
       "      <td>A70 Stalking, harassment and threatening behav...</td>\n",
       "      <td>A712 Non-FV Stalking</td>\n",
       "      <td>1</td>\n",
       "      <td>NaN</td>\n",
       "    </tr>\n",
       "    <tr>\n",
       "      <th>323095</th>\n",
       "      <td>2012</td>\n",
       "      <td>September</td>\n",
       "      <td>Yarriambiack</td>\n",
       "      <td>3489</td>\n",
       "      <td>Tempy</td>\n",
       "      <td>B Property and deception offences</td>\n",
       "      <td>B40 Theft</td>\n",
       "      <td>B45 Receiving or handling stolen goods</td>\n",
       "      <td>2</td>\n",
       "      <td>NaN</td>\n",
       "    </tr>\n",
       "    <tr>\n",
       "      <th>323096</th>\n",
       "      <td>2012</td>\n",
       "      <td>September</td>\n",
       "      <td>Yarriambiack</td>\n",
       "      <td>3491</td>\n",
       "      <td>Patchewollock</td>\n",
       "      <td>A Crimes against the person</td>\n",
       "      <td>Other crimes against the person</td>\n",
       "      <td>Other crimes against the person</td>\n",
       "      <td>2</td>\n",
       "      <td>NaN</td>\n",
       "    </tr>\n",
       "  </tbody>\n",
       "</table>\n",
       "<p>323097 rows × 10 columns</p>\n",
       "</div>"
      ],
      "text/plain": [
       "        Year Year ending Local Government Area  Postcode Suburb/Town Name  \\\n",
       "0       2021   September                Alpine      3691         Dederang   \n",
       "1       2021   September                Alpine      3691         Dederang   \n",
       "2       2021   September                Alpine      3691         Dederang   \n",
       "3       2021   September                Alpine      3691         Dederang   \n",
       "4       2021   September                Alpine      3691       Gundowring   \n",
       "...      ...         ...                   ...       ...              ...   \n",
       "323092  2012   September          Yarriambiack      3489            Tempy   \n",
       "323093  2012   September          Yarriambiack      3489            Tempy   \n",
       "323094  2012   September          Yarriambiack      3489            Tempy   \n",
       "323095  2012   September          Yarriambiack      3489            Tempy   \n",
       "323096  2012   September          Yarriambiack      3491    Patchewollock   \n",
       "\n",
       "                         Offence Division  \\\n",
       "0             A Crimes against the person   \n",
       "1             A Crimes against the person   \n",
       "2       B Property and deception offences   \n",
       "3       B Property and deception offences   \n",
       "4                         C Drug offences   \n",
       "...                                   ...   \n",
       "323092        A Crimes against the person   \n",
       "323093        A Crimes against the person   \n",
       "323094        A Crimes against the person   \n",
       "323095  B Property and deception offences   \n",
       "323096        A Crimes against the person   \n",
       "\n",
       "                                      Offence Subdivision  \\\n",
       "0                        A20 Assault and related offences   \n",
       "1                         Other crimes against the person   \n",
       "2                            B30 Burglary/Break and enter   \n",
       "3                                           B50 Deception   \n",
       "4                        C10 Drug dealing and trafficking   \n",
       "...                                                   ...   \n",
       "323092                   A20 Assault and related offences   \n",
       "323093  A70 Stalking, harassment and threatening behav...   \n",
       "323094  A70 Stalking, harassment and threatening behav...   \n",
       "323095                                          B40 Theft   \n",
       "323096                    Other crimes against the person   \n",
       "\n",
       "                                Offence Subgroup  Incidents Recorded  \\\n",
       "0                        A211 FV Serious assault                   1   \n",
       "1                Other crimes against the person                   1   \n",
       "2       B321 Residential non-aggravated burglary                   1   \n",
       "3                B53 Obtain benefit by deception                   1   \n",
       "4                           C12 Drug trafficking                   1   \n",
       "...                                          ...                 ...   \n",
       "323092                A232 Non-FV Common assault                   1   \n",
       "323093                          A711 FV Stalking                   1   \n",
       "323094                      A712 Non-FV Stalking                   1   \n",
       "323095    B45 Receiving or handling stolen goods                   2   \n",
       "323096           Other crimes against the person                   2   \n",
       "\n",
       "        Unnamed: 9  \n",
       "0              NaN  \n",
       "1              NaN  \n",
       "2              NaN  \n",
       "3              NaN  \n",
       "4              NaN  \n",
       "...            ...  \n",
       "323092         NaN  \n",
       "323093         NaN  \n",
       "323094         NaN  \n",
       "323095         NaN  \n",
       "323096         NaN  \n",
       "\n",
       "[323097 rows x 10 columns]"
      ]
     },
     "execution_count": 3,
     "metadata": {},
     "output_type": "execute_result"
    }
   ],
   "source": [
    "df3"
   ]
  },
  {
   "cell_type": "code",
   "execution_count": 4,
   "id": "8402a249",
   "metadata": {},
   "outputs": [
    {
     "data": {
      "text/plain": [
       "Local Government Area\n",
       "Alpine            3470\n",
       "Ararat            9163\n",
       "Ballarat         83052\n",
       "Banyule          67409\n",
       "Bass Coast       19286\n",
       "                 ...  \n",
       "Wodonga          25057\n",
       "Wyndham         115195\n",
       "Yarra           103336\n",
       "Yarra Ranges     56318\n",
       "Yarriambiack      2972\n",
       "Name: Incidents Recorded, Length: 79, dtype: int64"
      ]
     },
     "execution_count": 4,
     "metadata": {},
     "output_type": "execute_result"
    }
   ],
   "source": [
    "lga = df3.groupby(['Local Government Area'])['Incidents Recorded'].agg('sum')\n",
    "\n",
    "#LGAgroup = df3[df3['Police Region']=='1 North West Metro']\n",
    "\n",
    "lga"
   ]
  },
  {
   "cell_type": "code",
<<<<<<< HEAD
   "execution_count": 5,
=======
   "execution_count": 8,
=======
   "execution_count": 2,
>>>>>>> c1e6771b9d796655c5428f625304f93f121d1f9b
>>>>>>> 7e0c279ff50e4520b93531d012acb4c4183aa3e0
   "id": "920bc557",
   "metadata": {
    "ExecuteTime": {
     "end_time": "2022-01-02T03:44:06.350871Z",
     "start_time": "2022-01-02T03:44:06.321866Z"
    },
    "scrolled": true
   },
   "outputs": [
    {
     "data": {
      "text/html": [
       "<div>\n",
       "<style scoped>\n",
       "    .dataframe tbody tr th:only-of-type {\n",
       "        vertical-align: middle;\n",
       "    }\n",
       "\n",
       "    .dataframe tbody tr th {\n",
       "        vertical-align: top;\n",
       "    }\n",
       "\n",
       "    .dataframe thead th {\n",
       "        text-align: right;\n",
       "    }\n",
       "</style>\n",
       "<table border=\"1\" class=\"dataframe\">\n",
       "  <thead>\n",
       "    <tr style=\"text-align: right;\">\n",
       "      <th></th>\n",
       "      <th>Year</th>\n",
       "      <th>Year ending</th>\n",
       "      <th>Police Region</th>\n",
       "      <th>Local Government Area</th>\n",
       "      <th>Incidents Recorded</th>\n",
       "      <th>Rate per 100,000 population</th>\n",
       "    </tr>\n",
       "  </thead>\n",
       "  <tbody>\n",
       "    <tr>\n",
       "      <th>0</th>\n",
       "      <td>2021</td>\n",
       "      <td>September</td>\n",
       "      <td>1 North West Metro</td>\n",
       "      <td>Banyule</td>\n",
       "      <td>5666</td>\n",
       "      <td>4310.779038</td>\n",
       "    </tr>\n",
       "    <tr>\n",
       "      <th>1</th>\n",
       "      <td>2021</td>\n",
       "      <td>September</td>\n",
       "      <td>1 North West Metro</td>\n",
       "      <td>Brimbank</td>\n",
       "      <td>13161</td>\n",
       "      <td>6488.330843</td>\n",
       "    </tr>\n",
       "    <tr>\n",
       "      <th>2</th>\n",
       "      <td>2021</td>\n",
       "      <td>September</td>\n",
       "      <td>1 North West Metro</td>\n",
       "      <td>Darebin</td>\n",
       "      <td>10191</td>\n",
       "      <td>6180.887689</td>\n",
       "    </tr>\n",
       "    <tr>\n",
       "      <th>3</th>\n",
       "      <td>2021</td>\n",
       "      <td>September</td>\n",
       "      <td>1 North West Metro</td>\n",
       "      <td>Hobsons Bay</td>\n",
       "      <td>4473</td>\n",
       "      <td>4594.609322</td>\n",
       "    </tr>\n",
       "    <tr>\n",
       "      <th>4</th>\n",
       "      <td>2021</td>\n",
       "      <td>September</td>\n",
       "      <td>1 North West Metro</td>\n",
       "      <td>Hume</td>\n",
       "      <td>13396</td>\n",
       "      <td>5455.211528</td>\n",
       "    </tr>\n",
       "    <tr>\n",
       "      <th>5</th>\n",
       "      <td>2021</td>\n",
       "      <td>September</td>\n",
       "      <td>1 North West Metro</td>\n",
       "      <td>Maribyrnong</td>\n",
       "      <td>6903</td>\n",
       "      <td>7349.535480</td>\n",
       "    </tr>\n",
       "    <tr>\n",
       "      <th>6</th>\n",
       "      <td>2021</td>\n",
       "      <td>September</td>\n",
       "      <td>1 North West Metro</td>\n",
       "      <td>Melbourne</td>\n",
       "      <td>24508</td>\n",
       "      <td>14633.717469</td>\n",
       "    </tr>\n",
       "    <tr>\n",
       "      <th>7</th>\n",
       "      <td>2021</td>\n",
       "      <td>September</td>\n",
       "      <td>1 North West Metro</td>\n",
       "      <td>Melton</td>\n",
       "      <td>9060</td>\n",
       "      <td>5038.406836</td>\n",
       "    </tr>\n",
       "    <tr>\n",
       "      <th>8</th>\n",
       "      <td>2021</td>\n",
       "      <td>September</td>\n",
       "      <td>1 North West Metro</td>\n",
       "      <td>Moonee Valley</td>\n",
       "      <td>5860</td>\n",
       "      <td>4480.437518</td>\n",
       "    </tr>\n",
       "    <tr>\n",
       "      <th>9</th>\n",
       "      <td>2021</td>\n",
       "      <td>September</td>\n",
       "      <td>1 North West Metro</td>\n",
       "      <td>Moreland</td>\n",
       "      <td>9449</td>\n",
       "      <td>5052.578902</td>\n",
       "    </tr>\n",
       "    <tr>\n",
       "      <th>10</th>\n",
       "      <td>2021</td>\n",
       "      <td>September</td>\n",
       "      <td>1 North West Metro</td>\n",
       "      <td>Nillumbik</td>\n",
       "      <td>1441</td>\n",
       "      <td>2221.568966</td>\n",
       "    </tr>\n",
       "    <tr>\n",
       "      <th>11</th>\n",
       "      <td>2021</td>\n",
       "      <td>September</td>\n",
       "      <td>1 North West Metro</td>\n",
       "      <td>Whittlesea</td>\n",
       "      <td>10084</td>\n",
       "      <td>4235.692178</td>\n",
       "    </tr>\n",
       "    <tr>\n",
       "      <th>12</th>\n",
       "      <td>2021</td>\n",
       "      <td>September</td>\n",
       "      <td>1 North West Metro</td>\n",
       "      <td>Wyndham</td>\n",
       "      <td>12193</td>\n",
       "      <td>4195.019240</td>\n",
       "    </tr>\n",
       "    <tr>\n",
       "      <th>13</th>\n",
       "      <td>2021</td>\n",
       "      <td>September</td>\n",
       "      <td>1 North West Metro</td>\n",
       "      <td>Yarra</td>\n",
       "      <td>9760</td>\n",
       "      <td>9677.530367</td>\n",
       "    </tr>\n",
       "    <tr>\n",
       "      <th>14</th>\n",
       "      <td>2021</td>\n",
       "      <td>September</td>\n",
       "      <td>1 North West Metro</td>\n",
       "      <td>Total</td>\n",
       "      <td>136145</td>\n",
       "      <td>5930.846326</td>\n",
       "    </tr>\n",
       "    <tr>\n",
       "      <th>15</th>\n",
       "      <td>2021</td>\n",
       "      <td>September</td>\n",
       "      <td>2 Eastern</td>\n",
       "      <td>Alpine</td>\n",
       "      <td>371</td>\n",
       "      <td>2832.414162</td>\n",
       "    </tr>\n",
       "    <tr>\n",
       "      <th>16</th>\n",
       "      <td>2021</td>\n",
       "      <td>September</td>\n",
       "      <td>2 Eastern</td>\n",
       "      <td>Bass Coast</td>\n",
       "      <td>2124</td>\n",
       "      <td>5504.459705</td>\n",
       "    </tr>\n",
       "    <tr>\n",
       "      <th>17</th>\n",
       "      <td>2021</td>\n",
       "      <td>September</td>\n",
       "      <td>2 Eastern</td>\n",
       "      <td>Baw Baw</td>\n",
       "      <td>3186</td>\n",
       "      <td>5667.299581</td>\n",
       "    </tr>\n",
       "    <tr>\n",
       "      <th>18</th>\n",
       "      <td>2021</td>\n",
       "      <td>September</td>\n",
       "      <td>2 Eastern</td>\n",
       "      <td>Benalla</td>\n",
       "      <td>1004</td>\n",
       "      <td>7060.473756</td>\n",
       "    </tr>\n",
       "    <tr>\n",
       "      <th>19</th>\n",
       "      <td>2021</td>\n",
       "      <td>September</td>\n",
       "      <td>2 Eastern</td>\n",
       "      <td>Boroondara</td>\n",
       "      <td>5535</td>\n",
       "      <td>3107.774469</td>\n",
       "    </tr>\n",
       "  </tbody>\n",
       "</table>\n",
       "</div>"
      ],
      "text/plain": [
       "    Year Year ending       Police Region Local Government Area  \\\n",
       "0   2021   September  1 North West Metro               Banyule   \n",
       "1   2021   September  1 North West Metro              Brimbank   \n",
       "2   2021   September  1 North West Metro               Darebin   \n",
       "3   2021   September  1 North West Metro           Hobsons Bay   \n",
       "4   2021   September  1 North West Metro                  Hume   \n",
       "5   2021   September  1 North West Metro           Maribyrnong   \n",
       "6   2021   September  1 North West Metro             Melbourne   \n",
       "7   2021   September  1 North West Metro                Melton   \n",
       "8   2021   September  1 North West Metro         Moonee Valley   \n",
       "9   2021   September  1 North West Metro              Moreland   \n",
       "10  2021   September  1 North West Metro             Nillumbik   \n",
       "11  2021   September  1 North West Metro            Whittlesea   \n",
       "12  2021   September  1 North West Metro               Wyndham   \n",
       "13  2021   September  1 North West Metro                 Yarra   \n",
       "14  2021   September  1 North West Metro                 Total   \n",
       "15  2021   September           2 Eastern                Alpine   \n",
       "16  2021   September           2 Eastern            Bass Coast   \n",
       "17  2021   September           2 Eastern               Baw Baw   \n",
       "18  2021   September           2 Eastern               Benalla   \n",
       "19  2021   September           2 Eastern            Boroondara   \n",
       "\n",
       "    Incidents Recorded  Rate per 100,000 population  \n",
       "0                 5666                  4310.779038  \n",
       "1                13161                  6488.330843  \n",
       "2                10191                  6180.887689  \n",
       "3                 4473                  4594.609322  \n",
       "4                13396                  5455.211528  \n",
       "5                 6903                  7349.535480  \n",
       "6                24508                 14633.717469  \n",
       "7                 9060                  5038.406836  \n",
       "8                 5860                  4480.437518  \n",
       "9                 9449                  5052.578902  \n",
       "10                1441                  2221.568966  \n",
       "11               10084                  4235.692178  \n",
       "12               12193                  4195.019240  \n",
       "13                9760                  9677.530367  \n",
       "14              136145                  5930.846326  \n",
       "15                 371                  2832.414162  \n",
       "16                2124                  5504.459705  \n",
       "17                3186                  5667.299581  \n",
       "18                1004                  7060.473756  \n",
       "19                5535                  3107.774469  "
      ]
     },
<<<<<<< HEAD
     "execution_count": 5,
=======
<<<<<<< HEAD
     "execution_count": 8,
=======
     "execution_count": 2,
>>>>>>> c1e6771b9d796655c5428f625304f93f121d1f9b
>>>>>>> 7e0c279ff50e4520b93531d012acb4c4183aa3e0
     "metadata": {},
     "output_type": "execute_result"
    }
   ],
   "source": [
    "df.head(20)"
   ]
  },
  {
   "cell_type": "code",
<<<<<<< HEAD
   "execution_count": 6,
=======
<<<<<<< HEAD
   "execution_count": 9,
=======
   "execution_count": 3,
>>>>>>> c1e6771b9d796655c5428f625304f93f121d1f9b
>>>>>>> 7e0c279ff50e4520b93531d012acb4c4183aa3e0
   "id": "7d27a40f",
   "metadata": {
    "ExecuteTime": {
     "end_time": "2022-01-02T03:44:06.381888Z",
     "start_time": "2022-01-02T03:44:06.352871Z"
    }
   },
   "outputs": [
    {
     "data": {
      "text/html": [
       "<div>\n",
       "<style scoped>\n",
       "    .dataframe tbody tr th:only-of-type {\n",
       "        vertical-align: middle;\n",
       "    }\n",
       "\n",
       "    .dataframe tbody tr th {\n",
       "        vertical-align: top;\n",
       "    }\n",
       "\n",
       "    .dataframe thead th {\n",
       "        text-align: right;\n",
       "    }\n",
       "</style>\n",
       "<table border=\"1\" class=\"dataframe\">\n",
       "  <thead>\n",
       "    <tr style=\"text-align: right;\">\n",
       "      <th></th>\n",
       "      <th>Year</th>\n",
       "      <th>Year ending</th>\n",
       "      <th>Police Region</th>\n",
       "      <th>Local Government Area</th>\n",
       "      <th>Incidents Recorded</th>\n",
       "      <th>Rate per 100,000 population</th>\n",
       "      <th>Total Population</th>\n",
       "    </tr>\n",
       "  </thead>\n",
       "  <tbody>\n",
       "    <tr>\n",
       "      <th>0</th>\n",
       "      <td>2021</td>\n",
       "      <td>September</td>\n",
       "      <td>1 North West Metro</td>\n",
       "      <td>Banyule</td>\n",
       "      <td>5666</td>\n",
       "      <td>4310.779038</td>\n",
       "      <td>131438.0</td>\n",
       "    </tr>\n",
       "    <tr>\n",
       "      <th>1</th>\n",
       "      <td>2021</td>\n",
       "      <td>September</td>\n",
       "      <td>1 North West Metro</td>\n",
       "      <td>Brimbank</td>\n",
       "      <td>13161</td>\n",
       "      <td>6488.330843</td>\n",
       "      <td>202841.0</td>\n",
       "    </tr>\n",
       "    <tr>\n",
       "      <th>2</th>\n",
       "      <td>2021</td>\n",
       "      <td>September</td>\n",
       "      <td>1 North West Metro</td>\n",
       "      <td>Darebin</td>\n",
       "      <td>10191</td>\n",
       "      <td>6180.887689</td>\n",
       "      <td>164879.0</td>\n",
       "    </tr>\n",
       "    <tr>\n",
       "      <th>3</th>\n",
       "      <td>2021</td>\n",
       "      <td>September</td>\n",
       "      <td>1 North West Metro</td>\n",
       "      <td>Hobsons Bay</td>\n",
       "      <td>4473</td>\n",
       "      <td>4594.609322</td>\n",
       "      <td>97353.0</td>\n",
       "    </tr>\n",
       "    <tr>\n",
       "      <th>4</th>\n",
       "      <td>2021</td>\n",
       "      <td>September</td>\n",
       "      <td>1 North West Metro</td>\n",
       "      <td>Hume</td>\n",
       "      <td>13396</td>\n",
       "      <td>5455.211528</td>\n",
       "      <td>245563.0</td>\n",
       "    </tr>\n",
       "    <tr>\n",
       "      <th>...</th>\n",
       "      <td>...</td>\n",
       "      <td>...</td>\n",
       "      <td>...</td>\n",
       "      <td>...</td>\n",
       "      <td>...</td>\n",
       "      <td>...</td>\n",
       "      <td>...</td>\n",
       "    </tr>\n",
       "    <tr>\n",
       "      <th>865</th>\n",
       "      <td>2012</td>\n",
       "      <td>September</td>\n",
       "      <td>4 Western</td>\n",
       "      <td>Total</td>\n",
       "      <td>51566</td>\n",
       "      <td>5643.659065</td>\n",
       "      <td>913698.0</td>\n",
       "    </tr>\n",
       "    <tr>\n",
       "      <th>866</th>\n",
       "      <td>2012</td>\n",
       "      <td>September</td>\n",
       "      <td>Justice Institutions and Immigration Facilities</td>\n",
       "      <td>Justice Institutions and Immigration Facilities</td>\n",
       "      <td>801</td>\n",
       "      <td>NaN</td>\n",
       "      <td>NaN</td>\n",
       "    </tr>\n",
       "    <tr>\n",
       "      <th>867</th>\n",
       "      <td>2012</td>\n",
       "      <td>September</td>\n",
       "      <td>Justice Institutions and Immigration Facilities</td>\n",
       "      <td>Total</td>\n",
       "      <td>801</td>\n",
       "      <td>NaN</td>\n",
       "      <td>NaN</td>\n",
       "    </tr>\n",
       "    <tr>\n",
       "      <th>868</th>\n",
       "      <td>2012</td>\n",
       "      <td>September</td>\n",
       "      <td>Unincorporated Vic</td>\n",
       "      <td>Unincorporated Vic</td>\n",
       "      <td>106</td>\n",
       "      <td>NaN</td>\n",
       "      <td>NaN</td>\n",
       "    </tr>\n",
       "    <tr>\n",
       "      <th>869</th>\n",
       "      <td>2012</td>\n",
       "      <td>September</td>\n",
       "      <td>Unincorporated Vic</td>\n",
       "      <td>Total</td>\n",
       "      <td>106</td>\n",
       "      <td>NaN</td>\n",
       "      <td>NaN</td>\n",
       "    </tr>\n",
       "  </tbody>\n",
       "</table>\n",
       "<p>870 rows × 7 columns</p>\n",
       "</div>"
      ],
      "text/plain": [
       "     Year Year ending                                    Police Region  \\\n",
       "0    2021   September                               1 North West Metro   \n",
       "1    2021   September                               1 North West Metro   \n",
       "2    2021   September                               1 North West Metro   \n",
       "3    2021   September                               1 North West Metro   \n",
       "4    2021   September                               1 North West Metro   \n",
       "..    ...         ...                                              ...   \n",
       "865  2012   September                                        4 Western   \n",
       "866  2012   September  Justice Institutions and Immigration Facilities   \n",
       "867  2012   September  Justice Institutions and Immigration Facilities   \n",
       "868  2012   September                               Unincorporated Vic   \n",
       "869  2012   September                               Unincorporated Vic   \n",
       "\n",
       "                                Local Government Area  Incidents Recorded  \\\n",
       "0                                             Banyule                5666   \n",
       "1                                            Brimbank               13161   \n",
       "2                                             Darebin               10191   \n",
       "3                                         Hobsons Bay                4473   \n",
       "4                                                Hume               13396   \n",
       "..                                                ...                 ...   \n",
       "865                                             Total               51566   \n",
       "866   Justice Institutions and Immigration Facilities                 801   \n",
       "867                                             Total                 801   \n",
       "868                                Unincorporated Vic                 106   \n",
       "869                                             Total                 106   \n",
       "\n",
       "     Rate per 100,000 population  Total Population  \n",
       "0                    4310.779038          131438.0  \n",
       "1                    6488.330843          202841.0  \n",
       "2                    6180.887689          164879.0  \n",
       "3                    4594.609322           97353.0  \n",
       "4                    5455.211528          245563.0  \n",
       "..                           ...               ...  \n",
       "865                  5643.659065          913698.0  \n",
       "866                          NaN               NaN  \n",
       "867                          NaN               NaN  \n",
       "868                          NaN               NaN  \n",
       "869                          NaN               NaN  \n",
       "\n",
       "[870 rows x 7 columns]"
      ]
     },
<<<<<<< HEAD
     "execution_count": 6,
=======
<<<<<<< HEAD
     "execution_count": 9,
=======
     "execution_count": 3,
>>>>>>> c1e6771b9d796655c5428f625304f93f121d1f9b
>>>>>>> 7e0c279ff50e4520b93531d012acb4c4183aa3e0
     "metadata": {},
     "output_type": "execute_result"
    }
   ],
   "source": [
    "df[\"Total Population\"] = (df[\"Incidents Recorded\"] / df[\"Rate per 100,000 population\"] * 100000).round()\n",
    "df"
   ]
  },
  {
   "cell_type": "code",
<<<<<<< HEAD
   "execution_count": 7,
=======
<<<<<<< HEAD
   "execution_count": 10,
=======
   "execution_count": 4,
>>>>>>> c1e6771b9d796655c5428f625304f93f121d1f9b
>>>>>>> 7e0c279ff50e4520b93531d012acb4c4183aa3e0
   "id": "cbfda791",
   "metadata": {
    "ExecuteTime": {
     "end_time": "2022-01-02T03:44:06.397892Z",
     "start_time": "2022-01-02T03:44:06.384891Z"
    },
    "scrolled": true
   },
   "outputs": [
    {
     "data": {
      "text/plain": [
       "Year\n",
       "2012    3593876.0\n",
       "2013    3713220.0\n",
       "2014    3832924.0\n",
       "2015    3955406.0\n",
       "2016    4096012.0\n",
       "2017    4244094.0\n",
       "2018    4383814.0\n",
       "2019    4515594.0\n",
       "2020    4611848.0\n",
       "2021    4591080.0\n",
       "Name: Total Population, dtype: float64"
      ]
     },
<<<<<<< HEAD
     "execution_count": 7,
=======
<<<<<<< HEAD
     "execution_count": 10,
=======
     "execution_count": 4,
>>>>>>> c1e6771b9d796655c5428f625304f93f121d1f9b
>>>>>>> 7e0c279ff50e4520b93531d012acb4c4183aa3e0
     "metadata": {},
     "output_type": "execute_result"
    }
   ],
   "source": [
    "NorthWestMetro = df[df['Police Region']=='1 North West Metro']\n",
    "NorthWestMetro = NorthWestMetro.groupby(['Year'])['Total Population'].agg('sum')\n",
    "NorthWestMetro"
   ]
  },
  {
   "cell_type": "code",
<<<<<<< HEAD
   "execution_count": 8,
=======
<<<<<<< HEAD
   "execution_count": 11,
=======
   "execution_count": 5,
>>>>>>> c1e6771b9d796655c5428f625304f93f121d1f9b
>>>>>>> 7e0c279ff50e4520b93531d012acb4c4183aa3e0
   "id": "cbc51fc5",
   "metadata": {
    "ExecuteTime": {
     "end_time": "2022-01-02T03:44:06.413896Z",
     "start_time": "2022-01-02T03:44:06.400894Z"
    },
    "scrolled": true
   },
   "outputs": [
    {
     "data": {
      "text/plain": [
       "Year\n",
       "2012    3146322.0\n",
       "2013    3183376.0\n",
       "2014    3220464.0\n",
       "2015    3260488.0\n",
       "2016    3310048.0\n",
       "2017    3357298.0\n",
       "2018    3398508.0\n",
       "2019    3439582.0\n",
       "2020    3469862.0\n",
       "2021    3445041.0\n",
       "Name: Total Population, dtype: float64"
      ]
     },
<<<<<<< HEAD
     "execution_count": 8,
=======
<<<<<<< HEAD
     "execution_count": 11,
=======
     "execution_count": 5,
>>>>>>> c1e6771b9d796655c5428f625304f93f121d1f9b
>>>>>>> 7e0c279ff50e4520b93531d012acb4c4183aa3e0
     "metadata": {},
     "output_type": "execute_result"
    }
   ],
   "source": [
    "Eastern = df[df['Police Region']=='2 Eastern']\n",
    "Eastern= Eastern.groupby(['Year'])['Total Population'].agg('sum')\n",
    "Eastern"
   ]
  },
  {
   "cell_type": "code",
<<<<<<< HEAD
   "execution_count": 9,
=======
<<<<<<< HEAD
   "execution_count": 12,
=======
   "execution_count": 6,
>>>>>>> c1e6771b9d796655c5428f625304f93f121d1f9b
>>>>>>> 7e0c279ff50e4520b93531d012acb4c4183aa3e0
   "id": "5dfc389b",
   "metadata": {
    "ExecuteTime": {
     "end_time": "2022-01-02T03:44:06.476699Z",
     "start_time": "2022-01-02T03:44:06.459697Z"
    },
    "scrolled": true
   },
   "outputs": [
    {
     "data": {
      "text/plain": [
       "Year\n",
       "2012    2732994.0\n",
       "2013    2793918.0\n",
       "2014    2857738.0\n",
       "2015    2924706.0\n",
       "2016    3003360.0\n",
       "2017    3076924.0\n",
       "2018    3148066.0\n",
       "2019    3214514.0\n",
       "2020    3258990.0\n",
       "2021    3244711.0\n",
       "Name: Total Population, dtype: float64"
      ]
     },
<<<<<<< HEAD
     "execution_count": 9,
=======
<<<<<<< HEAD
     "execution_count": 12,
=======
     "execution_count": 6,
>>>>>>> c1e6771b9d796655c5428f625304f93f121d1f9b
>>>>>>> 7e0c279ff50e4520b93531d012acb4c4183aa3e0
     "metadata": {},
     "output_type": "execute_result"
    }
   ],
   "source": [
    "SouthernMetro = df[df['Police Region']=='3 Southern Metro']\n",
    "SouthernMetro = SouthernMetro.groupby(['Year'])['Total Population'].agg('sum')\n",
    "SouthernMetro"
   ]
  },
  {
   "cell_type": "code",
<<<<<<< HEAD
   "execution_count": 10,
=======
<<<<<<< HEAD
   "execution_count": 13,
=======
   "execution_count": 7,
>>>>>>> c1e6771b9d796655c5428f625304f93f121d1f9b
>>>>>>> 7e0c279ff50e4520b93531d012acb4c4183aa3e0
   "id": "780bcf9e",
   "metadata": {
    "ExecuteTime": {
     "end_time": "2022-01-02T03:44:06.679149Z",
     "start_time": "2022-01-02T03:44:06.668145Z"
    }
   },
   "outputs": [
    {
     "data": {
      "text/plain": [
       "Year\n",
       "2012    1827396.0\n",
       "2013    1853208.0\n",
       "2014    1877038.0\n",
       "2015    1902320.0\n",
       "2016    1935140.0\n",
       "2017    1963098.0\n",
       "2018    1991872.0\n",
       "2019    2022308.0\n",
       "2020    2050852.0\n",
       "2021    2074686.0\n",
       "Name: Total Population, dtype: float64"
      ]
     },
<<<<<<< HEAD
     "execution_count": 10,
=======
<<<<<<< HEAD
     "execution_count": 13,
=======
     "execution_count": 7,
>>>>>>> c1e6771b9d796655c5428f625304f93f121d1f9b
>>>>>>> 7e0c279ff50e4520b93531d012acb4c4183aa3e0
     "metadata": {},
     "output_type": "execute_result"
    }
   ],
   "source": [
    "Western = df[df['Police Region']=='4 Western']\n",
    "Western = Western.groupby(['Year'])['Total Population'].agg('sum')\n",
    "Western"
   ]
  },
  {
   "cell_type": "code",
<<<<<<< HEAD
   "execution_count": 11,
=======
<<<<<<< HEAD
   "execution_count": 14,
=======
   "execution_count": 8,
>>>>>>> c1e6771b9d796655c5428f625304f93f121d1f9b
>>>>>>> 7e0c279ff50e4520b93531d012acb4c4183aa3e0
   "id": "ebb554d2",
   "metadata": {
    "ExecuteTime": {
     "end_time": "2022-01-02T03:44:06.911930Z",
     "start_time": "2022-01-02T03:44:06.891914Z"
    }
   },
   "outputs": [
    {
     "data": {
      "text/plain": [
       "Year\n",
       "2012    0.0\n",
       "2013    0.0\n",
       "2014    0.0\n",
       "2015    0.0\n",
       "2016    0.0\n",
       "2017    0.0\n",
       "2018    0.0\n",
       "2019    0.0\n",
       "2020    0.0\n",
       "2021    0.0\n",
       "Name: Total Population, dtype: float64"
      ]
     },
<<<<<<< HEAD
     "execution_count": 11,
=======
<<<<<<< HEAD
     "execution_count": 14,
=======
     "execution_count": 8,
>>>>>>> c1e6771b9d796655c5428f625304f93f121d1f9b
>>>>>>> 7e0c279ff50e4520b93531d012acb4c4183aa3e0
     "metadata": {},
     "output_type": "execute_result"
    }
   ],
   "source": [
    "Justice = df[df['Police Region']=='Justice Institutions and Immigration Facilities']\n",
    "Justice = Justice.groupby(['Year'])['Total Population'].agg('sum')\n",
    "Justice"
   ]
  },
  {
   "cell_type": "code",
<<<<<<< HEAD
   "execution_count": 48,
=======
<<<<<<< HEAD
   "execution_count": 15,
=======
   "execution_count": 9,
>>>>>>> c1e6771b9d796655c5428f625304f93f121d1f9b
>>>>>>> 7e0c279ff50e4520b93531d012acb4c4183aa3e0
   "id": "ee510a86",
   "metadata": {
    "ExecuteTime": {
     "end_time": "2022-01-02T03:44:07.368133Z",
     "start_time": "2022-01-02T03:44:07.126198Z"
    }
   },
   "outputs": [
    {
     "data": {
      "text/plain": [
       "<function matplotlib.pyplot.show(close=None, block=None)>"
      ]
     },
<<<<<<< HEAD
     "execution_count": 48,
=======
<<<<<<< HEAD
     "execution_count": 15,
=======
     "execution_count": 9,
>>>>>>> c1e6771b9d796655c5428f625304f93f121d1f9b
>>>>>>> 7e0c279ff50e4520b93531d012acb4c4183aa3e0
     "metadata": {},
     "output_type": "execute_result"
    },
    {
     "data": {
<<<<<<< HEAD
      "image/png": "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\n",
=======
<<<<<<< HEAD
      "image/png": "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\n",
=======
      "image/png": "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\n",
>>>>>>> c1e6771b9d796655c5428f625304f93f121d1f9b
>>>>>>> 7e0c279ff50e4520b93531d012acb4c4183aa3e0
      "text/plain": [
       "<Figure size 432x288 with 1 Axes>"
      ]
     },
     "metadata": {
      "needs_background": "light"
     },
     "output_type": "display_data"
    }
   ],
   "source": [
    "x = np.arange(2012,2022,1)\n",
    "plt.plot(x,NorthWestMetro, marker=\"o\", color=\"lime\", linewidth=1, label=\"North West\")\n",
    "plt.plot(x,SouthernMetro, marker=\"o\", color=\"red\", linewidth=1, label=\"Southern Metro\")\n",
    "plt.plot(x,Eastern, marker=\"o\", color=\"gold\", linewidth=1, label=\"East\")\n",
    "plt.plot(x,Western, marker=\"o\", color=\"skyblue\", linewidth=1, label=\"Western\")\n",
    "plt.plot(x,Justice, marker=\"o\", color=\"blue\", linewidth=1, label=\"Justice\")\n",
    "plt.title(\"Summary of Population\",fontsize = 20)\n",
    "plt.xlabel(\"YEAR\")\n",
    "plt.ylabel(\"Population millions\")\n",
    "plt.legend(loc='lower right', bbox_to_anchor=(1.38, 0.4))\n",
    "plt.show"
   ]
  },
  {
   "cell_type": "code",
   "execution_count": null,
   "id": "2f44ec53",
   "metadata": {},
   "outputs": [],
   "source": []
  },
  {
   "cell_type": "markdown",
   "id": "a0d42c8b",
   "metadata": {},
   "source": [
    "## ANALYSIS OF \"INCIDENTS RECORDED\" OVER 10 YEARS FOR EACH POLICE REGION"
   ]
  },
  {
   "cell_type": "code",
<<<<<<< HEAD
   "execution_count": 13,
=======
<<<<<<< HEAD
   "execution_count": 16,
=======
   "execution_count": 10,
>>>>>>> c1e6771b9d796655c5428f625304f93f121d1f9b
>>>>>>> 7e0c279ff50e4520b93531d012acb4c4183aa3e0
   "id": "c24169a2",
   "metadata": {
    "ExecuteTime": {
     "end_time": "2022-01-02T03:44:08.068073Z",
     "start_time": "2022-01-02T03:44:08.045055Z"
    },
    "scrolled": true
   },
   "outputs": [
    {
     "data": {
      "text/html": [
       "<div>\n",
       "<style scoped>\n",
       "    .dataframe tbody tr th:only-of-type {\n",
       "        vertical-align: middle;\n",
       "    }\n",
       "\n",
       "    .dataframe tbody tr th {\n",
       "        vertical-align: top;\n",
       "    }\n",
       "\n",
       "    .dataframe thead th {\n",
       "        text-align: right;\n",
       "    }\n",
       "</style>\n",
       "<table border=\"1\" class=\"dataframe\">\n",
       "  <thead>\n",
       "    <tr style=\"text-align: right;\">\n",
       "      <th></th>\n",
       "      <th>Year</th>\n",
       "      <th>Police Region</th>\n",
       "      <th>Incidents Recorded</th>\n",
       "    </tr>\n",
       "  </thead>\n",
       "  <tbody>\n",
       "    <tr>\n",
       "      <th>14</th>\n",
       "      <td>2021</td>\n",
       "      <td>1 North West Metro</td>\n",
       "      <td>136145</td>\n",
       "    </tr>\n",
       "    <tr>\n",
       "      <th>40</th>\n",
       "      <td>2021</td>\n",
       "      <td>2 Eastern</td>\n",
       "      <td>81340</td>\n",
       "    </tr>\n",
       "    <tr>\n",
       "      <th>51</th>\n",
       "      <td>2021</td>\n",
       "      <td>3 Southern Metro</td>\n",
       "      <td>80847</td>\n",
       "    </tr>\n",
       "    <tr>\n",
       "      <th>82</th>\n",
       "      <td>2021</td>\n",
       "      <td>4 Western</td>\n",
       "      <td>58217</td>\n",
       "    </tr>\n",
       "    <tr>\n",
       "      <th>84</th>\n",
       "      <td>2021</td>\n",
       "      <td>Justice Institutions and Immigration Facilities</td>\n",
       "      <td>1093</td>\n",
       "    </tr>\n",
       "    <tr>\n",
       "      <th>86</th>\n",
       "      <td>2021</td>\n",
       "      <td>Unincorporated Vic</td>\n",
       "      <td>65</td>\n",
       "    </tr>\n",
       "    <tr>\n",
       "      <th>101</th>\n",
       "      <td>2020</td>\n",
       "      <td>1 North West Metro</td>\n",
       "      <td>158686</td>\n",
       "    </tr>\n",
       "    <tr>\n",
       "      <th>127</th>\n",
       "      <td>2020</td>\n",
       "      <td>2 Eastern</td>\n",
       "      <td>91063</td>\n",
       "    </tr>\n",
       "    <tr>\n",
       "      <th>138</th>\n",
       "      <td>2020</td>\n",
       "      <td>3 Southern Metro</td>\n",
       "      <td>98068</td>\n",
       "    </tr>\n",
       "    <tr>\n",
       "      <th>169</th>\n",
       "      <td>2020</td>\n",
       "      <td>4 Western</td>\n",
       "      <td>62947</td>\n",
       "    </tr>\n",
       "    <tr>\n",
       "      <th>171</th>\n",
       "      <td>2020</td>\n",
       "      <td>Justice Institutions and Immigration Facilities</td>\n",
       "      <td>1328</td>\n",
       "    </tr>\n",
       "    <tr>\n",
       "      <th>173</th>\n",
       "      <td>2020</td>\n",
       "      <td>Unincorporated Vic</td>\n",
       "      <td>60</td>\n",
       "    </tr>\n",
       "    <tr>\n",
       "      <th>188</th>\n",
       "      <td>2019</td>\n",
       "      <td>1 North West Metro</td>\n",
       "      <td>150072</td>\n",
       "    </tr>\n",
       "    <tr>\n",
       "      <th>214</th>\n",
       "      <td>2019</td>\n",
       "      <td>2 Eastern</td>\n",
       "      <td>88545</td>\n",
       "    </tr>\n",
       "    <tr>\n",
       "      <th>225</th>\n",
       "      <td>2019</td>\n",
       "      <td>3 Southern Metro</td>\n",
       "      <td>92444</td>\n",
       "    </tr>\n",
       "    <tr>\n",
       "      <th>256</th>\n",
       "      <td>2019</td>\n",
       "      <td>4 Western</td>\n",
       "      <td>63706</td>\n",
       "    </tr>\n",
       "    <tr>\n",
       "      <th>258</th>\n",
       "      <td>2019</td>\n",
       "      <td>Justice Institutions and Immigration Facilities</td>\n",
       "      <td>1438</td>\n",
       "    </tr>\n",
       "    <tr>\n",
       "      <th>260</th>\n",
       "      <td>2019</td>\n",
       "      <td>Unincorporated Vic</td>\n",
       "      <td>94</td>\n",
       "    </tr>\n",
       "    <tr>\n",
       "      <th>275</th>\n",
       "      <td>2018</td>\n",
       "      <td>1 North West Metro</td>\n",
       "      <td>150357</td>\n",
       "    </tr>\n",
       "    <tr>\n",
       "      <th>301</th>\n",
       "      <td>2018</td>\n",
       "      <td>2 Eastern</td>\n",
       "      <td>82213</td>\n",
       "    </tr>\n",
       "    <tr>\n",
       "      <th>312</th>\n",
       "      <td>2018</td>\n",
       "      <td>3 Southern Metro</td>\n",
       "      <td>87843</td>\n",
       "    </tr>\n",
       "    <tr>\n",
       "      <th>343</th>\n",
       "      <td>2018</td>\n",
       "      <td>4 Western</td>\n",
       "      <td>60780</td>\n",
       "    </tr>\n",
       "    <tr>\n",
       "      <th>345</th>\n",
       "      <td>2018</td>\n",
       "      <td>Justice Institutions and Immigration Facilities</td>\n",
       "      <td>1489</td>\n",
       "    </tr>\n",
       "    <tr>\n",
       "      <th>347</th>\n",
       "      <td>2018</td>\n",
       "      <td>Unincorporated Vic</td>\n",
       "      <td>95</td>\n",
       "    </tr>\n",
       "    <tr>\n",
       "      <th>362</th>\n",
       "      <td>2017</td>\n",
       "      <td>1 North West Metro</td>\n",
       "      <td>147426</td>\n",
       "    </tr>\n",
       "    <tr>\n",
       "      <th>388</th>\n",
       "      <td>2017</td>\n",
       "      <td>2 Eastern</td>\n",
       "      <td>86012</td>\n",
       "    </tr>\n",
       "    <tr>\n",
       "      <th>399</th>\n",
       "      <td>2017</td>\n",
       "      <td>3 Southern Metro</td>\n",
       "      <td>90671</td>\n",
       "    </tr>\n",
       "    <tr>\n",
       "      <th>430</th>\n",
       "      <td>2017</td>\n",
       "      <td>4 Western</td>\n",
       "      <td>64280</td>\n",
       "    </tr>\n",
       "    <tr>\n",
       "      <th>432</th>\n",
       "      <td>2017</td>\n",
       "      <td>Justice Institutions and Immigration Facilities</td>\n",
       "      <td>1395</td>\n",
       "    </tr>\n",
       "    <tr>\n",
       "      <th>434</th>\n",
       "      <td>2017</td>\n",
       "      <td>Unincorporated Vic</td>\n",
       "      <td>113</td>\n",
       "    </tr>\n",
       "    <tr>\n",
       "      <th>449</th>\n",
       "      <td>2016</td>\n",
       "      <td>1 North West Metro</td>\n",
       "      <td>160143</td>\n",
       "    </tr>\n",
       "    <tr>\n",
       "      <th>475</th>\n",
       "      <td>2016</td>\n",
       "      <td>2 Eastern</td>\n",
       "      <td>86938</td>\n",
       "    </tr>\n",
       "    <tr>\n",
       "      <th>486</th>\n",
       "      <td>2016</td>\n",
       "      <td>3 Southern Metro</td>\n",
       "      <td>96333</td>\n",
       "    </tr>\n",
       "    <tr>\n",
       "      <th>517</th>\n",
       "      <td>2016</td>\n",
       "      <td>4 Western</td>\n",
       "      <td>65959</td>\n",
       "    </tr>\n",
       "    <tr>\n",
       "      <th>519</th>\n",
       "      <td>2016</td>\n",
       "      <td>Justice Institutions and Immigration Facilities</td>\n",
       "      <td>931</td>\n",
       "    </tr>\n",
       "    <tr>\n",
       "      <th>521</th>\n",
       "      <td>2016</td>\n",
       "      <td>Unincorporated Vic</td>\n",
       "      <td>115</td>\n",
       "    </tr>\n",
       "    <tr>\n",
       "      <th>536</th>\n",
       "      <td>2015</td>\n",
       "      <td>1 North West Metro</td>\n",
       "      <td>141935</td>\n",
       "    </tr>\n",
       "    <tr>\n",
       "      <th>562</th>\n",
       "      <td>2015</td>\n",
       "      <td>2 Eastern</td>\n",
       "      <td>76300</td>\n",
       "    </tr>\n",
       "    <tr>\n",
       "      <th>573</th>\n",
       "      <td>2015</td>\n",
       "      <td>3 Southern Metro</td>\n",
       "      <td>83761</td>\n",
       "    </tr>\n",
       "    <tr>\n",
       "      <th>604</th>\n",
       "      <td>2015</td>\n",
       "      <td>4 Western</td>\n",
       "      <td>56503</td>\n",
       "    </tr>\n",
       "    <tr>\n",
       "      <th>606</th>\n",
       "      <td>2015</td>\n",
       "      <td>Justice Institutions and Immigration Facilities</td>\n",
       "      <td>738</td>\n",
       "    </tr>\n",
       "    <tr>\n",
       "      <th>608</th>\n",
       "      <td>2015</td>\n",
       "      <td>Unincorporated Vic</td>\n",
       "      <td>94</td>\n",
       "    </tr>\n",
       "    <tr>\n",
       "      <th>623</th>\n",
       "      <td>2014</td>\n",
       "      <td>1 North West Metro</td>\n",
       "      <td>137684</td>\n",
       "    </tr>\n",
       "    <tr>\n",
       "      <th>649</th>\n",
       "      <td>2014</td>\n",
       "      <td>2 Eastern</td>\n",
       "      <td>75408</td>\n",
       "    </tr>\n",
       "    <tr>\n",
       "      <th>660</th>\n",
       "      <td>2014</td>\n",
       "      <td>3 Southern Metro</td>\n",
       "      <td>78266</td>\n",
       "    </tr>\n",
       "    <tr>\n",
       "      <th>691</th>\n",
       "      <td>2014</td>\n",
       "      <td>4 Western</td>\n",
       "      <td>53564</td>\n",
       "    </tr>\n",
       "    <tr>\n",
       "      <th>693</th>\n",
       "      <td>2014</td>\n",
       "      <td>Justice Institutions and Immigration Facilities</td>\n",
       "      <td>757</td>\n",
       "    </tr>\n",
       "    <tr>\n",
       "      <th>695</th>\n",
       "      <td>2014</td>\n",
       "      <td>Unincorporated Vic</td>\n",
       "      <td>97</td>\n",
       "    </tr>\n",
       "    <tr>\n",
       "      <th>710</th>\n",
       "      <td>2013</td>\n",
       "      <td>1 North West Metro</td>\n",
       "      <td>131611</td>\n",
       "    </tr>\n",
       "    <tr>\n",
       "      <th>736</th>\n",
       "      <td>2013</td>\n",
       "      <td>2 Eastern</td>\n",
       "      <td>71682</td>\n",
       "    </tr>\n",
       "    <tr>\n",
       "      <th>747</th>\n",
       "      <td>2013</td>\n",
       "      <td>3 Southern Metro</td>\n",
       "      <td>78938</td>\n",
       "    </tr>\n",
       "    <tr>\n",
       "      <th>778</th>\n",
       "      <td>2013</td>\n",
       "      <td>4 Western</td>\n",
       "      <td>52696</td>\n",
       "    </tr>\n",
       "    <tr>\n",
       "      <th>780</th>\n",
       "      <td>2013</td>\n",
       "      <td>Justice Institutions and Immigration Facilities</td>\n",
       "      <td>1019</td>\n",
       "    </tr>\n",
       "    <tr>\n",
       "      <th>782</th>\n",
       "      <td>2013</td>\n",
       "      <td>Unincorporated Vic</td>\n",
       "      <td>69</td>\n",
       "    </tr>\n",
       "    <tr>\n",
       "      <th>797</th>\n",
       "      <td>2012</td>\n",
       "      <td>1 North West Metro</td>\n",
       "      <td>134869</td>\n",
       "    </tr>\n",
       "    <tr>\n",
       "      <th>823</th>\n",
       "      <td>2012</td>\n",
       "      <td>2 Eastern</td>\n",
       "      <td>69529</td>\n",
       "    </tr>\n",
       "    <tr>\n",
       "      <th>834</th>\n",
       "      <td>2012</td>\n",
       "      <td>3 Southern Metro</td>\n",
       "      <td>74959</td>\n",
       "    </tr>\n",
       "    <tr>\n",
       "      <th>865</th>\n",
       "      <td>2012</td>\n",
       "      <td>4 Western</td>\n",
       "      <td>51566</td>\n",
       "    </tr>\n",
       "    <tr>\n",
       "      <th>867</th>\n",
       "      <td>2012</td>\n",
       "      <td>Justice Institutions and Immigration Facilities</td>\n",
       "      <td>801</td>\n",
       "    </tr>\n",
       "    <tr>\n",
       "      <th>869</th>\n",
       "      <td>2012</td>\n",
       "      <td>Unincorporated Vic</td>\n",
       "      <td>106</td>\n",
       "    </tr>\n",
       "  </tbody>\n",
       "</table>\n",
       "</div>"
      ],
      "text/plain": [
       "     Year                                    Police Region  Incidents Recorded\n",
       "14   2021                               1 North West Metro              136145\n",
       "40   2021                                        2 Eastern               81340\n",
       "51   2021                                 3 Southern Metro               80847\n",
       "82   2021                                        4 Western               58217\n",
       "84   2021  Justice Institutions and Immigration Facilities                1093\n",
       "86   2021                               Unincorporated Vic                  65\n",
       "101  2020                               1 North West Metro              158686\n",
       "127  2020                                        2 Eastern               91063\n",
       "138  2020                                 3 Southern Metro               98068\n",
       "169  2020                                        4 Western               62947\n",
       "171  2020  Justice Institutions and Immigration Facilities                1328\n",
       "173  2020                               Unincorporated Vic                  60\n",
       "188  2019                               1 North West Metro              150072\n",
       "214  2019                                        2 Eastern               88545\n",
       "225  2019                                 3 Southern Metro               92444\n",
       "256  2019                                        4 Western               63706\n",
       "258  2019  Justice Institutions and Immigration Facilities                1438\n",
       "260  2019                               Unincorporated Vic                  94\n",
       "275  2018                               1 North West Metro              150357\n",
       "301  2018                                        2 Eastern               82213\n",
       "312  2018                                 3 Southern Metro               87843\n",
       "343  2018                                        4 Western               60780\n",
       "345  2018  Justice Institutions and Immigration Facilities                1489\n",
       "347  2018                               Unincorporated Vic                  95\n",
       "362  2017                               1 North West Metro              147426\n",
       "388  2017                                        2 Eastern               86012\n",
       "399  2017                                 3 Southern Metro               90671\n",
       "430  2017                                        4 Western               64280\n",
       "432  2017  Justice Institutions and Immigration Facilities                1395\n",
       "434  2017                               Unincorporated Vic                 113\n",
       "449  2016                               1 North West Metro              160143\n",
       "475  2016                                        2 Eastern               86938\n",
       "486  2016                                 3 Southern Metro               96333\n",
       "517  2016                                        4 Western               65959\n",
       "519  2016  Justice Institutions and Immigration Facilities                 931\n",
       "521  2016                               Unincorporated Vic                 115\n",
       "536  2015                               1 North West Metro              141935\n",
       "562  2015                                        2 Eastern               76300\n",
       "573  2015                                 3 Southern Metro               83761\n",
       "604  2015                                        4 Western               56503\n",
       "606  2015  Justice Institutions and Immigration Facilities                 738\n",
       "608  2015                               Unincorporated Vic                  94\n",
       "623  2014                               1 North West Metro              137684\n",
       "649  2014                                        2 Eastern               75408\n",
       "660  2014                                 3 Southern Metro               78266\n",
       "691  2014                                        4 Western               53564\n",
       "693  2014  Justice Institutions and Immigration Facilities                 757\n",
       "695  2014                               Unincorporated Vic                  97\n",
       "710  2013                               1 North West Metro              131611\n",
       "736  2013                                        2 Eastern               71682\n",
       "747  2013                                 3 Southern Metro               78938\n",
       "778  2013                                        4 Western               52696\n",
       "780  2013  Justice Institutions and Immigration Facilities                1019\n",
       "782  2013                               Unincorporated Vic                  69\n",
       "797  2012                               1 North West Metro              134869\n",
       "823  2012                                        2 Eastern               69529\n",
       "834  2012                                 3 Southern Metro               74959\n",
       "865  2012                                        4 Western               51566\n",
       "867  2012  Justice Institutions and Immigration Facilities                 801\n",
       "869  2012                               Unincorporated Vic                 106"
      ]
     },
<<<<<<< HEAD
     "execution_count": 13,
=======
<<<<<<< HEAD
     "execution_count": 16,
=======
     "execution_count": 10,
>>>>>>> c1e6771b9d796655c5428f625304f93f121d1f9b
>>>>>>> 7e0c279ff50e4520b93531d012acb4c4183aa3e0
     "metadata": {},
     "output_type": "execute_result"
    }
   ],
   "source": [
    "c = df.loc[df['Local Government Area']=='Total',['Year','Police Region','Incidents Recorded']]\n",
    "c"
   ]
  },
  {
   "cell_type": "code",
<<<<<<< HEAD
   "execution_count": 14,
=======
<<<<<<< HEAD
   "execution_count": 17,
=======
   "execution_count": 11,
>>>>>>> c1e6771b9d796655c5428f625304f93f121d1f9b
>>>>>>> 7e0c279ff50e4520b93531d012acb4c4183aa3e0
   "id": "affd3fa4",
   "metadata": {
    "ExecuteTime": {
     "end_time": "2022-01-02T03:44:08.422207Z",
     "start_time": "2022-01-02T03:44:08.396975Z"
    }
   },
   "outputs": [
    {
     "data": {
      "text/html": [
       "<div>\n",
       "<style scoped>\n",
       "    .dataframe tbody tr th:only-of-type {\n",
       "        vertical-align: middle;\n",
       "    }\n",
       "\n",
       "    .dataframe tbody tr th {\n",
       "        vertical-align: top;\n",
       "    }\n",
       "\n",
       "    .dataframe thead th {\n",
       "        text-align: right;\n",
       "    }\n",
       "</style>\n",
       "<table border=\"1\" class=\"dataframe\">\n",
       "  <thead>\n",
       "    <tr style=\"text-align: right;\">\n",
       "      <th></th>\n",
       "      <th>sum</th>\n",
       "      <th>mean</th>\n",
       "      <th>median</th>\n",
       "      <th>var</th>\n",
       "      <th>std</th>\n",
       "    </tr>\n",
       "    <tr>\n",
       "      <th>Year</th>\n",
       "      <th></th>\n",
       "      <th></th>\n",
       "      <th></th>\n",
       "      <th></th>\n",
       "      <th></th>\n",
       "    </tr>\n",
       "  </thead>\n",
       "  <tbody>\n",
       "    <tr>\n",
       "      <th>2012</th>\n",
       "      <td>331830</td>\n",
       "      <td>55305.000000</td>\n",
       "      <td>60547.5</td>\n",
       "      <td>2.590126e+09</td>\n",
       "      <td>50893.276031</td>\n",
       "    </tr>\n",
       "    <tr>\n",
       "      <th>2013</th>\n",
       "      <td>336015</td>\n",
       "      <td>56002.500000</td>\n",
       "      <td>62189.0</td>\n",
       "      <td>2.530241e+09</td>\n",
       "      <td>50301.498565</td>\n",
       "    </tr>\n",
       "    <tr>\n",
       "      <th>2014</th>\n",
       "      <td>345776</td>\n",
       "      <td>57629.333333</td>\n",
       "      <td>64486.0</td>\n",
       "      <td>2.742332e+09</td>\n",
       "      <td>52367.282281</td>\n",
       "    </tr>\n",
       "    <tr>\n",
       "      <th>2015</th>\n",
       "      <td>359331</td>\n",
       "      <td>59888.500000</td>\n",
       "      <td>66401.5</td>\n",
       "      <td>2.931297e+09</td>\n",
       "      <td>54141.457759</td>\n",
       "    </tr>\n",
       "    <tr>\n",
       "      <th>2016</th>\n",
       "      <td>410419</td>\n",
       "      <td>68403.166667</td>\n",
       "      <td>76448.5</td>\n",
       "      <td>3.752311e+09</td>\n",
       "      <td>61256.107596</td>\n",
       "    </tr>\n",
       "    <tr>\n",
       "      <th>2017</th>\n",
       "      <td>389897</td>\n",
       "      <td>64982.833333</td>\n",
       "      <td>75146.0</td>\n",
       "      <td>3.230197e+09</td>\n",
       "      <td>56834.822577</td>\n",
       "    </tr>\n",
       "    <tr>\n",
       "      <th>2018</th>\n",
       "      <td>382777</td>\n",
       "      <td>63796.166667</td>\n",
       "      <td>71496.5</td>\n",
       "      <td>3.271865e+09</td>\n",
       "      <td>57200.221546</td>\n",
       "    </tr>\n",
       "    <tr>\n",
       "      <th>2019</th>\n",
       "      <td>396299</td>\n",
       "      <td>66049.833333</td>\n",
       "      <td>76125.5</td>\n",
       "      <td>3.358553e+09</td>\n",
       "      <td>57953.021597</td>\n",
       "    </tr>\n",
       "    <tr>\n",
       "      <th>2020</th>\n",
       "      <td>412152</td>\n",
       "      <td>68692.000000</td>\n",
       "      <td>77005.0</td>\n",
       "      <td>3.748719e+09</td>\n",
       "      <td>61226.784985</td>\n",
       "    </tr>\n",
       "    <tr>\n",
       "      <th>2021</th>\n",
       "      <td>357707</td>\n",
       "      <td>59617.833333</td>\n",
       "      <td>69532.0</td>\n",
       "      <td>2.750519e+09</td>\n",
       "      <td>52445.391959</td>\n",
       "    </tr>\n",
       "  </tbody>\n",
       "</table>\n",
       "</div>"
      ],
      "text/plain": [
       "         sum          mean   median           var           std\n",
       "Year                                                           \n",
       "2012  331830  55305.000000  60547.5  2.590126e+09  50893.276031\n",
       "2013  336015  56002.500000  62189.0  2.530241e+09  50301.498565\n",
       "2014  345776  57629.333333  64486.0  2.742332e+09  52367.282281\n",
       "2015  359331  59888.500000  66401.5  2.931297e+09  54141.457759\n",
       "2016  410419  68403.166667  76448.5  3.752311e+09  61256.107596\n",
       "2017  389897  64982.833333  75146.0  3.230197e+09  56834.822577\n",
       "2018  382777  63796.166667  71496.5  3.271865e+09  57200.221546\n",
       "2019  396299  66049.833333  76125.5  3.358553e+09  57953.021597\n",
       "2020  412152  68692.000000  77005.0  3.748719e+09  61226.784985\n",
       "2021  357707  59617.833333  69532.0  2.750519e+09  52445.391959"
      ]
     },
<<<<<<< HEAD
     "execution_count": 14,
=======
<<<<<<< HEAD
     "execution_count": 17,
=======
     "execution_count": 11,
>>>>>>> c1e6771b9d796655c5428f625304f93f121d1f9b
>>>>>>> 7e0c279ff50e4520b93531d012acb4c4183aa3e0
     "metadata": {},
     "output_type": "execute_result"
    }
   ],
   "source": [
    "cdf = c.groupby('Year')['Incidents Recorded'].agg(['sum','mean','median',np.var,np.std])\n",
    "cdf.head(10)"
   ]
  },
  {
   "cell_type": "code",
<<<<<<< HEAD
   "execution_count": 15,
=======
<<<<<<< HEAD
   "execution_count": 18,
=======
   "execution_count": 12,
>>>>>>> c1e6771b9d796655c5428f625304f93f121d1f9b
>>>>>>> 7e0c279ff50e4520b93531d012acb4c4183aa3e0
   "id": "77124576",
   "metadata": {
    "ExecuteTime": {
     "end_time": "2022-01-02T03:44:08.783950Z",
     "start_time": "2022-01-02T03:44:08.763910Z"
    },
    "scrolled": true
   },
   "outputs": [
    {
     "data": {
      "text/plain": [
       "count        10.000000\n",
       "mean     372220.300000\n",
       "std       29954.865667\n",
       "min      331830.000000\n",
       "25%      348758.750000\n",
       "50%      371054.000000\n",
       "75%      394698.500000\n",
       "max      412152.000000\n",
       "Name: Incidents Recorded, dtype: float64"
      ]
     },
<<<<<<< HEAD
     "execution_count": 15,
=======
<<<<<<< HEAD
     "execution_count": 18,
=======
     "execution_count": 12,
>>>>>>> c1e6771b9d796655c5428f625304f93f121d1f9b
>>>>>>> 7e0c279ff50e4520b93531d012acb4c4183aa3e0
     "metadata": {},
     "output_type": "execute_result"
    }
   ],
   "source": [
    "Total = c.groupby(['Year'])['Incidents Recorded'].agg('sum')\n",
    "Total.describe()"
   ]
  },
  {
   "cell_type": "code",
<<<<<<< HEAD
   "execution_count": 16,
=======
<<<<<<< HEAD
   "execution_count": 19,
=======
   "execution_count": 13,
>>>>>>> c1e6771b9d796655c5428f625304f93f121d1f9b
>>>>>>> 7e0c279ff50e4520b93531d012acb4c4183aa3e0
   "id": "af1a6ade",
   "metadata": {
    "ExecuteTime": {
     "end_time": "2022-01-02T03:44:09.108457Z",
     "start_time": "2022-01-02T03:44:08.990860Z"
    }
   },
   "outputs": [
    {
     "data": {
      "text/plain": [
       "<function matplotlib.pyplot.show(close=None, block=None)>"
      ]
     },
<<<<<<< HEAD
     "execution_count": 16,
=======
<<<<<<< HEAD
     "execution_count": 19,
=======
     "execution_count": 13,
>>>>>>> c1e6771b9d796655c5428f625304f93f121d1f9b
>>>>>>> 7e0c279ff50e4520b93531d012acb4c4183aa3e0
     "metadata": {},
     "output_type": "execute_result"
    },
    {
     "data": {
<<<<<<< HEAD
      "image/png": "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\n",
=======
      "image/png": "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\n",
>>>>>>> c1e6771b9d796655c5428f625304f93f121d1f9b
      "text/plain": [
       "<Figure size 432x288 with 1 Axes>"
      ]
     },
     "metadata": {
      "needs_background": "light"
     },
     "output_type": "display_data"
    }
   ],
   "source": [
    "x = np.arange(2012,2022,1)\n",
    "plt.plot(x,Total, marker=\"o\", color=\"blue\", linewidth=1, label=\"Total\")\n",
    "plt.show"
   ]
  },
  {
   "cell_type": "code",
<<<<<<< HEAD
   "execution_count": 17,
=======
<<<<<<< HEAD
   "execution_count": 20,
=======
   "execution_count": 14,
>>>>>>> c1e6771b9d796655c5428f625304f93f121d1f9b
>>>>>>> 7e0c279ff50e4520b93531d012acb4c4183aa3e0
   "id": "e5d6bbbc",
   "metadata": {
    "ExecuteTime": {
     "end_time": "2022-01-02T03:44:09.217552Z",
     "start_time": "2022-01-02T03:44:09.194789Z"
    }
   },
   "outputs": [
    {
     "data": {
      "text/plain": [
       "Year\n",
       "2012    134869\n",
       "2013    131611\n",
       "2014    137684\n",
       "2015    141935\n",
       "2016    160143\n",
       "2017    147426\n",
       "2018    150357\n",
       "2019    150072\n",
       "2020    158686\n",
       "2021    136145\n",
       "Name: Incidents Recorded, dtype: int64"
      ]
     },
<<<<<<< HEAD
     "execution_count": 17,
=======
<<<<<<< HEAD
     "execution_count": 20,
=======
     "execution_count": 14,
>>>>>>> c1e6771b9d796655c5428f625304f93f121d1f9b
>>>>>>> 7e0c279ff50e4520b93531d012acb4c4183aa3e0
     "metadata": {},
     "output_type": "execute_result"
    }
   ],
   "source": [
    "NorthWestMetro = c[c['Police Region']=='1 North West Metro']\n",
    "del NorthWestMetro['Police Region']\n",
    "NorthWestMetro = NorthWestMetro.groupby(['Year'])['Incidents Recorded'].agg('sum')\n",
    "NorthWestMetro"
   ]
  },
  {
   "cell_type": "code",
<<<<<<< HEAD
   "execution_count": 18,
=======
<<<<<<< HEAD
   "execution_count": 21,
=======
   "execution_count": 15,
>>>>>>> c1e6771b9d796655c5428f625304f93f121d1f9b
>>>>>>> 7e0c279ff50e4520b93531d012acb4c4183aa3e0
   "id": "ac91b6af",
   "metadata": {
    "ExecuteTime": {
     "end_time": "2022-01-02T03:44:09.436152Z",
     "start_time": "2022-01-02T03:44:09.423157Z"
    },
    "scrolled": false
   },
   "outputs": [
    {
     "data": {
      "text/plain": [
       "Year\n",
       "2012    69529\n",
       "2013    71682\n",
       "2014    75408\n",
       "2015    76300\n",
       "2016    86938\n",
       "2017    86012\n",
       "2018    82213\n",
       "2019    88545\n",
       "2020    91063\n",
       "2021    81340\n",
       "Name: Incidents Recorded, dtype: int64"
      ]
     },
<<<<<<< HEAD
     "execution_count": 18,
=======
<<<<<<< HEAD
     "execution_count": 21,
=======
     "execution_count": 15,
>>>>>>> c1e6771b9d796655c5428f625304f93f121d1f9b
>>>>>>> 7e0c279ff50e4520b93531d012acb4c4183aa3e0
     "metadata": {},
     "output_type": "execute_result"
    }
   ],
   "source": [
    "Eastern = c[c['Police Region']=='2 Eastern']\n",
    "del Eastern['Police Region']\n",
    "Eastern= Eastern.groupby(['Year'])['Incidents Recorded'].agg('sum')\n",
    "Eastern"
   ]
  },
  {
   "cell_type": "code",
<<<<<<< HEAD
   "execution_count": 19,
=======
<<<<<<< HEAD
   "execution_count": 22,
=======
   "execution_count": 16,
>>>>>>> c1e6771b9d796655c5428f625304f93f121d1f9b
>>>>>>> 7e0c279ff50e4520b93531d012acb4c4183aa3e0
   "id": "9b46a451",
   "metadata": {
    "ExecuteTime": {
     "end_time": "2022-01-02T03:44:09.622490Z",
     "start_time": "2022-01-02T03:44:09.611490Z"
    },
    "scrolled": true
   },
   "outputs": [
    {
     "data": {
      "text/plain": [
       "Year\n",
       "2012    74959\n",
       "2013    78938\n",
       "2014    78266\n",
       "2015    83761\n",
       "2016    96333\n",
       "2017    90671\n",
       "2018    87843\n",
       "2019    92444\n",
       "2020    98068\n",
       "2021    80847\n",
       "Name: Incidents Recorded, dtype: int64"
      ]
     },
<<<<<<< HEAD
     "execution_count": 19,
=======
<<<<<<< HEAD
     "execution_count": 22,
=======
     "execution_count": 16,
>>>>>>> c1e6771b9d796655c5428f625304f93f121d1f9b
>>>>>>> 7e0c279ff50e4520b93531d012acb4c4183aa3e0
     "metadata": {},
     "output_type": "execute_result"
    }
   ],
   "source": [
    "SouthernMetro = c[c['Police Region']=='3 Southern Metro']\n",
    "del SouthernMetro['Police Region']\n",
    "SouthernMetro = SouthernMetro.groupby(['Year'])['Incidents Recorded'].agg('sum')\n",
    "SouthernMetro"
   ]
  },
  {
   "cell_type": "code",
<<<<<<< HEAD
   "execution_count": 20,
=======
<<<<<<< HEAD
   "execution_count": 23,
=======
   "execution_count": 17,
>>>>>>> c1e6771b9d796655c5428f625304f93f121d1f9b
>>>>>>> 7e0c279ff50e4520b93531d012acb4c4183aa3e0
   "id": "13ea0b66",
   "metadata": {
    "ExecuteTime": {
     "end_time": "2022-01-02T03:44:09.806096Z",
     "start_time": "2022-01-02T03:44:09.796107Z"
    }
   },
   "outputs": [
    {
     "data": {
      "text/plain": [
       "Year\n",
       "2012    51566\n",
       "2013    52696\n",
       "2014    53564\n",
       "2015    56503\n",
       "2016    65959\n",
       "2017    64280\n",
       "2018    60780\n",
       "2019    63706\n",
       "2020    62947\n",
       "2021    58217\n",
       "Name: Incidents Recorded, dtype: int64"
      ]
     },
<<<<<<< HEAD
     "execution_count": 20,
=======
<<<<<<< HEAD
     "execution_count": 23,
=======
     "execution_count": 17,
>>>>>>> c1e6771b9d796655c5428f625304f93f121d1f9b
>>>>>>> 7e0c279ff50e4520b93531d012acb4c4183aa3e0
     "metadata": {},
     "output_type": "execute_result"
    }
   ],
   "source": [
    "Western = c[c['Police Region']=='4 Western']\n",
    "del Western['Police Region']\n",
    "Western = Western.groupby(['Year'])['Incidents Recorded'].agg('sum')\n",
    "Western"
   ]
  },
  {
   "cell_type": "code",
<<<<<<< HEAD
   "execution_count": 21,
=======
<<<<<<< HEAD
   "execution_count": 24,
=======
   "execution_count": 18,
>>>>>>> c1e6771b9d796655c5428f625304f93f121d1f9b
>>>>>>> 7e0c279ff50e4520b93531d012acb4c4183aa3e0
   "id": "ded6a212",
   "metadata": {
    "ExecuteTime": {
     "end_time": "2022-01-02T03:44:09.992912Z",
     "start_time": "2022-01-02T03:44:09.979916Z"
    }
   },
   "outputs": [
    {
     "data": {
      "text/plain": [
       "Year\n",
       "2012     801\n",
       "2013    1019\n",
       "2014     757\n",
       "2015     738\n",
       "2016     931\n",
       "2017    1395\n",
       "2018    1489\n",
       "2019    1438\n",
       "2020    1328\n",
       "2021    1093\n",
       "Name: Incidents Recorded, dtype: int64"
      ]
     },
<<<<<<< HEAD
     "execution_count": 21,
=======
<<<<<<< HEAD
     "execution_count": 24,
=======
     "execution_count": 18,
>>>>>>> c1e6771b9d796655c5428f625304f93f121d1f9b
>>>>>>> 7e0c279ff50e4520b93531d012acb4c4183aa3e0
     "metadata": {},
     "output_type": "execute_result"
    }
   ],
   "source": [
    "Justice = c[c['Police Region']=='Justice Institutions and Immigration Facilities']\n",
    "del Justice['Police Region']\n",
    "Justice = Justice.groupby(['Year'])['Incidents Recorded'].agg('sum')\n",
    "Justice"
   ]
  },
  {
   "cell_type": "code",
<<<<<<< HEAD
   "execution_count": 22,
=======
<<<<<<< HEAD
   "execution_count": 25,
=======
   "execution_count": 19,
>>>>>>> c1e6771b9d796655c5428f625304f93f121d1f9b
>>>>>>> 7e0c279ff50e4520b93531d012acb4c4183aa3e0
   "id": "71691ead",
   "metadata": {
    "ExecuteTime": {
     "end_time": "2022-01-02T03:44:10.316977Z",
     "start_time": "2022-01-02T03:44:10.165436Z"
    },
    "scrolled": false
   },
   "outputs": [
    {
     "data": {
      "text/plain": [
       "<function matplotlib.pyplot.show(close=None, block=None)>"
      ]
     },
<<<<<<< HEAD
     "execution_count": 22,
=======
<<<<<<< HEAD
     "execution_count": 25,
=======
     "execution_count": 19,
>>>>>>> c1e6771b9d796655c5428f625304f93f121d1f9b
>>>>>>> 7e0c279ff50e4520b93531d012acb4c4183aa3e0
     "metadata": {},
     "output_type": "execute_result"
    },
    {
     "data": {
<<<<<<< HEAD
      "image/png": "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\n",
=======
      "image/png": "iVBORw0KGgoAAAANSUhEUgAAAjoAAAEbCAYAAADTUC7OAAAAOXRFWHRTb2Z0d2FyZQBNYXRwbG90bGliIHZlcnNpb24zLjUuMCwgaHR0cHM6Ly9tYXRwbG90bGliLm9yZy8/fFQqAAAACXBIWXMAAAsTAAALEwEAmpwYAABvg0lEQVR4nO3dd3wU1doH8N+zm55NJQFSSELJphO5CUGaKCrlKihNEBSsgF4bKOq9XhERFbDgy1UEbBRRsWMBFAQRQdEghBoISEJJCAFSSd3d8/5xZsNms7tpm2QTnm8+85ndM+3Z2TJPzjkzQ0IIMMYYY4y1R6rWDoAxxhhjrLlwosMYY4yxdosTHcYYY4y1W5zoMMYYY6zd4kSHMcYYY+0WJzqMMcYYa7c40WkmRHQXEQkiuqsBy6xQlolovshYc2uJ95GI5ijbuNZRYmoNRBShvK4VZuXt8vXaExFdq+yjOa0dC2PN6YpIdJQvM18wyAZlH/3c2nGw9sckKTMdyojoKBG9RUShrR1jczJJKEyHKiLKJqIvieia1o6RsfbMqbUDaMe+AvA7gJzWDoQxB7ENwM/K4wAAQwA8COA2IrpaCHHcjtv6N4D5AM7YcZ1NlQVghfLYA0ASgFEAbiWi8UKIz1o4nj8AxAA438LbZaxFcaLTTIQQhQAKWzsOxhzIz0KIOcYnROQMYAOA6wH8F8Dd9tqQECIHjvdPRqbp6wcAInoawMsAFgJo0URHCFEKIL0lt8lYa7gimq4sMW3bVx5/QkTniaiciFKJ6GYby44nop+I6KIyfyYRfUxEySbzWO2jQ0Q3ENF2IrqkrONrIoquI94+RPQ5EZ0lokoiOkVEy4go2MK8PyvbdiKi/xBRBhFVKMssICIX8ziVp4PMqtfnmMw3UnnNOcq6soloGxE9aHNHW9gfRDRMibHQtElRifdBIvqdiIqIqJSI9hDRQ0Rk8bNKRClEtJaIzihx5RDRj0R0m4V5byOiX5TtlhHRfiL6NxG5Wpg3Uxm8ieh15XGV2T5p1vdRmT+JiDYSUbGyTzYTUV9b26iDiohmElG68tk9TUSLiMjbZJtqJa4iItJYietN5f0c09hAhBBVAJYrT1NM1u1KRE8T0T7lM1Ck7Oda76k1ZKOPTgM/Mw16vxrhPWUcQUQBFrZ/OxFtJaJ85f06TET/tfSZVeafRER/KZ/vc0S0moiCle+bMJvXah8dIookolXKPqpUvu+riCjSwrzV/cWIaCwR/aG8bxdJ/q6GNG7XMGYfXKMDhENW4f4NYDUAfwDjAawjohuEEFuNMxIRAfgAwBTI6t4vAeQBCAVwHYAjAFJtbYyIxgJYC6BSGecAGADgNwD7rCxzN4B3AFQA+AbAKQCRAO4DMIJktf9JC4t+BGAg5H/NRQD+CeBJAB1x+b/nvQCeB/AcalatA0ozAxFNBbAMwFkA3yqvvSOAnsp6lth6zWbGAhimxLQUQISyDWdl3UMh9+NHAMoh9+v/APQBcKfpiojofgBvA9BD7pcMJa5kyCaRT03mfQmyOeO8su4SAMMBvARgKBHdqBx4TbkA2AL5mfgRch+eUNbX7O8jEfUDsFmJ40sAxwBcBfm+bLG0jXpYBOAayH2zDnJ/PwZgIBENEEKUCyH0RPQO5OfidiVm09fhDmAS5Ofhm0bGUb06ZSyUdbsA+AHAIMjahrcgm3nGAlhLRFcJIf7T6I017DPT2O9dY+nMYn0PwD0ATkO+/wUArgbwAoDrlc+szmT+WZA1Q/kAVkLWKN8IYAcaULtMRL0hP3dekK/7EIBoyPf8FiK6Xghh6XfuQQAjlWW2QX5nxwNIVN63ivrGwJhdCSHa/QD5IyrMyiKM5QCeM5s2VClfb1Y+VSn/A4CP2TQ1gCCT53cp895lUqYBcAFAFYBks+UXmcQTYVKuhTyYHgMQYrbMYMgf7K/Myn9W1rMbgL9JuaeyHj2Azhb20c9W9t9uyB/7jhamBdTzPTDuDwOAYRamz1Gm/w+A2my/vqdMu8WkPFbZjxcBxFlYX6jJ477K8idNXzdkov+tMu0/ZstnKuWbAXiaTWv29xEyAUg3f93KtEdNtnFtPff/CmX+8wDCTcpVAL5Qpj1rUh6kvL5UG+/li/XctvG9nWNW7gTgJ2Xae0rZv5Xn6wE4mczb0eQ96Wfhe7zCyus1fQ8a8plp8PfOxuu/Fla+X5BNdgLAfiv7+EsA7lb256MmZd2U15YHoIvZ5+hj4+fFSlxzzOY/rJRPMpt/vFKeDkBlIZ4iAAlmy3ykTLutPvuKBx6aY2j1AFrkRdpOdDJhcmA1mZ4F4LxZ2X5lmV712Kbxh+ouk7JJStlKC/P7QP7HZv7jbDxw3mRlO19B/ifoZVL2s7LMDRbmf16ZdrOFffSzlW3sBnAJgF8T3gPj/vjKwjQV5AE4ByYHN5PpvpAJ0qcmZf9T1jejHtt+R5l3qoVpWsiD1t9m5ZnKMokWlmn29xFAf2X+bRbmVUMegBuT6DxrYVo3ZR+cMCv/TFkmyaz8N2X+iHpue47x86U8nqO8f0eV8jwA3ZR5M5T3OtrCeu5V5n/fpCwC9U90GvKZafD3zsa6rsXl3xrj618IWSsnIGtb+pktswcycfG18v6fB/CHSZkxYZptYf5wJVZhJa45JmXGz91OK69luzL9Ggvv7zwL81+nTHu1Pp8VHnhojoGbroC9Qgi9hfJTkDUBAAAi8gQQDyBXCLGnkdv6hzLeZj5BCFFIRHshq+xNGWMYpFQpm+sI+cOnhUxITFmqXj6ljP3qE7BiDYDXABwkorWQ8e8QQuQ1YB1Gf1go0wLoAHmQ+69sIaylDPIMEaOrlfGGemzTuN9rNfcIIY4S0WkAXYnIVwhRYDK5HJaboVrifbS1DT0R/Qqgu4X11MXS+v4molOQ/URM98ESyCajaZC1mSCiBMh9v0EIkdnAbQ/C5f1SCflZXArgJSHEKSLyAtADwBkhhKVOssb3r1cDt2vUkM9MU7531oRDNhGbygcwWAix11hARB4AEiGTmcesfB8qUPP7YNwnv5rPKITIMr6/9YjR6nfFpHyAsr1fzKbZ6/eGMbviREf+922JDjU7a/sq46acruqjjHOtTD9roayDMp5Vx7prdRo1O2gbGdv01XWsz3Q9rxPRecg2+Ecg+3QIItoGYJaw3F5vja3XGInaBwJTpq/RVxnX5/0w7ndrZ+HkAAjD5doYo3NCCGFjfc35PjZmG/Vha33hMNkHQoitRHQYwO1E9LgQohgy6QFkn62Gel6YnXVkpj7vE3D5vW8o43L1+cw0+ntnwzYhxLUAQET+AMYAeBPAt0TUWwhhfE/9IJuQAmH7+2Cqrs9LLuqX6DTlPSiwUNbg3xvG7O2KPeuqEQqUcVPOIDB2COxkZXpnG8v4CCHIxlDrP3V7EkKsEkJcDXkAuAmy38w1AH4goo4NWZWFMuNr/KqO19jVZJkCZVyf98O4fkv7F5D9UUznsxWr6XzN+T42Zhv1Udf6zPfBUsiD+SSTTshnAHzXyO3b0tj3qb4KlHFDPjPN8r0TQlwUQrwDYCbkyQymHfqN295Tx7ZNq3qKlLG199daubnmfg8Ya3Gc6NSTEOISgAMAOhFRY6vO/1LG5s0aICIfyDNqzP2ujAc2cpv1ZUA9/usSQhQIIdYLIe6H7Afhb4fY0qGcUaKcfVUfxv0yvB7zGpsarzWfQEQ9IA80J6zUgFnSEu+jrW2oIZsPGsPS+roB6AJ5nZcCs8krIftnTYPsjOoL2XHYUnNvkyg1RscBhFg6jRmyvwdwed80VEM+My31vVsK4CCAUUTUHwCEECVKWZxS81Mfxs94rc8FEYVDvr8NWc+1VqYbyxv7HjDW4jjRaZjFyniZckCrRkQqIgqysIypdZBt8hPJ5Jo7ijm4XG1s6k3ITomLiEhrPpGIXIjIHj/GF2Dlx5DkdW8sNXMaa3JKm7JhIU+R/R/kf4uLlZoD8xiCiCjWpOhtyGrxZ83KjfOb3lbgfWX8XyIKNJlHDeBVyO/Be6i/lngfd0KeZn8NEd1iNvtDaFz/HAB4VDnwGberAvAK5D74wHxmIS98+TFk8jYPshPyu43cdn28D9ls84ry/hjjDADwrMk8jdGQz0yLfO+UhNHYPPWSyaTXIS8r8D4R+VrYvh8R/cOk6CPI1/YwEXUxmY8gL0hY36ajHZCfuwHKJRRMtzkWshb3KCz0BWLMUXEfnYZ5F/I/pskAMohoHeQZI8GQp5y+D3mgs0gIUaJck2YtgO1Kx17j9VfiITv3XWO2TDoR3aOs+yARbYT8oXGG7FcyUInB5oXq6uEnABOI6FvIzpU6AL8IIX4B8AmAcqUDbCbkgWgggN7KvJubuG1AXhskEcB0yGuUbIFsIukI2XenP4BnIK/pASHEIZIXK1wKYI/yXmRANq0lAyiGUgMghNhJRAshryF0gIg+h6ylGA6533+FPNjXS0u8j0IIQUT3AtgE4AsiMl5HJxHADQA2Ql6PqKF2ANirxFwIeSmFRMj3caGVZZZAXjsmBMC3QohTVuazh1ch35dbAKQR0XrI6+iMg/wsLBRCNOog28DPTEt97wB5CvleyKR2qBDiByHE+0SUBNkv7jgR/QB5eQR/AF0hP18fQH5fIIQ4TkSzIZOlNJP390ZlmTTI617ZpHzupkB+7tYq+ygdQBSAWyH30WQhhMEOr5uxltFcp3M50gDbp5evsLLMz+bLmEybBHn2SiHkmTknIM9M+ofJPHfB7PRyk2k3Qh5cSyFrBtZB/mCugNkpsSbLJCjTsyDPuLgI2ZS2DPKsjfrGbjEuyIPIR5CdFvUwOe0U8sf0K8iLKpYq294DmTjUeXptXfvDZB6CvCjgT8o2KiGTnV8B/Acm1wcxWaYv5HVgzinzZ0MmAWMtzDtBWVex8r4dhEye3CzMmwnZlGPrNTXr+6jMn6S8nmJl2Ky85jlo3Onl3QA8DnnwKlf27xsAvOtYfg9snG5dx7LGWOfUc3435f0+AHm2XbGyn2+3MG8E6nl6eSM/Mw16v6y8nmth4/INyjwjlHn+NCu/GbI/lDHWs5BnLs6D5VPw71Teq3LIROxDyH/EDgAosBJXrfcFMrFZDZnAVynjDwFE2Xh/a30Wrb0/PPDQkgMJYa2/JWOMAcpp39mQB/mugv+bb1NI3t4jF/JSGk25fQhjbRL30WGM1eUByDOvlnCS47iIKNC8M7/St+41yFqyr1olMMZaGdfoMMZqUTrbPwDZL+d+yNqcKCHPjGIOiIimA5gL2bx5CrJvzjWQFzXcC3n15bJWC5CxVsKJDmOsFpJ3/T4B2S9lN4CHhRB8SrEDUy578SzkneCNFzw8AdnZeQEnqexKxYkOY4wxxtotPr1cERAQICIiIlo7DMYYa1N27959XggRWPecjLUOTnQUERERSE1tyC2bGGOMEVFWa8fAmC181hVjjDHG2i1OdBhjjDHWbnGiwxhjjLF2ixMdxhhjjLVbnOgwxhhjrN3iRIcxxlrYmjVARASgUsnxmjWtHRFj7RcnOow1Ez6YMUvWrAGmTgWysgAh5HjqVP58MNZcONFhrBnwwYxZ88wzQGlpzbLSUlnOGLM/TnQYawZ8MGOmKiuBP/4A3nhDJr2WnDzZoiExdsXgKyMz1gysHbSysuS0sLCWjYe1rNxc4Lff5LBzJ7BnD9C9O9CvH9ChA3DhQu1lQkNbPk7GrgSc6DBmZydPAi4uQEVF7WmenkBSEtC5M/DPfwI33SQPfk78TWyz9HrgwAGZ0BgTmwsXgKuvBvr2BZ57DkhJAby95fwDBshmTNMaP7Vajo8dA3r0aPnXwFh71uxNV0SkJqI9RPSd8tyfiDYRUYYy9jOZ999EdIyIjhDRUJPyJCLar0xbTESklLsS0VqlfBcRRZgsM0XZRgYRTWnu18kYAHzxBdC7N3DrrYCHR81pHh7AsmXA2bPAO+/IZGjGDKBjR2D8eGDVKiAvr1XCZg2Qnw9s2ADMng3ccAPg7y/fvz//BK65Bli3TiY6pvMYkxwAmDQJWL4cCA8HiOR45Urg6adl0rtuXeu9NsbaIxJCNO8GiGYCSAbgLYS4mYgWArgohJhPRE8D8BNCPEVEsQA+BpACIBjAZgBaIYSeiP4A8CiA3wGsB7BYCLGBiB4E0FMIMZ2IJgAYJYQYT0T+AFKV7QoAuwEkCSHyrcWZnJws+KaerLFKS4GZM4FNm4CPP5b/wa9ZI/vkGJuqXnxRHuTMZWfLg+L69cBPPwFRUbKm55//BP7xD3nWFmsdBgNw9GjN2pqTJ2Uy27evTEyuvlo2R9nDrl3AbbcBEycCL7zQNmr6iGi3ECK5teNgzJpmTXSIKBTASgAvApipJDpHAFwrhMghoiAAPwshoojo3wAghHhZWfYHAHMAZALYKoSIVspvV5afZpxHCPEbETkBOAsgEMAE4zzKMsuU7XxsLVZOdFhj7dsH3H47cNVVwNtv1/zvvaEqK4Ht22XS8/33QGEhMHy4THpuvBHw8bFb2FekupLPkhJZM7Nzpxx+/12+n/36yaFvX6Bnz+ZNQPLyZKKj18ukuVOn5tuWPXCiwxxdc/+/8AaAJwF4mZR1EkLkAICS7HRUykMga2yMTitlVcpj83LjMqeUdemIqBBAB9NyC8tUI6KpAKYCQBj3DmUNJASwZAkwZw7w2mvAnXfKpoimcHEBrr9eDq+9Bhw/LpOed98F7r5b1iQY+/ZERzd9e1cS4yn/xr4xWVnA/fcDO3bIWrOdO4EjR4DERJnU3Huv3O9BQS0bZ2AgsHGj/FwlJwOffAL079+yMTDWnjRbokNENwM4J4TYTUTX1mcRC2XCRnljl7lcIMRyAMsBWaNTjxgZAyD7YNxzD3DmjDxARkY2z3a6dwceflgOly4BW7bImp4hQwBn58tJz7XXAu7uzRNDe/HUU7VP+S8rA1askM1EkybJpkJX11YJrwa1WsZ09dXA6NHAf/4DPPIIJ7aMNUZztv73BzCSiDIBfAJgMBF9CCBXabKCMj6nzH8aQBeT5UMBZCvloRbKayyjNF35ALhoY12MNdnPP8tmKq22eZMcc56ewIgRwNKlsull3Tp5SvLLL8vmjZtvlk1n5tdpudKu0CyErAn7/HPZTPXPf8qz3M6csTx/eTnw+OOyWcoRkhxTN90km89WrgQmTACKi1s7IsbanmbvjAwASo3OE0ofnVcAXDDpjOwvhHiSiOIAfITLnZF/AhCpdEb+E8DDAHZBdkb+nxBiPRH9C0CCSWfk0UKI25TOyLsB/EMJ4S/IzsgXrcXIfXRYXaqqgOefB95/H/jgA2Do0LqXaSn5+cAPP8hmrg0bZOJz002y1mfRopo1GR4e8qwfSx2j2xqdDjh8WF6nxjjs3Qt4eQG9esnhH/+Q44EDLV/fKDwcyMxs6cgbprxc1ur9+qs8sy82trUjuoz76DBH1xp9+ucD+JSI7gVwEsA4ABBCHCSiTwEcAqAD8C8hhF5Z5gEAKwC4A9igDADwHoDVRHQMsiZngrKui0T0AoA/lfnm2kpyGKtLZqbsIOrtLQ+mjtZB1M9P/sc/YYLsxPrnnzLpmT9fJmimSkuBWbNk5+aAgLZzVldpKbB//+WE5q+/gEOHZK2WMaH55z9lbVtgYO3lX3qp9vVrPDxkh2RH5+YmL0nw/vvAoEHA//4n32vGWN1apEanLeAaHWbN2rXyv+mnnpLXvWkriQEgY7X2FQ8IkGd1deoEBAdbH4KC5OnTTe0fUt/T7QFZQ7V37+WEZs8e4MQJeeq9sYamVy/ZcVijaZ4YHNWePcDYsbKp8pVXZAf21sQ1OszRcaKj4ESHmbt0SXYA3b5dnuablNTaETVcRITleysZm2sqKuQFDHNy5PV8rA2XLsmEx1oiZHzs62s5ITI/4wm43IR23XU1E5o9e4Dz52USY0xoevUC4uJa/6DuKPLzgSlT5H769NPWvX0EJzrM0XGio+BEh5nas0deG+fqq2UzgZdX3cs4IlsJRkNqMsrKZDJUV0JUWWk5EVq40PL9nVQqeWVh04SmVy95GwTjbRGYZQYDsGCB/Hx++CEweHDrxMGJDnN0beC6m4y1HCGAxYuBefPknabbWrOGOWP8TW2ucXcHunWTgy0lJZYTIktJDiD397lzfNp0Y6hUwL//La/CPWkS8OijwJNPtq2mVcZaAtfoKLhGh+XlyYvy5eUBH30kr2HD7KOuJjTWNKdPy1tHBAbKU9F9fVtu21yjwxwd5/6MAdi8WZ6tk5AgT+HlJMe+XnzR8k1O28IZT21BaKi8vlN4uLya8t69rR0RY46DEx12RauqkneNnjJF/if88svy2jPMvizdsbu9XMvHUbi4yGbXF16Qlw5YsaK1I2LMMXDTlYKbrq48x4/La+MEBMiDgqVrrzDWFh08CIwZA1xzjUx+3Nyab1vcdMUcHdfosCvSmjXyjKqJE4HvvuMkh7UvcXHyopEFBfKGoCdOtHZEjLUePuuKXVGKi4GHHgJ27QI2bZL9chhrj7y85MUu/+//ZFL/wQfyytGMXWm4RoddMVJT5VV1nZ2B3bs5yWHtHxHw2GPy/lhTpwKzZ8tbhDB2JeFEh7V7BgPw2mvyv9l584B335V3AmfsSjFggEzut28Hhg+XV1Rm7ErBTVes3TG9n1FIiLymiJcX8Mcf8noujF2JOnWSzbX//a+8ncmnnwLHjrX+vb92797d0cnJ6V0A8eB/vlnjGAAc0Ol09yUlJZ0zn8iJDmtXzG95cPo0kJsLvPceJzmMOTnJO9pffbU8Bb28/PLd7bOy5HcHaNlkx8nJ6d3OnTvHBAYG5qtUKj4NmDWYwWCgvLy82LNnz74LYKT5dM6eWbtQWSnvT/XIIzXv6wTIH/Jnn22duBhzRLfeKms5jUmOUWmprOFpYfGBgYFFnOSwxlKpVCIwMLAQslawFq7RYW1OSQmQllbzjtdHjsj7MF28aHmZkydbNkbGHF1OjuXyVviuqDjJYU2lfIYsVt5wosMc2oULNROaPXvkD3FcnDyDKiUFmDZN3rrBw8P6PZXCwlo8dMYcWlgYf1fYlYGbrphDEAI4dQr45hvg+eeBW26RP7jduslL2mdnA8OGAZ99BhQWyouhLVsGTJ8O9Olz+T5KfE8lxuqnrX5Xli6Ff3AwElQqJAUHI2HpUvg3ZX1nz55VR0dHx0ZHR8cGBAQkduzYsafxeXl5OZnOO3fu3I7FxcV1HjdTUlKifvnlF4+65jPauHGjpkePHnHR0dGxJSUlNbapVquToqOjYyMjI+OGDx/ezdb2Fy9e3GHy5MlhALBw4cLAN998s0N9Y7AmJCQkQavVxmq12tjevXtHHT161KWx6+rVq1d0U+NpDE50mN2sWSNrVFQqOV6zxvJ8BgNw9CjwySfAU08BQ4YAHTvKmxEuWQJUVAB33AFs2QLk5wPbtgFvvCHvR5WQYPteVHxPJcbqpy1+V5Yuhf+MGQjPyYGLEEBODlxmzEB4U5Kdzp0769PT0w+lp6cfmjx5ct706dNzjc/d3NxqNKktW7asU0lJid2Pm6tWrfJ/+OGHz6anpx/SaDQ1tunq6mpIT08/lJGRcdDZ2Vm89tpr9bqO+5NPPpn30EMPXbBHfNu2bTt69OjRQwMGDCiePXt2UGPXs2fPnnR7xNNQnOgwuzCe7ZSVJWtnjGdwrFwp76T8wQeyo/CAAYCPDzB0qDy9VaOR5WlpwNmzwMaNwEsvAePGAT16yKSpoSZNAjIzZUKVmenYP9yMtaa29l2ZOxch5eU1j1vl5VDNnYsQe25n3bp1XjExMbFarTZ23LhxEWVlZTRv3ryO586dcx40aJC2T58+WgCYNGlSWHx8fEyPHj3iZsyYEdyY9b7++usB33//vf/ChQuDR44c2dXW8gMGDCg5duyYa25urvqGG27ortVqYxMTE6N37drlbj7vzJkzg2fPnt0JAA4cOODar18/bVRUVGxsbGzMwYMHXQHg2Wef7RQfHx+j1Wpj6xN///79S3JycpwBIDs722no0KHd4+PjY+Lj42N+/PFHT2N5v379ImNjY2MmTpwYHhwcnJCTk+MEAB4eHr0AwGAwYNq0aaGRkZFxWq029p133vEDgO+++84rJSUlatiwYd26du0aN3LkyK4GgwEA8OCDD4Z07949TqvVxk6dOjW0rlhNcR8dZhf/+U/ts51KS4G77waio4FevWSfmltvlVck9m9SZTNjrL0iQlJDl8nJgYut5YTA7vquq7y8XDVt2rSuP/7445GePXtWjBo1KuKVV14JnD179rm3336707Zt244GBQXpAOD1118/06lTJ71Op0O/fv2idu3a5d6nT58yS+stLS0la+vdsWOH5uabby68++67863FVVVVhR9++MF7yJAhRU8++WRwYmJi6ebNm49/8803XlOmTOmanp5+yNqyEydO7PrEE0+cnTx5ckFpaSnp9Xr68ssvvY8dO+a2b9++w0II3HDDDT02bNigGT58eIm19axfv95nxIgRBQAwbdq0LjNnzswdOnRoSUZGhsvQoUMj//7774NPP/108KBBg4pffvnls59//rn3xx9/HGC+nlWrVvnu37/f/fDhwwdzcnKcUlJSYoYMGVICAIcPH3bfu3fv3xEREVVJSUnRmzZt0lx11VVl69ev9/v7778PqFQqnD9/Xm31DbSAEx1WbxUV8r++Y8fknb9Nx7bO1Dhk9evHGGM12UpKgoORkJODWn1EgoJQmZ2N/fbYvl6vR2hoaEXPnj0rAOCuu+668NZbb3UEUOtCdCtXrvRfsWJFgE6no7y8POe0tDQ3a4lOWlqaW33Xa6qiokIVHR0dCwB9+vQpfvTRR8/36tUr5osvvjgGACNHjiyeOnWq04ULFywe/PPz81W5ubkukydPLgAADw8PAUBs3LjR+5dffvGOjY2NBYDS0lJVenq6m6VEZ9CgQdrz5887d+jQQbdo0aIzALBjxw7vjIyM6pqkkpISdX5+vuqPP/7QfP3118cAYOzYsUXe3t61bjqyfft2r9tuu+2ik5MTunTpouvTp0/Jr7/+6uHj42NISEi41L179yoAiIuLKz1+/LjL4MGDS1xdXQ0TJkwIv+mmmwrHjx9faGufmeNEh9Vw6VLtJMY4zskBunQBuneXzUrduwM33CDHw4fLzsTm+AwOxpi9zJ6NMzNmINy0+crNDYbZs3HGXtvw9PQ01Ge+9PR0lzfffLPT7t27DwcGBurHjBkTUV5ebrWxXYjGnUFv7KNT17qIyOIGrG1XCIHHHnssZ9asWXXeEGTbtm1Hvby89OPHj+/6+OOPB7/77runhRBITU09bN6nqD6v09Y8rq6u1RPVajV0Oh05Oztj7969h7/55hvvTz75xO/tt9/u+Pvvvx+tc0MK7qPTDtS3E7DRxYvydggffyzPaLrrLtl3JigICAgAbr9d9q3JyQESE4FZs4CffpLXrzl2DPjhB+Ctt4CZM4GRI+Wp3i+/3DbP4GCMtR3Tp+PiokXICgpCJZGsyVm0CFnTp8PKFbQarry8XHXmzBmXAwcOuALAqlWrOgwcOLAYADw9PfWFhYUqAMjPz1e7u7sb/P399adOnXL6+eeffWyt96qrriq3tt6Guvrqq4s/+OCDDoDs1+Ln56fz9/e3mKD5+/sbOnfuXLl69WpfACgrK6Pi4mLV8OHDi1avXh1gfD0nTpxwPnPmjNXKD41GI5YsWXLqiy++6JCbm6seMGBA0YIFCzoap+/cudMdAFJSUkpWr17tDwBffvmld1FRUa2apkGDBhV//vnn/jqdDtnZ2U5//PGHZuDAgZesbbuwsFB18eJF9fjx4wuXLl166vDhw/U+ow3gGp02z/yWB8ZOwPn5MkmxVDNjMFyukenRAxg4UPal6d4dCA5ufAdgoPXvm8MYa9+mT8dFeyY25tzc3AxLly7NHDduXHe9Xo/ExMTSJ554Ig8ApkyZcn748OGRHTt2rNq1a9fR+Pj40sjIyLiwsLCKpKQkq31bANlkZG29DbVgwYLsiRMnRmi12lh3d3fDihUrTtia/8MPPzxx//33h7/wwgvBzs7O4rPPPjs+evToooMHD7r17t07WonPsGbNmhMhISE6a+sJDw+vGjly5MVXX3214/Lly0/dd999YVqtNlav11OfPn2K+/Xrd3L+/PnZY8eO7RYbG+vXt2/fksDAwCpfX98azVd33nlnwc6dOzUxMTFxRCSef/7502FhYbp9+/ZZ3G5BQYH65ptv7lFRUUEAMG/ePAvtB9ZRY6vT2pvk5GSRmpra4OVMbyDZHAf3igp53RjToaDg8uPnn5djcyqVvL6MaUJjHHfoIE8nZYyxpiKi3UKI5MYun5aWlpmYmMj3U28nysrKyMnJSTg7O2Pz5s2eDz30ULitjtL2lJaWFpCYmBhhXs41Ok1grTYFkMmOTmc9QbFWZv5cp5N33/bxqTkYyywlOYA8xXvnzmbfBYwxxli1Y8eOudx2223dDQYDnJ2dxbJlyzJbOyZOdJrgmWcsn1I9ZYq8LUF5OeDtXTMxMU9WgoLk6dfmCYxxcHe3Xfvy9dd8GXfGGGOOISEhoeLw4cMOda4tJzpNYO2UaoNBXvzO07P5m4hefLFmrRLAnYAZY4wxIz7rqgms1ZqEhckr/rZEP5i2eBl3xhhjrKVwotMEjnJTvLZ2GXfGGGOspXCi0wRcm8IYY4w5Nk50mohrUxhjrAUtXeqP4OAEqFRJCA5OwNKlTb5zHhEl3X///dU3ipw9e3anmTNn1nmTS1Pfffed16ZNmzyNz8eMGRPxwQcf+Nla5t577+0yd+7c6ovuDRgwIHL8+PHhxuf3339/6Jw5czo1JQ5Tixcv7uDn55cYHR0d27Vr17jnn3++o6X56mPhwoWBb775ZofGLt+SONFhjDHWNixd6o8ZM8KRk+MCIYCcHBfMmBHe1GTHxcVFrF+/3s94l+2GqqqqwpYtW7y2b9+uachy/fv3L/n99981gLzHVn5+vtORI0eq7x/1559/aq655hqbFyI0V1ccI0aMyE9PTz/022+/pb/xxhtBx44dc27I+o2efPLJvIceeuhCY5ZtaZzoMMYYaxvmzg2B+f2kystVmDs3pCmrVavVYvLkyXkvvfRSrdqTo0ePuvTt21er1Wpj+/btq83IyHABZI3NfffdF9qnTx/tzTff3H3VqlWBS5cu7RQdHR27ceNGDQBs27ZN06tXr+jQ0NAES7U7gwcPLtm9e7cGAHbv3u0eFRVV5unpqc/Ly1OXlZXR8ePH3fr161e6fft2j969e0fFxcXFDBgwIDIrK8sZAObNm9exe/fucVqtNvbmm2/uduTIERdLcVjSuXNnfVhYWMWpU6ecAWDJkiX+CQkJMdHR0bETJ04M1+nkBZIXLVoUEBEREZ+SkhI1YcKE8MmTJ4cBwMyZM4Nnz57dCZC3f0hMTIzWarWxN954Y/e8vDw1AKSkpEQ98MADIQkJCTERERHxtuJpTpzoMMYYcxxESVaHnJxady4HIGt2bC1XD7NmzTr35Zdf+pvfBXz69OlhEydOvHD06NFD48ePv/DAAw90MU47fvy4244dO47+8MMPxydPnpw3ffr03PT09EPDhg0rAYDc3Fzn1NTU9HXr1mU899xztZKxiIiIKicnJ5GRkeGybds2z6uvvvpScnLypS1btmi2b9/uERUVVUZEeOSRR8LWrVt3/ODBg4enTJly/oknnggBgMWLF3c+cODAoaNHjx5asWJFVlRUVKWlOCzJyMhwqaioUPXp06fsr7/+cvv888/9U1NT09PT0w+pVCqxdOnSDpmZmc6vvvpq0K5duw5v3779aEZGhpuldd11111dX3rppdNHjx49FBcXV/bUU09VN/vpdDrav3//4QULFpyaO3dug5oD7YWvo8MYY8xxCLHb6rTg4ASLyU5QUCWys/c3ZbP+/v6GcePGXZg/f35Hd3f36htk7tmzx3PDhg3HAeCBBx64+Pzzz1f35Rk9enS+k5P1w+jIkSML1Go1kpKSyi9cuGCxiSgpKalk69atnr/99ptm1qxZuSdPnnTZsWOHp4+Pjz4lJaVk3759rhkZGe6DBw/WAoDBYEBgYGAVAERFRZWNGjWq68iRIwsmTZpUUJ/X+e233/r16NHDKzMz0+21117L9PDwEBs3bvQ6cOCAR2JiYgwgb2zasWNH3fbt2z379OlT3KlTJz0AjBo1Kv/o0aM1kp0LFy6oi4uL1TfddFMJANx///0Xxo0b1804fdy4cfkA0K9fv0uzZs2ynKg2M67RYYwx1jbMnn0Gbm4179Lt5mbA7Nln7LH6f//737kfffRRwKVLl+p1bNRoNBbvGH45NLfqm0lau69k3759S3bu3KlJT0937927d9m1115b8ueff2p+//13zYABA0qEENSjR4+y9PT0Q+np6YeOHj16aMeOHRkAsHXr1ox//etfebt37/ZMTEyMraqqqjPmESNG5B87duzgxo0b02fPnt3l5MmTTkIIGjdu3AXjNjIzMw+8/vrr2fa4F6ZxHzg5OUGv17fKXRY50WGMMdY2TJ9+EYsWZSEoqBJEsiZn0aIsTJ9ul7uZd+rUST9ixIj8jz76KMBY1qtXr0vvvvuuHwAsW7bMPzk52WJzkJeXl764uFhtaZotgwYNKtm8ebOvr6+v3snJCZ06ddIXFRWp9+zZo7nuuusu9ezZs/zixYtOmzdv9gSAiooKSk1NddPr9Th+/LjLiBEjipcsWXK6uLhYXVhYqK5vHDfccMOl0aNHX1iwYEGnYcOGFX333Xd+Z86ccQKA3Nxc9dGjR10GDhx4adeuXV55eXnqqqoqrFu3rlY/ow4dOui9vb31xv437733Xoe+ffs2qAN1c+NEhzHGWNsxffpFZGfvh8GwG9nZ++2V5Bg988wzZwsKCqrbo95+++2Tq1evDtBqtbEff/xxhyVLlpyytNyYMWMKvv/+e9+6OgGbS0lJKSsoKHAyTaCio6PLNBqNPigoSOfm5iY++eST408//XRoVFRUbFxcXOy2bds0Op2OJk6c2FWr1cbGx8fHTps2LTcgIEDfkDiee+65s2vXrg3o1q1b5X//+98z119/vVar1cYOHjxYe+rUKeeuXbtWzZgxI6d3794x/fv3j9JqtWU+Pj568/V88MEHJ5566qlQrVYbu2/fPvf58+dn1/f1twSyR9WUxRUTuQH4BYArZF+gz4UQzxGRP4C1ACIAZAK4TQiRryzzbwD3AtADeEQI8YNSngRgBQB3AOsBPCqEEETkCmAVgCQAFwCMF0JkKstMAfBfJZx5QoiVtuJNTk4WqampdnntjDF2pSCi3UKI5MYun5aWlpmYmHjenjEx+yksLFT5+PgYqqqqMHTo0B533XXX+cmTJxe0dlyWpKWlBSQmJkaYlzdnjU4FgMFCiEQAVwEYRkRXA3gawE9CiEgAPynPQUSxACYAiAMwDMASIjJWv70NYCqASGUYppTfCyBfCNEDwCIAC5R1+QN4DkAfACkAniMimxduYowxxlhNs2bNCo6Ojo7VarVxYWFhFXfccUdBa8fUUM121pWQVUXGqjhnZRAAbgFwrVK+EsDPAJ5Syj8RQlQAOEFExwCkEFEmAG8hxG8AQESrANwKYIOyzBxlXZ8DeJOICMBQAJuEEBeVZTZBJkcfN8uLZYwxxtqh5cuXn27tGJqqWfvoEJGaiPYCOAeZeOwC0EkIkQMAyth4CeoQAKZtn6eVshDlsXl5jWWEEDoAhQA62FiXeXxTiSiViFLz8vKa8EoZY4wx5oiaNdERQuiFEFcBCIWsnYm3Mbul086EjfLGLmMa33IhRLIQIjkwMNBGaIwxxhhri1rkrCshRAFkE9UwALlEFAQAyvicMttpAF1MFgsFkK2Uh1oor7EMETkB8AFw0ca6GGOMMXYFabZEh4gCichXeewO4AYA6QC+ATBFmW0KgHXK428ATCAiVyLqCtnp+A+leauYiK5W+t9MNlvGuK6xALYofYN+ADCEiPyUTshDlDLGGGOMXUGa8xYQQQBWKmdOqQB8KoT4joh+A/ApEd0L4CSAcQAghDhIRJ8COARAB+BfQgjj+foP4PLp5RuUAQDeA7Ba6bh8EfKsLQghLhLRCwD+VOaba+yYzBhjrO0qTy33L99eHiJKhAtpqNJtoNsZt2S3Jv2+q9XqpMjIyDLj89GjR1986aWXzjZkHd99952Xq6ur4cYbb7zUlFisCQkJSfD09NQDgI+Pj37NmjUntFptZWPW1atXr+g9e/ak2zdCx9WcZ13tA9DLQvkFANdbWeZFAC9aKE8FUKt/jxCiHEqiZGHa+wDeb1jUjDHGHFV5arl/2aaycOhka4QoES5lm8rCAaApyY6rq6shPT39UFNi27Jli5dGo9E3JNGpqqqCs7PFW2BZtG3btqNBQUG6GTNmBM+ePTvok08+yWpMrFdSkgPwlZEZY4y1EeXby0OMSU41HVTl28trnVVrD0888URQfHx8TGRkZNztt98ebjDIW1vNmzevY/fu3eO0Wm3szTff3O3IkSMuq1atCly6dGkn4xWJs7OznYYOHdo9Pj4+Jj4+PubHH3/0BICZM2cG33777eH9+/ePHD16dNeZM2cGjxs3LiIlJSUqNDQ0Yd68eR1tBgWgf//+JTk5Oc4AYG072dnZTv369YuMjY2NmThxYnhwcHBCTk6OEwB4eHj0AuQNQqdNmxYaGRkZp9VqY9955x0/QNZOpaSkRA0bNqxb165d40aOHNnV+NrbIr57OWOMMYeR/0J+UkOXESXCxdZyfs/6Wb8jOoCKigpVdHR0rPH5448/nnP//ffnz5o169yrr76aAwC33npr108++cRn4sSJhYsXL+6clZW1393dXZw/f14dEBCgnzx5cp5Go9HPnTs3FwBGjBjRdebMmblDhw4tycjIcBk6dGjk33//fRAA9u3b57Fr1650jUYjZs6cGXzs2DG3nTt3HikoKFDHxMTEz5o1K8/V1dXqbQvWr1/vM2LEiAIAmDZtWhdL23n66aeDBw0aVPzyyy+f/fzzz70//vjjAPP1rFq1ynf//v3uhw8fPpiTk+OUkpISM2TIkBIAOHz4sPvevXv/joiIqEpKSoretGmTZujQoQ51D6v64kSHMcaYw7CVlBQsKkgQJcLFvJw0VOk7w3d/Y7dprelqw4YNXq+//nrn8vJyVUFBgVNsbGwZgMKoqKiyUaNGdR05cmTBpEmTCiytc8eOHd4ZGRnuxuclJSXq/Px8FQAMGzasQKPRVCcyQ4YMKXB3dxfu7u46f3//qtOnTzt179691q3IBw0apD1//rxzhw4ddIsWLTpjazt//PGH5uuvvz4GAGPHji3y9vaudY+q7du3e912220XnZyc0KVLF12fPn1Kfv31Vw8fHx9DQkLCJWMMcXFxpcePH6+139sKTnQYY4y1CW4D3c6Y9tEBADjB4DbQ7Yy9t1VaWkqPP/54+K5duw716NGjaubMmcHl5eUqANi6dWvGhg0bvL7++mvfhQsXBmdkZBwwX14IgdTU1MOmCY2Rp6dnjXYg09obtVoNnU5n6Vpw2LZt21EvLy/9+PHjuz7++OPB77777mlr26nPfSxtzVPfmNoC7qPDGGOsTXBLdrvofqN7FmmoEpA1Oe43umc19awrS0pLS1UA0LlzZ11hYaHq22+/9QMAvV6P48ePu4wYMaJ4yZIlp4uLi9WFhYVqLy8vfXFxsfH+jBgwYEDRggULqvvb7Ny50732VhpOo9GIJUuWnPriiy865Obmqq1tJyUlpWT16tX+APDll196FxUVqc3XNWjQoOLPP//cX6fTITs72+mPP/7QDBw4sFnOGmtNXKPDGGOszXBLdrto78TGvI/O4MGDC5csWXJm0qRJebGxsXGhoaGViYmJlwBAp9PRxIkTuxYXF6uFEDRt2rTcgIAA/ZgxYwrGjh3bfcOGDb5vvPHGyeXLl5+67777wrRabaxer6c+ffoU9+vX76Q94g0PD68aOXLkxVdffbWjte3Mnz8/e+zYsd1iY2P9+vbtWxIYGFjl6+tbo/nqzjvvLNi5c6cmJiYmjojE888/fzosLEy3b98+e4TpMKg+1VtXguTkZJGamtraYTDGWJtCRLuFEMmNXT4tLS0zMTHxvD1jYkBZWRk5OTkJZ2dnbN682fOhhx4Kb+op9I4uLS0tIDExMcK8nGt0GGOMsXbm2LFjLrfddlt3g8EAZ2dnsWzZsszWjqm1cKLDGGOMtTMJCQkVhw8fbtc1OPXFnZEZY4wx1m5xosMYY4yxdosTHcYYY4y1W5zoMMYYY6zd4kSHMcZYm7EUS/2DEZyggiopGMEJS7HUv6nrfOqppzr36NEjTqvVxkZHR8du2bLFszHr+e6777w2bdpUveyYMWMiPvjgA7+mxleXmTNnBnfs2LFndHR0bPfu3eOWLVvW6H3y2GOPBX/99dde9oyvtfFZV4wxxtqEpVjqPwMzwsshb8WQgxyXGZgRDgDTMb1RFxHcvHmz5w8//OC7f//+Q+7u7iInJ8epoqKiUbc72LJli5dGo9HfeOONTb66sMFggBACanWtCxpbNH369Ny5c+fm7t+/37Vv376xd911V76tG4Na88Ybb2Q3OFgH16AaHSLqQESjiKjBd5dljDHGmmIu5oYYkxyjcpSr5mJuSGPXeebMGWd/f3+du7u7AICgoCBdREREFQCsW7fOKyYmJlar1caOGzcuoqysjAAgJCQkIScnxwkAfvnlF4+UlJSoI0eOuKxatSpw6dKlnaKjo2M3btyoAYBt27ZpevXqFR0aGppgWrvz7LPPdoqPj4/RarWxM2bMCAaAI0eOuHTr1i3ujjvuCIuLi4vduHGjplu3bnETJkwI79GjR1z//v0jS0pKbCZhCQkJFW5ubobz58+rrW0HAGbNmhXUtWvXuH79+kWOGDGi6+zZszsBNWuhbL3+GTNmBMfGxsZotdrYPXv2uDV2/7cEm4kOEX1HRPHK4yAABwDcA2A1ET3W/OExxhi7khAoydqQgxyLd9DOQY6LreVsbe/WW28tys7OdomIiIi/4447wr7//nsNIG/qOW3atK5r1649fvTo0UM6nQ6vvPJKoLX1REVFVU6ePDlv+vTpuenp6YeGDRtWAgC5ubnOqamp6evWrct47rnnQgB576ljx4657du37/Dhw4cP7d2712PDhg0aAMjMzHS7++67Lxw+fPhQjx49Kk+ePOn2yCOPnDt27NhBHx8f/apVq2w2hf36668e4eHh5SEhITpr2/nll188vv32W7/9+/cf+v7774/v27evVlNdXa8/ICBAd+jQocP33HNP3vz58zvZiqm11dV01VUIYbwr690ANgkhJhORF4AdAN5ozuAYY4xdWQTEbmvTghGcYCnZCUJQZTay9zdmez4+PoYDBw4c2rhxo9dPP/3kNWXKlO6zZ88+3bt379LQ0NCKnj17VgDAXXfddeGtt97qCOBcQ9Y/cuTIArVajaSkpPILFy44A8DGjRu9f/nlF+/Y2NhYQN5AND093a1bt26VQUFBlddff31101dISEhFv379ygCgV69epZmZma6WtrN06dJOq1atCjx9+rTLF198kWFrO8XFxarhw4cXKHc8FzfeeGOB+frS0tLcbL3+iRMn5gNASkpK6TfffNPs/ZCaoq6mqyqTx9cDWA8AQohiAAaLSzDGGGPNYDZmn3GDW41jjxvcDLMx+0xT1uvk5ISbb765eNGiRdmvvPLKya+//trP1n0g1Wq1MBhkGGVlZTaPo25ubtUrMq5TCIHHHnssJz09/VB6evqhkydPHpgxY8Z5APDw8Kjx+lxcXKqXV6vVQqfTWWy6mj59em5mZuaB99577+/777+/a2lpKVnbTn3ucVnXPMbX5eTkZDUmR1FXonOKiB4molEA/gFgIwAQkTsA5+YOjjHGGDOajukXF2FRVhCCKgmEIARVLsKirMZ2RAaAtLQ01/3791fXkuzZs8c9NDS08qqrrio/c+aMy4EDB1wBYNWqVR0GDhxYDAChoaGVO3bs8ACATz/9tLo2w8vLS19cXFxn7+Hhw4cXrV69OqCwsFAFACdOnHA+c+aMXU4OmjJlSkFCQsKlt956q4O17Vx77bUlP/zwg09paSkVFhaqNm/e7Gu+Hluvv62pa8feC2AugBsAjBdCFCjlVwP4oBnjYowxxmqZjukXm5LYmCsqKlI/8sgjYUVFRWq1Wi0iIiIqVq5cmeXh4SGWLl2aOW7cuO56vR6JiYmlTzzxRB4AzJ49O3v69OkRCxYsqEpKSqpuZhozZkzB2LFju2/YsMH3jTfeOGltm6NHjy46ePCgW+/evaMBWYuzZs2aE05OTg0+S8qSOXPm5Nx5553djh8/fsDSdgYNGlQ6bNiwwtjY2LiQkJCKnj17XvLx8dGbrsPW629ryFb1FBG9JIT4TwvG02qSk5NFampqa4fBGGNtChHtFkIkN3b5tLS0zMTExPP2jInVrbCwUOXj42MoLi5W9e3bN2rp0qVZAwYMKG3tuJoiLS0tIDExMcK8vK4anWEArohEhzHGGLtS3HHHHeEZGRnuFRUVNGHChAttPcmxpa5ER01EfgAsdjQSQtit+pAxxhhjLePbb7890doxtJS6Ep1oALthOdERALrZPSLGGGOMMTupK9E5JITo1SKRMMYYY4zZGd/UkzHGGGPtVl2Jzv+1SBSMMcYYY82grqarQUR0jZVpQghxr70DYowxxqzKX+qP83NDoD/rAnXnSgTMPgO/xl9X59577+0SHh5eMXv27HMAMGDAgMiQkJDKtWvXZgHA/fffHxoSElI1Z86c3Pqu87vvvvNydXU12OMu5paEhIQkeHp66gHAx8dHv2bNmhNarbayMevq1atX9J49e9LtG6FjqatG5zsA35sN+yFvBzG0eUNjjDHGTOQv9ce5GeHQ57gAAtDnuODcjHDkL/Vv7Cr79+9f8vvvv2sAQK/XIz8/3+nIkSPuxul//vmn5pprrilpyDq3bNnitX37dk1Dlqmqqqp7JhPbtm07evTo0UMDBgwonj17dlCDFjbR3pMcoI5ERwjxhXEAsAfAcAAPAJgPPuOKMcZYSzo/NwSivOZxS5SrcH5uSGNXOXjw4JLdu3drAGD37t3uUVFRZZ6envq8vDx1WVkZHT9+3K1fv36l27dv9+jdu3dUXFxczIABAyKzsrKcAWDevHkdu3fvHqfVamNvvvnmbkeOHHFZtWpV4NKlSztFR0fHbty4UZOdne00dOjQ7vHx8THx8fExP/74oycAzJw5M/j2228P79+/f+To0aO7zpw5M3jcuHERKSkpUaGhoQnz5s3rWFf8/fv3L8nJyXEGAGvbyc7OdurXr19kbGxszMSJE8ODg4MTcnJynADAw8OjFwAYDAZMmzYtNDIyMk6r1ca+8847foCsnUpJSYkaNmxYt65du8aNHDmyq/E+X21FnffWIKIYAM8A6AXgFQDThRC65g6MMcbYFSidkhq8jD7HxeZy0dbviB4REVHl5OQkMjIyXLZt2+Z59dVXXzpz5ozzli1bNH5+frqoqKgyIsIjjzwS9v333x8LDg7WvfPOO35PPPFEyGeffZa5ePHizllZWfvd3d3F+fPn1QEBAfrJkyfnaTQa/dy5c3MBYMSIEV1nzpyZO3To0JKMjAyXoUOHRv79998HAWDfvn0eu3btStdoNGLmzJnBx44dc9u5c+eRgoICdUxMTPysWbPyXF1drd7CYP369T4jRowoAIBp06Z1sbSdp59+OnjQoEHFL7/88tnPP//c++OPPw4wX8+qVat89+/f73748OGDOTk5TikpKTFDhgwpAYDDhw+779279++IiIiqpKSk6E2bNmmGDh3aoFqu1mQz0SGizwAkA3gVwAwAegDeRPKyOnzBQMYYY3ZlIylBRnCCbLYyow6qRGT2/sZuMikpqWTr1q2ev/32m2bWrFm5J0+edNmxY4enj4+PPiUlpWTfvn2uGRkZ7oMHD9YCsvYjMDCwCgCioqLKRo0a1XXkyJEFkyZNKrC0/h07dnhnZGRUN4eVlJSo8/PzVQAwbNiwAo1GU53IDBkypMDd3V24u7vr/P39q06fPu3UvXv3Wu1agwYN0p4/f965Q4cOukWLFp2xtZ0//vhD8/XXXx8DgLFjxxZ5e3vrzde3fft2r9tuu+2ik5MTunTpouvTp0/Jr7/+6uHj42NISEi4ZIwhLi6u9Pjx47XfAwdWV41Ob8gLAz4B4HGlzHjxQL5gIGOMsZYTMPsMzs0Ir9F8RW4GBMw+05TV9u3bt2Tnzp2a9PR09969e5d169at8o033uik0Wj0d99993khBPXo0aNs7969tfqzbN26NWPDhg1eX3/9te/ChQuDMzIyDpjPI4RAamrqYdOExsjT07NGO5Bp7Y1arYZOp7N4Z4Jt27Yd9fLy0o8fP77r448/Hvzuu++etrYdW/e0rM889Y3JUdXVRydCCNFVGbopQ/XzlgqSMcYYg9/0i+i4KAvqoEqAZE1Ox0VZTTnrCgAGDRpUsnnzZl9fX1+9k5MTOnXqpC8qKlLv2bNHc911113q2bNn+cWLF502b97sCQAVFRWUmprqptfrcfz4cZcRI0YUL1my5HRxcbG6sLBQ7eXlpS8uLlYb1z9gwICiBQsWVPe32blzp7ulOBpKo9GIJUuWnPriiy865Obmqq1tJyUlpWT16tX+APDll196FxUVqc3XNWjQoOLPP//cX6fTITs72+mPP/7QDBw4sFnOGmtpNhMdIrrD5HF/s2kPNVdQjDHGmEV+0y8iMns/og27EZm9v6lJDgCkpKSUFRQUOCUnJ1f3O4mOji7TaDT6oKAgnZubm/jkk0+OP/3006FRUVGxcXFxsdu2bdPodDqaOHFiV61WGxsfHx87bdq03ICAAP2YMWMKvv/+e19jZ+Tly5ef+uuvvzy1Wm1s9+7d4958883ApsZsFB4eXjVy5MiLr776akdr25k/f372li1bvGNjY2O+//57n8DAwCpfX98azVd33nlnQVxcXFlMTEzctddeq33++edPh4WFtYv+uGSruoqI/hJC/MP8saXnbV1ycrJITU1t7TAYY6xNIaLdQojkxi6flpaWmZiYeN6eMbGaysrKyMnJSTg7O2Pz5s2eDz30UHh6evqh1o7L3tLS0gISExMjzMvr6qNDVh5bes4YY4wxB3Ps2DGX2267rbvBYICzs7NYtmxZZmvH1JLqSnSElceWnjPGGGPMwSQkJFQcPny43dXg1FddV0aOJqJ9RLTf5LHxeZStBYmoCxFtJaLDRHSQiB5Vyv2JaBMRZShjP5Nl/k1Ex4joCBENNSlPIqL9yrTFpJzfTkSuRLRWKd9FRBEmy0xRtpFBRFMavmsYY4wx1tbVVaMT04R16wA8LoT4i4i8AOwmok0A7gLwkxBiPhE9DeBpAE8RUSyACQDiAAQD2ExEWiGEHsDbAKYC+B3AegDDAGwAcC+AfCFEDyKaAGABgPFE5A/gOchrAAll298IIfKb8HoYY4wx1sbUdXp5lhAiC0AhgI7KUGBSbmvZHCHEX8rjYgCHAYQAuAXASmW2lQBuVR7fAuATIUSFEOIEgGMAUogoCIC3EOI3IXtOrzJbxriuzwFcr9T2DAWwSQhxUUluNkEmR4wxxhi7gtR1ZWQXAMshE4sTkB2Qw4noK8hbQdTrbqlKk1IvALsAdBJC5AAyGSIi4zn/IZA1NkanlbIq5bF5uXGZU8q6dERUCKCDabmFZUzjmgpZU4SwsLD6vBTGGGOMtSF19dH5LwBnAF2EEL2EEFcBCINMkJ6tzwaISAPgCwCPCSGKbM1qoUzYKG/sMpcLhFguhEgWQiQHBtrtsgaMMcaay58b/fHqPQmYMyoJr96TgD83NvrO5UZqtTopOjo61jgcOXKkQbc4WLhwYeCbb77ZAQDGjBkT8cEHH/gBwPjx48N3797tBgBPP/1058bGFRkZGTd48OAe58+fr3Whv/rIzMx0HjZs2BV7kd+6Ep3RAO5Xmp4AVDdDPQhgVF0rJyJnyCRnjRDiS6U4V2mOgjI+p5SfBtDFZPFQANlKeaiF8hrLEJETAB8AF22sizHGWFv150Z//PB+OEryZSJSku+CH94Pb2qy4+rqakhPTz9kHKKiourVWmH05JNP5j300EMXzMvXrl2blZSUVA4AixcvDmpsXBkZGQd9fX11r7zySqP+I4+IiKjauHHj341Ztj2oK9ExCCFKzQuFECWo4/Rypa/MewAOCyFeN5n0DQDjWVBTAKwzKZ+gnEnVFUAkgD+UZq5iIrpaWedks2WM6xoLYIvSj+cHAEOIyE85q2uIUsYYY6yt2vZpCHRVNY9buioVtn1aq2tCUxQWFqr69u2rjY2NjdFqtbEffvihr3Ham2++2UGr1cZGRUXF3nrrrV0BYObMmcGzZ8/uZL6elJSUqF9++cXjwQcfDKmoqFBFR0fHjhw5suujjz4a/MILL1TfquHhhx8OmTdvXkfz5U0pd1V3AYCDBw+6Dhw4MDIuLi4mKSkpas+ePW7G8sTExOj4+PiYxx57LNjDw6MXABw5csQlMjIyDgBKS0tp7NixEVqtNjYmJib222+/9QKAxYsXdxgyZEj3gQMHRoaHh8dPnz491FosbU2d19FREgVLTUEGC2Wm+gO4E8B+ItqrlP0HwHwAnxLRvQBOAhgHAEKIg0T0KYBDkGds/Us54woAHgCwAoA75NlWG5Ty9wCsJqJjkDU5E5R1XSSiFwD8qcw3l++0zhhjbcCcUUkNXqYk38XmcnO+sn5HdADGJAQAunTpUrF+/frj33///TF/f39DTk6OU58+faInTpxY8Ndff7m9+uqrQb/99lt6UFCQLjc3t15NSUuWLDmzYsWKjsarER85csRl1KhR3Z999tlzer0eX3/9td+ff/552NryOp0OW7du9br33nvPA8B9990Xvnz58qyEhISKLVu2eD7wwANhv//++9GHHnqoy4MPPnhu2rRpFxcuXGix9sd4L6yjR48e2rNnj9s///nPyOPHjx8AgEOHDnmkpaUdcnd3N/To0SP+iSeeyO3Ro0etO6e3NXUlOj4AdqOefV5qTBTiVyvLAcD1VpZ5EcCLFspTAcRbKC+HkihZmPY+gPdtxcgYY8zB2EpKXr0nobrZypTGrxJPvL+/sZs0NhEZn1dUVNBjjz0W+vvvv2tUKhXOnTvncvr0aacffvjBe8SIEflBQUE6AOjUqZPe+lqti4qKqvT19dXt2LHDPScnxzkuLq60c+fOtdZlTMDOnDnjEh8fX3rrrbcWFRYWqvbs2aMZN25cd+N8lZWVBAB79uzR/Pjjj8cA4L777rswZ86cWrUyO3fu1Dz88MPnAKBXr17lwcHBlfv373cD5M1HO3TooAeAHj16lB8/fty13Sc6QoiIFoqDMcYYs23QbWfww/vhNZqvnJwNGHTbGXtuZtmyZf4XLlxw2r9//2FXV1cREhKSUFZWphJCgIjscleAu++++/y7774bcO7cOee77767Vv8e4HICduHCBfWQIUN6zJ8/v+ODDz543svLS9fYe1XZur+li4tL9US1Wi2qqqraxa2e6rp7+T9sDS0VJGOMMYbewy5i6D1Z0PjJzsIav0oMvScLvYfZtWtCYWGhOiAgoMrV1VV8++23XtnZ2S4AMGzYsKJvvvnG/+zZs2oAqG/TFQA4OTmJioqK6sThzjvvLNi6datPWlqa55gxYwptLduhQwf94sWLT7711ludPD09RWhoaOX777/vBwAGgwG//fabOwBcddVVJStWrPADgPfff99iB+0BAwaUfPjhh/4AsG/fPtecnByXnj17ltf3dbRFdTVdvWZjmgAw2I6xMMYYY7b1HnbR3omNufvuu+/i8OHDe8THx8fExcWVdu3atRwAkpOTyx9//PGcgQMHRqtUKhEfH1/6xRdfZNZnnZMmTcqLiYmJjY+PL/3mm29OuLm5iX79+hX5+vrqnZzqOhQD/fv3L4uJiSl79913/T7++OO/77///vAFCxYE6XQ6GjVq1MW+ffuW/e9//zs1adKkrosXL+48ZMiQAo1GU6s57Mknnzx35513hmu12li1Wo1ly5Zluru7t+t7V5KtaqwrSXJyskhNTW3tMBhjrE0hot1CiOTGLp+WlpaZmJh43p4xtQV6vR5xcXGxn3322fGEhIQKe6yzuLhY5enpaVCpVFi+fLnf2rVr/X/66afj9lh3W5CWlhaQmJgYYV5e15WR74BMhlabld8P4JIQ4iO7RskYY4y1c7t373a75ZZbIocPH55vryQHAHbs2OHx6KOPhgkh4O3trV+xYkWmvdbdltVVX/Y4gGsslK8FsBUAJzqMMcZYAyQlJZWfPn260WeJWTNs2LCSI0eONKqTcntW1wUD1aZXRTZSbuXg3DwhMcYYu4IYDAZDuzi7h7Ue5TNk8fp+dSU6zkTkaV5IRF4AGnQvEMYYY8yCA3l5eT6c7LDGMhgMlJeX5wPggKXpdTVdvQfgcyJ6QAiRCVTfifwtZRpjjDHWaDqd7r6zZ8++e/bs2XjU/c83Y5YYABzQ6XT3WZpY1wUDXyWiEgDblLuQA0AJgPlCiLftGydjjLErTVJS0jkAI1s7DtZ+1Zk9CyGWCiHCAYQDiBBChHOSw1g9rFkDREQAKpUcr1nT2hExxtgVp67TyydbKKt+LIRY1QwxMdb2rVkDTJ0KlJbK51lZ8jkATJrUenExx7BmDfDMM8DJk0BYGPDii/y5YKyZ2LxgIBH9z1IxgBEAQoQQdV/OsY3gCwYyu4qIkMmNufBwIDOzpaNhjsQ8CQYADw9g+fI2mew09YKBjDW3el8ZmWRVziQATwE4BOBFIcS+ZoytRXGiw+yisBD45RdgpI0uB6tXAz17AtHRgAufvHhFKS8HuncHsrNrT2ujSTAnOszR1VkjQ0ROAO6CvHjgLgBjhRBHmjkuxtqG0lJg507gp5+ALVuAQ4eAPn0AX1+goKD2/L6+wLffyqaKzExAq5VJT8+eQGKiHHfqBBCfadsmlZTImrzMTDk2f3zxIlBZaXnZrCzgxAmga9eWjJixdq+uPjr/AvAogJ8ADBNCWKiLZ+wKUlkJ/PGHTGq2bAFSU4GrrgIGDwYWLACuvhpwc7PePPHmm5ebJ8rKZGKUlgbs2wds2CAfq9W1k5+YGLnetswR+qU0JQYhZPJqLYnJzJTvaXi4HCIi5PiWWy4/DgoCunWz3Kyp0cgkOSQEGD0aGDNGvu+c9DLWJHX10TEAOAcgD/Ju5dWTAAghRM/mDa/lcNMVs0ivB/buvZzY7NgBREbKxGbwYGDAAMDLy/KyjTmoCiGbNfbtuzykpQHHj8sDpDHxMQ4hIXUfCB0lwWjtfil1xSAEcO6c7RoZostJi2kyY3wcEFC/98NaHBMmyM/Yl1/KwcNDJj2jRwNJSQ6Z9HDTFXN0dSU64bYWbk81PJzoMADyYHf48OXE5uefgc6dLyc2114L+Pu3fFwVFTIuY+JjHOv1NROfxEQgNlYeIIGWSTB0OuDSJbmNS5dqPjaOH3pINtuY8/UF/vMfeQCvz6BS1X9e8+Gxx4DzFm6S7eYmE5WsLFmrYi2JCQ+X8dpDfZJPIYDdu2XC88UXsrbImPT07y9r/hwAJzrM0dW7M3J7x4nOFezECZnUGPvZuLkB118vh+uuk80Njio393LiYxyOHJEH5Z49gR9/lB2kzXXqBHz4ofUEpSGPdTqZPHl6ysH0sfH52rXWX8Pjj8uDekMGg6Hhy3z8seXtEwEHDsiEQ6OxPE9rMybgxpqeM2dkk9ioUTIBd3VttdA40WGOrq4anWLUbLKqngTZdOXdXIG1NE502pG6/lvOyQG2br2c2JSXX66xGTy47XcGrayUyc6+fcAdd1ifb/Bg6wlKQx67utbdpOIIp9s7Qgz2cuIE8NVXMuk5eBD45z9lTc+wYfI9aUGc6DBHxzU6Ck502glLTTXu7rJMp5OJzdmzsgnKmNi05w6fjnJwbwt9dNqqnBxg3TqZ9OzaJWsiR48Gbr7Zfk1tNnCiwxyeEIIHIZCUlCRYE334oRDh4UIQyfGHHzb/NsvKhDh7Voj0dCF27RKiY0fLDRdubkIsXChEaqoQOl3zx+UoPvxQCA+PmvvCw6Nl3htLsbT058MRY2hOFy4IsXKlELfcIoS3txBDhwqxbJn8jjQTAKnCAX7DeeDB2sA1OopG1+g4whktjqAx/y3r9UBxsTxlt7DQ+tjWNINB/tfq4yPH1t5DIjnvlYg/o1emkhJg40ZZ07NhA5CQIPv0jBola/oAu3w2uEaHOTpOdBSNSnTaa1V4QwgBFBXJM30sXe1Vo5GdJi0lLyUlcroxSWnI2PjYza1ms5OjNNUw5kgqKmSftC+/lM1cYWHycgXffSf7qBk14veLEx3m6DjRUTQq0XGUg6q9/2OvqADy8uQ1RYxDbm7N56aDq6usmbFm1SrLSYqXl/1PkeXkkzHbdDrg11/lbUosfW8b+PvFiQ5zdJzoKBqV6KhUskbDkquukrUV5oOnZ8PKnZ1tx1CfA7vBAOTnW09UzJOY0lIgMBDo2LF+g7u74yR9ADfVMFYf1n6/GtjMy4kOc3Sc6CjsWqMTHCyrhEtKag6XLtUuq2sake3EyLgdc25u8j5K587Ji6RpNPLaKfVJXPz8Gn4WEtekMNa22OmfE050mKOr86aezIYXX7R8cF+4EOjVq+nrF0JeE8VWgvTJJ5aXragAVqyQiUtgYPPfJduYzHBNCmNtg7XfrxdfbL2YGGsGXKOjaLNnXTlSkxFjrG3hs67YFYATHUWbvWAgNxkxxloRJzrM0alaOwDWRJMmyaQmPFz2qwkP5ySHMcYYU3AfnfZg0iRObBhjjDELuEaHMcYYY+0WJzqMMcYYa7c40WGMMcZYu8WJDmOMMcbaLU50GGOMMdZucaLDGGOMsXaLEx3GGGOMtVvNlugQ0ftEdI6IDpiU+RPRJiLKUMZ+JtP+TUTHiOgIEQ01KU8iov3KtMVE8m6TRORKRGuV8l1EFGGyzBRlGxlENKW5XiNjjDHGHFtz1uisADDMrOxpAD8JISIB/KQ8BxHFApgAIE5ZZgkRqZVl3gYwFUCkMhjXeS+AfCFEDwCLACxQ1uUP4DkAfQCkAHjONKFijLHWtgZrEIEIqKBCBCKwBmtaOyTG2q1mS3SEEL8AuGhWfAuAlcrjlQBuNSn/RAhRIYQ4AeAYgBQiCgLgLYT4Tcibcq0yW8a4rs8BXK/U9gwFsEkIcVEIkQ9gE2onXIw1Oz6YMUvWYA2mYiqykAUBgSxkYSqm8ueDsWbS0n10OgkhcgBAGXdUykMAnDKZ77RSFqI8Ni+vsYwQQgegEEAHG+uqhYimElEqEaXm5eU14WUxVhMfzJg5AYFCFOJJPIlSlNaYVopSPINnWikyxto3R7nXFVkoEzbKG7tMzUIhlgNYDsi7l9cdJmP18zSetngwexyPIxnJCEQgfOELFZ8P0KLWYA2ewTM4iZMIQxhexIuYhMbdJ64SlbiAC8hDHs4rf8bH1saucEUJSiyuLwtZ+ApfYSAGIgABTXmZjDETLZ3o5BJRkBAiR2mWOqeUnwbQxWS+UADZSnmohXLTZU4TkRMAH8imstMArjVb5mf7vgzGpHKU4xAOYZ/J337sx7nqj3ZNucjFCIxAHvJQghL4wx+BCEQAAmqMLZUFIACucG1wjPY8uLdlxlo2YwJqrGUDgImYiCIU1StZMY4v4RI6oIPF90kLLfqjf42yAATADW6IQASykFUrPl/4YjmW4y7chS7ogkHK3zW4Bp3RuUX3FWPtCcmuL820cnkm1HdCiHjl+SsALggh5hPR0wD8hRBPElEcgI8gOw8HQ3ZUjhRC6InoTwAPA9gFYD2A/wkh1hPRvwAkCCGmE9EEAKOFELcpnZF3A/iHEsZfAJKEEOb9hWpITk4Wqampdt4DrL0wNj8ZExljUpOJTEQiEj3REwlIQE/lrx/64SRO1lpPOMKRiUwAQBWqatQI5Cl/5gdV0xoDN7jVOzEKRCC+w3c1Du4A4AEPLMfyFk92WiLh0kOPQhSiAAXIN/krQAGexJMoQEGtZVRQQQ013OBmMWkxHxsf+8CnUTVyK0+uxANBD6DMuay6zL3KHW/nvI0pYVOggw57sRfblL9f8SsCEVid9AzCIHSp8X9h6yKi3UKI5NaOgzFrmi3RIaKPIWtWAgDkQp4J9TWATwGEATgJYJwxASGiZwDcA0AH4DEhxAalPBnyDC53ABsAPCyEEETkBmA1gF6QNTkThBB/K8vcA+A/SigvCiE+qCteTnSYURGKaiQz+5U/L3jVSGYSkIBoRMMFLrXWUdfBrDGMfTysJUKWyopRbHFdHvDAREyEh/LnCc/qx3U994Qn3OHeoIO8eW2KMQZLCVclKmskKOYJi61pJSiBF7zgC1/4mfz5whfvifcsNmyTIJRSKdzgBiEEoAdElQB0yrgKEDoBobv8uLrMZD6hM1nGtMxsGUO+AZ/FfoYXBr+AMz5nEFIYgme3PItxGePgcaMHVH4qOXirQCqCAQbsx378gl+wDdvwC36BJzxr1Ph0QzeQxVb75seJDnN0zVqj05ZwotN+1LfmQAcdMpBRI6nZh304j/OIQ1yNWpoEJKADOtQ7hsLFhVgburbWwWz86fHwecTHni/XJpVQQZCF77gAltEylCp/l3Cp+rH5c0vTylEOV7jWKynygAc+wAcoQlGtMNzhjiQk1UhWKlFZnZyYJyvWnhsfe8NbvuZyAVEiYLhkgLgkx5FRkTjtc7pWDKEFodj/7v7qBAVqgJwIcFbGTgA5E8hZeWwyjZwtzGdpGZNli96uvR+MXK5ygeGiAfp8PUSpgMpXJj1qPzVU/nJMfoSjvkfxi9Mv1bU+Kqiqa3sGYRCiENViiQ8nOszRcaKj4ESnfbBWc/AqXkUkIms0PR3GYQQjuLqGxpjQdEM3qKG2sZXaRKWA/qIehgsG6C/oUb6t3PrMrgARyXMeVQAIIBVVPwbJ8hplxufK4xrLmZSZrzd6YLTlg3thKI7nHge5EsiF5FgZoFbWY4MBBpSjvN4J0kzMtLgeAuFn/FwjWfGEZ62DtBACoqx28mIoufzYdBqcAZWnCipPFUhDUHmq8GHZh3js5sdQ5mJSy1bpjje+ewP3Db3vcjKiat4EoXBxIQyFhlrlKh9VjSRYVMnaH32+HoZ8w+XHFw0wFBmg0sgkiPwIWUFZ+DXoV/zq9yu2u21HGZVVJz7X4BrEI95iDdzKkyvxrO+zOO11GqHFoXih4IUG1zhyosMcHSc6irac6FzpnU3LUFbdh2UYhlnsCKyCCgMxsEbTUxzioIGm3tsRBgFDoaE6mTFclGP9BeW/bz8V1B3UUHdQo+KvCoiy2t8t8ib4TPORTSQGVA81ngulzCCqH0Moz61NN53HpGxl1kqrB/eJlRMhKoQcKkX1YwhcTnyUJAiusJgU1SozeQyXy0lDeGU4TrrU7rPUpaIL/i74WyYrpkmLefJSKuS6PQkqjUqOPVXWnzvVTlYcpZatYn8FSr8vBapMCp0Bj5s84JpQv87m1Z/FizUTIGNSdCrgFH6P+h07w3bi146/It8lH/2r+mOQahAGuQzCVXQV1pxcY5fmVU50mKPjREfRVhOdhvR9aIlYmppwVaACF3ChOnEx/bNWroe+uqPoXuy1uF6C7OtQH4Yyk2TmwuVkxpBvAHlQdTKj6qCC2l+OVT6qGjUB9jiY2UNjDu5CVzPxEZUCqMDl5xaSI0uPUQlZQ+JK+DTiUzx2k4WE6/s3MP7s+MvJikZ1OWExqY0hTwKpm1bT4ijviTGW8q3lMBQaoPJRwe06N7vFIISs+aqu/ck34HTpaWx3344dfjuwo8sO5HjnoJIqUe5cu+axS1EXnPSunZRaw4kOc3Sc6Cgam+i0dm1KOMItnt0TjGDsxE6ooa4+q0Sl/JmXmY4b266/Bmsw1TAVparLCZe7wR2vqV7DIAyymKBY+itHefUpu/X984BHddzWTt01PdsJuNwptFYyc9EAoRM1kxmTpIZc6r9/mvNg1pAYWuvgLoRMdkSlQOEbhfgszkIH3IPj4Pdsy92hxRHek9ZmKDMgtzAXwZ2CrXbONlD9/ikAONFhjo8THUVjEp2m1qaUoxxFKEIhCmuMLZVZG1s6XdaoC7rAoPzpoa/XGEC9kyLT8SlxCnrS14pBJVTQkrbeSYs3vJvUidLi2U6V7nhz/5uYcGFCdWJjKJIHulrJTAe1rD2oo49KW+IIB/f69kthLSesKAynvE/VKucaHdbeOMqVkdukZ/CMxavfPoSHcAiH6kxSAMAHPvBW/oyPTccd0AHd0M3idG94oxd61Xm9loYQEDaTIb3QQ1+pDFV66Cp10FfpER0abXV9f239q1Z/E0t9UGAALhku1ehjIkTd/VBMy0bmj0RFTEWtmoNRR0dBNUgFp3AnmdT4qZrcFNJWuCa4tnqthdt1bhZrltyuc2u1mK50LxS8gAfca/fReaHgBcC7FQNjzM440WkCSwkGABSgAB7wQGd0tpi8GMeNucqtubkn51rsUPh8zvPyakVQkoUq1OxLYa0PhpV+F6gEVBUqqKpUcHZyrtXxNGRECE771j67J6QwRPbTIKrzDKFaZx+Zn2lkq0xZV9HbRRh3cBzGHRxXKxa3vnxQbS3GRKu1a5bYZVPCpgAn0eSzrhhzdJzoNEGXyi4WzyQJqwzDMy7Wb9BnvCiZQWeQFxYzXmhMp1yszPS5rXK9wMi/RqIisnYNxsjDI1GgKZAJTKWo7hRanZyYjeEip6s0Kutn0rjUPJPG1HMbn8Mjgx+p1dn0ud+fg/swd7vs7/pQ+aisNpGw1uUINUuspilhUzAFSmLjDa7JYe0SJzpN8OyWZy0e3J9Z/wyKLhRZT1L0uHxRMuMFyMyfO0E2rThZKXcGVO4qoBJWazC87/KWpwW7ULNfG+TOkDth2GDAC4NMEq5tz+LObnc263bNOVQTSeEaIO8ZQHcScAoDAl8EfFrhtH9HiYMxxloBJzpNMObPMTCUGiyeSeJxj4fl5MWY1Nips2vFnxVWazBashbDNcEVUzAF41eNb9WmCYdpIilcA5ydCgilD5cuSz4HWjbJcJQ4HIWjJH2OEgdjVwA+60rRmLOuHOFMEke6NsgVTV8AVB0HKv+W4/MvAqLEwoxOgGssQC4AuSpjswGmz63MU9/pp24G9DkWwggHemQ27z4x19oHd/OkDwDIA+i8/MqMw074rCvm6LhGpwkcoZnEYWow2juhB3SngcrjQNXfl8fG5AZVgHM3wLk74NLNSpIDAHogaCUgKk2GCrPnZgOMjy8Bhnzb85qvz1KSA8ianWNhgMpLGTQmj82f1zGN3IG6aiibWrMkdIDhklzecKmej0uVfaY8vrQBEGYXyBOlQM7dQP4iyN7taoDUytjsuaUy43Oby6lMpqmB/DdrJjnGOM7NBFzjALUfoPKT+7e5L3PQ2sknYy2AE50mcJQkgzt5mmnsj7e+WEle/r5cM2NManQnAXVHmcy4KAmN5pbLj9UBNQ9KRZ/Lg7k5pzDA7Sq7vdQ6HYuwEkcoEL4dMBSbDCW1H1edsz7NOAidSfJjJSkq+sjywf3sdJmAmCcp5omL0AEqD4A8AZVnzcfkUbtM5QE4+dUsL/nayk7SAZ3ehuxMp4e8roFePoceEAaTaSbPLc1vfG5pfuNzQ6HlMPTngJwpgD5fJrSGMkDtC6j8ZfJjTIDU/iaPjYN/zefk2fzJJ2NtBCc6TcRJhoOx9ePtfTugy6nZxGSa1BhKaiYyLjGA5ib52DkCUDWgpi7wRcvNE4Ev2u2lNi2O+YBzuH22IapMkp8SK8mTlTt2ixLAc6hZwmLhMbk2vXbjXJj15NO9d9PW3RAF71mJIxzomnb5uaiUTaLGxEefD+gvXn6sOwNUHpBlNebJl+9JjeTIQjJ0/kXLyWfeM5zosHaFE52mcoSqX0eIoaXjEFWWmy3OzbT8451zF3D2PkDlezmRce4mD7K+SnOTurP9mgqMr7u135eWiIOcLx88rbmw0PrB3aeFzsxz+OTTLA5yAZw6yqGhDBU1Ex9Dfs2EqCoLMFywvKyu/ldFZqwt4M7Iikbd68oROhU6QgxW43AHAhcCmqGW+0w0+vElAMLkP36leULlCZT9ZiVAArTFch7W8hzpc9rayaejxGG1WbNhHdW5MzJzdJzoKBqV6Njq/xDxl6x1kBfPuTyu9bjKSrnpuMr69IuvWm7zJ41sqjHtG2B8LHS2y2v0L9Ar26qjXH8RgKXPkgpw7mq7aaKuZgtLCQ25NPA9aYWzjFhNjnBwZ5fZKfnkRIc5Om66agprVby608CJWMgL5zgD5KQ8drLy2Gweq/M61y631rFRlABuSTXP9pAX9jF7bqfyY52s7CQBdD/WwB3bBI7SPMFq85nEiY0jcZTmVcaaGSc6TeFkrXNjC9YeFH5oPQa/aS0TA2BjX4S1XAwA/3gz1hCcfLIrAN8AqCkCX5S1BaZauvbAEWJwpDgA+cPdIxOINsgx/5AzxtgVixOdpvCZJNuzncIBkBy3dOdKR4jBkeJgjDHGTHBnZEWjOiMzxtgVjjsjM0fHNTqMMcYYa7c40WGMMcZYu8WJDmOMMcbaLU50GGOMMdZucaLDGGOMsXaLEx3GGGOMtVuc6DDGGGOs3eJEhzHGGGPtFic6jDHGGGu3ONFhjDHGWLvFiQ5jjDHG2i1OdBhjjDHWbnGiwxhjjLF2ixMdxhhjjLVbnOgwxhhjrN3iRIcxxhhj7RYnOowxxhhrt5xaO4DmRETDAPwfADWAd4UQ8+2+kX3bgJ/WAIXnAZ8A4PpJQM9Bdt+Mw8fAcXAcbSEOR4iB42CsRbXbRIeI1ADeAnAjgNMA/iSib4QQh+y2kX3bgG/fBqoq5PPCPPkcaLkfC0eIgePgONpCHI4QA8fBWIsjIURrx9AsiKgvgDlCiKHK838DgBDiZUvzJycni9TU1IZtZNFU+eNgztkViOkLQACm+1cIpay6wEaZpWWESZkyztwP6Kpqx+DkDHTtKR8TASCAoIzp8nwWp1mYt651HNgBVJXXjsPFDUi4pna5KdN11amOeff9DFTaiKN631rZp9WPRfVslt8Ta+tQHh/dDegqa8fh5AJ0TQCEQc5fPRiUdZiX25pmYxljzEUXLs9nigjw8Lkcr/k+sFgmLD6s1zoqy80XMgYi3xtjTPVldV4L5cai8kuW4yMC3L1srJ8slJnPZ/p9qGM5a++JSgX4djJbd13fW/NtNOB7nn0M0Otqx+ETCMxYXrvcCiLaLYRIrvcCjLWwdlujAyAEwCmT56cB9DGdgYimApgKAGFhYQ3fQuF5y+VVFUC3BNT541SjDKj1w1ifH69jf1mOQVcFJA+Vj+tKlkyn1SqvYz7jtD0/WY6jshzo3NXytIaqT1JuKckxjcO4vwEbBwRjOUweW3jPTOc3X+7Qb5bj0FUCvYeZvO8q+bjGoHSdqzXNWrnJ54pUcvvGed6YZjkOIYDpr5vFbsbmQdy83FJiYFI0/w7L24AAZr4Li0mQ1bfbygSLnw+TsoVTrC/3r8V1JHqixqhmWT2WM334f1beE4MBmPiM2Trq+b21OM3GP0xCAB+YbMuUtd81xtqo9pzoWPr1rvkzJcRyAMsBWaPT4C34BFiu0fEJBK4a3ODVNYpPoPUYonq3TAwA8Mtn1uPoPazl4tjxlWPE8eNK63FoW/CfX1ufDy8/x4jDzaP1Y/D0aZkY6oojIMQB4ghouRgYawHt+ayr0wC6mDwPBZBt1y1cP0k2U5lydpXlLcURYuA4OI62EIcjxMBxMNbi2nONzp8AIomoK4AzACYAmGjXLRg77LXmWQuOEAPHwXG0hTgcIQaOg7EW1247IwMAEf0TwBuQp5e/L4R40dq8jeqMzBhjVzjujMwcXXuu0YEQYj2A9a0dB2OMMcZaR3vuo8MYY4yxKxwnOowxxhhrtzjRYYwxxli7xYkOY4wxxtqtdn3WVUMQUR6ArCasIgAAX1JU4n1RE++Pmnh/XNYe9kW4ECKwtYNgzBpOdOyEiFL5FEuJ90VNvD9q4v1xGe8LxpofN10xxhhjrN3iRIcxxhhj7RYnOvazvLUDcCC8L2ri/VET74/LeF8w1sy4jw5jjDHG2i2u0WGMMcZYu8WJDmOMMcbaLU50rCCiLkS0lYgOE9FBInpUKfcnok1ElKGM/ZTyDsr8JUT0psl6PIjoeyJKV9Yzv7VeU2PZa1+YrfMbIjrQkq/DXuy5P4jIhYiWE9FR5TMypjVeU1PYeX/cTkT7iWgfEW0kooDWeE2N1Yh9cSMR7VZe824iGmyyriSl/BgRLSYiaq3XxVhbxomOdToAjwshYgBcDeBfRBQL4GkAPwkhIgH8pDwHgHIAzwJ4wsK6XhVCRAPoBaA/EQ1v9ujty577AkQ0GkBJs0fdfOy5P54BcE4IoQUQC2BbcwffDOyyP4jICcD/AbhOCNETwD4AD7XMS7Cbhu6L8wBGCCESAEwBsNpkXW8DmAogUhmGtcxLYKx94UTHCiFEjhDiL+VxMYDDAEIA3AJgpTLbSgC3KvNcEkL8CvkjbrqeUiHEVuVxJYC/AIS2xGuwF3vtCwAgIg2AmQDmNX/kzcOe+wPAPQBeVuYzCCHa3FVy7bg/SBk8ldoLbwDZzf4C7KgR+2KPEML4Gg8CcCMiVyIKAuAthPhNyDNGVhmXYYw1DCc69UBEEZC1MbsAdBJC5ADyRw1AxwasxxfACMj/6NokO+yLFwC8BqC0uWJsSU3ZH8rnAQBeIKK/iOgzIurUjOE2u6bsDyFEFYAHAOyHTHBiAbzXnPE2p0bsizEA9gghKiCTo9Mm004rZYyxBuJEpw5KDcQXAB4TQhQ1YT1OAD4GsFgI8be94mtJTd0XRHQVgB5CiK/sHVtrsMNnwwmydm+HEOIfAH4D8KodQ2xRdvh8OEMmOr0ABEM2Xf3brkG2kIbuCyKKA7AAwDRjkYXZ+FogjDUCJzo2KD+8XwBYI4T4UinOVaqVoYzP1XN1ywFkCCHesHugLcBO+6IvgCQiygTwKwAtEf3cPBE3LzvtjwuQNVvGxO8zAP9ohnCbnZ32x1UAIIQ4rjTXfAqgX/NE3Hwaui+IKBTyMzBZCHFcKT6Nmk3coWhjzXiMOQpOdKxQ+gi8B+CwEOJ1k0nfQHYahDJeV491zQPgA+AxO4fZIuy1L4QQbwshgoUQEQAGADgqhLjW/hE3LzvuDwHgWwDXKkXXAzhk12BbgB2/K2cAxBKR8U7YN0L2cWkzGrovlObL7wH8Wwixwziz0rxVTERXK+ucjHr81jDGauMrI1tBRAMAbIfsL2BQiv8D2d7+KYAwACcBjBNCXFSWyYTsQOkCoADAEABFAE4BSAdQoaznTSHEuy3xOuzBXvtCCHHIZJ0RAL4TQsS3yIuwI3vuDyIKhzzTxhdAHoC7hRAnW+q12IOd98d0AI8CqAKQBeAuIcSFFnsxTdTQfUFE/4VsnsswWc0QIcQ5IkoGsAKAO4ANAB4W/IPNWINxosMYY4yxdoubrhhjjDHWbnGiwxhjjLF2ixMdxhhjjLVbnOgwxhhjrN3iRIcxxhhj7RYnOoy1MJJ+Nb25KxHdptytW09Ee02Gp03mCSSiKiKaZra+TJM7fm9TTllnjDEGPr2csVZBRPGQV0LuBUANYC/k3anThBAaK8s8COB2AHrTCy0q16RJFkKcJ6LnAQQLIe5v1hfAGGNtBNfoMNYKhBAHIK+K/BSA5wCsMrn8vzW3A3gcQCgRWbvB42/gmz8yxlg1p9YOgLEr2PMA/gJQCSBZKXMnor0m87wshFhLRF0AdBZC/EFEnwIYD+B11DYMwNfNFzJjjLUtnOgw1kqEEJeIaC2AEiGE8fYgZUKIqyzMPgHyFgIA8Ank/ZRME52tRNQJ8maR/22mkBljrM3hpivGWpcBl++JZMvtAO5S+uN8AyCRiCJNpl8HIBzAQQBz7R0kY4y1VZzoMObgiCgKgKcQIkQIEaHc/f1lyFqeakKIMgCPAZhMRP4tHihjjDkgTnQYcyzuZqeXz4eszfnKbL4vlPIahBA5AD4G8K/mD5Uxxhwfn17OGGOMsXaLa3QYY4wx1m5xosMYY4yxdosTHcYYY4y1W5zoMMYYY6zd4kSHMcYYY+0WJzqMMcYYa7c40WGMMcZYu/X/1oWw2pIMjfoAAAAASUVORK5CYII=\n",
>>>>>>> c1e6771b9d796655c5428f625304f93f121d1f9b
      "text/plain": [
       "<Figure size 432x288 with 1 Axes>"
      ]
     },
     "metadata": {
      "needs_background": "light"
     },
     "output_type": "display_data"
    }
   ],
   "source": [
    "x = np.arange(2012,2022,1)\n",
    "plt.plot(x,Total, marker=\"o\", color=\"blue\", linewidth=1, label=\"Total of Police Regions\")\n",
    "plt.plot(x,NorthWestMetro, marker=\"o\", color=\"red\", linewidth=1, label=\"North West Region\")\n",
    "plt.plot(x,Eastern, marker=\"o\", color=\"violet\", linewidth=1, label=\"Eastern Region\")\n",
    "plt.plot(x,SouthernMetro, marker=\"o\", color=\"lime\", linewidth=1, label=\"Southern Region\")\n",
    "plt.plot(x,Western, marker=\"o\", color=\"gold\", linewidth=1, label=\"Western Region\")\n",
    "plt.plot(x,Justice, marker=\"o\", color=\"coral\", linewidth=1, label=\"Facility Region\")\n",
    "plt.legend(loc='lower right', bbox_to_anchor=(1.5, 0.4))\n",
    "plt.title(\"Incidents recorded by Police Region\",fontsize = 20)\n",
    "plt.xlabel(\"YEAR\")\n",
    "plt.ylabel(\"INCIDENTS\")\n",
    "#plt.figure(figsize=(800,600))\n",
    "plt.show"
   ]
  },
  {
   "cell_type": "markdown",
   "id": "62df632f",
   "metadata": {},
   "source": [
    "Most crime is taking place in the North West Region. Further Analysis into this region below:"
   ]
  },
  {
   "cell_type": "code",
<<<<<<< HEAD
   "execution_count": 23,
=======
<<<<<<< HEAD
   "execution_count": 26,
=======
   "execution_count": 20,
>>>>>>> c1e6771b9d796655c5428f625304f93f121d1f9b
>>>>>>> 7e0c279ff50e4520b93531d012acb4c4183aa3e0
   "id": "8a77549d",
   "metadata": {
    "ExecuteTime": {
     "end_time": "2022-01-02T03:44:10.552176Z",
     "start_time": "2022-01-02T03:44:10.540165Z"
    }
   },
   "outputs": [
    {
     "data": {
      "text/html": [
       "<div>\n",
       "<style scoped>\n",
       "    .dataframe tbody tr th:only-of-type {\n",
       "        vertical-align: middle;\n",
       "    }\n",
       "\n",
       "    .dataframe tbody tr th {\n",
       "        vertical-align: top;\n",
       "    }\n",
       "\n",
       "    .dataframe thead th {\n",
       "        text-align: right;\n",
       "    }\n",
       "</style>\n",
       "<table border=\"1\" class=\"dataframe\">\n",
       "  <thead>\n",
       "    <tr style=\"text-align: right;\">\n",
       "      <th></th>\n",
       "      <th>Local Government Area</th>\n",
       "      <th>Year</th>\n",
       "      <th>Incidents Recorded</th>\n",
       "      <th>Rate per 100,000 population</th>\n",
       "    </tr>\n",
       "  </thead>\n",
       "  <tbody>\n",
       "    <tr>\n",
       "      <th>0</th>\n",
       "      <td>Banyule</td>\n",
       "      <td>2021</td>\n",
       "      <td>5666</td>\n",
       "      <td>4310.779038</td>\n",
       "    </tr>\n",
       "    <tr>\n",
       "      <th>1</th>\n",
       "      <td>Brimbank</td>\n",
       "      <td>2021</td>\n",
       "      <td>13161</td>\n",
       "      <td>6488.330843</td>\n",
       "    </tr>\n",
       "    <tr>\n",
       "      <th>2</th>\n",
       "      <td>Darebin</td>\n",
       "      <td>2021</td>\n",
       "      <td>10191</td>\n",
       "      <td>6180.887689</td>\n",
       "    </tr>\n",
       "    <tr>\n",
       "      <th>3</th>\n",
       "      <td>Hobsons Bay</td>\n",
       "      <td>2021</td>\n",
       "      <td>4473</td>\n",
       "      <td>4594.609322</td>\n",
       "    </tr>\n",
       "    <tr>\n",
       "      <th>4</th>\n",
       "      <td>Hume</td>\n",
       "      <td>2021</td>\n",
       "      <td>13396</td>\n",
       "      <td>5455.211528</td>\n",
       "    </tr>\n",
       "    <tr>\n",
       "      <th>...</th>\n",
       "      <td>...</td>\n",
       "      <td>...</td>\n",
       "      <td>...</td>\n",
       "      <td>...</td>\n",
       "    </tr>\n",
       "    <tr>\n",
       "      <th>793</th>\n",
       "      <td>Nillumbik</td>\n",
       "      <td>2012</td>\n",
       "      <td>1467</td>\n",
       "      <td>2330.976404</td>\n",
       "    </tr>\n",
       "    <tr>\n",
       "      <th>794</th>\n",
       "      <td>Whittlesea</td>\n",
       "      <td>2012</td>\n",
       "      <td>9736</td>\n",
       "      <td>5727.294653</td>\n",
       "    </tr>\n",
       "    <tr>\n",
       "      <th>795</th>\n",
       "      <td>Wyndham</td>\n",
       "      <td>2012</td>\n",
       "      <td>10980</td>\n",
       "      <td>6129.592310</td>\n",
       "    </tr>\n",
       "    <tr>\n",
       "      <th>796</th>\n",
       "      <td>Yarra</td>\n",
       "      <td>2012</td>\n",
       "      <td>9274</td>\n",
       "      <td>11411.625732</td>\n",
       "    </tr>\n",
       "    <tr>\n",
       "      <th>797</th>\n",
       "      <td>Total</td>\n",
       "      <td>2012</td>\n",
       "      <td>134869</td>\n",
       "      <td>7505.489894</td>\n",
       "    </tr>\n",
       "  </tbody>\n",
       "</table>\n",
       "<p>150 rows × 4 columns</p>\n",
       "</div>"
      ],
      "text/plain": [
       "    Local Government Area  Year  Incidents Recorded  \\\n",
       "0                 Banyule  2021                5666   \n",
       "1                Brimbank  2021               13161   \n",
       "2                 Darebin  2021               10191   \n",
       "3             Hobsons Bay  2021                4473   \n",
       "4                    Hume  2021               13396   \n",
       "..                    ...   ...                 ...   \n",
       "793             Nillumbik  2012                1467   \n",
       "794            Whittlesea  2012                9736   \n",
       "795               Wyndham  2012               10980   \n",
       "796                 Yarra  2012                9274   \n",
       "797                 Total  2012              134869   \n",
       "\n",
       "     Rate per 100,000 population  \n",
       "0                    4310.779038  \n",
       "1                    6488.330843  \n",
       "2                    6180.887689  \n",
       "3                    4594.609322  \n",
       "4                    5455.211528  \n",
       "..                           ...  \n",
       "793                  2330.976404  \n",
       "794                  5727.294653  \n",
       "795                  6129.592310  \n",
       "796                 11411.625732  \n",
       "797                  7505.489894  \n",
       "\n",
       "[150 rows x 4 columns]"
      ]
     },
<<<<<<< HEAD
     "execution_count": 23,
=======
<<<<<<< HEAD
     "execution_count": 26,
=======
     "execution_count": 20,
>>>>>>> c1e6771b9d796655c5428f625304f93f121d1f9b
>>>>>>> 7e0c279ff50e4520b93531d012acb4c4183aa3e0
     "metadata": {},
     "output_type": "execute_result"
    }
   ],
   "source": [
    "nw = df.loc[df['Police Region']=='1 North West Metro',['Local Government Area','Year','Incidents Recorded','Rate per 100,000 population']]\n",
    "nw"
   ]
  },
  {
   "cell_type": "code",
<<<<<<< HEAD
   "execution_count": 24,
=======
<<<<<<< HEAD
   "execution_count": 27,
=======
   "execution_count": 21,
>>>>>>> c1e6771b9d796655c5428f625304f93f121d1f9b
>>>>>>> 7e0c279ff50e4520b93531d012acb4c4183aa3e0
   "id": "07ff3525",
   "metadata": {
    "ExecuteTime": {
     "end_time": "2022-01-02T03:44:10.724908Z",
     "start_time": "2022-01-02T03:44:10.707886Z"
    }
   },
   "outputs": [
    {
     "name": "stdout",
     "output_type": "stream",
     "text": [
      "Year\n",
      "2012    4888.982393\n",
      "2013    4775.005229\n",
      "2014    5449.735027\n",
      "2015    5578.643487\n",
      "2016    5707.470556\n",
      "2017    5777.020486\n",
      "2018    5528.598848\n",
      "2019    5379.823762\n",
      "2020    5227.376080\n",
      "2021    4310.779038\n",
      "Name: Rate per 100,000 population, dtype: float64\n"
     ]
    }
   ],
   "source": [
    "Banyulenw = nw.loc[nw['Local Government Area']==' Banyule',:]\n",
    "del Banyulenw['Local Government Area']\n",
    "inBanyulenw = Banyulenw.groupby(['Year'])['Incidents Recorded'].agg('sum')\n",
    "rateBanyulenw = Banyulenw.groupby(['Year'])['Rate per 100,000 population'].agg('sum')\n",
    "print(rateBanyulenw)"
   ]
  },
  {
   "cell_type": "code",
<<<<<<< HEAD
   "execution_count": 25,
=======
<<<<<<< HEAD
   "execution_count": 28,
=======
   "execution_count": 22,
>>>>>>> c1e6771b9d796655c5428f625304f93f121d1f9b
>>>>>>> 7e0c279ff50e4520b93531d012acb4c4183aa3e0
   "id": "4738390b",
   "metadata": {
    "ExecuteTime": {
     "end_time": "2022-01-02T03:44:10.927917Z",
     "start_time": "2022-01-02T03:44:10.916904Z"
    },
    "scrolled": true
   },
   "outputs": [
    {
     "name": "stdout",
     "output_type": "stream",
     "text": [
      "Year\n",
      "2012    7718.785802\n",
      "2013    7891.664840\n",
      "2014    6902.372171\n",
      "2015    7325.500349\n",
      "2016    7527.792742\n",
      "2017    6423.764596\n",
      "2018    6944.391216\n",
      "2019    6923.289815\n",
      "2020    7748.010776\n",
      "2021    6488.330843\n",
      "Name: Rate per 100,000 population, dtype: float64\n"
     ]
    }
   ],
   "source": [
    "Brimbanknw = nw.loc[nw['Local Government Area']==' Brimbank',:]\n",
    "del Brimbanknw['Local Government Area']\n",
    "inBrimbanknw = Brimbanknw.groupby(['Year'])['Incidents Recorded'].agg('sum')\n",
    "rateBrimbanknw = Brimbanknw.groupby(['Year'])['Rate per 100,000 population'].agg('sum')\n",
    "print(rateBrimbanknw)"
   ]
  },
  {
   "cell_type": "code",
<<<<<<< HEAD
   "execution_count": 26,
=======
<<<<<<< HEAD
   "execution_count": 29,
=======
   "execution_count": 23,
>>>>>>> c1e6771b9d796655c5428f625304f93f121d1f9b
>>>>>>> 7e0c279ff50e4520b93531d012acb4c4183aa3e0
   "id": "7310c660",
   "metadata": {
    "ExecuteTime": {
     "end_time": "2022-01-02T03:44:11.097914Z",
     "start_time": "2022-01-02T03:44:11.084919Z"
    }
   },
   "outputs": [
    {
     "name": "stdout",
     "output_type": "stream",
     "text": [
      "Year\n",
      "2012    7718.785802\n",
      "2013    7891.664840\n",
      "2014    6902.372171\n",
      "2015    7325.500349\n",
      "2016    7527.792742\n",
      "2017    6423.764596\n",
      "2018    6944.391216\n",
      "2019    6923.289815\n",
      "2020    7748.010776\n",
      "2021    6488.330843\n",
      "Name: Rate per 100,000 population, dtype: float64\n"
     ]
    }
   ],
   "source": [
    "Darebinnw = nw.loc[nw['Local Government Area']==' Darebin',:]\n",
    "del Darebinnw['Local Government Area']\n",
    "inDarebinnw = Darebinnw.groupby(['Year'])['Incidents Recorded'].agg('sum')\n",
    "rateDarebinnw = Brimbanknw.groupby(['Year'])['Rate per 100,000 population'].agg('sum')\n",
    "print(rateDarebinnw)"
   ]
  },
  {
   "cell_type": "code",
<<<<<<< HEAD
   "execution_count": 27,
=======
<<<<<<< HEAD
   "execution_count": 30,
=======
   "execution_count": 24,
>>>>>>> c1e6771b9d796655c5428f625304f93f121d1f9b
>>>>>>> 7e0c279ff50e4520b93531d012acb4c4183aa3e0
   "id": "66369ceb",
   "metadata": {
    "ExecuteTime": {
     "end_time": "2022-01-02T03:44:11.282221Z",
     "start_time": "2022-01-02T03:44:11.268910Z"
    },
    "scrolled": true
   },
   "outputs": [
    {
     "name": "stdout",
     "output_type": "stream",
     "text": [
      "Year\n",
      "2012    6464.868291\n",
      "2013    6234.022514\n",
      "2014    6199.055487\n",
      "2015    5776.992386\n",
      "2016    5867.622666\n",
      "2017    5195.064741\n",
      "2018    4910.811455\n",
      "2019    5108.167545\n",
      "2020    4751.041359\n",
      "2021    4594.609322\n",
      "Name: Rate per 100,000 population, dtype: float64\n"
     ]
    }
   ],
   "source": [
    "HobsonsBaynw = nw.loc[nw['Local Government Area']==' Hobsons Bay',:]\n",
    "del HobsonsBaynw['Local Government Area']\n",
    "inHobsonsBaynw = HobsonsBaynw.groupby(['Year'])['Incidents Recorded'].agg('sum')\n",
    "rateHobsonsBaynw = HobsonsBaynw.groupby(['Year'])['Rate per 100,000 population'].agg('sum')\n",
    "print(rateHobsonsBaynw)"
   ]
  },
  {
   "cell_type": "code",
<<<<<<< HEAD
   "execution_count": 28,
=======
<<<<<<< HEAD
   "execution_count": 31,
=======
   "execution_count": 25,
>>>>>>> c1e6771b9d796655c5428f625304f93f121d1f9b
>>>>>>> 7e0c279ff50e4520b93531d012acb4c4183aa3e0
   "id": "4c0292cf",
   "metadata": {
    "ExecuteTime": {
     "end_time": "2022-01-02T03:44:11.468623Z",
     "start_time": "2022-01-02T03:44:11.455627Z"
    },
    "scrolled": true
   },
   "outputs": [
    {
     "name": "stdout",
     "output_type": "stream",
     "text": [
      "Year\n",
      "2012    6524.480754\n",
      "2013    6308.655131\n",
      "2014    6952.184778\n",
      "2015    7241.038269\n",
      "2016    8228.804923\n",
      "2017    7178.565123\n",
      "2018    6955.169479\n",
      "2019    6725.042283\n",
      "2020    6899.596995\n",
      "2021    5455.211528\n",
      "Name: Rate per 100,000 population, dtype: float64\n"
     ]
    }
   ],
   "source": [
    "Humenw = nw.loc[nw['Local Government Area']==' Hume',:]\n",
    "del Humenw['Local Government Area']\n",
    "inHumenw = Humenw.groupby(['Year'])['Incidents Recorded'].agg('sum')\n",
    "rateHumenw = Humenw.groupby(['Year'])['Rate per 100,000 population'].agg('sum')\n",
    "print(rateHumenw)"
   ]
  },
  {
   "cell_type": "code",
<<<<<<< HEAD
   "execution_count": 29,
=======
<<<<<<< HEAD
   "execution_count": 32,
=======
   "execution_count": 26,
>>>>>>> c1e6771b9d796655c5428f625304f93f121d1f9b
>>>>>>> 7e0c279ff50e4520b93531d012acb4c4183aa3e0
   "id": "88f0d5e5",
   "metadata": {
    "ExecuteTime": {
     "end_time": "2022-01-02T03:44:11.675894Z",
     "start_time": "2022-01-02T03:44:11.659412Z"
    }
   },
   "outputs": [
    {
     "name": "stdout",
     "output_type": "stream",
     "text": [
      "Year\n",
      "2012    9735.808964\n",
      "2013    8770.148655\n",
      "2014    8153.959958\n",
      "2015    7832.938207\n",
      "2016    8427.457385\n",
      "2017    7310.713726\n",
      "2018    7629.111833\n",
      "2019    7191.758841\n",
      "2020    7846.749911\n",
      "2021    7349.535480\n",
      "Name: Rate per 100,000 population, dtype: float64\n"
     ]
    }
   ],
   "source": [
    "Maribyrnongnw = nw.loc[nw['Local Government Area']==' Maribyrnong',:]\n",
    "del Maribyrnongnw['Local Government Area']\n",
    "inMaribyrnongnw = Maribyrnongnw.groupby(['Year'])['Incidents Recorded'].agg('sum')\n",
    "rateMaribyrnongnw = Maribyrnongnw.groupby(['Year'])['Rate per 100,000 population'].agg('sum')\n",
    "print(rateMaribyrnongnw)"
   ]
  },
  {
   "cell_type": "code",
<<<<<<< HEAD
   "execution_count": 30,
=======
<<<<<<< HEAD
   "execution_count": 33,
=======
   "execution_count": 27,
>>>>>>> c1e6771b9d796655c5428f625304f93f121d1f9b
>>>>>>> 7e0c279ff50e4520b93531d012acb4c4183aa3e0
   "id": "4d6cfdde",
   "metadata": {
    "ExecuteTime": {
     "end_time": "2022-01-02T03:44:11.848936Z",
     "start_time": "2022-01-02T03:44:11.826930Z"
    }
   },
   "outputs": [
    {
     "name": "stdout",
     "output_type": "stream",
     "text": [
      "Year\n",
      "2012    22593.838889\n",
      "2013    20719.225683\n",
      "2014    18581.754249\n",
      "2015    18027.061780\n",
      "2016    18691.134596\n",
      "2017    16722.277729\n",
      "2018    16084.712624\n",
      "2019    14965.864778\n",
      "2020    14885.500337\n",
      "2021    14633.717469\n",
      "Name: Rate per 100,000 population, dtype: float64\n"
     ]
    }
   ],
   "source": [
    "Melbournenw = nw.loc[nw['Local Government Area']==' Melbourne',:]\n",
    "del Melbournenw['Local Government Area']\n",
    "inMelbournenw = Melbournenw.groupby(['Year'])['Incidents Recorded'].agg('sum')\n",
    "rateMelbournenw = Melbournenw.groupby(['Year'])['Rate per 100,000 population'].agg('sum')\n",
    "print(rateMelbournenw)"
   ]
  },
  {
   "cell_type": "code",
<<<<<<< HEAD
   "execution_count": 31,
=======
<<<<<<< HEAD
   "execution_count": 34,
=======
   "execution_count": 28,
>>>>>>> c1e6771b9d796655c5428f625304f93f121d1f9b
>>>>>>> 7e0c279ff50e4520b93531d012acb4c4183aa3e0
   "id": "33b4b897",
   "metadata": {
    "ExecuteTime": {
     "end_time": "2022-01-02T03:44:12.049083Z",
     "start_time": "2022-01-02T03:44:12.040082Z"
    }
   },
   "outputs": [
    {
     "name": "stdout",
     "output_type": "stream",
     "text": [
      "Year\n",
      "2012    5746.689315\n",
      "2013    5442.325071\n",
      "2014    5738.966352\n",
      "2015    5902.975948\n",
      "2016    6450.997030\n",
      "2017    5616.412548\n",
      "2018    5113.005526\n",
      "2019    5191.710724\n",
      "2020    5956.521739\n",
      "2021    5038.406836\n",
      "Name: Rate per 100,000 population, dtype: float64\n"
     ]
    }
   ],
   "source": [
    "Meltonnw = nw.loc[nw['Local Government Area']==' Melton',:]\n",
    "del Meltonnw['Local Government Area']\n",
    "inMeltonnw = Meltonnw.groupby(['Year'])['Incidents Recorded'].agg('sum')\n",
    "rateMeltonnw = Meltonnw.groupby(['Year'])['Rate per 100,000 population'].agg('sum')\n",
    "print(rateMeltonnw)"
   ]
  },
  {
   "cell_type": "code",
<<<<<<< HEAD
   "execution_count": 32,
=======
<<<<<<< HEAD
   "execution_count": 35,
=======
   "execution_count": 29,
>>>>>>> c1e6771b9d796655c5428f625304f93f121d1f9b
>>>>>>> 7e0c279ff50e4520b93531d012acb4c4183aa3e0
   "id": "9af4567c",
   "metadata": {
    "ExecuteTime": {
     "end_time": "2022-01-02T03:44:12.223097Z",
     "start_time": "2022-01-02T03:44:12.211094Z"
    }
   },
   "outputs": [
    {
     "name": "stdout",
     "output_type": "stream",
     "text": [
      "Year\n",
      "2012    5984.710529\n",
      "2013    5489.156793\n",
      "2014    5443.135790\n",
      "2015    5647.461969\n",
      "2016    6232.552840\n",
      "2017    5493.935939\n",
      "2018    5350.804497\n",
      "2019    4871.348215\n",
      "2020    5131.571957\n",
      "2021    4480.437518\n",
      "Name: Rate per 100,000 population, dtype: float64\n"
     ]
    }
   ],
   "source": [
    "MooneeValleynw = nw.loc[nw['Local Government Area']==' Moonee Valley',:]\n",
    "del MooneeValleynw['Local Government Area']\n",
    "inMooneeValleynw = MooneeValleynw.groupby(['Year'])['Incidents Recorded'].agg('sum')\n",
    "rateMooneeValleynw = MooneeValleynw.groupby(['Year'])['Rate per 100,000 population'].agg('sum')\n",
    "print(rateMooneeValleynw)"
   ]
  },
  {
   "cell_type": "code",
<<<<<<< HEAD
   "execution_count": 33,
=======
<<<<<<< HEAD
   "execution_count": 36,
=======
   "execution_count": 30,
>>>>>>> c1e6771b9d796655c5428f625304f93f121d1f9b
>>>>>>> 7e0c279ff50e4520b93531d012acb4c4183aa3e0
   "id": "2bf44451",
   "metadata": {
    "ExecuteTime": {
     "end_time": "2022-01-02T03:44:12.396911Z",
     "start_time": "2022-01-02T03:44:12.379921Z"
    },
    "scrolled": true
   },
   "outputs": [
    {
     "name": "stdout",
     "output_type": "stream",
     "text": [
      "Year\n",
      "2012    6164.990093\n",
      "2013    5672.502215\n",
      "2014    6153.602399\n",
      "2015    6446.059451\n",
      "2016    7057.123289\n",
      "2017    6105.416615\n",
      "2018    6345.582572\n",
      "2019    5787.601380\n",
      "2020    5955.118085\n",
      "2021    5052.578902\n",
      "Name: Rate per 100,000 population, dtype: float64\n"
     ]
    }
   ],
   "source": [
    "Morelandnw = nw.loc[nw['Local Government Area']==' Moreland',:]\n",
    "del Morelandnw['Local Government Area']\n",
    "inMorelandnw = Morelandnw.groupby(['Year'])['Incidents Recorded'].agg('sum')\n",
    "rateMorelandnw = Morelandnw.groupby(['Year'])['Rate per 100,000 population'].agg('sum')\n",
    "print(rateMorelandnw)"
   ]
  },
  {
   "cell_type": "code",
<<<<<<< HEAD
   "execution_count": 34,
=======
<<<<<<< HEAD
   "execution_count": 37,
=======
   "execution_count": 31,
>>>>>>> c1e6771b9d796655c5428f625304f93f121d1f9b
>>>>>>> 7e0c279ff50e4520b93531d012acb4c4183aa3e0
   "id": "249e676f",
   "metadata": {
    "ExecuteTime": {
     "end_time": "2022-01-02T03:44:12.584219Z",
     "start_time": "2022-01-02T03:44:12.573217Z"
    },
    "scrolled": true
   },
   "outputs": [
    {
     "name": "stdout",
     "output_type": "stream",
     "text": [
      "Year\n",
      "2012    2330.976404\n",
      "2013    2512.109412\n",
      "2014    2493.970016\n",
      "2015    2911.660777\n",
      "2016    3354.941253\n",
      "2017    3133.801727\n",
      "2018    2514.590166\n",
      "2019    2605.262754\n",
      "2020    2465.539183\n",
      "2021    2221.568966\n",
      "Name: Rate per 100,000 population, dtype: float64\n"
     ]
    }
   ],
   "source": [
    "Nillumbiknw = nw.loc[nw['Local Government Area']==' Nillumbik',:]\n",
    "del Nillumbiknw['Local Government Area']\n",
    "inNillumbiknw = Nillumbiknw.groupby(['Year'])['Incidents Recorded'].agg('sum')\n",
    "rateNillumbiknw = Nillumbiknw.groupby(['Year'])['Rate per 100,000 population'].agg('sum')\n",
    "print(rateNillumbiknw)"
   ]
  },
  {
   "cell_type": "code",
<<<<<<< HEAD
   "execution_count": 35,
=======
<<<<<<< HEAD
   "execution_count": 38,
=======
   "execution_count": 32,
>>>>>>> c1e6771b9d796655c5428f625304f93f121d1f9b
>>>>>>> 7e0c279ff50e4520b93531d012acb4c4183aa3e0
   "id": "b8357e03",
   "metadata": {
    "ExecuteTime": {
     "end_time": "2022-01-02T03:44:12.770598Z",
     "start_time": "2022-01-02T03:44:12.755602Z"
    }
   },
   "outputs": [
    {
     "name": "stdout",
     "output_type": "stream",
     "text": [
      "Year\n",
      "2012    6129.592310\n",
      "2013    5211.580823\n",
      "2014    5119.794355\n",
      "2015    5081.963380\n",
      "2016    5536.368762\n",
      "2017    4472.956100\n",
      "2018    4371.747328\n",
      "2019    4631.809229\n",
      "2020    4898.444725\n",
      "2021    4195.019240\n",
      "Name: Rate per 100,000 population, dtype: float64\n"
     ]
    }
   ],
   "source": [
    "Wyndhamnw = nw.loc[nw['Local Government Area']==' Wyndham',:]\n",
    "del Wyndhamnw['Local Government Area']\n",
    "inWyndhamnw = Wyndhamnw.groupby(['Year'])['Incidents Recorded'].agg('sum')\n",
    "rateWyndhamnw = Wyndhamnw.groupby(['Year'])['Rate per 100,000 population'].agg('sum')\n",
    "print(rateWyndhamnw)"
   ]
  },
  {
   "cell_type": "code",
<<<<<<< HEAD
   "execution_count": 36,
=======
<<<<<<< HEAD
   "execution_count": 39,
=======
   "execution_count": 33,
>>>>>>> c1e6771b9d796655c5428f625304f93f121d1f9b
>>>>>>> 7e0c279ff50e4520b93531d012acb4c4183aa3e0
   "id": "e1918a9b",
   "metadata": {
    "ExecuteTime": {
     "end_time": "2022-01-02T03:44:12.941843Z",
     "start_time": "2022-01-02T03:44:12.922840Z"
    }
   },
   "outputs": [
    {
     "name": "stdout",
     "output_type": "stream",
     "text": [
      "Year\n",
      "2012    5727.294653\n",
      "2013    5319.849168\n",
      "2014    5598.752521\n",
      "2015    5138.508588\n",
      "2016    6068.830956\n",
      "2017    5393.025046\n",
      "2018    5332.061769\n",
      "2019    5215.439194\n",
      "2020    5205.484085\n",
      "2021    4235.692178\n",
      "Name: Rate per 100,000 population, dtype: float64\n"
     ]
    }
   ],
   "source": [
    "Whittleseanw = nw.loc[nw['Local Government Area']==' Whittlesea',:]\n",
    "del Whittleseanw['Local Government Area']\n",
    "inWhittleseanw = Whittleseanw.groupby(['Year'])['Incidents Recorded'].agg('sum')\n",
    "rateWhittleseanw = Whittleseanw.groupby(['Year'])['Rate per 100,000 population'].agg('sum')\n",
    "print(rateWhittleseanw)"
   ]
  },
  {
   "cell_type": "code",
<<<<<<< HEAD
   "execution_count": 37,
=======
<<<<<<< HEAD
   "execution_count": 40,
=======
   "execution_count": 34,
>>>>>>> c1e6771b9d796655c5428f625304f93f121d1f9b
>>>>>>> 7e0c279ff50e4520b93531d012acb4c4183aa3e0
   "id": "d6dc3d82",
   "metadata": {
    "ExecuteTime": {
     "end_time": "2022-01-02T03:44:13.144898Z",
     "start_time": "2022-01-02T03:44:13.133898Z"
    }
   },
   "outputs": [
    {
     "name": "stdout",
     "output_type": "stream",
     "text": [
      "Year\n",
      "2012    11411.625732\n",
      "2013    10640.527858\n",
      "2014    11527.261888\n",
      "2015    10880.419915\n",
      "2016    11982.474649\n",
      "2017    11153.822114\n",
      "2018    11505.879250\n",
      "2019    10785.491942\n",
      "2020    11055.515152\n",
      "2021     9677.530367\n",
      "Name: Rate per 100,000 population, dtype: float64\n"
     ]
    }
   ],
   "source": [
    "Yarranw = nw.loc[nw['Local Government Area']==' Yarra',:]\n",
    "del Yarranw['Local Government Area']\n",
    "inYarranw = Yarranw.groupby(['Year'])['Incidents Recorded'].agg('sum')\n",
    "rateYarranw = Yarranw.groupby(['Year'])['Rate per 100,000 population'].agg('sum')\n",
    "print(rateYarranw)"
   ]
  },
  {
   "cell_type": "code",
<<<<<<< HEAD
   "execution_count": 46,
=======
<<<<<<< HEAD
   "execution_count": 41,
=======
   "execution_count": 35,
>>>>>>> c1e6771b9d796655c5428f625304f93f121d1f9b
>>>>>>> 7e0c279ff50e4520b93531d012acb4c4183aa3e0
   "id": "ab28a2d8",
   "metadata": {
    "ExecuteTime": {
     "end_time": "2022-01-02T03:44:13.473944Z",
     "start_time": "2022-01-02T03:44:13.292911Z"
    }
   },
   "outputs": [
    {
     "data": {
      "text/plain": [
       "<function matplotlib.pyplot.show(close=None, block=None)>"
      ]
     },
<<<<<<< HEAD
     "execution_count": 46,
=======
<<<<<<< HEAD
     "execution_count": 41,
=======
     "execution_count": 35,
>>>>>>> c1e6771b9d796655c5428f625304f93f121d1f9b
>>>>>>> 7e0c279ff50e4520b93531d012acb4c4183aa3e0
     "metadata": {},
     "output_type": "execute_result"
    },
    {
     "data": {
<<<<<<< HEAD
      "image/png": "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\n",
=======
<<<<<<< HEAD
      "image/png": "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\n",
=======
      "image/png": "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\n",
>>>>>>> c1e6771b9d796655c5428f625304f93f121d1f9b
>>>>>>> 7e0c279ff50e4520b93531d012acb4c4183aa3e0
      "text/plain": [
       "<Figure size 432x288 with 1 Axes>"
      ]
     },
     "metadata": {
      "needs_background": "light"
     },
     "output_type": "display_data"
    }
   ],
   "source": [
    "x = np.arange(2012,2022,1)\n",
    "\n",
    "plt.plot(x,inMelbournenw, marker=\"o\", color=\"lime\", linewidth=1, label=\"Melbourne\")\n",
    "plt.plot(x,inBrimbanknw, marker=\"o\", color=\"blue\", linewidth=1, label=\"Brimbank\")\n",
    "plt.plot(x,inHumenw, marker=\"o\", color=\"red\", linewidth=1, label=\"Hume\")\n",
    "plt.plot(x,inDarebinnw, marker=\"o\", color=\"purple\", linewidth=1, label=\"Darebin\")\n",
    "plt.plot(x,inYarranw, marker=\"o\", color=\"violet\", linewidth=1, label=\"Yarra\")\n",
    "plt.plot(x,inMorelandnw, marker=\"o\", color=\"yellow\", linewidth=1, label=\"Moreland\")\n",
    "plt.plot(x,inWhittleseanw, marker=\"o\", color=\"black\", linewidth=1, label=\"Whittlesea\")\n",
    "plt.plot(x,inWyndhamnw, marker=\"o\", color=\"lavender\", linewidth=1, label=\"Wyndam\")\n",
    "plt.plot(x,inMeltonnw, marker=\"o\", color=\"brown\", linewidth=1, label=\"Melton\")\n",
    "plt.plot(x,inBanyulenw, marker=\"o\", color=\"pink\", linewidth=1, label=\"Banyule\")\n",
    "plt.plot(x,inMooneeValleynw, marker=\"o\", color=\"beige\", linewidth=1, label=\"MooneeValley\")\n",
    "plt.plot(x,inMaribyrnongnw, marker=\"o\", color=\"green\", linewidth=1, label=\"Maribyrnong\")\n",
    "plt.plot(x,inHobsonsBaynw, marker=\"o\", color=\"orange\", linewidth=1, label=\"HobsonsBay\")\n",
    "plt.plot(x,inNillumbiknw, marker=\"o\", color=\"turquoise\", linewidth=1, label=\"Nillumbik\")\n",
    "plt.legend(loc='lower right', bbox_to_anchor=(1.35, 0.001))\n",
    "plt.title(\"Crime incidents in North West Police Region by Local Government Area('LGA')\")\n",
    "plt.xlabel(\"YEAR\")\n",
    "plt.ylabel(\"INCIDENTS per LGA\")\n",
    "#plt.figure(figsize=(800,600))\n",
    "plt.show"
   ]
  },
  {
   "cell_type": "code",
<<<<<<< HEAD
   "execution_count": 39,
=======
<<<<<<< HEAD
   "execution_count": 42,
=======
   "execution_count": 36,
>>>>>>> c1e6771b9d796655c5428f625304f93f121d1f9b
>>>>>>> 7e0c279ff50e4520b93531d012acb4c4183aa3e0
   "id": "cd65178b",
   "metadata": {
    "ExecuteTime": {
     "end_time": "2022-01-02T03:44:13.774138Z",
     "start_time": "2022-01-02T03:44:13.500970Z"
    }
   },
   "outputs": [
    {
     "data": {
      "text/plain": [
       "<function matplotlib.pyplot.show(close=None, block=None)>"
      ]
     },
<<<<<<< HEAD
     "execution_count": 39,
=======
<<<<<<< HEAD
     "execution_count": 42,
=======
     "execution_count": 36,
>>>>>>> c1e6771b9d796655c5428f625304f93f121d1f9b
>>>>>>> 7e0c279ff50e4520b93531d012acb4c4183aa3e0
     "metadata": {},
     "output_type": "execute_result"
    },
    {
     "data": {
<<<<<<< HEAD
      "image/png": "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\n",
=======
      "image/png": "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\n",
>>>>>>> c1e6771b9d796655c5428f625304f93f121d1f9b
      "text/plain": [
       "<Figure size 432x288 with 1 Axes>"
      ]
     },
     "metadata": {
      "needs_background": "light"
     },
     "output_type": "display_data"
    }
   ],
   "source": [
    "x = np.arange(2012,2022,1)\n",
    "\n",
    "plt.plot(x,rateMelbournenw, marker=\"o\", color=\"lime\", linewidth=1, label=\"Melbourne\")\n",
    "plt.plot(x,rateBrimbanknw, marker=\"o\", color=\"blue\", linewidth=1, label=\"Brimbank\")\n",
    "plt.plot(x,rateHumenw, marker=\"o\", color=\"red\", linewidth=1, label=\"Hume\")\n",
    "plt.plot(x,rateDarebinnw, marker=\"o\", color=\"purple\", linewidth=1, label=\"Darebin\")\n",
    "plt.plot(x,rateYarranw, marker=\"o\", color=\"violet\", linewidth=1, label=\"Yarra\")\n",
    "plt.plot(x,rateMorelandnw, marker=\"o\", color=\"yellow\", linewidth=1, label=\"Moreland\")\n",
    "plt.plot(x,rateWhittleseanw, marker=\"o\", color=\"black\", linewidth=1, label=\"Whittleseanw\")\n",
    "plt.plot(x,rateWyndhamnw, marker=\"o\", color=\"lavender\", linewidth=1, label=\"Wyndam\")\n",
    "plt.plot(x,rateMeltonnw, marker=\"o\", color=\"brown\", linewidth=1, label=\"Melton\")\n",
    "plt.plot(x,rateBanyulenw, marker=\"o\", color=\"pink\", linewidth=1, label=\"Banyule\")\n",
    "plt.plot(x,rateMooneeValleynw, marker=\"o\", color=\"beige\", linewidth=1, label=\"MooneeValley\")\n",
    "plt.plot(x,rateMaribyrnongnw, marker=\"o\", color=\"green\", linewidth=1, label=\"Maribyrnong\")\n",
    "plt.plot(x,rateHobsonsBaynw, marker=\"o\", color=\"orange\", linewidth=1, label=\"HobsonsBay\")\n",
    "plt.plot(x,rateNillumbiknw, marker=\"o\", color=\"turquoise\", linewidth=1, label=\"Nillumbik\")\n",
    "plt.legend(loc='lower right', bbox_to_anchor=(1.4, 0.001))\n",
    "plt.title(\"Crime rate per 100k population in North West Police Region by Local Government Area('LGA')\")\n",
    "plt.xlabel(\"YEAR\")\n",
    "plt.ylabel(\"Rate per 100k in LGA\")\n",
    "#plt.figure(figsize=(800,600))\n",
    "plt.show"
   ]
  },
  {
   "cell_type": "code",
   "execution_count": null,
   "id": "1650f3fc",
   "metadata": {
    "scrolled": true
   },
   "outputs": [],
   "source": []
  },
  {
   "cell_type": "code",
   "execution_count": null,
   "id": "95923b28",
   "metadata": {},
   "outputs": [],
   "source": []
  },
  {
   "cell_type": "code",
   "execution_count": null,
   "id": "da623268",
   "metadata": {},
   "outputs": [],
   "source": []
  },
  {
   "cell_type": "code",
   "execution_count": null,
   "id": "6b226f4f",
   "metadata": {
    "scrolled": true
   },
   "outputs": [],
   "source": []
  }
 ],
 "metadata": {
  "kernelspec": {
   "display_name": "Python 3 (ipykernel)",
   "language": "python",
   "name": "python3"
  },
  "language_info": {
   "codemirror_mode": {
    "name": "ipython",
    "version": 3
   },
   "file_extension": ".py",
   "mimetype": "text/x-python",
   "name": "python",
   "nbconvert_exporter": "python",
   "pygments_lexer": "ipython3",
   "version": "3.9.7"
  }
 },
 "nbformat": 4,
 "nbformat_minor": 5
}
