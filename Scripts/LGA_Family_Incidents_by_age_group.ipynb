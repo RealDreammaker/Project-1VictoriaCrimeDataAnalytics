{
 "cells": [
  {
   "cell_type": "code",
   "execution_count": 1,
   "id": "815ba949-80a6-4806-b4b6-5e44385fd9ef",
   "metadata": {
    "ExecuteTime": {
     "end_time": "2022-01-02T03:24:18.028884Z",
     "start_time": "2022-01-02T03:24:16.398352Z"
    }
   },
   "outputs": [],
   "source": [
    "# Dependencies and Setup\n",
    "import matplotlib.pyplot as plt\n",
    "import pandas as pd\n",
    "import scipy.stats as st\n",
    "import numpy as np"
   ]
  },
  {
   "cell_type": "code",
   "execution_count": 4,
   "id": "c70f60f3-c3d9-45b7-b057-77eaf0b203cc",
   "metadata": {
    "ExecuteTime": {
     "end_time": "2022-01-02T03:24:36.664042Z",
     "start_time": "2022-01-02T03:24:36.275204Z"
    }
   },
   "outputs": [],
   "source": [
    "Family_incidents_xlx_path = pd.ExcelFile(\"..\\Data\\LGA_Family_Incidents_Year_Ending_September_2021.xlsx\")"
   ]
  },
  {
   "cell_type": "code",
   "execution_count": 5,
   "id": "669c7042-3cf5-43d9-a23c-2da4d803e941",
   "metadata": {
    "ExecuteTime": {
     "end_time": "2022-01-02T03:24:38.642117Z",
     "start_time": "2022-01-02T03:24:38.443275Z"
    }
   },
   "outputs": [],
   "source": [
    "Family_incidents_df = pd.read_excel(Family_incidents_xlx_path,'Table 02')"
   ]
  },
  {
   "cell_type": "code",
   "execution_count": 6,
   "id": "637d2c86-a409-420a-b4dc-6c14f7b92d0b",
   "metadata": {
    "ExecuteTime": {
     "end_time": "2022-01-02T03:24:39.417052Z",
     "start_time": "2022-01-02T03:24:39.402449Z"
    }
   },
   "outputs": [
    {
     "data": {
      "text/html": [
       "<div>\n",
       "<style scoped>\n",
       "    .dataframe tbody tr th:only-of-type {\n",
       "        vertical-align: middle;\n",
       "    }\n",
       "\n",
       "    .dataframe tbody tr th {\n",
       "        vertical-align: top;\n",
       "    }\n",
       "\n",
       "    .dataframe thead th {\n",
       "        text-align: right;\n",
       "    }\n",
       "</style>\n",
       "<table border=\"1\" class=\"dataframe\">\n",
       "  <thead>\n",
       "    <tr style=\"text-align: right;\">\n",
       "      <th></th>\n",
       "      <th>Year</th>\n",
       "      <th>Year ending</th>\n",
       "      <th>Local Government Area</th>\n",
       "      <th>Age Group</th>\n",
       "      <th>AFM Counter</th>\n",
       "    </tr>\n",
       "  </thead>\n",
       "  <tbody>\n",
       "    <tr>\n",
       "      <th>0</th>\n",
       "      <td>2021</td>\n",
       "      <td>September</td>\n",
       "      <td>Alpine</td>\n",
       "      <td>00 - 17 years</td>\n",
       "      <td>17.0</td>\n",
       "    </tr>\n",
       "    <tr>\n",
       "      <th>1</th>\n",
       "      <td>2021</td>\n",
       "      <td>September</td>\n",
       "      <td>Alpine</td>\n",
       "      <td>18 - 24 years</td>\n",
       "      <td>12.0</td>\n",
       "    </tr>\n",
       "    <tr>\n",
       "      <th>2</th>\n",
       "      <td>2021</td>\n",
       "      <td>September</td>\n",
       "      <td>Alpine</td>\n",
       "      <td>25 - 34 years</td>\n",
       "      <td>26.0</td>\n",
       "    </tr>\n",
       "    <tr>\n",
       "      <th>3</th>\n",
       "      <td>2021</td>\n",
       "      <td>September</td>\n",
       "      <td>Alpine</td>\n",
       "      <td>35 - 44 years</td>\n",
       "      <td>37.0</td>\n",
       "    </tr>\n",
       "    <tr>\n",
       "      <th>4</th>\n",
       "      <td>2021</td>\n",
       "      <td>September</td>\n",
       "      <td>Alpine</td>\n",
       "      <td>45 - 54 years</td>\n",
       "      <td>28.0</td>\n",
       "    </tr>\n",
       "  </tbody>\n",
       "</table>\n",
       "</div>"
      ],
      "text/plain": [
       "   Year Year ending Local Government Area      Age Group  AFM Counter\n",
       "0  2021   September                Alpine  00 - 17 years         17.0\n",
       "1  2021   September                Alpine  18 - 24 years         12.0\n",
       "2  2021   September                Alpine  25 - 34 years         26.0\n",
       "3  2021   September                Alpine  35 - 44 years         37.0\n",
       "4  2021   September                Alpine  45 - 54 years         28.0"
      ]
     },
     "execution_count": 6,
     "metadata": {},
     "output_type": "execute_result"
    }
   ],
   "source": [
    "Family_incidents_df.head()"
   ]
  },
  {
   "cell_type": "code",
   "execution_count": 7,
   "id": "ba453997-a5b4-4943-8ecd-5d8cc357c7a8",
   "metadata": {
    "ExecuteTime": {
     "end_time": "2022-01-02T03:24:40.233324Z",
     "start_time": "2022-01-02T03:24:40.218935Z"
    }
   },
   "outputs": [
    {
     "data": {
      "text/plain": [
       "Year                     2364\n",
       "Year ending              2364\n",
       "Local Government Area    2364\n",
       "Age Group                2364\n",
       "AFM Counter              2339\n",
       "dtype: int64"
      ]
     },
     "execution_count": 7,
     "metadata": {},
     "output_type": "execute_result"
    }
   ],
   "source": [
    "Family_incidents_df.count()"
   ]
  },
  {
   "cell_type": "code",
   "execution_count": 8,
   "id": "c023c684-fcad-4bc5-93c9-4e47067f501d",
   "metadata": {
    "ExecuteTime": {
     "end_time": "2022-01-02T03:24:41.405184Z",
     "start_time": "2022-01-02T03:24:41.380186Z"
    }
   },
   "outputs": [
    {
     "data": {
      "text/html": [
       "<div>\n",
       "<style scoped>\n",
       "    .dataframe tbody tr th:only-of-type {\n",
       "        vertical-align: middle;\n",
       "    }\n",
       "\n",
       "    .dataframe tbody tr th {\n",
       "        vertical-align: top;\n",
       "    }\n",
       "\n",
       "    .dataframe thead th {\n",
       "        text-align: right;\n",
       "    }\n",
       "</style>\n",
       "<table border=\"1\" class=\"dataframe\">\n",
       "  <thead>\n",
       "    <tr style=\"text-align: right;\">\n",
       "      <th></th>\n",
       "      <th></th>\n",
       "      <th>sum</th>\n",
       "    </tr>\n",
       "    <tr>\n",
       "      <th>Year</th>\n",
       "      <th>Age Group</th>\n",
       "      <th></th>\n",
       "    </tr>\n",
       "  </thead>\n",
       "  <tbody>\n",
       "    <tr>\n",
       "      <th rowspan=\"6\" valign=\"top\">2017</th>\n",
       "      <th>00 - 17 years</th>\n",
       "      <td>7538.0</td>\n",
       "    </tr>\n",
       "    <tr>\n",
       "      <th>18 - 24 years</th>\n",
       "      <td>10523.0</td>\n",
       "    </tr>\n",
       "    <tr>\n",
       "      <th>25 - 34 years</th>\n",
       "      <td>17978.0</td>\n",
       "    </tr>\n",
       "    <tr>\n",
       "      <th>35 - 44 years</th>\n",
       "      <td>17360.0</td>\n",
       "    </tr>\n",
       "    <tr>\n",
       "      <th>45 - 54 years</th>\n",
       "      <td>12176.0</td>\n",
       "    </tr>\n",
       "    <tr>\n",
       "      <th>55+ years</th>\n",
       "      <td>8633.0</td>\n",
       "    </tr>\n",
       "    <tr>\n",
       "      <th rowspan=\"4\" valign=\"top\">2018</th>\n",
       "      <th>00 - 17 years</th>\n",
       "      <td>7088.0</td>\n",
       "    </tr>\n",
       "    <tr>\n",
       "      <th>18 - 24 years</th>\n",
       "      <td>10775.0</td>\n",
       "    </tr>\n",
       "    <tr>\n",
       "      <th>25 - 34 years</th>\n",
       "      <td>19259.0</td>\n",
       "    </tr>\n",
       "    <tr>\n",
       "      <th>35 - 44 years</th>\n",
       "      <td>17777.0</td>\n",
       "    </tr>\n",
       "  </tbody>\n",
       "</table>\n",
       "</div>"
      ],
      "text/plain": [
       "                        sum\n",
       "Year Age Group             \n",
       "2017 00 - 17 years   7538.0\n",
       "     18 - 24 years  10523.0\n",
       "     25 - 34 years  17978.0\n",
       "     35 - 44 years  17360.0\n",
       "     45 - 54 years  12176.0\n",
       "     55+ years       8633.0\n",
       "2018 00 - 17 years   7088.0\n",
       "     18 - 24 years  10775.0\n",
       "     25 - 34 years  19259.0\n",
       "     35 - 44 years  17777.0"
      ]
     },
     "execution_count": 8,
     "metadata": {},
     "output_type": "execute_result"
    }
   ],
   "source": [
    "AFM_by_age = Family_incidents_df.groupby(['Year','Age Group'])['AFM Counter'].agg(['sum'])\n",
    "AFM_by_age.head(10)"
   ]
  },
  {
   "cell_type": "code",
   "execution_count": 9,
   "id": "cbd2fb3c-e073-428f-8318-6c7c4716b3c9",
   "metadata": {
    "ExecuteTime": {
     "end_time": "2022-01-02T03:24:42.102119Z",
     "start_time": "2022-01-02T03:24:42.091110Z"
    }
   },
   "outputs": [
    {
     "data": {
      "text/html": [
       "<div>\n",
       "<style scoped>\n",
       "    .dataframe tbody tr th:only-of-type {\n",
       "        vertical-align: middle;\n",
       "    }\n",
       "\n",
       "    .dataframe tbody tr th {\n",
       "        vertical-align: top;\n",
       "    }\n",
       "\n",
       "    .dataframe thead th {\n",
       "        text-align: right;\n",
       "    }\n",
       "</style>\n",
       "<table border=\"1\" class=\"dataframe\">\n",
       "  <thead>\n",
       "    <tr style=\"text-align: right;\">\n",
       "      <th></th>\n",
       "      <th>sum</th>\n",
       "    </tr>\n",
       "    <tr>\n",
       "      <th>Age Group</th>\n",
       "      <th></th>\n",
       "    </tr>\n",
       "  </thead>\n",
       "  <tbody>\n",
       "    <tr>\n",
       "      <th>00 - 17 years</th>\n",
       "      <td>36450.0</td>\n",
       "    </tr>\n",
       "    <tr>\n",
       "      <th>18 - 24 years</th>\n",
       "      <td>55500.0</td>\n",
       "    </tr>\n",
       "    <tr>\n",
       "      <th>25 - 34 years</th>\n",
       "      <td>102026.0</td>\n",
       "    </tr>\n",
       "    <tr>\n",
       "      <th>35 - 44 years</th>\n",
       "      <td>96929.0</td>\n",
       "    </tr>\n",
       "    <tr>\n",
       "      <th>45 - 54 years</th>\n",
       "      <td>70318.0</td>\n",
       "    </tr>\n",
       "  </tbody>\n",
       "</table>\n",
       "</div>"
      ],
      "text/plain": [
       "                    sum\n",
       "Age Group              \n",
       "00 - 17 years   36450.0\n",
       "18 - 24 years   55500.0\n",
       "25 - 34 years  102026.0\n",
       "35 - 44 years   96929.0\n",
       "45 - 54 years   70318.0"
      ]
     },
     "execution_count": 9,
     "metadata": {},
     "output_type": "execute_result"
    }
   ],
   "source": [
    "Total_Age_Group = Family_incidents_df.groupby(['Age Group'])['AFM Counter'].agg(['sum'])\n",
    "Total_Age_Group.head()"
   ]
  },
  {
   "cell_type": "code",
   "execution_count": 10,
   "id": "1fa34728-b0ed-491a-bd0f-a7d7a154cfaa",
   "metadata": {
    "ExecuteTime": {
     "end_time": "2022-01-02T03:24:42.754815Z",
     "start_time": "2022-01-02T03:24:42.731801Z"
    }
   },
   "outputs": [
    {
     "data": {
      "text/html": [
       "<div>\n",
       "<style scoped>\n",
       "    .dataframe tbody tr th:only-of-type {\n",
       "        vertical-align: middle;\n",
       "    }\n",
       "\n",
       "    .dataframe tbody tr th {\n",
       "        vertical-align: top;\n",
       "    }\n",
       "\n",
       "    .dataframe thead th {\n",
       "        text-align: right;\n",
       "    }\n",
       "</style>\n",
       "<table border=\"1\" class=\"dataframe\">\n",
       "  <thead>\n",
       "    <tr style=\"text-align: right;\">\n",
       "      <th></th>\n",
       "      <th>sum</th>\n",
       "    </tr>\n",
       "    <tr>\n",
       "      <th>Year</th>\n",
       "      <th></th>\n",
       "    </tr>\n",
       "  </thead>\n",
       "  <tbody>\n",
       "    <tr>\n",
       "      <th>2017</th>\n",
       "      <td>74208.0</td>\n",
       "    </tr>\n",
       "    <tr>\n",
       "      <th>2018</th>\n",
       "      <td>76895.0</td>\n",
       "    </tr>\n",
       "    <tr>\n",
       "      <th>2019</th>\n",
       "      <td>82674.0</td>\n",
       "    </tr>\n",
       "    <tr>\n",
       "      <th>2020</th>\n",
       "      <td>88742.0</td>\n",
       "    </tr>\n",
       "    <tr>\n",
       "      <th>2021</th>\n",
       "      <td>91143.0</td>\n",
       "    </tr>\n",
       "  </tbody>\n",
       "</table>\n",
       "</div>"
      ],
      "text/plain": [
       "          sum\n",
       "Year         \n",
       "2017  74208.0\n",
       "2018  76895.0\n",
       "2019  82674.0\n",
       "2020  88742.0\n",
       "2021  91143.0"
      ]
     },
     "execution_count": 10,
     "metadata": {},
     "output_type": "execute_result"
    }
   ],
   "source": [
    "Total_by_year = Family_incidents_df.groupby(['Year'])['AFM Counter'].agg(['sum'])\n",
    "Total_by_year.head(10)"
   ]
  },
  {
   "cell_type": "code",
   "execution_count": 11,
   "id": "6662ebda-804f-4b8e-adcc-fc6f16f77b5e",
   "metadata": {
    "ExecuteTime": {
     "end_time": "2022-01-02T03:24:43.625006Z",
     "start_time": "2022-01-02T03:24:43.411986Z"
    }
   },
   "outputs": [
    {
     "data": {
      "text/plain": [
       "<function matplotlib.pyplot.show(close=None, block=None)>"
      ]
     },
     "execution_count": 11,
     "metadata": {},
     "output_type": "execute_result"
    },
    {
     "data": {
      "image/png": "[encoded data removed]",
      "text/plain": [
       "<Figure size 432x288 with 1 Axes>"
      ]
     },
     "metadata": {
      "needs_background": "light"
     },
     "output_type": "display_data"
    }
   ],
   "source": [
    "x = np.arange(2017,2022,1)\n",
    "plt.plot(x,Total_by_year, marker=\"o\", color=\"red\", linewidth=1, label=\"AFM Counter\")\n",
    "plt.legend(loc='lower right', bbox_to_anchor=(1, 0.2))\n",
    "plt.title(\"Affected Family Members over last 5 years\")\n",
    "plt.xlabel(\"Year\")\n",
    "plt.ylabel(\"Affected Family Members\")\n",
    "plt.show"
   ]
  },
  {
   "cell_type": "code",
   "execution_count": 12,
   "id": "494a359d-5567-4702-8c2c-b2de2a897278",
   "metadata": {
    "ExecuteTime": {
     "end_time": "2022-01-02T03:24:46.429747Z",
     "start_time": "2022-01-02T03:24:46.410737Z"
    }
   },
   "outputs": [],
   "source": [
    "Age_Groups = ['00 - 17 years','18 - 24 years','25 - 34 years','35 - 44 years','35 - 44 years']\n",
    "Affected_Family_Memebers = [36450.0,55500.0,102026.0,96929.0,70318.0]\n",
    "colors = [\"yellow\",\"green\",\"lightblue\",\"orange\",\"lightcoral\"]\n",
    "explode = (0,0,0.1,0,0)"
   ]
  },
  {
   "cell_type": "code",
   "execution_count": 13,
   "id": "913d9b68-6105-439d-9836-c9007e7c73de",
   "metadata": {
    "ExecuteTime": {
     "end_time": "2022-01-02T03:24:47.096987Z",
     "start_time": "2022-01-02T03:24:46.979941Z"
    }
   },
   "outputs": [
    {
     "data": {
      "image/png": "[encoded data removed]",
      "text/plain": [
       "<Figure size 432x288 with 1 Axes>"
      ]
     },
     "metadata": {},
     "output_type": "display_data"
    }
   ],
   "source": [
    "plt.pie(Affected_Family_Memebers, explode=explode, labels=Age_Groups, colors=colors,\n",
    "        autopct=\"%1.1f%%\", shadow=True, startangle=140)\n",
    "plt.title(\"% of affected family members for different age group over last 5 years\")\n",
    "plt.axis(\"equal\")\n",
    "plt.show()"
   ]
  },
  {
   "cell_type": "code",
   "execution_count": null,
   "id": "b393b3e7-e624-46a9-bad3-25fe96aac4a1",
   "metadata": {},
   "outputs": [],
   "source": []
  }
 ],
 "metadata": {
  "kernelspec": {
   "display_name": "Python 3 (ipykernel)",
   "language": "python",
   "name": "python3"
  },
  "language_info": {
   "codemirror_mode": {
    "name": "ipython",
    "version": 3
   },
   "file_extension": ".py",
   "mimetype": "text/x-python",
   "name": "python",
   "nbconvert_exporter": "python",
   "pygments_lexer": "ipython3",
   "version": "3.9.7"
  }
 },
 "nbformat": 4,
 "nbformat_minor": 5
}
