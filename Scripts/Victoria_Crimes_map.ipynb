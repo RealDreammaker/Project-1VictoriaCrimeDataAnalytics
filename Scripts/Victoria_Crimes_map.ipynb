{
 "cells": [
  {
   "cell_type": "code",
   "execution_count": 1,
   "id": "ab2575c5",
   "metadata": {
    "ExecuteTime": {
     "end_time": "2022-01-01T13:29:30.179953Z",
     "start_time": "2022-01-01T13:29:28.280182Z"
    }
   },
   "outputs": [
    {
     "ename": "ModuleNotFoundError",
     "evalue": "No module named 'shapefile'",
     "output_type": "error",
     "traceback": [
      "\u001b[1;31m---------------------------------------------------------------------------\u001b[0m",
      "\u001b[1;31mModuleNotFoundError\u001b[0m                       Traceback (most recent call last)",
      "\u001b[1;32m<ipython-input-1-f881dff8870e>\u001b[0m in \u001b[0;36m<module>\u001b[1;34m\u001b[0m\n\u001b[0;32m      2\u001b[0m \u001b[1;32mimport\u001b[0m \u001b[0mnumpy\u001b[0m \u001b[1;32mas\u001b[0m \u001b[0mnp\u001b[0m\u001b[1;33m\u001b[0m\u001b[1;33m\u001b[0m\u001b[0m\n\u001b[0;32m      3\u001b[0m \u001b[1;32mimport\u001b[0m \u001b[0mpandas\u001b[0m \u001b[1;32mas\u001b[0m \u001b[0mpd\u001b[0m\u001b[1;33m\u001b[0m\u001b[1;33m\u001b[0m\u001b[0m\n\u001b[1;32m----> 4\u001b[1;33m \u001b[1;32mimport\u001b[0m \u001b[0mshapefile\u001b[0m \u001b[1;32mas\u001b[0m \u001b[0mshp\u001b[0m\u001b[1;33m\u001b[0m\u001b[1;33m\u001b[0m\u001b[0m\n\u001b[0m\u001b[0;32m      5\u001b[0m \u001b[1;32mimport\u001b[0m \u001b[0mmatplotlib\u001b[0m\u001b[1;33m.\u001b[0m\u001b[0mpyplot\u001b[0m \u001b[1;32mas\u001b[0m \u001b[0mplt\u001b[0m\u001b[1;33m\u001b[0m\u001b[1;33m\u001b[0m\u001b[0m\n\u001b[0;32m      6\u001b[0m \u001b[1;32mimport\u001b[0m \u001b[0mseaborn\u001b[0m \u001b[1;32mas\u001b[0m \u001b[0msns\u001b[0m\u001b[1;33m\u001b[0m\u001b[1;33m\u001b[0m\u001b[0m\n",
      "\u001b[1;31mModuleNotFoundError\u001b[0m: No module named 'shapefile'"
     ]
    }
   ],
   "source": [
    "# Import the required libraries and dependencies\n",
    "import numpy as np\n",
    "import pandas as pd\n",
    "import shapefile as shp\n",
    "import matplotlib.pyplot as plt\n",
    "import seaborn as sns\n",
    "from shapely.geometry import Polygon\n",
    "from shapely.geometry import Point\n",
    "\n",
    "import os\n",
    "\n",
    "%matplotlib inline\n",
    "import geopandas as gpd\n",
    "\n",
    "import warnings\n",
    "warnings.filterwarnings(\"ignore\")\n"
   ]
  },
  {
   "cell_type": "code",
   "execution_count": null,
   "id": "46b43a31",
   "metadata": {
    "ExecuteTime": {
     "end_time": "2022-01-01T13:29:32.013269Z",
     "start_time": "2022-01-01T13:29:31.588762Z"
    }
   },
   "outputs": [],
   "source": [
    "# Read polygon shape file to catpture vic Local Government Areas information\n",
    "shp_path = \"../Data/NOV21_VIC_LGA_POLYGON_shp/vic_lga.shp\"\n",
    "govpolmap = gpd.read_file(shp_path)\n",
    "govpolmap.head(10)"
   ]
  },
  {
   "cell_type": "code",
   "execution_count": null,
   "id": "f1fe69e4",
   "metadata": {
    "ExecuteTime": {
     "end_time": "2022-01-01T13:29:38.679001Z",
     "start_time": "2022-01-01T13:29:38.244743Z"
    }
   },
   "outputs": [],
   "source": [
    "# Get Criminal Incidents detail from the excel file\n",
    "path = \"../Data/\"\n",
    "xls_lga_ci = pd.ExcelFile(path+'LGA_Criminal_Incidents_Year_Ending_September_2021.xlsx')\n",
    "\n",
    "# Use data in the worksheet \"Table01\" of the Criminal Incidents file\n",
    "lga_ci_tab1 = pd.read_excel(xls_lga_ci, \"Table 01\")\n",
    "\n",
    "# Create a dataframe to store data from the Criminal Incidents excel file\n",
    "lga_ci = lga_ci_tab1[lga_ci_tab1['Local Government Area'] != 'Total']"
   ]
  },
  {
   "cell_type": "code",
   "execution_count": null,
   "id": "6c70c92a",
   "metadata": {
    "ExecuteTime": {
     "end_time": "2022-01-01T13:29:41.183024Z",
     "start_time": "2022-01-01T13:29:41.052714Z"
    }
   },
   "outputs": [],
   "source": [
    "# Read recorded offences file\n",
    "xls_lga_ro = pd.ExcelFile(path+'LGA_Recorded_Offences_Year_Ending_September_2021.xlsx')\n",
    "\n",
    "# Use data in the worksheet \"Table01\" of the Criminal Incidents file\n",
    "lga_ro_tab1 = pd.read_excel(xls_lga_ro, \"Table 01\")\n",
    "\n",
    "# Create a dataframe to store data from the recorded offences excel file\n",
    "lga_ro = lga_ro_tab1[lga_ro_tab1['Local Government Area'] != 'Total']"
   ]
  },
  {
   "cell_type": "code",
   "execution_count": null,
   "id": "655f1573",
   "metadata": {
    "ExecuteTime": {
     "end_time": "2022-01-01T13:29:41.409880Z",
     "start_time": "2022-01-01T13:29:41.237244Z"
    }
   },
   "outputs": [],
   "source": [
    "# Read alleged offenders file\n",
    "xls_lga_ao = pd.ExcelFile(path+'LGA_Alleged_Offenders_Year_Ending_September_2021.xlsx')\n",
    "\n",
    "lga_ao_tab1 = pd.read_excel(xls_lga_ao, \"Table 01\")\n",
    "\n",
    "# Create a dataframe to store data from the alleged offenders excel file\n",
    "lga_ao = lga_ao_tab1[lga_ao_tab1['Local Government Area'] != 'Total']"
   ]
  },
  {
   "cell_type": "code",
   "execution_count": null,
   "id": "57bfe7ee",
   "metadata": {
    "ExecuteTime": {
     "end_time": "2022-01-01T13:29:41.584011Z",
     "start_time": "2022-01-01T13:29:41.411862Z"
    }
   },
   "outputs": [],
   "source": [
    "# Read victims report file\n",
    "xls_lga_vr = pd.ExcelFile(path+'LGA_Victim_Reports_Year_Ending_September_2021.xlsx')\n",
    "\n",
    "lga_vr_tab1 = pd.read_excel(xls_lga_vr, \"Table 01\")\n",
    "\n",
    "# Create a dataframe to store data from the victim reports excel file\n",
    "lga_vr = lga_vr_tab1[lga_vr_tab1['Local Government Area'] != 'Total']"
   ]
  },
  {
   "cell_type": "code",
   "execution_count": null,
   "id": "cf94fee5",
   "metadata": {
    "ExecuteTime": {
     "end_time": "2022-01-01T13:29:41.883338Z",
     "start_time": "2022-01-01T13:29:41.586013Z"
    }
   },
   "outputs": [],
   "source": [
    "# Read family incidents file\n",
    "xls_lga_fi = pd.ExcelFile(path+'LGA_Family_Incidents_Year_Ending_September_2021.xlsx')\n",
    "\n",
    "lga_fi_tab1 = pd.read_excel(xls_lga_fi, \"Table 01\")\n",
    "\n",
    "# Create a dataframe to store data from the family incidents excel file\n",
    "lga_fi = lga_fi_tab1[lga_fi_tab1['Local Government Area'] != 'Total']"
   ]
  },
  {
   "cell_type": "code",
   "execution_count": null,
   "id": "0c8f67ec",
   "metadata": {
    "ExecuteTime": {
     "end_time": "2022-01-01T13:29:41.899348Z",
     "start_time": "2022-01-01T13:29:41.885345Z"
    }
   },
   "outputs": [],
   "source": [
    "# Initialise variable\n",
    "incidents_by_lga = []\n",
    "lga_df=[]\n",
    "\n",
    "# Copy the lga_ci dataframe with selected columns\n",
    "lga_df  = lga_ci[[\"Year\",\"Police Region\",\"Local Government Area\",\"Incidents Recorded\"]]\n",
    "lga_df = lga_df.rename(columns={\"Incidents Recorded\": \"Average Criminal Incidents\"})\n",
    "lga_df"
   ]
  },
  {
   "cell_type": "code",
   "execution_count": null,
   "id": "4af0403f",
   "metadata": {
    "ExecuteTime": {
     "end_time": "2022-01-01T13:29:41.915351Z",
     "start_time": "2022-01-01T13:29:41.901348Z"
    }
   },
   "outputs": [],
   "source": [
    "# Add more columns with recorded offence, alleged incidents and victim reports data\n",
    "lga_df[\"Average Recorded Offence Count\"]=lga_ro[\"Offence Count\"]\n",
    "lga_df[\"Average Alleged Incidents\"] = lga_ao[\"Alleged Offender Incidents\"]\n",
    "lga_df[\"Average Victim Reports\"] = lga_vr[\"Victim Reports\"]\n",
    "lga_df"
   ]
  },
  {
   "cell_type": "code",
   "execution_count": null,
   "id": "abe335e1",
   "metadata": {
    "ExecuteTime": {
     "end_time": "2022-01-01T13:29:42.085650Z",
     "start_time": "2022-01-01T13:29:42.059704Z"
    }
   },
   "outputs": [],
   "source": [
    "# Calculate the average population and average rate per 100K population in each LGA\n",
    "lga_df[\"Average Population\"] = lga_ci['Incidents Recorded']/lga_ci['Rate per 100,000 population']*100000 + \\\n",
    "                            lga_ro['Offence Count']/lga_ro['Rate per 100,000 population']*100000 + \\\n",
    "                            lga_ao['Alleged Offender Incidents']/lga_ao['Rate per 100,000 population']*100000 + \\\n",
    "                            lga_vr['Victim Reports']/lga_vr['Rate per 100,000 population']*100000\n",
    "\n",
    "lga_df[\"Average Rate per 100K Population\"] = lga_ci['Rate per 100,000 population'] + \\\n",
    "                                     lga_ro['Rate per 100,000 population'] + \\\n",
    "                                     lga_ao['Rate per 100,000 population'] + \\\n",
    "                                     lga_vr['Rate per 100,000 population']\n",
    "\n",
    "lga_df"
   ]
  },
  {
   "cell_type": "code",
   "execution_count": null,
   "id": "3437cdf4",
   "metadata": {
    "ExecuteTime": {
     "end_time": "2022-01-01T13:29:42.270094Z",
     "start_time": "2022-01-01T13:29:42.243595Z"
    }
   },
   "outputs": [],
   "source": [
    "# Create new data frame to hold police region information, formatting police region's name and reset index\n",
    "region = []\n",
    "region = lga_df[[\"Local Government Area\",\"Police Region\"]]\n",
    "region = region.drop_duplicates(subset=\"Local Government Area\").reset_index(drop=True)\n",
    "\n",
    "# Data cleaning process -\n",
    "# Drop non-police region rows\n",
    "region = region.drop([79,80])\n",
    "\n",
    "# Sort dataframe by column Local Goverment Area \n",
    "region = region.sort_values(\"Local Government Area\").reset_index(drop=True)\n",
    "\n",
    "# Data cleaning process -\n",
    "# Slice the name of Police Region to remove the prefix number\n",
    "region[\"Police Region\"] = region[\"Police Region\"].str.slice(start=(2))\n",
    "\n",
    "region"
   ]
  },
  {
   "cell_type": "code",
   "execution_count": null,
   "id": "d1a1f499",
   "metadata": {
    "ExecuteTime": {
     "end_time": "2022-01-01T13:29:42.441239Z",
     "start_time": "2022-01-01T13:29:42.411239Z"
    }
   },
   "outputs": [],
   "source": [
    "# Initialise & create a new dataframe that groupby \"Local Government Area\" to hold the average values of the crime data\n",
    "lga_df_grpby_lga = []\n",
    "lga_df_grpby_lga = lga_df.groupby([\"Local Government Area\"]).mean()\n",
    "\n",
    "# Data cleaning process -\n",
    "# Removed all the NaN rows, ie. row index 34 & 69, reset index and drop the unused \"Year\" column\n",
    "lga_df_grpby_lga = lga_df_grpby_lga.dropna().reset_index(drop=True)\n",
    "lga_df_grpby_lga = lga_df_grpby_lga.drop(\"Year\", axis=1)\n",
    "lga_df_grpby_lga"
   ]
  },
  {
   "cell_type": "code",
   "execution_count": null,
   "id": "99ff4ad8",
   "metadata": {
    "ExecuteTime": {
     "end_time": "2022-01-01T13:29:42.787365Z",
     "start_time": "2022-01-01T13:29:42.573274Z"
    }
   },
   "outputs": [],
   "source": [
    "# Initialise variable for shapefile data frame\n",
    "new_polymap = []\n",
    "\n",
    "# Data cleaning process - \n",
    "# Select only the required columns from the government shape file and drop rows that contain no LGA details by its index\n",
    "new_polymap = govpolmap[[\"ABB_NAME\", \"geometry\"]]\n",
    "new_polymap = new_polymap.drop([21,23,24,25,26,43,62,63,64,65])\n",
    "new_polymap.head(10) "
   ]
  },
  {
   "cell_type": "code",
   "execution_count": null,
   "id": "3931656c",
   "metadata": {
    "ExecuteTime": {
     "end_time": "2022-01-01T13:29:43.197890Z",
     "start_time": "2022-01-01T13:29:42.789359Z"
    }
   },
   "outputs": [],
   "source": [
    "# Data cleaning process - \n",
    "# Drop duplicated rows if found in the shape file under column ABB_NAME as only one LGA name is required for the plot\n",
    "unique_new_polymap = new_polymap.drop_duplicates(subset='ABB_NAME').reset_index(drop=True)\n",
    "\n",
    "unique_new_polymap "
   ]
  },
  {
   "cell_type": "code",
   "execution_count": null,
   "id": "dfa267e7",
   "metadata": {
    "ExecuteTime": {
     "end_time": "2022-01-01T13:29:43.213615Z",
     "start_time": "2022-01-01T13:29:43.199881Z"
    }
   },
   "outputs": [],
   "source": [
    "# Create all_crime_df with geometry information\n",
    "all_crime_df = []\n",
    "all_crime_df = pd.concat([unique_new_polymap,lga_df_grpby_lga],axis=1,join=\"outer\")"
   ]
  },
  {
   "cell_type": "code",
   "execution_count": null,
   "id": "582ecbdc",
   "metadata": {
    "ExecuteTime": {
     "end_time": "2022-01-01T13:29:43.228369Z",
     "start_time": "2022-01-01T13:29:43.214355Z"
    }
   },
   "outputs": [],
   "source": [
    "# Rename column ABB_Name to \"LGA\" and round all float numbers to 2 decimal points\n",
    "all_crime_df = all_crime_df.rename(columns={\"ABB_NAME\": \"LGA\"})\n",
    "all_crime_df = all_crime_df.round(decimals=2)"
   ]
  },
  {
   "cell_type": "code",
   "execution_count": null,
   "id": "c8fa0049",
   "metadata": {
    "ExecuteTime": {
     "end_time": "2022-01-01T13:29:43.646420Z",
     "start_time": "2022-01-01T13:29:43.235363Z"
    }
   },
   "outputs": [],
   "source": [
    "# Join police region to the final all_crime_df_byregion for plotting graph\n",
    "all_crime_df_byregion = pd.concat([all_crime_df,region],axis=1,join=\"outer\")\n",
    "all_crime_df_byregion"
   ]
  },
  {
   "cell_type": "code",
   "execution_count": null,
   "id": "b07bee58",
   "metadata": {
    "ExecuteTime": {
     "end_time": "2022-01-01T13:29:50.265593Z",
     "start_time": "2022-01-01T13:29:43.648423Z"
    }
   },
   "outputs": [],
   "source": [
    "# PLotting map contains crime details by LGA on average of 10 years, from 2012 to 2021\n",
    "all_crime_df_byregion.explore(\"Average Rate per 100K Population\")"
   ]
  },
  {
   "cell_type": "code",
   "execution_count": null,
   "id": "86684e9f",
   "metadata": {
    "ExecuteTime": {
     "end_time": "2022-01-01T13:29:56.930670Z",
     "start_time": "2022-01-01T13:29:50.265593Z"
    }
   },
   "outputs": [],
   "source": [
    "# Plot crime map based on police region\n",
    "all_crime_df_byregion.explore(\"Police Region\")"
   ]
  },
  {
   "cell_type": "code",
   "execution_count": null,
   "id": "66e3ea4a",
   "metadata": {},
   "outputs": [],
   "source": []
  }
 ],
 "metadata": {
  "kernelspec": {
   "display_name": "Python 3",
   "language": "python",
   "name": "python3"
  },
  "language_info": {
   "codemirror_mode": {
    "name": "ipython",
    "version": 3
   },
   "file_extension": ".py",
   "mimetype": "text/x-python",
   "name": "python",
   "nbconvert_exporter": "python",
   "pygments_lexer": "ipython3",
   "version": "3.8.8"
  }
 },
 "nbformat": 4,
 "nbformat_minor": 5
}

