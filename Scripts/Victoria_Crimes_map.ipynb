version https://git-lfs.github.com/spec/v1
oid sha256:cc5c9df8d6b8d6e8e2b2705c8ade1134c4598f969707ca318a31ed392c0b3839
size 14588
