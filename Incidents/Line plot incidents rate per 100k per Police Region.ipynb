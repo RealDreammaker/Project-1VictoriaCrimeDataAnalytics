{
 "cells": [
  {
   "cell_type": "code",
   "execution_count": 6,
   "id": "1082e0ed",
   "metadata": {
    "scrolled": true
   },
   "outputs": [],
   "source": [
    "# Dependencies and Setup\n",
    "import matplotlib.pyplot as plt\n",
    "import pandas as pd\n",
    "import scipy.stats as st\n",
    "import numpy as np\n",
    "from sklearn import datasets\n",
    "from scipy.stats import linregress\n",
    "\n",
    "xls = pd.ExcelFile(\"../Data/Data_Tables_LGA_Criminal_Incidents_Year_Ending_September_2021.xlsx\")\n",
    "df = pd.read_excel (xls,'Table 01')"
   ]
  },
  {
   "cell_type": "code",
   "execution_count": 7,
   "id": "920bc557",
   "metadata": {
    "scrolled": true
   },
   "outputs": [
    {
     "data": {
      "text/html": [
       "<div>\n",
       "<style scoped>\n",
       "    .dataframe tbody tr th:only-of-type {\n",
       "        vertical-align: middle;\n",
       "    }\n",
       "\n",
       "    .dataframe tbody tr th {\n",
       "        vertical-align: top;\n",
       "    }\n",
       "\n",
       "    .dataframe thead th {\n",
       "        text-align: right;\n",
       "    }\n",
       "</style>\n",
       "<table border=\"1\" class=\"dataframe\">\n",
       "  <thead>\n",
       "    <tr style=\"text-align: right;\">\n",
       "      <th></th>\n",
       "      <th>Year</th>\n",
       "      <th>Year ending</th>\n",
       "      <th>Police Region</th>\n",
       "      <th>Local Government Area</th>\n",
       "      <th>Incidents Recorded</th>\n",
       "      <th>Rate per 100,000 population</th>\n",
       "    </tr>\n",
       "  </thead>\n",
       "  <tbody>\n",
       "    <tr>\n",
       "      <th>0</th>\n",
       "      <td>2021</td>\n",
       "      <td>September</td>\n",
       "      <td>1 North West Metro</td>\n",
       "      <td>Banyule</td>\n",
       "      <td>5666</td>\n",
       "      <td>4310.779038</td>\n",
       "    </tr>\n",
       "    <tr>\n",
       "      <th>1</th>\n",
       "      <td>2021</td>\n",
       "      <td>September</td>\n",
       "      <td>1 North West Metro</td>\n",
       "      <td>Brimbank</td>\n",
       "      <td>13161</td>\n",
       "      <td>6488.330843</td>\n",
       "    </tr>\n",
       "    <tr>\n",
       "      <th>2</th>\n",
       "      <td>2021</td>\n",
       "      <td>September</td>\n",
       "      <td>1 North West Metro</td>\n",
       "      <td>Darebin</td>\n",
       "      <td>10191</td>\n",
       "      <td>6180.887689</td>\n",
       "    </tr>\n",
       "    <tr>\n",
       "      <th>3</th>\n",
       "      <td>2021</td>\n",
       "      <td>September</td>\n",
       "      <td>1 North West Metro</td>\n",
       "      <td>Hobsons Bay</td>\n",
       "      <td>4473</td>\n",
       "      <td>4594.609322</td>\n",
       "    </tr>\n",
       "    <tr>\n",
       "      <th>4</th>\n",
       "      <td>2021</td>\n",
       "      <td>September</td>\n",
       "      <td>1 North West Metro</td>\n",
       "      <td>Hume</td>\n",
       "      <td>13396</td>\n",
       "      <td>5455.211528</td>\n",
       "    </tr>\n",
       "  </tbody>\n",
       "</table>\n",
       "</div>"
      ],
      "text/plain": [
       "   Year Year ending       Police Region Local Government Area  \\\n",
       "0  2021   September  1 North West Metro               Banyule   \n",
       "1  2021   September  1 North West Metro              Brimbank   \n",
       "2  2021   September  1 North West Metro               Darebin   \n",
       "3  2021   September  1 North West Metro           Hobsons Bay   \n",
       "4  2021   September  1 North West Metro                  Hume   \n",
       "\n",
       "   Incidents Recorded  Rate per 100,000 population  \n",
       "0                5666                  4310.779038  \n",
       "1               13161                  6488.330843  \n",
       "2               10191                  6180.887689  \n",
       "3                4473                  4594.609322  \n",
       "4               13396                  5455.211528  "
      ]
     },
     "execution_count": 7,
     "metadata": {},
     "output_type": "execute_result"
    }
   ],
   "source": [
    "df.head()"
   ]
  },
  {
   "cell_type": "code",
   "execution_count": null,
   "id": "11480f35",
   "metadata": {},
   "outputs": [],
   "source": []
  },
  {
   "cell_type": "markdown",
   "id": "a0d42c8b",
   "metadata": {},
   "source": [
    "## ANALYSIS OF \"Rate per 100k population\" OVER 10 YEARS FOR EACH POLICE REGION"
   ]
  },
  {
   "cell_type": "code",
   "execution_count": 8,
   "id": "c24169a2",
   "metadata": {
    "scrolled": false
   },
   "outputs": [
    {
     "data": {
      "text/plain": [
       "(60, 3)"
      ]
     },
     "execution_count": 8,
     "metadata": {},
     "output_type": "execute_result"
    }
   ],
   "source": [
    "fc = df.loc[df['Local Government Area']=='Total',['Year','Police Region','Rate per 100,000 population']]\n",
    "fc.shape"
   ]
  },
  {
   "cell_type": "code",
   "execution_count": 9,
   "id": "ce16cb0e",
   "metadata": {},
   "outputs": [
    {
     "data": {
      "text/plain": [
       "(40, 3)"
      ]
     },
     "execution_count": 9,
     "metadata": {},
     "output_type": "execute_result"
    }
   ],
   "source": [
    "c = fc.dropna(axis=0, how='any')\n",
    "c.shape"
   ]
  },
  {
   "cell_type": "code",
   "execution_count": 10,
   "id": "affd3fa4",
   "metadata": {},
   "outputs": [
    {
     "data": {
      "text/html": [
       "<div>\n",
       "<style scoped>\n",
       "    .dataframe tbody tr th:only-of-type {\n",
       "        vertical-align: middle;\n",
       "    }\n",
       "\n",
       "    .dataframe tbody tr th {\n",
       "        vertical-align: top;\n",
       "    }\n",
       "\n",
       "    .dataframe thead th {\n",
       "        text-align: right;\n",
       "    }\n",
       "</style>\n",
       "<table border=\"1\" class=\"dataframe\">\n",
       "  <thead>\n",
       "    <tr style=\"text-align: right;\">\n",
       "      <th></th>\n",
       "      <th>sum</th>\n",
       "      <th>mean</th>\n",
       "      <th>median</th>\n",
       "      <th>var</th>\n",
       "      <th>std</th>\n",
       "    </tr>\n",
       "    <tr>\n",
       "      <th>Year</th>\n",
       "      <th></th>\n",
       "      <th></th>\n",
       "      <th></th>\n",
       "      <th></th>\n",
       "      <th></th>\n",
       "    </tr>\n",
       "  </thead>\n",
       "  <tbody>\n",
       "    <tr>\n",
       "      <th>2012</th>\n",
       "      <td>23054.335049</td>\n",
       "      <td>5763.583762</td>\n",
       "      <td>5564.572473</td>\n",
       "      <td>1.643993e+06</td>\n",
       "      <td>1282.183079</td>\n",
       "    </tr>\n",
       "    <tr>\n",
       "      <th>2013</th>\n",
       "      <td>22930.006878</td>\n",
       "      <td>5732.501719</td>\n",
       "      <td>5668.852999</td>\n",
       "      <td>1.119549e+06</td>\n",
       "      <td>1058.087319</td>\n",
       "    </tr>\n",
       "    <tr>\n",
       "      <th>2014</th>\n",
       "      <td>23052.101014</td>\n",
       "      <td>5763.025253</td>\n",
       "      <td>5592.384465</td>\n",
       "      <td>1.090317e+06</td>\n",
       "      <td>1044.182483</td>\n",
       "    </tr>\n",
       "    <tr>\n",
       "      <th>2015</th>\n",
       "      <td>23525.295314</td>\n",
       "      <td>5881.323828</td>\n",
       "      <td>5834.127108</td>\n",
       "      <td>1.049238e+06</td>\n",
       "      <td>1024.323354</td>\n",
       "    </tr>\n",
       "    <tr>\n",
       "      <th>2016</th>\n",
       "      <td>26304.424362</td>\n",
       "      <td>6576.106091</td>\n",
       "      <td>6615.994833</td>\n",
       "      <td>1.126857e+06</td>\n",
       "      <td>1061.535208</td>\n",
       "    </tr>\n",
       "    <tr>\n",
       "      <th>2017</th>\n",
       "      <td>24513.676581</td>\n",
       "      <td>6128.419145</td>\n",
       "      <td>6221.222870</td>\n",
       "      <td>6.372069e+05</td>\n",
       "      <td>798.252387</td>\n",
       "    </tr>\n",
       "    <tr>\n",
       "      <th>2018</th>\n",
       "      <td>23381.386685</td>\n",
       "      <td>5845.346671</td>\n",
       "      <td>5841.780765</td>\n",
       "      <td>7.264892e+05</td>\n",
       "      <td>852.343375</td>\n",
       "    </tr>\n",
       "    <tr>\n",
       "      <th>2019</th>\n",
       "      <td>23847.412681</td>\n",
       "      <td>5961.853170</td>\n",
       "      <td>6025.994389</td>\n",
       "      <td>4.297791e+05</td>\n",
       "      <td>655.575431</td>\n",
       "    </tr>\n",
       "    <tr>\n",
       "      <th>2020</th>\n",
       "      <td>24287.388910</td>\n",
       "      <td>6071.847227</td>\n",
       "      <td>6078.462873</td>\n",
       "      <td>4.468482e+05</td>\n",
       "      <td>668.467085</td>\n",
       "    </tr>\n",
       "    <tr>\n",
       "      <th>2021</th>\n",
       "      <td>21248.430506</td>\n",
       "      <td>5312.107627</td>\n",
       "      <td>5297.717699</td>\n",
       "      <td>3.096688e+05</td>\n",
       "      <td>556.478900</td>\n",
       "    </tr>\n",
       "  </tbody>\n",
       "</table>\n",
       "</div>"
      ],
      "text/plain": [
       "               sum         mean       median           var          std\n",
       "Year                                                                   \n",
       "2012  23054.335049  5763.583762  5564.572473  1.643993e+06  1282.183079\n",
       "2013  22930.006878  5732.501719  5668.852999  1.119549e+06  1058.087319\n",
       "2014  23052.101014  5763.025253  5592.384465  1.090317e+06  1044.182483\n",
       "2015  23525.295314  5881.323828  5834.127108  1.049238e+06  1024.323354\n",
       "2016  26304.424362  6576.106091  6615.994833  1.126857e+06  1061.535208\n",
       "2017  24513.676581  6128.419145  6221.222870  6.372069e+05   798.252387\n",
       "2018  23381.386685  5845.346671  5841.780765  7.264892e+05   852.343375\n",
       "2019  23847.412681  5961.853170  6025.994389  4.297791e+05   655.575431\n",
       "2020  24287.388910  6071.847227  6078.462873  4.468482e+05   668.467085\n",
       "2021  21248.430506  5312.107627  5297.717699  3.096688e+05   556.478900"
      ]
     },
     "execution_count": 10,
     "metadata": {},
     "output_type": "execute_result"
    }
   ],
   "source": [
    "cdf = c.groupby('Year')['Rate per 100,000 population'].agg(['sum','mean','median',np.var,np.std])\n",
    "cdf.head(10)"
   ]
  },
  {
   "cell_type": "code",
   "execution_count": 11,
   "id": "77124576",
   "metadata": {
    "scrolled": true
   },
   "outputs": [
    {
     "data": {
      "text/plain": [
       "count       10.000000\n",
       "mean     23614.445798\n",
       "std       1304.284893\n",
       "min      21248.430506\n",
       "25%      23052.659522\n",
       "50%      23453.340999\n",
       "75%      24177.394853\n",
       "max      26304.424362\n",
       "Name: Rate per 100,000 population, dtype: float64"
      ]
     },
     "execution_count": 11,
     "metadata": {},
     "output_type": "execute_result"
    }
   ],
   "source": [
    "Total = c.groupby(['Year'])['Rate per 100,000 population'].agg('sum')\n",
    "Total.describe()"
   ]
  },
  {
   "cell_type": "code",
   "execution_count": 12,
   "id": "af1a6ade",
   "metadata": {},
   "outputs": [
    {
     "data": {
      "text/plain": [
       "<function matplotlib.pyplot.show(close=None, block=None)>"
      ]
     },
     "execution_count": 12,
     "metadata": {},
     "output_type": "execute_result"
    },
    {
     "data": {
      "image/png": "[encoded data removed]",
      "text/plain": [
       "<Figure size 432x288 with 1 Axes>"
      ]
     },
     "metadata": {
      "needs_background": "light"
     },
     "output_type": "display_data"
    }
   ],
   "source": [
    "x = np.arange(2012,2022,1)\n",
    "plt.plot(x,Total, marker=\"o\", color=\"pink\", linewidth=1, label=\"Total\")\n",
    "plt.show"
   ]
  },
  {
   "cell_type": "code",
   "execution_count": 13,
   "id": "e5d6bbbc",
   "metadata": {},
   "outputs": [
    {
     "data": {
      "text/plain": [
       "Year\n",
       "2012    7505.489894\n",
       "2013    7088.780088\n",
       "2014    7184.280200\n",
       "2015    7176.760110\n",
       "2016    7819.459513\n",
       "2017    6947.348480\n",
       "2018    6859.643224\n",
       "2019    6646.833174\n",
       "2020    6881.666525\n",
       "2021    5930.846326\n",
       "Name: Rate per 100,000 population, dtype: float64"
      ]
     },
     "execution_count": 13,
     "metadata": {},
     "output_type": "execute_result"
    }
   ],
   "source": [
    "NorthWestMetro = c[c['Police Region']=='1 North West Metro']\n",
    "del NorthWestMetro['Police Region']\n",
    "NorthWestMetro = NorthWestMetro.groupby(['Year'])['Rate per 100,000 population'].agg('sum')\n",
    "NorthWestMetro"
   ]
  },
  {
   "cell_type": "code",
   "execution_count": 14,
   "id": "ac91b6af",
   "metadata": {
    "scrolled": false
   },
   "outputs": [
    {
     "data": {
      "text/plain": [
       "Year\n",
       "2012    4419.700209\n",
       "2013    4503.520791\n",
       "2014    4683.051883\n",
       "2015    4680.280989\n",
       "2016    5252.975183\n",
       "2017    5123.882360\n",
       "2018    4838.181932\n",
       "2019    5148.590730\n",
       "2020    5248.796638\n",
       "2021    4722.148782\n",
       "Name: Rate per 100,000 population, dtype: float64"
      ]
     },
     "execution_count": 14,
     "metadata": {},
     "output_type": "execute_result"
    }
   ],
   "source": [
    "Eastern = c[c['Police Region']=='2 Eastern']\n",
    "del Eastern['Police Region']\n",
    "Eastern= Eastern.groupby(['Year'])['Rate per 100,000 population'].agg('sum')\n",
    "Eastern"
   ]
  },
  {
   "cell_type": "code",
   "execution_count": 15,
   "id": "9b46a451",
   "metadata": {
    "scrolled": true
   },
   "outputs": [
    {
     "data": {
      "text/plain": [
       "Year\n",
       "2012    5485.485881\n",
       "2013    5650.702705\n",
       "2014    5477.479041\n",
       "2015    5727.823583\n",
       "2016    6415.015183\n",
       "2017    5893.613232\n",
       "2018    5580.759743\n",
       "2019    5751.662615\n",
       "2020    6018.306285\n",
       "2021    4983.311003\n",
       "Name: Rate per 100,000 population, dtype: float64"
      ]
     },
     "execution_count": 15,
     "metadata": {},
     "output_type": "execute_result"
    }
   ],
   "source": [
    "SouthernMetro = c[c['Police Region']=='3 Southern Metro']\n",
    "del SouthernMetro['Police Region']\n",
    "SouthernMetro = SouthernMetro.groupby(['Year'])['Rate per 100,000 population'].agg('sum')\n",
    "SouthernMetro"
   ]
  },
  {
   "cell_type": "code",
   "execution_count": 16,
   "id": "13ea0b66",
   "metadata": {},
   "outputs": [
    {
     "data": {
      "text/plain": [
       "Year\n",
       "2012    5643.659065\n",
       "2013    5687.003294\n",
       "2014    5707.289890\n",
       "2015    5940.430632\n",
       "2016    6816.974482\n",
       "2017    6548.832509\n",
       "2018    6102.801786\n",
       "2019    6300.326162\n",
       "2020    6138.619462\n",
       "2021    5612.124395\n",
       "Name: Rate per 100,000 population, dtype: float64"
      ]
     },
     "execution_count": 16,
     "metadata": {},
     "output_type": "execute_result"
    }
   ],
   "source": [
    "Western = c[c['Police Region']=='4 Western']\n",
    "del Western['Police Region']\n",
    "Western = Western.groupby(['Year'])['Rate per 100,000 population'].agg('sum')\n",
    "Western"
   ]
  },
  {
   "cell_type": "code",
   "execution_count": 17,
   "id": "ded6a212",
   "metadata": {},
   "outputs": [
    {
     "data": {
      "text/plain": [
       "Series([], Name: Rate per 100,000 population, dtype: float64)"
      ]
     },
     "execution_count": 17,
     "metadata": {},
     "output_type": "execute_result"
    }
   ],
   "source": [
    "Justice = c[c['Police Region']=='Justice Institutions and Immigration Facilities']\n",
    "del Justice['Police Region']\n",
    "Justice = Justice.groupby(['Year'])['Rate per 100,000 population'].agg('sum')\n",
    "Justice"
   ]
  },
  {
   "cell_type": "code",
   "execution_count": null,
   "id": "f4f26471",
   "metadata": {},
   "outputs": [],
   "source": []
  },
  {
   "cell_type": "code",
   "execution_count": 18,
   "id": "71691ead",
   "metadata": {
    "scrolled": false
   },
   "outputs": [
    {
     "data": {
      "text/plain": [
       "<function matplotlib.pyplot.show(close=None, block=None)>"
      ]
     },
     "execution_count": 18,
     "metadata": {},
     "output_type": "execute_result"
    },
    {
     "data": {
      "image/png": "[encoded data removed]",
      "text/plain": [
       "<Figure size 432x288 with 1 Axes>"
      ]
     },
     "metadata": {
      "needs_background": "light"
     },
     "output_type": "display_data"
    },
    {
     "data": {
      "text/plain": [
       "<Figure size 57600x43200 with 0 Axes>"
      ]
     },
     "metadata": {},
     "output_type": "display_data"
    }
   ],
   "source": [
    "x = np.arange(2012,2022,1)\n",
    "plt.plot(x,Total, marker=\"o\", color=\"pink\", linewidth=1, label=\"Total\")\n",
    "plt.plot(x,NorthWestMetro, marker=\"o\", color=\"red\", linewidth=1, label=\"NorthWest\")\n",
    "plt.plot(x,Eastern, marker=\"o\", color=\"purple\", linewidth=1, label=\"Eastern\")\n",
    "plt.plot(x,SouthernMetro, marker=\"o\", color=\"orange\", linewidth=1, label=\"Southern\")\n",
    "plt.plot(x,Western, marker=\"o\", color=\"green\", linewidth=1, label=\"Western\")\n",
    "#plt.plot(x,Justice, marker=\"o\", color=\"blue\", linewidth=1, label=\"Facility\")\n",
    "plt.legend(loc='lower right', bbox_to_anchor=(1.3, 0.1))\n",
    "plt.title(\"Incidents Rate per 100,000 population per year by Police Region\")\n",
    "plt.xlabel(\"YEAR\")\n",
    "plt.ylabel(\"Rate of incidents\")\n",
    "plt.figure(figsize=(800,600))\n",
    "plt.show"
   ]
  },
  {
   "cell_type": "code",
   "execution_count": null,
   "id": "07ff3525",
   "metadata": {},
   "outputs": [],
   "source": []
  },
  {
   "cell_type": "code",
   "execution_count": null,
   "id": "1650f3fc",
   "metadata": {
    "scrolled": true
   },
   "outputs": [],
   "source": []
  },
  {
   "cell_type": "code",
   "execution_count": null,
   "id": "95923b28",
   "metadata": {},
   "outputs": [],
   "source": []
  },
  {
   "cell_type": "code",
   "execution_count": null,
   "id": "da623268",
   "metadata": {},
   "outputs": [],
   "source": []
  },
  {
   "cell_type": "code",
   "execution_count": null,
   "id": "6b226f4f",
   "metadata": {
    "scrolled": true
   },
   "outputs": [],
   "source": []
  }
 ],
 "metadata": {
  "kernelspec": {
   "display_name": "Python 3",
   "language": "python",
   "name": "python3"
  },
  "language_info": {
   "codemirror_mode": {
    "name": "ipython",
    "version": 3
   },
   "file_extension": ".py",
   "mimetype": "text/x-python",
   "name": "python",
   "nbconvert_exporter": "python",
   "pygments_lexer": "ipython3",
   "version": "3.8.8"
  }
 },
 "nbformat": 4,
 "nbformat_minor": 5
}
