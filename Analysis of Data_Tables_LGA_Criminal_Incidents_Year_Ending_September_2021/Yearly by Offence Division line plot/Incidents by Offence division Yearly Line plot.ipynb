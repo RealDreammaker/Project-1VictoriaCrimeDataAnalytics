{
 "cells": [
  {
   "cell_type": "code",
   "execution_count": 1,
   "id": "1082e0ed",
   "metadata": {
    "scrolled": true
   },
   "outputs": [],
   "source": [
    "# Dependencies and Setup\n",
    "import matplotlib.pyplot as plt\n",
    "import pandas as pd\n",
    "import scipy.stats as st\n",
    "import numpy as np\n",
    "from sklearn import datasets\n",
    "from scipy.stats import linregress\n",
    "\n",
    "xls = pd.ExcelFile(\"../../Data/Data_Tables_LGA_Criminal_Incidents_Year_Ending_September_2021.xlsx\")\n",
    "df = pd.read_excel (xls,'Table 02')"
   ]
  },
  {
   "cell_type": "code",
   "execution_count": 2,
   "id": "920bc557",
   "metadata": {
    "scrolled": true
   },
   "outputs": [
    {
     "data": {
      "text/html": [
       "<div>\n",
       "<style scoped>\n",
       "    .dataframe tbody tr th:only-of-type {\n",
       "        vertical-align: middle;\n",
       "    }\n",
       "\n",
       "    .dataframe tbody tr th {\n",
       "        vertical-align: top;\n",
       "    }\n",
       "\n",
       "    .dataframe thead th {\n",
       "        text-align: right;\n",
       "    }\n",
       "</style>\n",
       "<table border=\"1\" class=\"dataframe\">\n",
       "  <thead>\n",
       "    <tr style=\"text-align: right;\">\n",
       "      <th></th>\n",
       "      <th>Year</th>\n",
       "      <th>Year ending</th>\n",
       "      <th>Police Service Area</th>\n",
       "      <th>Local Government Area</th>\n",
       "      <th>Offence Division</th>\n",
       "      <th>Offence Subdivision</th>\n",
       "      <th>Offence Subgroup</th>\n",
       "      <th>Incidents Recorded</th>\n",
       "      <th>PSA Rate per 100,000 population</th>\n",
       "      <th>LGA Rate per 100,000 population</th>\n",
       "    </tr>\n",
       "  </thead>\n",
       "  <tbody>\n",
       "    <tr>\n",
       "      <th>0</th>\n",
       "      <td>2021</td>\n",
       "      <td>September</td>\n",
       "      <td>Ballarat</td>\n",
       "      <td>Ballarat</td>\n",
       "      <td>A Crimes against the person</td>\n",
       "      <td>A10 Homicide and related offences</td>\n",
       "      <td>A10 Homicide and related offences</td>\n",
       "      <td>4</td>\n",
       "      <td>3.308169</td>\n",
       "      <td>3.528871</td>\n",
       "    </tr>\n",
       "    <tr>\n",
       "      <th>1</th>\n",
       "      <td>2021</td>\n",
       "      <td>September</td>\n",
       "      <td>Ballarat</td>\n",
       "      <td>Ballarat</td>\n",
       "      <td>A Crimes against the person</td>\n",
       "      <td>A20 Assault and related offences</td>\n",
       "      <td>A211 FV Serious assault</td>\n",
       "      <td>140</td>\n",
       "      <td>115.785923</td>\n",
       "      <td>123.510499</td>\n",
       "    </tr>\n",
       "    <tr>\n",
       "      <th>2</th>\n",
       "      <td>2021</td>\n",
       "      <td>September</td>\n",
       "      <td>Ballarat</td>\n",
       "      <td>Ballarat</td>\n",
       "      <td>A Crimes against the person</td>\n",
       "      <td>A20 Assault and related offences</td>\n",
       "      <td>A212 Non-FV Serious assault</td>\n",
       "      <td>139</td>\n",
       "      <td>114.958881</td>\n",
       "      <td>122.628281</td>\n",
       "    </tr>\n",
       "    <tr>\n",
       "      <th>3</th>\n",
       "      <td>2021</td>\n",
       "      <td>September</td>\n",
       "      <td>Ballarat</td>\n",
       "      <td>Ballarat</td>\n",
       "      <td>A Crimes against the person</td>\n",
       "      <td>A20 Assault and related offences</td>\n",
       "      <td>A22 Assault police, emergency services or othe...</td>\n",
       "      <td>42</td>\n",
       "      <td>34.735777</td>\n",
       "      <td>37.053150</td>\n",
       "    </tr>\n",
       "    <tr>\n",
       "      <th>4</th>\n",
       "      <td>2021</td>\n",
       "      <td>September</td>\n",
       "      <td>Ballarat</td>\n",
       "      <td>Ballarat</td>\n",
       "      <td>A Crimes against the person</td>\n",
       "      <td>A20 Assault and related offences</td>\n",
       "      <td>A231 FV Common assault</td>\n",
       "      <td>257</td>\n",
       "      <td>212.549873</td>\n",
       "      <td>226.729987</td>\n",
       "    </tr>\n",
       "    <tr>\n",
       "      <th>5</th>\n",
       "      <td>2021</td>\n",
       "      <td>September</td>\n",
       "      <td>Ballarat</td>\n",
       "      <td>Ballarat</td>\n",
       "      <td>A Crimes against the person</td>\n",
       "      <td>A20 Assault and related offences</td>\n",
       "      <td>A232 Non-FV Common assault</td>\n",
       "      <td>193</td>\n",
       "      <td>159.619165</td>\n",
       "      <td>170.268045</td>\n",
       "    </tr>\n",
       "    <tr>\n",
       "      <th>6</th>\n",
       "      <td>2021</td>\n",
       "      <td>September</td>\n",
       "      <td>Ballarat</td>\n",
       "      <td>Ballarat</td>\n",
       "      <td>A Crimes against the person</td>\n",
       "      <td>A30 Sexual offences</td>\n",
       "      <td>A30 Sexual offences</td>\n",
       "      <td>189</td>\n",
       "      <td>156.310996</td>\n",
       "      <td>166.739173</td>\n",
       "    </tr>\n",
       "    <tr>\n",
       "      <th>7</th>\n",
       "      <td>2021</td>\n",
       "      <td>September</td>\n",
       "      <td>Ballarat</td>\n",
       "      <td>Ballarat</td>\n",
       "      <td>A Crimes against the person</td>\n",
       "      <td>A40 Abduction and related offences</td>\n",
       "      <td>A41 Abduction</td>\n",
       "      <td>5</td>\n",
       "      <td>4.135212</td>\n",
       "      <td>4.411089</td>\n",
       "    </tr>\n",
       "    <tr>\n",
       "      <th>8</th>\n",
       "      <td>2021</td>\n",
       "      <td>September</td>\n",
       "      <td>Ballarat</td>\n",
       "      <td>Ballarat</td>\n",
       "      <td>A Crimes against the person</td>\n",
       "      <td>A40 Abduction and related offences</td>\n",
       "      <td>A42 False imprisonment</td>\n",
       "      <td>5</td>\n",
       "      <td>4.135212</td>\n",
       "      <td>4.411089</td>\n",
       "    </tr>\n",
       "    <tr>\n",
       "      <th>9</th>\n",
       "      <td>2021</td>\n",
       "      <td>September</td>\n",
       "      <td>Ballarat</td>\n",
       "      <td>Ballarat</td>\n",
       "      <td>A Crimes against the person</td>\n",
       "      <td>A50 Robbery</td>\n",
       "      <td>A51 Aggravated robbery</td>\n",
       "      <td>16</td>\n",
       "      <td>13.232677</td>\n",
       "      <td>14.115486</td>\n",
       "    </tr>\n",
       "    <tr>\n",
       "      <th>10</th>\n",
       "      <td>2021</td>\n",
       "      <td>September</td>\n",
       "      <td>Ballarat</td>\n",
       "      <td>Ballarat</td>\n",
       "      <td>A Crimes against the person</td>\n",
       "      <td>A50 Robbery</td>\n",
       "      <td>A52 Non-Aggravated robbery</td>\n",
       "      <td>4</td>\n",
       "      <td>3.308169</td>\n",
       "      <td>3.528871</td>\n",
       "    </tr>\n",
       "    <tr>\n",
       "      <th>11</th>\n",
       "      <td>2021</td>\n",
       "      <td>September</td>\n",
       "      <td>Ballarat</td>\n",
       "      <td>Ballarat</td>\n",
       "      <td>A Crimes against the person</td>\n",
       "      <td>A60 Blackmail and extortion</td>\n",
       "      <td>A61 Blackmail</td>\n",
       "      <td>2</td>\n",
       "      <td>1.654085</td>\n",
       "      <td>1.764436</td>\n",
       "    </tr>\n",
       "    <tr>\n",
       "      <th>12</th>\n",
       "      <td>2021</td>\n",
       "      <td>September</td>\n",
       "      <td>Ballarat</td>\n",
       "      <td>Ballarat</td>\n",
       "      <td>A Crimes against the person</td>\n",
       "      <td>A70 Stalking, harassment and threatening behav...</td>\n",
       "      <td>A711 FV Stalking</td>\n",
       "      <td>20</td>\n",
       "      <td>16.540846</td>\n",
       "      <td>17.644357</td>\n",
       "    </tr>\n",
       "    <tr>\n",
       "      <th>13</th>\n",
       "      <td>2021</td>\n",
       "      <td>September</td>\n",
       "      <td>Ballarat</td>\n",
       "      <td>Ballarat</td>\n",
       "      <td>A Crimes against the person</td>\n",
       "      <td>A70 Stalking, harassment and threatening behav...</td>\n",
       "      <td>A712 Non-FV Stalking</td>\n",
       "      <td>18</td>\n",
       "      <td>14.886762</td>\n",
       "      <td>15.879921</td>\n",
       "    </tr>\n",
       "    <tr>\n",
       "      <th>14</th>\n",
       "      <td>2021</td>\n",
       "      <td>September</td>\n",
       "      <td>Ballarat</td>\n",
       "      <td>Ballarat</td>\n",
       "      <td>A Crimes against the person</td>\n",
       "      <td>A70 Stalking, harassment and threatening behav...</td>\n",
       "      <td>A721 FV Harassment and private nuisance</td>\n",
       "      <td>5</td>\n",
       "      <td>4.135212</td>\n",
       "      <td>4.411089</td>\n",
       "    </tr>\n",
       "    <tr>\n",
       "      <th>15</th>\n",
       "      <td>2021</td>\n",
       "      <td>September</td>\n",
       "      <td>Ballarat</td>\n",
       "      <td>Ballarat</td>\n",
       "      <td>A Crimes against the person</td>\n",
       "      <td>A70 Stalking, harassment and threatening behav...</td>\n",
       "      <td>A722 Non-FV Harassment and private nuisance</td>\n",
       "      <td>3</td>\n",
       "      <td>2.481127</td>\n",
       "      <td>2.646654</td>\n",
       "    </tr>\n",
       "    <tr>\n",
       "      <th>16</th>\n",
       "      <td>2021</td>\n",
       "      <td>September</td>\n",
       "      <td>Ballarat</td>\n",
       "      <td>Ballarat</td>\n",
       "      <td>A Crimes against the person</td>\n",
       "      <td>A70 Stalking, harassment and threatening behav...</td>\n",
       "      <td>A731 FV Threatening behaviour</td>\n",
       "      <td>40</td>\n",
       "      <td>33.081692</td>\n",
       "      <td>35.288714</td>\n",
       "    </tr>\n",
       "    <tr>\n",
       "      <th>17</th>\n",
       "      <td>2021</td>\n",
       "      <td>September</td>\n",
       "      <td>Ballarat</td>\n",
       "      <td>Ballarat</td>\n",
       "      <td>A Crimes against the person</td>\n",
       "      <td>A70 Stalking, harassment and threatening behav...</td>\n",
       "      <td>A732 Non-FV Threatening behaviour</td>\n",
       "      <td>22</td>\n",
       "      <td>18.194931</td>\n",
       "      <td>19.408793</td>\n",
       "    </tr>\n",
       "    <tr>\n",
       "      <th>18</th>\n",
       "      <td>2021</td>\n",
       "      <td>September</td>\n",
       "      <td>Ballarat</td>\n",
       "      <td>Ballarat</td>\n",
       "      <td>A Crimes against the person</td>\n",
       "      <td>A80 Dangerous and negligent acts endangering p...</td>\n",
       "      <td>A81 Dangerous driving</td>\n",
       "      <td>26</td>\n",
       "      <td>21.503100</td>\n",
       "      <td>22.937664</td>\n",
       "    </tr>\n",
       "    <tr>\n",
       "      <th>19</th>\n",
       "      <td>2021</td>\n",
       "      <td>September</td>\n",
       "      <td>Ballarat</td>\n",
       "      <td>Ballarat</td>\n",
       "      <td>A Crimes against the person</td>\n",
       "      <td>A80 Dangerous and negligent acts endangering p...</td>\n",
       "      <td>A82 Neglect or ill treatment of people</td>\n",
       "      <td>1</td>\n",
       "      <td>0.827042</td>\n",
       "      <td>0.882218</td>\n",
       "    </tr>\n",
       "    <tr>\n",
       "      <th>20</th>\n",
       "      <td>2021</td>\n",
       "      <td>September</td>\n",
       "      <td>Ballarat</td>\n",
       "      <td>Ballarat</td>\n",
       "      <td>A Crimes against the person</td>\n",
       "      <td>A80 Dangerous and negligent acts endangering p...</td>\n",
       "      <td>A83 Throw or discharge object endangering people</td>\n",
       "      <td>15</td>\n",
       "      <td>12.405635</td>\n",
       "      <td>13.233268</td>\n",
       "    </tr>\n",
       "    <tr>\n",
       "      <th>21</th>\n",
       "      <td>2021</td>\n",
       "      <td>September</td>\n",
       "      <td>Ballarat</td>\n",
       "      <td>Ballarat</td>\n",
       "      <td>A Crimes against the person</td>\n",
       "      <td>A80 Dangerous and negligent acts endangering p...</td>\n",
       "      <td>A89 Other dangerous or negligent acts endanger...</td>\n",
       "      <td>71</td>\n",
       "      <td>58.720004</td>\n",
       "      <td>62.637467</td>\n",
       "    </tr>\n",
       "    <tr>\n",
       "      <th>22</th>\n",
       "      <td>2021</td>\n",
       "      <td>September</td>\n",
       "      <td>Ballarat</td>\n",
       "      <td>Ballarat</td>\n",
       "      <td>B Property and deception offences</td>\n",
       "      <td>B10 Arson</td>\n",
       "      <td>B11 Cause damage by fire</td>\n",
       "      <td>70</td>\n",
       "      <td>57.892961</td>\n",
       "      <td>61.755249</td>\n",
       "    </tr>\n",
       "    <tr>\n",
       "      <th>23</th>\n",
       "      <td>2021</td>\n",
       "      <td>September</td>\n",
       "      <td>Ballarat</td>\n",
       "      <td>Ballarat</td>\n",
       "      <td>B Property and deception offences</td>\n",
       "      <td>B10 Arson</td>\n",
       "      <td>B12 Cause a bushfire</td>\n",
       "      <td>2</td>\n",
       "      <td>1.654085</td>\n",
       "      <td>1.764436</td>\n",
       "    </tr>\n",
       "    <tr>\n",
       "      <th>24</th>\n",
       "      <td>2021</td>\n",
       "      <td>September</td>\n",
       "      <td>Ballarat</td>\n",
       "      <td>Ballarat</td>\n",
       "      <td>B Property and deception offences</td>\n",
       "      <td>B10 Arson</td>\n",
       "      <td>B19 Other fire related offences</td>\n",
       "      <td>2</td>\n",
       "      <td>1.654085</td>\n",
       "      <td>1.764436</td>\n",
       "    </tr>\n",
       "    <tr>\n",
       "      <th>25</th>\n",
       "      <td>2021</td>\n",
       "      <td>September</td>\n",
       "      <td>Ballarat</td>\n",
       "      <td>Ballarat</td>\n",
       "      <td>B Property and deception offences</td>\n",
       "      <td>B20 Property damage</td>\n",
       "      <td>B21 Criminal damage</td>\n",
       "      <td>681</td>\n",
       "      <td>563.215810</td>\n",
       "      <td>600.790354</td>\n",
       "    </tr>\n",
       "    <tr>\n",
       "      <th>26</th>\n",
       "      <td>2021</td>\n",
       "      <td>September</td>\n",
       "      <td>Ballarat</td>\n",
       "      <td>Ballarat</td>\n",
       "      <td>B Property and deception offences</td>\n",
       "      <td>B20 Property damage</td>\n",
       "      <td>B22 Graffiti</td>\n",
       "      <td>65</td>\n",
       "      <td>53.757750</td>\n",
       "      <td>57.344160</td>\n",
       "    </tr>\n",
       "    <tr>\n",
       "      <th>27</th>\n",
       "      <td>2021</td>\n",
       "      <td>September</td>\n",
       "      <td>Ballarat</td>\n",
       "      <td>Ballarat</td>\n",
       "      <td>B Property and deception offences</td>\n",
       "      <td>B20 Property damage</td>\n",
       "      <td>B29 Other property damage offences</td>\n",
       "      <td>4</td>\n",
       "      <td>3.308169</td>\n",
       "      <td>3.528871</td>\n",
       "    </tr>\n",
       "    <tr>\n",
       "      <th>28</th>\n",
       "      <td>2021</td>\n",
       "      <td>September</td>\n",
       "      <td>Ballarat</td>\n",
       "      <td>Ballarat</td>\n",
       "      <td>B Property and deception offences</td>\n",
       "      <td>B30 Burglary/Break and enter</td>\n",
       "      <td>B311 Residential aggravated burglary</td>\n",
       "      <td>136</td>\n",
       "      <td>112.477754</td>\n",
       "      <td>119.981627</td>\n",
       "    </tr>\n",
       "    <tr>\n",
       "      <th>29</th>\n",
       "      <td>2021</td>\n",
       "      <td>September</td>\n",
       "      <td>Ballarat</td>\n",
       "      <td>Ballarat</td>\n",
       "      <td>B Property and deception offences</td>\n",
       "      <td>B30 Burglary/Break and enter</td>\n",
       "      <td>B312 Non-residential aggravated burglary</td>\n",
       "      <td>2</td>\n",
       "      <td>1.654085</td>\n",
       "      <td>1.764436</td>\n",
       "    </tr>\n",
       "    <tr>\n",
       "      <th>30</th>\n",
       "      <td>2021</td>\n",
       "      <td>September</td>\n",
       "      <td>Ballarat</td>\n",
       "      <td>Ballarat</td>\n",
       "      <td>B Property and deception offences</td>\n",
       "      <td>B30 Burglary/Break and enter</td>\n",
       "      <td>B321 Residential non-aggravated burglary</td>\n",
       "      <td>291</td>\n",
       "      <td>240.669311</td>\n",
       "      <td>256.725394</td>\n",
       "    </tr>\n",
       "    <tr>\n",
       "      <th>31</th>\n",
       "      <td>2021</td>\n",
       "      <td>September</td>\n",
       "      <td>Ballarat</td>\n",
       "      <td>Ballarat</td>\n",
       "      <td>B Property and deception offences</td>\n",
       "      <td>B30 Burglary/Break and enter</td>\n",
       "      <td>B322 Non-residential non-aggravated burglary</td>\n",
       "      <td>159</td>\n",
       "      <td>131.499727</td>\n",
       "      <td>140.272638</td>\n",
       "    </tr>\n",
       "    <tr>\n",
       "      <th>32</th>\n",
       "      <td>2021</td>\n",
       "      <td>September</td>\n",
       "      <td>Ballarat</td>\n",
       "      <td>Ballarat</td>\n",
       "      <td>B Property and deception offences</td>\n",
       "      <td>B40 Theft</td>\n",
       "      <td>B41 Motor vehicle theft</td>\n",
       "      <td>360</td>\n",
       "      <td>297.735230</td>\n",
       "      <td>317.598425</td>\n",
       "    </tr>\n",
       "    <tr>\n",
       "      <th>33</th>\n",
       "      <td>2021</td>\n",
       "      <td>September</td>\n",
       "      <td>Ballarat</td>\n",
       "      <td>Ballarat</td>\n",
       "      <td>B Property and deception offences</td>\n",
       "      <td>B40 Theft</td>\n",
       "      <td>B42 Steal from a motor vehicle</td>\n",
       "      <td>1170</td>\n",
       "      <td>967.639498</td>\n",
       "      <td>1032.194881</td>\n",
       "    </tr>\n",
       "    <tr>\n",
       "      <th>34</th>\n",
       "      <td>2021</td>\n",
       "      <td>September</td>\n",
       "      <td>Ballarat</td>\n",
       "      <td>Ballarat</td>\n",
       "      <td>B Property and deception offences</td>\n",
       "      <td>B40 Theft</td>\n",
       "      <td>B43 Steal from a retail store</td>\n",
       "      <td>391</td>\n",
       "      <td>323.373542</td>\n",
       "      <td>344.947178</td>\n",
       "    </tr>\n",
       "    <tr>\n",
       "      <th>35</th>\n",
       "      <td>2021</td>\n",
       "      <td>September</td>\n",
       "      <td>Ballarat</td>\n",
       "      <td>Ballarat</td>\n",
       "      <td>B Property and deception offences</td>\n",
       "      <td>B40 Theft</td>\n",
       "      <td>B44 Theft of a bicycle</td>\n",
       "      <td>84</td>\n",
       "      <td>69.471554</td>\n",
       "      <td>74.106299</td>\n",
       "    </tr>\n",
       "    <tr>\n",
       "      <th>36</th>\n",
       "      <td>2021</td>\n",
       "      <td>September</td>\n",
       "      <td>Ballarat</td>\n",
       "      <td>Ballarat</td>\n",
       "      <td>B Property and deception offences</td>\n",
       "      <td>B40 Theft</td>\n",
       "      <td>B45 Receiving or handling stolen goods</td>\n",
       "      <td>111</td>\n",
       "      <td>91.801696</td>\n",
       "      <td>97.926181</td>\n",
       "    </tr>\n",
       "    <tr>\n",
       "      <th>37</th>\n",
       "      <td>2021</td>\n",
       "      <td>September</td>\n",
       "      <td>Ballarat</td>\n",
       "      <td>Ballarat</td>\n",
       "      <td>B Property and deception offences</td>\n",
       "      <td>B40 Theft</td>\n",
       "      <td>B49 Other theft</td>\n",
       "      <td>561</td>\n",
       "      <td>463.970734</td>\n",
       "      <td>494.924212</td>\n",
       "    </tr>\n",
       "    <tr>\n",
       "      <th>38</th>\n",
       "      <td>2021</td>\n",
       "      <td>September</td>\n",
       "      <td>Ballarat</td>\n",
       "      <td>Ballarat</td>\n",
       "      <td>B Property and deception offences</td>\n",
       "      <td>B50 Deception</td>\n",
       "      <td>B51 Forgery and counterfeiting</td>\n",
       "      <td>57</td>\n",
       "      <td>47.141411</td>\n",
       "      <td>50.286417</td>\n",
       "    </tr>\n",
       "    <tr>\n",
       "      <th>39</th>\n",
       "      <td>2021</td>\n",
       "      <td>September</td>\n",
       "      <td>Ballarat</td>\n",
       "      <td>Ballarat</td>\n",
       "      <td>B Property and deception offences</td>\n",
       "      <td>B50 Deception</td>\n",
       "      <td>B53 Obtain benefit by deception</td>\n",
       "      <td>216</td>\n",
       "      <td>178.641138</td>\n",
       "      <td>190.559055</td>\n",
       "    </tr>\n",
       "  </tbody>\n",
       "</table>\n",
       "</div>"
      ],
      "text/plain": [
       "    Year Year ending Police Service Area Local Government Area  \\\n",
       "0   2021   September            Ballarat              Ballarat   \n",
       "1   2021   September            Ballarat              Ballarat   \n",
       "2   2021   September            Ballarat              Ballarat   \n",
       "3   2021   September            Ballarat              Ballarat   \n",
       "4   2021   September            Ballarat              Ballarat   \n",
       "5   2021   September            Ballarat              Ballarat   \n",
       "6   2021   September            Ballarat              Ballarat   \n",
       "7   2021   September            Ballarat              Ballarat   \n",
       "8   2021   September            Ballarat              Ballarat   \n",
       "9   2021   September            Ballarat              Ballarat   \n",
       "10  2021   September            Ballarat              Ballarat   \n",
       "11  2021   September            Ballarat              Ballarat   \n",
       "12  2021   September            Ballarat              Ballarat   \n",
       "13  2021   September            Ballarat              Ballarat   \n",
       "14  2021   September            Ballarat              Ballarat   \n",
       "15  2021   September            Ballarat              Ballarat   \n",
       "16  2021   September            Ballarat              Ballarat   \n",
       "17  2021   September            Ballarat              Ballarat   \n",
       "18  2021   September            Ballarat              Ballarat   \n",
       "19  2021   September            Ballarat              Ballarat   \n",
       "20  2021   September            Ballarat              Ballarat   \n",
       "21  2021   September            Ballarat              Ballarat   \n",
       "22  2021   September            Ballarat              Ballarat   \n",
       "23  2021   September            Ballarat              Ballarat   \n",
       "24  2021   September            Ballarat              Ballarat   \n",
       "25  2021   September            Ballarat              Ballarat   \n",
       "26  2021   September            Ballarat              Ballarat   \n",
       "27  2021   September            Ballarat              Ballarat   \n",
       "28  2021   September            Ballarat              Ballarat   \n",
       "29  2021   September            Ballarat              Ballarat   \n",
       "30  2021   September            Ballarat              Ballarat   \n",
       "31  2021   September            Ballarat              Ballarat   \n",
       "32  2021   September            Ballarat              Ballarat   \n",
       "33  2021   September            Ballarat              Ballarat   \n",
       "34  2021   September            Ballarat              Ballarat   \n",
       "35  2021   September            Ballarat              Ballarat   \n",
       "36  2021   September            Ballarat              Ballarat   \n",
       "37  2021   September            Ballarat              Ballarat   \n",
       "38  2021   September            Ballarat              Ballarat   \n",
       "39  2021   September            Ballarat              Ballarat   \n",
       "\n",
       "                     Offence Division  \\\n",
       "0         A Crimes against the person   \n",
       "1         A Crimes against the person   \n",
       "2         A Crimes against the person   \n",
       "3         A Crimes against the person   \n",
       "4         A Crimes against the person   \n",
       "5         A Crimes against the person   \n",
       "6         A Crimes against the person   \n",
       "7         A Crimes against the person   \n",
       "8         A Crimes against the person   \n",
       "9         A Crimes against the person   \n",
       "10        A Crimes against the person   \n",
       "11        A Crimes against the person   \n",
       "12        A Crimes against the person   \n",
       "13        A Crimes against the person   \n",
       "14        A Crimes against the person   \n",
       "15        A Crimes against the person   \n",
       "16        A Crimes against the person   \n",
       "17        A Crimes against the person   \n",
       "18        A Crimes against the person   \n",
       "19        A Crimes against the person   \n",
       "20        A Crimes against the person   \n",
       "21        A Crimes against the person   \n",
       "22  B Property and deception offences   \n",
       "23  B Property and deception offences   \n",
       "24  B Property and deception offences   \n",
       "25  B Property and deception offences   \n",
       "26  B Property and deception offences   \n",
       "27  B Property and deception offences   \n",
       "28  B Property and deception offences   \n",
       "29  B Property and deception offences   \n",
       "30  B Property and deception offences   \n",
       "31  B Property and deception offences   \n",
       "32  B Property and deception offences   \n",
       "33  B Property and deception offences   \n",
       "34  B Property and deception offences   \n",
       "35  B Property and deception offences   \n",
       "36  B Property and deception offences   \n",
       "37  B Property and deception offences   \n",
       "38  B Property and deception offences   \n",
       "39  B Property and deception offences   \n",
       "\n",
       "                                  Offence Subdivision  \\\n",
       "0                   A10 Homicide and related offences   \n",
       "1                    A20 Assault and related offences   \n",
       "2                    A20 Assault and related offences   \n",
       "3                    A20 Assault and related offences   \n",
       "4                    A20 Assault and related offences   \n",
       "5                    A20 Assault and related offences   \n",
       "6                                 A30 Sexual offences   \n",
       "7                  A40 Abduction and related offences   \n",
       "8                  A40 Abduction and related offences   \n",
       "9                                         A50 Robbery   \n",
       "10                                        A50 Robbery   \n",
       "11                        A60 Blackmail and extortion   \n",
       "12  A70 Stalking, harassment and threatening behav...   \n",
       "13  A70 Stalking, harassment and threatening behav...   \n",
       "14  A70 Stalking, harassment and threatening behav...   \n",
       "15  A70 Stalking, harassment and threatening behav...   \n",
       "16  A70 Stalking, harassment and threatening behav...   \n",
       "17  A70 Stalking, harassment and threatening behav...   \n",
       "18  A80 Dangerous and negligent acts endangering p...   \n",
       "19  A80 Dangerous and negligent acts endangering p...   \n",
       "20  A80 Dangerous and negligent acts endangering p...   \n",
       "21  A80 Dangerous and negligent acts endangering p...   \n",
       "22                                          B10 Arson   \n",
       "23                                          B10 Arson   \n",
       "24                                          B10 Arson   \n",
       "25                                B20 Property damage   \n",
       "26                                B20 Property damage   \n",
       "27                                B20 Property damage   \n",
       "28                       B30 Burglary/Break and enter   \n",
       "29                       B30 Burglary/Break and enter   \n",
       "30                       B30 Burglary/Break and enter   \n",
       "31                       B30 Burglary/Break and enter   \n",
       "32                                          B40 Theft   \n",
       "33                                          B40 Theft   \n",
       "34                                          B40 Theft   \n",
       "35                                          B40 Theft   \n",
       "36                                          B40 Theft   \n",
       "37                                          B40 Theft   \n",
       "38                                      B50 Deception   \n",
       "39                                      B50 Deception   \n",
       "\n",
       "                                     Offence Subgroup  Incidents Recorded  \\\n",
       "0                   A10 Homicide and related offences                   4   \n",
       "1                             A211 FV Serious assault                 140   \n",
       "2                         A212 Non-FV Serious assault                 139   \n",
       "3   A22 Assault police, emergency services or othe...                  42   \n",
       "4                              A231 FV Common assault                 257   \n",
       "5                          A232 Non-FV Common assault                 193   \n",
       "6                                 A30 Sexual offences                 189   \n",
       "7                                       A41 Abduction                   5   \n",
       "8                              A42 False imprisonment                   5   \n",
       "9                              A51 Aggravated robbery                  16   \n",
       "10                         A52 Non-Aggravated robbery                   4   \n",
       "11                                      A61 Blackmail                   2   \n",
       "12                                   A711 FV Stalking                  20   \n",
       "13                               A712 Non-FV Stalking                  18   \n",
       "14            A721 FV Harassment and private nuisance                   5   \n",
       "15        A722 Non-FV Harassment and private nuisance                   3   \n",
       "16                      A731 FV Threatening behaviour                  40   \n",
       "17                  A732 Non-FV Threatening behaviour                  22   \n",
       "18                              A81 Dangerous driving                  26   \n",
       "19             A82 Neglect or ill treatment of people                   1   \n",
       "20   A83 Throw or discharge object endangering people                  15   \n",
       "21  A89 Other dangerous or negligent acts endanger...                  71   \n",
       "22                           B11 Cause damage by fire                  70   \n",
       "23                               B12 Cause a bushfire                   2   \n",
       "24                    B19 Other fire related offences                   2   \n",
       "25                                B21 Criminal damage                 681   \n",
       "26                                       B22 Graffiti                  65   \n",
       "27                 B29 Other property damage offences                   4   \n",
       "28               B311 Residential aggravated burglary                 136   \n",
       "29           B312 Non-residential aggravated burglary                   2   \n",
       "30           B321 Residential non-aggravated burglary                 291   \n",
       "31       B322 Non-residential non-aggravated burglary                 159   \n",
       "32                            B41 Motor vehicle theft                 360   \n",
       "33                     B42 Steal from a motor vehicle                1170   \n",
       "34                      B43 Steal from a retail store                 391   \n",
       "35                             B44 Theft of a bicycle                  84   \n",
       "36             B45 Receiving or handling stolen goods                 111   \n",
       "37                                    B49 Other theft                 561   \n",
       "38                     B51 Forgery and counterfeiting                  57   \n",
       "39                    B53 Obtain benefit by deception                 216   \n",
       "\n",
       "    PSA Rate per 100,000 population  LGA Rate per 100,000 population  \n",
       "0                          3.308169                         3.528871  \n",
       "1                        115.785923                       123.510499  \n",
       "2                        114.958881                       122.628281  \n",
       "3                         34.735777                        37.053150  \n",
       "4                        212.549873                       226.729987  \n",
       "5                        159.619165                       170.268045  \n",
       "6                        156.310996                       166.739173  \n",
       "7                          4.135212                         4.411089  \n",
       "8                          4.135212                         4.411089  \n",
       "9                         13.232677                        14.115486  \n",
       "10                         3.308169                         3.528871  \n",
       "11                         1.654085                         1.764436  \n",
       "12                        16.540846                        17.644357  \n",
       "13                        14.886762                        15.879921  \n",
       "14                         4.135212                         4.411089  \n",
       "15                         2.481127                         2.646654  \n",
       "16                        33.081692                        35.288714  \n",
       "17                        18.194931                        19.408793  \n",
       "18                        21.503100                        22.937664  \n",
       "19                         0.827042                         0.882218  \n",
       "20                        12.405635                        13.233268  \n",
       "21                        58.720004                        62.637467  \n",
       "22                        57.892961                        61.755249  \n",
       "23                         1.654085                         1.764436  \n",
       "24                         1.654085                         1.764436  \n",
       "25                       563.215810                       600.790354  \n",
       "26                        53.757750                        57.344160  \n",
       "27                         3.308169                         3.528871  \n",
       "28                       112.477754                       119.981627  \n",
       "29                         1.654085                         1.764436  \n",
       "30                       240.669311                       256.725394  \n",
       "31                       131.499727                       140.272638  \n",
       "32                       297.735230                       317.598425  \n",
       "33                       967.639498                      1032.194881  \n",
       "34                       323.373542                       344.947178  \n",
       "35                        69.471554                        74.106299  \n",
       "36                        91.801696                        97.926181  \n",
       "37                       463.970734                       494.924212  \n",
       "38                        47.141411                        50.286417  \n",
       "39                       178.641138                       190.559055  "
      ]
     },
     "execution_count": 2,
     "metadata": {},
     "output_type": "execute_result"
    }
   ],
   "source": [
    "df.head(40)"
   ]
  },
  {
   "cell_type": "code",
   "execution_count": null,
   "id": "11480f35",
   "metadata": {},
   "outputs": [],
   "source": []
  },
  {
   "cell_type": "markdown",
   "id": "a0d42c8b",
   "metadata": {},
   "source": [
    "## ANALYSIS OF \"OFFENCE  TYPE\" OVER 10 YEARS FOR EACH POLICE REGION"
   ]
  },
  {
   "cell_type": "code",
   "execution_count": null,
   "id": "c24169a2",
   "metadata": {
    "scrolled": true
   },
   "outputs": [],
   "source": []
  },
  {
   "cell_type": "code",
   "execution_count": 3,
   "id": "affd3fa4",
   "metadata": {},
   "outputs": [
    {
     "data": {
      "text/html": [
       "<div>\n",
       "<style scoped>\n",
       "    .dataframe tbody tr th:only-of-type {\n",
       "        vertical-align: middle;\n",
       "    }\n",
       "\n",
       "    .dataframe tbody tr th {\n",
       "        vertical-align: top;\n",
       "    }\n",
       "\n",
       "    .dataframe thead th {\n",
       "        text-align: right;\n",
       "    }\n",
       "</style>\n",
       "<table border=\"1\" class=\"dataframe\">\n",
       "  <thead>\n",
       "    <tr style=\"text-align: right;\">\n",
       "      <th></th>\n",
       "      <th></th>\n",
       "      <th>sum</th>\n",
       "      <th>mean</th>\n",
       "      <th>median</th>\n",
       "      <th>var</th>\n",
       "      <th>std</th>\n",
       "    </tr>\n",
       "    <tr>\n",
       "      <th>Offence Division</th>\n",
       "      <th>Year</th>\n",
       "      <th></th>\n",
       "      <th></th>\n",
       "      <th></th>\n",
       "      <th></th>\n",
       "      <th></th>\n",
       "    </tr>\n",
       "  </thead>\n",
       "  <tbody>\n",
       "    <tr>\n",
       "      <th rowspan=\"5\" valign=\"top\">A Crimes against the person</th>\n",
       "      <th>2012</th>\n",
       "      <td>45058</td>\n",
       "      <td>32.913075</td>\n",
       "      <td>8.0</td>\n",
       "      <td>4185.437614</td>\n",
       "      <td>64.694958</td>\n",
       "    </tr>\n",
       "    <tr>\n",
       "      <th>2013</th>\n",
       "      <td>48291</td>\n",
       "      <td>33.983814</td>\n",
       "      <td>8.0</td>\n",
       "      <td>4285.014527</td>\n",
       "      <td>65.460022</td>\n",
       "    </tr>\n",
       "    <tr>\n",
       "      <th>2014</th>\n",
       "      <td>49122</td>\n",
       "      <td>34.544304</td>\n",
       "      <td>10.0</td>\n",
       "      <td>4286.761934</td>\n",
       "      <td>65.473368</td>\n",
       "    </tr>\n",
       "    <tr>\n",
       "      <th>2015</th>\n",
       "      <td>50791</td>\n",
       "      <td>35.642807</td>\n",
       "      <td>10.0</td>\n",
       "      <td>4500.739599</td>\n",
       "      <td>67.087552</td>\n",
       "    </tr>\n",
       "    <tr>\n",
       "      <th>2016</th>\n",
       "      <td>57548</td>\n",
       "      <td>39.121686</td>\n",
       "      <td>11.0</td>\n",
       "      <td>5721.370897</td>\n",
       "      <td>75.639744</td>\n",
       "    </tr>\n",
       "  </tbody>\n",
       "</table>\n",
       "</div>"
      ],
      "text/plain": [
       "                                    sum       mean  median          var  \\\n",
       "Offence Division            Year                                          \n",
       "A Crimes against the person 2012  45058  32.913075     8.0  4185.437614   \n",
       "                            2013  48291  33.983814     8.0  4285.014527   \n",
       "                            2014  49122  34.544304    10.0  4286.761934   \n",
       "                            2015  50791  35.642807    10.0  4500.739599   \n",
       "                            2016  57548  39.121686    11.0  5721.370897   \n",
       "\n",
       "                                        std  \n",
       "Offence Division            Year             \n",
       "A Crimes against the person 2012  64.694958  \n",
       "                            2013  65.460022  \n",
       "                            2014  65.473368  \n",
       "                            2015  67.087552  \n",
       "                            2016  75.639744  "
      ]
     },
     "execution_count": 3,
     "metadata": {},
     "output_type": "execute_result"
    }
   ],
   "source": [
    "cdf = df.groupby(['Offence Division','Year'])['Incidents Recorded'].agg(['sum','mean','median',np.var,np.std])\n",
    "cdf.head()"
   ]
  },
  {
   "cell_type": "code",
   "execution_count": 4,
   "id": "77124576",
   "metadata": {
    "scrolled": true
   },
   "outputs": [
    {
     "data": {
      "text/plain": [
       "count        10.000000\n",
       "mean     371043.600000\n",
       "std       29772.239199\n",
       "min      330937.000000\n",
       "25%      347846.750000\n",
       "50%      369855.000000\n",
       "75%      393191.750000\n",
       "max      410774.000000\n",
       "Name: Incidents Recorded, dtype: float64"
      ]
     },
     "execution_count": 4,
     "metadata": {},
     "output_type": "execute_result"
    }
   ],
   "source": [
    "Total = df.groupby(['Year'])['Incidents Recorded'].agg('sum')\n",
    "Total.describe()"
   ]
  },
  {
   "cell_type": "code",
   "execution_count": 5,
   "id": "af1a6ade",
   "metadata": {},
   "outputs": [
    {
     "data": {
      "text/plain": [
       "<function matplotlib.pyplot.show(close=None, block=None)>"
      ]
     },
     "execution_count": 5,
     "metadata": {},
     "output_type": "execute_result"
    },
    {
     "data": {
      "image/png": "[encoded data removed]",
      "text/plain": [
       "<Figure size 432x288 with 1 Axes>"
      ]
     },
     "metadata": {
      "needs_background": "light"
     },
     "output_type": "display_data"
    }
   ],
   "source": [
    "x = np.arange(2012,2022,1)\n",
    "plt.plot(x,Total, marker=\"o\", color=\"pink\", linewidth=1, label=\"Total\")\n",
    "plt.show"
   ]
  },
  {
   "cell_type": "code",
   "execution_count": 6,
   "id": "e5d6bbbc",
   "metadata": {},
   "outputs": [
    {
     "data": {
      "text/plain": [
       "Year\n",
       "2012    45058\n",
       "2013    48291\n",
       "2014    49122\n",
       "2015    50791\n",
       "2016    57548\n",
       "2017    60361\n",
       "2018    61408\n",
       "2019    64028\n",
       "2020    63821\n",
       "2021    64967\n",
       "Name: Incidents Recorded, dtype: int64"
      ]
     },
     "execution_count": 6,
     "metadata": {},
     "output_type": "execute_result"
    }
   ],
   "source": [
    "Person = df[df['Offence Division']=='A Crimes against the person']\n",
    "Person = Person.groupby(['Year'])['Incidents Recorded'].sum()\n",
    "Person"
   ]
  },
  {
   "cell_type": "code",
   "execution_count": 7,
   "id": "ac91b6af",
   "metadata": {
    "scrolled": false
   },
   "outputs": [
    {
     "data": {
      "text/plain": [
       "Year\n",
       "2012    230668\n",
       "2013    226184\n",
       "2014    228654\n",
       "2015    231770\n",
       "2016    266657\n",
       "2017    242370\n",
       "2018    232635\n",
       "2019    239662\n",
       "2020    223468\n",
       "2021    194327\n",
       "Name: Incidents Recorded, dtype: int64"
      ]
     },
     "execution_count": 7,
     "metadata": {},
     "output_type": "execute_result"
    }
   ],
   "source": [
    "Property = df[df['Offence Division']=='B Property and deception offences']\n",
    "Property = Property.groupby(['Year'])['Incidents Recorded'].sum()\n",
    "Property"
   ]
  },
  {
   "cell_type": "code",
   "execution_count": 8,
   "id": "9b46a451",
   "metadata": {
    "scrolled": true
   },
   "outputs": [
    {
     "data": {
      "text/plain": [
       "Year\n",
       "2012    11976\n",
       "2013    13090\n",
       "2014    14074\n",
       "2015    15455\n",
       "2016    15105\n",
       "2017    14891\n",
       "2018    15193\n",
       "2019    16533\n",
       "2020    18621\n",
       "2021    14820\n",
       "Name: Incidents Recorded, dtype: int64"
      ]
     },
     "execution_count": 8,
     "metadata": {},
     "output_type": "execute_result"
    }
   ],
   "source": [
    "Drugs = df[df['Offence Division']=='C Drug offences']\n",
    "Drugs = Drugs.groupby(['Year'])['Incidents Recorded'].sum()\n",
    "Drugs"
   ]
  },
  {
   "cell_type": "code",
   "execution_count": 9,
   "id": "13ea0b66",
   "metadata": {},
   "outputs": [
    {
     "data": {
      "text/plain": [
       "Year\n",
       "2012    26035\n",
       "2013    27878\n",
       "2014    26031\n",
       "2015    25513\n",
       "2016    23924\n",
       "2017    24389\n",
       "2018    23688\n",
       "2019    23483\n",
       "2020    18471\n",
       "2021    17735\n",
       "Name: Incidents Recorded, dtype: int64"
      ]
     },
     "execution_count": 9,
     "metadata": {},
     "output_type": "execute_result"
    }
   ],
   "source": [
    "Public = df[df['Offence Division']=='D Public order and security offences']\n",
    "Public = Public.groupby(['Year'])['Incidents Recorded'].sum()\n",
    "Public"
   ]
  },
  {
   "cell_type": "code",
   "execution_count": 10,
   "id": "ded6a212",
   "metadata": {},
   "outputs": [
    {
     "data": {
      "text/plain": [
       "Year\n",
       "2012    16153\n",
       "2013    18634\n",
       "2014    26243\n",
       "2015    34144\n",
       "2016    45374\n",
       "2017    45598\n",
       "2018    47575\n",
       "2019    50321\n",
       "2020    53411\n",
       "2021    51950\n",
       "Name: Incidents Recorded, dtype: int64"
      ]
     },
     "execution_count": 10,
     "metadata": {},
     "output_type": "execute_result"
    }
   ],
   "source": [
    "Justice = df[df['Offence Division']=='E Justice procedures offences']\n",
    "Justice = Justice.groupby(['Year'])['Incidents Recorded'].sum()\n",
    "Justice"
   ]
  },
  {
   "cell_type": "code",
   "execution_count": 34,
   "id": "71691ead",
   "metadata": {
    "scrolled": true
   },
   "outputs": [
    {
     "data": {
      "text/plain": [
       "<function matplotlib.pyplot.show(close=None, block=None)>"
      ]
     },
     "execution_count": 34,
     "metadata": {},
     "output_type": "execute_result"
    },
    {
     "data": {
      "image/png": "[encoded data removed]",
      "text/plain": [
       "<Figure size 432x288 with 1 Axes>"
      ]
     },
     "metadata": {
      "needs_background": "light"
     },
     "output_type": "display_data"
    }
   ],
   "source": [
    "x = np.arange(2012,2022,1)\n",
    "plt.plot(x,Total, marker=\"o\", color=\"blue\", linewidth=1, label=\"Total Victorian Offence Incidents\")\n",
    "plt.plot(x,Property, marker=\"o\", color=\"lime\", linewidth=1, label=\"B Property and deception offences\")\n",
    "plt.plot(x,Person, marker=\"o\", color=\"red\", linewidth=1, label=\"A Crimes against the Person\")\n",
    "plt.plot(x,Justice, marker=\"o\", color=\"darkorchid\", linewidth=1, label=\"E Justice procedures offences\")\n",
    "plt.plot(x,Public, marker=\"o\", color=\"lightskyblue\", linewidth=1, label=\"D Public order and security offences\")\n",
    "plt.plot(x,Drugs, marker=\"o\", color=\"gold\", linewidth=1, label=\"C Drug offences\")\n",
    "\n",
    "plt.legend(loc='lower right', bbox_to_anchor=(1.70, 0.50))\n",
    "plt.title(\"Summary of Incidents recorded\",fontsize = 20)\n",
    "plt.xlabel(\"YEAR\")\n",
    "plt.ylabel(\"Number of Incidents\")\n",
    "plt.show"
   ]
  },
  {
   "cell_type": "code",
   "execution_count": 12,
   "id": "07ff3525",
   "metadata": {},
   "outputs": [
    {
     "data": {
      "text/html": [
       "<div>\n",
       "<style scoped>\n",
       "    .dataframe tbody tr th:only-of-type {\n",
       "        vertical-align: middle;\n",
       "    }\n",
       "\n",
       "    .dataframe tbody tr th {\n",
       "        vertical-align: top;\n",
       "    }\n",
       "\n",
       "    .dataframe thead th {\n",
       "        text-align: right;\n",
       "    }\n",
       "</style>\n",
       "<table border=\"1\" class=\"dataframe\">\n",
       "  <thead>\n",
       "    <tr style=\"text-align: right;\">\n",
       "      <th></th>\n",
       "      <th>Year</th>\n",
       "      <th>Year ending</th>\n",
       "      <th>Police Service Area</th>\n",
       "      <th>Local Government Area</th>\n",
       "      <th>Offence Division</th>\n",
       "      <th>Offence Subdivision</th>\n",
       "      <th>Offence Subgroup</th>\n",
       "      <th>Incidents Recorded</th>\n",
       "      <th>PSA Rate per 100,000 population</th>\n",
       "      <th>LGA Rate per 100,000 population</th>\n",
       "    </tr>\n",
       "  </thead>\n",
       "  <tbody>\n",
       "    <tr>\n",
       "      <th>22</th>\n",
       "      <td>2021</td>\n",
       "      <td>September</td>\n",
       "      <td>Ballarat</td>\n",
       "      <td>Ballarat</td>\n",
       "      <td>B Property and deception offences</td>\n",
       "      <td>B10 Arson</td>\n",
       "      <td>B11 Cause damage by fire</td>\n",
       "      <td>70</td>\n",
       "      <td>57.892961</td>\n",
       "      <td>61.755249</td>\n",
       "    </tr>\n",
       "    <tr>\n",
       "      <th>23</th>\n",
       "      <td>2021</td>\n",
       "      <td>September</td>\n",
       "      <td>Ballarat</td>\n",
       "      <td>Ballarat</td>\n",
       "      <td>B Property and deception offences</td>\n",
       "      <td>B10 Arson</td>\n",
       "      <td>B12 Cause a bushfire</td>\n",
       "      <td>2</td>\n",
       "      <td>1.654085</td>\n",
       "      <td>1.764436</td>\n",
       "    </tr>\n",
       "    <tr>\n",
       "      <th>24</th>\n",
       "      <td>2021</td>\n",
       "      <td>September</td>\n",
       "      <td>Ballarat</td>\n",
       "      <td>Ballarat</td>\n",
       "      <td>B Property and deception offences</td>\n",
       "      <td>B10 Arson</td>\n",
       "      <td>B19 Other fire related offences</td>\n",
       "      <td>2</td>\n",
       "      <td>1.654085</td>\n",
       "      <td>1.764436</td>\n",
       "    </tr>\n",
       "    <tr>\n",
       "      <th>25</th>\n",
       "      <td>2021</td>\n",
       "      <td>September</td>\n",
       "      <td>Ballarat</td>\n",
       "      <td>Ballarat</td>\n",
       "      <td>B Property and deception offences</td>\n",
       "      <td>B20 Property damage</td>\n",
       "      <td>B21 Criminal damage</td>\n",
       "      <td>681</td>\n",
       "      <td>563.215810</td>\n",
       "      <td>600.790354</td>\n",
       "    </tr>\n",
       "    <tr>\n",
       "      <th>26</th>\n",
       "      <td>2021</td>\n",
       "      <td>September</td>\n",
       "      <td>Ballarat</td>\n",
       "      <td>Ballarat</td>\n",
       "      <td>B Property and deception offences</td>\n",
       "      <td>B20 Property damage</td>\n",
       "      <td>B22 Graffiti</td>\n",
       "      <td>65</td>\n",
       "      <td>53.757750</td>\n",
       "      <td>57.344160</td>\n",
       "    </tr>\n",
       "    <tr>\n",
       "      <th>...</th>\n",
       "      <td>...</td>\n",
       "      <td>...</td>\n",
       "      <td>...</td>\n",
       "      <td>...</td>\n",
       "      <td>...</td>\n",
       "      <td>...</td>\n",
       "      <td>...</td>\n",
       "      <td>...</td>\n",
       "      <td>...</td>\n",
       "      <td>...</td>\n",
       "    </tr>\n",
       "    <tr>\n",
       "      <th>50368</th>\n",
       "      <td>2012</td>\n",
       "      <td>September</td>\n",
       "      <td>Yarra Ranges</td>\n",
       "      <td>Yarra Ranges</td>\n",
       "      <td>B Property and deception offences</td>\n",
       "      <td>B40 Theft</td>\n",
       "      <td>B49 Other theft</td>\n",
       "      <td>622</td>\n",
       "      <td>415.042972</td>\n",
       "      <td>415.042972</td>\n",
       "    </tr>\n",
       "    <tr>\n",
       "      <th>50369</th>\n",
       "      <td>2012</td>\n",
       "      <td>September</td>\n",
       "      <td>Yarra Ranges</td>\n",
       "      <td>Yarra Ranges</td>\n",
       "      <td>B Property and deception offences</td>\n",
       "      <td>B50 Deception</td>\n",
       "      <td>B51 Forgery and counterfeiting</td>\n",
       "      <td>29</td>\n",
       "      <td>19.350878</td>\n",
       "      <td>19.350878</td>\n",
       "    </tr>\n",
       "    <tr>\n",
       "      <th>50370</th>\n",
       "      <td>2012</td>\n",
       "      <td>September</td>\n",
       "      <td>Yarra Ranges</td>\n",
       "      <td>Yarra Ranges</td>\n",
       "      <td>B Property and deception offences</td>\n",
       "      <td>B50 Deception</td>\n",
       "      <td>B52 Possess equipment to make false instrument</td>\n",
       "      <td>1</td>\n",
       "      <td>0.667272</td>\n",
       "      <td>0.667272</td>\n",
       "    </tr>\n",
       "    <tr>\n",
       "      <th>50371</th>\n",
       "      <td>2012</td>\n",
       "      <td>September</td>\n",
       "      <td>Yarra Ranges</td>\n",
       "      <td>Yarra Ranges</td>\n",
       "      <td>B Property and deception offences</td>\n",
       "      <td>B50 Deception</td>\n",
       "      <td>B53 Obtain benefit by deception</td>\n",
       "      <td>103</td>\n",
       "      <td>68.728981</td>\n",
       "      <td>68.728981</td>\n",
       "    </tr>\n",
       "    <tr>\n",
       "      <th>50372</th>\n",
       "      <td>2012</td>\n",
       "      <td>September</td>\n",
       "      <td>Yarra Ranges</td>\n",
       "      <td>Yarra Ranges</td>\n",
       "      <td>B Property and deception offences</td>\n",
       "      <td>B50 Deception</td>\n",
       "      <td>B54 State false information</td>\n",
       "      <td>7</td>\n",
       "      <td>4.670902</td>\n",
       "      <td>4.670902</td>\n",
       "    </tr>\n",
       "  </tbody>\n",
       "</table>\n",
       "<p>14763 rows × 10 columns</p>\n",
       "</div>"
      ],
      "text/plain": [
       "       Year Year ending Police Service Area Local Government Area  \\\n",
       "22     2021   September            Ballarat              Ballarat   \n",
       "23     2021   September            Ballarat              Ballarat   \n",
       "24     2021   September            Ballarat              Ballarat   \n",
       "25     2021   September            Ballarat              Ballarat   \n",
       "26     2021   September            Ballarat              Ballarat   \n",
       "...     ...         ...                 ...                   ...   \n",
       "50368  2012   September        Yarra Ranges          Yarra Ranges   \n",
       "50369  2012   September        Yarra Ranges          Yarra Ranges   \n",
       "50370  2012   September        Yarra Ranges          Yarra Ranges   \n",
       "50371  2012   September        Yarra Ranges          Yarra Ranges   \n",
       "50372  2012   September        Yarra Ranges          Yarra Ranges   \n",
       "\n",
       "                        Offence Division  Offence Subdivision  \\\n",
       "22     B Property and deception offences            B10 Arson   \n",
       "23     B Property and deception offences            B10 Arson   \n",
       "24     B Property and deception offences            B10 Arson   \n",
       "25     B Property and deception offences  B20 Property damage   \n",
       "26     B Property and deception offences  B20 Property damage   \n",
       "...                                  ...                  ...   \n",
       "50368  B Property and deception offences            B40 Theft   \n",
       "50369  B Property and deception offences        B50 Deception   \n",
       "50370  B Property and deception offences        B50 Deception   \n",
       "50371  B Property and deception offences        B50 Deception   \n",
       "50372  B Property and deception offences        B50 Deception   \n",
       "\n",
       "                                     Offence Subgroup  Incidents Recorded  \\\n",
       "22                           B11 Cause damage by fire                  70   \n",
       "23                               B12 Cause a bushfire                   2   \n",
       "24                    B19 Other fire related offences                   2   \n",
       "25                                B21 Criminal damage                 681   \n",
       "26                                       B22 Graffiti                  65   \n",
       "...                                               ...                 ...   \n",
       "50368                                 B49 Other theft                 622   \n",
       "50369                  B51 Forgery and counterfeiting                  29   \n",
       "50370  B52 Possess equipment to make false instrument                   1   \n",
       "50371                 B53 Obtain benefit by deception                 103   \n",
       "50372                     B54 State false information                   7   \n",
       "\n",
       "       PSA Rate per 100,000 population  LGA Rate per 100,000 population  \n",
       "22                           57.892961                        61.755249  \n",
       "23                            1.654085                         1.764436  \n",
       "24                            1.654085                         1.764436  \n",
       "25                          563.215810                       600.790354  \n",
       "26                           53.757750                        57.344160  \n",
       "...                                ...                              ...  \n",
       "50368                       415.042972                       415.042972  \n",
       "50369                        19.350878                        19.350878  \n",
       "50370                         0.667272                         0.667272  \n",
       "50371                        68.728981                        68.728981  \n",
       "50372                         4.670902                         4.670902  \n",
       "\n",
       "[14763 rows x 10 columns]"
      ]
     },
     "execution_count": 12,
     "metadata": {},
     "output_type": "execute_result"
    }
   ],
   "source": [
    "SplitProperty = df[df['Offence Division']=='B Property and deception offences']\n",
    "SplitProperty"
   ]
  },
  {
   "cell_type": "code",
   "execution_count": 13,
   "id": "1650f3fc",
   "metadata": {
    "scrolled": false
   },
   "outputs": [
    {
     "data": {
      "text/plain": [
       "Offence Subdivision\n",
       "B10 Arson                         30142\n",
       "B20 Property damage              364324\n",
       "B30 Burglary/Break and enter     417734\n",
       "B40 Theft                       1317748\n",
       "B50 Deception                    186375\n",
       "B60 Bribery                          72\n",
       "Name: Incidents Recorded, dtype: int64"
      ]
     },
     "execution_count": 13,
     "metadata": {},
     "output_type": "execute_result"
    }
   ],
   "source": [
    "InciProperty = SplitProperty.groupby(['Offence Subdivision'])['Incidents Recorded'].sum()\n",
    "InciProperty"
   ]
  },
  {
   "cell_type": "code",
   "execution_count": 14,
   "id": "7d153199",
   "metadata": {},
   "outputs": [
    {
     "data": {
      "text/plain": [
       "Year\n",
       "2012    43351\n",
       "2013    40173\n",
       "2014    37140\n",
       "2015    35596\n",
       "2016    37539\n",
       "2017    35984\n",
       "2018    35007\n",
       "2019    34298\n",
       "2020    33030\n",
       "2021    32206\n",
       "Name: Incidents Recorded, dtype: int64"
      ]
     },
     "execution_count": 14,
     "metadata": {},
     "output_type": "execute_result"
    }
   ],
   "source": [
    "Damage = SplitProperty[SplitProperty['Offence Subdivision']=='B20 Property damage']\n",
    "Damage = Damage.groupby(['Year'])['Incidents Recorded'].sum()\n",
    "Damage"
   ]
  },
  {
   "cell_type": "code",
   "execution_count": 15,
   "id": "1757dd09",
   "metadata": {},
   "outputs": [
    {
     "data": {
      "text/plain": [
       "Year\n",
       "2012    127414\n",
       "2013    122822\n",
       "2014    127502\n",
       "2015    130673\n",
       "2016    153831\n",
       "2017    135607\n",
       "2018    134040\n",
       "2019    141939\n",
       "2020    132562\n",
       "2021    111358\n",
       "Name: Incidents Recorded, dtype: int64"
      ]
     },
     "execution_count": 15,
     "metadata": {},
     "output_type": "execute_result"
    }
   ],
   "source": [
    "Theft = SplitProperty[SplitProperty['Offence Subdivision']=='B40 Theft']\n",
    "Theft = Theft.groupby(['Year'])['Incidents Recorded'].sum()\n",
    "Theft"
   ]
  },
  {
   "cell_type": "code",
   "execution_count": 16,
   "id": "3b8de46b",
   "metadata": {},
   "outputs": [
    {
     "data": {
      "text/plain": [
       "Year\n",
       "2012    11363\n",
       "2013    15002\n",
       "2014    17012\n",
       "2015    16749\n",
       "2016    19679\n",
       "2017    21281\n",
       "2018    20794\n",
       "2019    22932\n",
       "2020    21951\n",
       "2021    19612\n",
       "Name: Incidents Recorded, dtype: int64"
      ]
     },
     "execution_count": 16,
     "metadata": {},
     "output_type": "execute_result"
    }
   ],
   "source": [
    "Deception = SplitProperty[SplitProperty['Offence Subdivision']=='B50 Deception']\n",
    "Deception = Deception.groupby(['Year'])['Incidents Recorded'].sum()\n",
    "Deception"
   ]
  },
  {
   "cell_type": "code",
   "execution_count": 17,
   "id": "9f8fed2a",
   "metadata": {},
   "outputs": [
    {
     "data": {
      "text/plain": [
       "Year\n",
       "2012    20\n",
       "2013     7\n",
       "2014     2\n",
       "2015    20\n",
       "2016     5\n",
       "2017     5\n",
       "2018     3\n",
       "2019     5\n",
       "2020     3\n",
       "2021     2\n",
       "Name: Incidents Recorded, dtype: int64"
      ]
     },
     "execution_count": 17,
     "metadata": {},
     "output_type": "execute_result"
    }
   ],
   "source": [
    "Bribery = SplitProperty[SplitProperty['Offence Subdivision']=='B60 Bribery']\n",
    "Bribery = Bribery.groupby(['Year'])['Incidents Recorded'].sum()\n",
    "Bribery"
   ]
  },
  {
   "cell_type": "code",
   "execution_count": 18,
   "id": "280c7bc1",
   "metadata": {},
   "outputs": [
    {
     "data": {
      "text/plain": [
       "Year\n",
       "2012    45356\n",
       "2013    44609\n",
       "2014    43716\n",
       "2015    45650\n",
       "2016    51628\n",
       "2017    46455\n",
       "2018    39734\n",
       "2019    37609\n",
       "2020    33701\n",
       "2021    29276\n",
       "Name: Incidents Recorded, dtype: int64"
      ]
     },
     "execution_count": 18,
     "metadata": {},
     "output_type": "execute_result"
    }
   ],
   "source": [
    "Burglary = SplitProperty[SplitProperty['Offence Subdivision']=='B30 Burglary/Break and enter']\n",
    "Burglary = Burglary.groupby(['Year'])['Incidents Recorded'].sum()\n",
    "Burglary"
   ]
  },
  {
   "cell_type": "code",
   "execution_count": 19,
   "id": "95923b28",
   "metadata": {
    "scrolled": true
   },
   "outputs": [
    {
     "data": {
      "text/plain": [
       "Year\n",
       "2012    3164\n",
       "2013    3571\n",
       "2014    3282\n",
       "2015    3082\n",
       "2016    3975\n",
       "2017    3038\n",
       "2018    3057\n",
       "2019    2879\n",
       "2020    2221\n",
       "2021    1873\n",
       "Name: Incidents Recorded, dtype: int64"
      ]
     },
     "execution_count": 19,
     "metadata": {},
     "output_type": "execute_result"
    }
   ],
   "source": [
    "Arson = SplitProperty[SplitProperty['Offence Subdivision']=='B10 Arson']\n",
    "Arson = Arson.groupby(['Year'])['Incidents Recorded'].sum()\n",
    "Arson"
   ]
  },
  {
   "cell_type": "code",
   "execution_count": 20,
   "id": "da623268",
   "metadata": {},
   "outputs": [
    {
     "data": {
      "text/plain": [
       "<function matplotlib.pyplot.show(close=None, block=None)>"
      ]
     },
     "execution_count": 20,
     "metadata": {},
     "output_type": "execute_result"
    },
    {
     "data": {
      "image/png": "[encoded data removed]",
      "text/plain": [
       "<Figure size 432x288 with 1 Axes>"
      ]
     },
     "metadata": {
      "needs_background": "light"
     },
     "output_type": "display_data"
    }
   ],
   "source": [
    "x = np.arange(2012,2022,1)\n",
    "#plt.plot(x,Total, marker=\"o\", color=\"pink\", linewidth=1, label=\"Total\")\n",
    "plt.plot(x,Theft, marker=\"o\", color=\"lime\", linewidth=1, label=\"Theft\")\n",
    "plt.plot(x,Burglary, marker=\"o\", color=\"gold\", linewidth=1, label=\"Burglary/Break and enter\")\n",
    "plt.plot(x,Damage, marker=\"o\", color=\"blue\", linewidth=1, label=\"Property damage\")\n",
    "plt.plot(x,Deception, marker=\"o\", color=\"salmon\", linewidth=1, label=\"Deception\")\n",
    "plt.plot(x,Arson, marker=\"o\", color=\"purple\", linewidth=1, label=\"Arson\")\n",
    "plt.plot(x,Bribery, marker=\"o\", color=\"orange\", linewidth=1, label=\"Bribery\")\n",
    "plt.legend(loc='lower right', bbox_to_anchor=(1.54, 0.45))\n",
    "plt.title(\"Breakdown B Property and Deception Offences\",fontsize = 20)\n",
    "plt.xlabel(\"YEAR\")\n",
    "plt.ylabel(\"Number of Incidents\")\n",
    "plt.show"
   ]
  },
  {
   "cell_type": "code",
   "execution_count": 21,
   "id": "e83e36bd",
   "metadata": {},
   "outputs": [
    {
     "data": {
      "text/plain": [
       "Offence Subgroup\n",
       "B46 Fare evasion                             584\n",
       "B44 Theft of a bicycle                     59087\n",
       "B45 Receiving or handling stolen goods     60489\n",
       "B41 Motor vehicle theft                   142467\n",
       "B43 Steal from a retail store             181729\n",
       "B49 Other theft                           380762\n",
       "B42 Steal from a motor vehicle            492630\n",
       "Name: Incidents Recorded, dtype: int64"
      ]
     },
     "execution_count": 21,
     "metadata": {},
     "output_type": "execute_result"
    }
   ],
   "source": [
    "TheftSplit = SplitProperty[SplitProperty['Offence Subdivision']=='B40 Theft']\n",
    "TheftSplit = TheftSplit.groupby(['Offence Subgroup'])['Incidents Recorded'].sum()\n",
    "TheftSplit.sort_values()"
   ]
  },
  {
   "cell_type": "code",
   "execution_count": 22,
   "id": "6b226f4f",
   "metadata": {
    "scrolled": false
   },
   "outputs": [
    {
     "data": {
      "image/png": "[encoded data removed]",
      "text/plain": [
       "<Figure size 432x288 with 1 Axes>"
      ]
     },
     "metadata": {},
     "output_type": "display_data"
    }
   ],
   "source": [
    "# Generate a pie plot showing the distribution of crime of Theft\n",
    "pies = [\"Motor vehicle theft\",\"Stealing from a motor vehicle\",\n",
    "        \"Stealing from a retail store\",'Theft of a bicycle',\n",
    "        'Receiving or handling stolen goods','Other thefts']\n",
    "pie_count =[142467,492630,181729,59087,60489,381346]\n",
    "colors = [\"lime\",\"palegreen\",\"lawngreen\",\"greenyellow\",\"seagreen\",'forestgreen']\n",
    "explode = (0,0.1,0,0,0,0)\n",
    "# Tell matplotlib to create a pie chart based upon the above data: \n",
    "plt.pie(pie_count, labels=pies, explode=explode, colors=colors,\n",
    "        autopct=\"%1.1f%%\", shadow=True, startangle=301,textprops= {'fontsize': 12, 'weight':'bold'})\n",
    "# Create axes which are equal so we have a perfect circle and print to screen\n",
    "plt.axis(\"equal\")\n",
    "plt.title('Subgroup \"Theft\" total over 10 years:',fontsize = 20)\n",
    "plt.show()"
   ]
  },
  {
   "cell_type": "code",
   "execution_count": 23,
   "id": "aac894ab",
   "metadata": {},
   "outputs": [
    {
     "data": {
      "text/plain": [
       "Offence Subdivision\n",
       "A60 Blackmail and extortion                              1418\n",
       "A10 Homicide and related offences                        1807\n",
       "A40 Abduction and related offences                       4013\n",
       "A50 Robbery                                             22799\n",
       "A80 Dangerous and negligent acts endangering people     35032\n",
       "A70 Stalking, harassment and threatening behaviour      64967\n",
       "A30 Sexual offences                                     70080\n",
       "A20 Assault and related offences                       365279\n",
       "Name: Incidents Recorded, dtype: int64"
      ]
     },
     "execution_count": 23,
     "metadata": {},
     "output_type": "execute_result"
    }
   ],
   "source": [
    "PersonPieSplit= df[df['Offence Division']=='A Crimes against the person']\n",
    "PersonPieSplit = PersonPieSplit.groupby(['Offence Subdivision'])['Incidents Recorded'].sum()\n",
    "PersonPieSplit.sort_values()"
   ]
  },
  {
   "cell_type": "code",
   "execution_count": null,
   "id": "79a3a457",
   "metadata": {},
   "outputs": [],
   "source": []
  },
  {
   "cell_type": "code",
   "execution_count": 24,
   "id": "25134d60",
   "metadata": {},
   "outputs": [
    {
     "data": {
      "image/png": "[encoded data removed]",
      "text/plain": [
       "<Figure size 432x288 with 1 Axes>"
      ]
     },
     "metadata": {},
     "output_type": "display_data"
    }
   ],
   "source": [
    "# Generate a pie plot showing the distribution of crime of Theft\n",
    "pies = [\"Homicide, Abduction, Blackmail and Robbery\",\"Assault and related offences\",\n",
    "        \"Sexual offences\",\"Dangerous and negligent acts endangering people\",\n",
    "        'Stalking, harassment and threatening behaviour']\n",
    "pie_count = [30037,365279,70080,64967,35032]\n",
    "colors = [\"r\",\"lightcoral\",\"pink\",'tomato','firebrick']\n",
    "explode = (0,0.1,0,0,0)\n",
    "# Tell matplotlib to create a pie chart based upon the above data: \n",
    "plt.pie(pie_count, labels=pies, explode=explode, colors=colors,\n",
    "        autopct=\"%1.1f%%\", shadow=True, startangle=10, wedgeprops = {'linewidth': 1},textprops= {'fontsize': 12, 'weight':'bold'})\n",
    "#plt.legend(pies, loc=\"best\", bbox_to_anchor=(0.82,0.80))\n",
    "# Create axes which are equal so we have a perfect circle and print to screen\n",
    "plt.axis(\"equal\")\n",
    "plt.title('\"A Crimes against the person\" total over 10 years:',fontsize = 20)\n",
    "plt.show()"
   ]
  },
  {
   "cell_type": "code",
   "execution_count": null,
   "id": "f5e33679",
   "metadata": {},
   "outputs": [],
   "source": []
  },
  {
   "cell_type": "code",
   "execution_count": 25,
   "id": "2a229745",
   "metadata": {},
   "outputs": [
    {
     "data": {
      "text/plain": [
       "Offence Subgroup\n",
       "C22 Manufacture drugs                                         5\n",
       "C11 Drug dealing                                            238\n",
       "C99 Other drug offences                                     290\n",
       "C23 Possess drug manufacturing equipment or precursor      3206\n",
       "C31 Drug use                                               5258\n",
       "C21 Cultivate drugs                                        8344\n",
       "C12 Drug trafficking                                      28585\n",
       "C32 Drug possession                                      103832\n",
       "Name: Incidents Recorded, dtype: int64"
      ]
     },
     "execution_count": 25,
     "metadata": {},
     "output_type": "execute_result"
    }
   ],
   "source": [
    "DrugsPieSplit= df[df['Offence Division']=='C Drug offences']\n",
    "DrugsPieSplit = DrugsPieSplit.groupby(['Offence Subgroup'])['Incidents Recorded'].sum()\n",
    "DrugsPieSplit.sort_values()"
   ]
  },
  {
   "cell_type": "code",
   "execution_count": 26,
   "id": "a45857be",
   "metadata": {},
   "outputs": [
    {
     "data": {
      "image/png": "[encoded data removed]",
      "text/plain": [
       "<Figure size 432x288 with 1 Axes>"
      ]
     },
     "metadata": {},
     "output_type": "display_data"
    }
   ],
   "source": [
    "# Generate a pie plot showing the distribution of Drug crimes\n",
    "pies = ['Drug possession','Drug use',\"Drug trafficking\",\"Cultivate, manufacturing or dealing\"]\n",
    "pie_count = [103832,5548,28585,11555]\n",
    "colors = [\"cornsilk\",\"yellow\",\"gold\",'khaki']\n",
    "explode = (0,0,0,0.1)\n",
    "# Tell matplotlib to create a pie chart based upon the above data: \n",
    "plt.pie(pie_count, labels=pies, explode=explode, colors=colors,\n",
    "        autopct=\"%1.1f%%\", shadow=True, startangle=10, wedgeprops = {'linewidth': 1},textprops= {'fontsize': 12, 'weight':'bold'})\n",
    "# Create axes which are equal so we have a perfect circle and print to screen##\n",
    "#plt.legend(pies, loc=\"best\", bbox_to_anchor=(0.82,0.80))\n",
    "plt.axis(\"equal\")\n",
    "plt.title('\"C Drug Crimes\" total over 10 years:',fontsize = 20)\n",
    "plt.show()"
   ]
  },
  {
   "cell_type": "code",
   "execution_count": 27,
   "id": "a2bc9b2d",
   "metadata": {
    "scrolled": true
   },
   "outputs": [
    {
     "data": {
      "text/plain": [
       "Offence Subdivision\n",
       "D10 Weapons and explosives offences      83444\n",
       "D20 Disorderly and offensive conduct    135872\n",
       "D30 Public nuisance offences             17508\n",
       "D40 Public security offences               323\n",
       "Name: Incidents Recorded, dtype: int64"
      ]
     },
     "execution_count": 27,
     "metadata": {},
     "output_type": "execute_result"
    }
   ],
   "source": [
    "OrderPieSplit= df[df['Offence Division']=='D Public order and security offences']\n",
    "OrderPieSplit = OrderPieSplit.groupby(['Offence Subdivision'])['Incidents Recorded'].sum()\n",
    "OrderPieSplit"
   ]
  },
  {
   "cell_type": "code",
   "execution_count": 28,
   "id": "f7986c3f",
   "metadata": {},
   "outputs": [
    {
     "data": {
      "image/png": "[encoded data removed]",
      "text/plain": [
       "<Figure size 432x288 with 1 Axes>"
      ]
     },
     "metadata": {},
     "output_type": "display_data"
    }
   ],
   "source": [
    "# Generate a pie plot showing the distribution of Drug crimes\n",
    "pies = [\"Weapons and explosives offences\",\"Disorderly and offensive conduct\",\"Public nuisance offences\",\"Public security offences\"]\n",
    "pie_count = OrderPieSplit\n",
    "colors = [\"lightskyblue\",\"dodgerblue\",\"deepskyblue\",\"lightslategrey\"]\n",
    "explode = (0,0.1,0,0)\n",
    "# Tell matplotlib to create a pie chart based upon the above data: \n",
    "plt.pie(pie_count, labels=pies, explode=explode, colors=colors,\n",
    "        autopct=\"%1.0f%%\", shadow=True, startangle=330, wedgeprops = {'linewidth': 1},textprops= {'fontsize': 12, 'weight':'bold'})\n",
    "# Create axes which are equal so we have a perfect circle and print to screen\n",
    "plt.axis(\"equal\")\n",
    "plt.title('\"D Public order and security offences\" total over 10 years:',fontsize = 20)\n",
    "plt.show()"
   ]
  },
  {
   "cell_type": "code",
   "execution_count": 29,
   "id": "f06749b9",
   "metadata": {},
   "outputs": [
    {
     "data": {
      "text/plain": [
       "Offence Subgroup\n",
       "E12 Fail to appear                                          9\n",
       "E11 Escape custody                                        851\n",
       "E15 Prison regulation offences                           4582\n",
       "E14 Pervert the course of justice or commit perjury      5234\n",
       "E19 Other justice procedures offences                    9389\n",
       "E29 Breach of other orders                               9975\n",
       "E22 Breach intervention order                           17202\n",
       "E13 Resist or hinder officer                            40043\n",
       "E23 Breach bail conditions                             145337\n",
       "E21 Breach family violence order                       156781\n",
       "Name: Incidents Recorded, dtype: int64"
      ]
     },
     "execution_count": 29,
     "metadata": {},
     "output_type": "execute_result"
    }
   ],
   "source": [
    "JusticePieSplit= df[df['Offence Division']=='E Justice procedures offences']\n",
    "JusticePieSplit = JusticePieSplit.groupby(['Offence Subgroup'])['Incidents Recorded'].sum()\n",
    "JusticePieSplit.sort_values()"
   ]
  },
  {
   "cell_type": "code",
   "execution_count": 30,
   "id": "f27303d2",
   "metadata": {},
   "outputs": [
    {
     "data": {
      "image/png": "[encoded data removed]",
      "text/plain": [
       "<Figure size 432x288 with 1 Axes>"
      ]
     },
     "metadata": {},
     "output_type": "display_data"
    }
   ],
   "source": [
    "# Generate a pie plot showing the distribution of Justice crimes\n",
    "pies = [\"Breaching orders, escaping custody or perjury\",\"Resist or hinder officer\",\n",
    "        \"Breaching bail conditions\",\"Breaching family violence order\"]\n",
    "pie_count = [47242,40043,145337,156781]\n",
    "colors = [\"violet\",\"pink\",\"plum\",\"thistle\"]\n",
    "explode = (0,0.1,0,0)\n",
    "# Tell matplotlib to create a pie chart based upon the above data: \n",
    "plt.pie(pie_count, labels=pies, explode=explode, colors=colors, textprops= {'fontsize': 12, 'weight':'bold'},\n",
    "        autopct=\"%1.0f%%\", shadow=True, startangle=240, wedgeprops = {'linewidth': 1})\n",
    "#plt.legend(pies, loc=\"best\",prop={'size': 12}, bbox_to_anchor=(0.82,0.80))\n",
    "# Create axes which are equal so we have a perfect circle and print to screen\n",
    "plt.axis(\"equal\")\n",
    "plt.title('\"E Justice procedures offences\" total over 10 years:',fontsize = 20)\n",
    "plt.show()"
   ]
  },
  {
   "cell_type": "code",
   "execution_count": 31,
   "id": "fd45eb37",
   "metadata": {},
   "outputs": [
    {
     "data": {
      "text/plain": [
       "Offence Subgroup\n",
       "E11 Escape custody                                        851\n",
       "E12 Fail to appear                                          9\n",
       "E13 Resist or hinder officer                            40043\n",
       "E14 Pervert the course of justice or commit perjury      5234\n",
       "E15 Prison regulation offences                           4582\n",
       "E19 Other justice procedures offences                    9389\n",
       "E21 Breach family violence order                       156781\n",
       "E22 Breach intervention order                           17202\n",
       "E23 Breach bail conditions                             145337\n",
       "E29 Breach of other orders                               9975\n",
       "Name: Incidents Recorded, dtype: int64"
      ]
     },
     "execution_count": 31,
     "metadata": {},
     "output_type": "execute_result"
    }
   ],
   "source": [
    "JusticePieSplit= df[df['Offence Division']=='E Justice procedures offences']\n",
    "JusticePieSplit = JusticePieSplit.groupby(['Offence Subgroup'])['Incidents Recorded'].sum()\n",
    "JusticePieSplit"
   ]
  },
  {
   "cell_type": "code",
   "execution_count": 32,
   "id": "7c345463",
   "metadata": {},
   "outputs": [
    {
     "data": {
      "image/png": "[encoded data removed]",
      "text/plain": [
       "<Figure size 432x288 with 1 Axes>"
      ]
     },
     "metadata": {},
     "output_type": "display_data"
    }
   ],
   "source": [
    "# Generate a pie plot showing the distribution of Drug crimes\n",
    "x = [\"Escape custody\",\"Fail to appear\",\"Resist or hinder officer\",\"Pervert the course of justice or commit perjury\",\n",
    "        \"Prison regulation offences\",\"Other justice procedures offences\",\"Breach family violence order\",\"Breach intervention order\",\n",
    "        \"Breach bail conditions\",\"Breach of other orders\"]\n",
    "y = JusticePieSplit\n",
    "colors = [\"yellow\",\"pink\",\"lime\",\"orange\",\"blue\",\"green\",\"turquoise\",\"violet\",\"orange\",\"red\"]\n",
    "explode = (0,0.1,0,0,0,0,0,0,0,0)\n",
    "# Tell matplotlib to create a pie chart based upon the above data: \n",
    "#plt.pie(pie_count, explode=explode, colors=colors,\n",
    "#        autopct=\"%1.1f%%\", shadow=True, startangle=60, wedgeprops = {'linewidth': 1})\n",
    "#plt.legend(pies, loc=\"best\", bbox_to_anchor=(0.82,0.80))\n",
    "\n",
    "##\n",
    "porcent = 100.*y/y.sum()\n",
    "\n",
    "patches, texts = plt.pie(y, colors=colors, startangle=90, radius=1.2)\n",
    "labels = ['{0} - {1:1.2f} %'.format(i,j) for i,j in zip(x, porcent)]\n",
    "\n",
    "sort_legend = True\n",
    "if sort_legend:\n",
    "    patches, labels, dummy =  zip(*sorted(zip(patches, labels, y),\n",
    "                                          key=lambda x: x[2],\n",
    "                                          reverse=True))\n",
    "\n",
    "plt.legend(patches, labels, bbox_to_anchor=(1, 1),\n",
    "           fontsize=8)\n",
    "\n",
    "#plt.savefig('piechart.png', bbox_inches='tight')\n",
    "##\n",
    "# Create axes which are equal so we have a perfect circle and print to screen\n",
    "plt.axis(\"equal\")\n",
    "plt.title('Summary of Incidents of \"E Justice procedures offences\" total over 10 years')\n",
    "plt.show()"
   ]
  }
 ],
 "metadata": {
  "kernelspec": {
   "display_name": "Python 3",
   "language": "python",
   "name": "python3"
  },
  "language_info": {
   "codemirror_mode": {
    "name": "ipython",
    "version": 3
   },
   "file_extension": ".py",
   "mimetype": "text/x-python",
   "name": "python",
   "nbconvert_exporter": "python",
   "pygments_lexer": "ipython3",
   "version": "3.8.8"
  }
 },
 "nbformat": 4,
 "nbformat_minor": 5
}
