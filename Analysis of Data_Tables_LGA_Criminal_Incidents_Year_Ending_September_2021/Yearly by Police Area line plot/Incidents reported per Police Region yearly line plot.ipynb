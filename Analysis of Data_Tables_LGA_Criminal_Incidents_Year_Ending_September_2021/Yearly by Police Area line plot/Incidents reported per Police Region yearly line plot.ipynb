{
 "cells": [
  {
   "cell_type": "code",
   "execution_count": 6,
   "id": "1082e0ed",
   "metadata": {
    "scrolled": true
   },
   "outputs": [],
   "source": [
    "# Dependencies and Setup\n",
    "import matplotlib.pyplot as plt\n",
    "import pandas as pd\n",
    "import scipy.stats as st\n",
    "import numpy as np\n",
    "from sklearn import datasets\n",
    "from scipy.stats import linregress\n",
    "\n",
    "xls = pd.ExcelFile(\"../../Data/Data_Tables_LGA_Criminal_Incidents_Year_Ending_September_2021.xlsx\")\n",
    "df = pd.read_excel (xls,'Table 01')"
   ]
  },
  {
   "cell_type": "code",
   "execution_count": 7,
   "id": "920bc557",
   "metadata": {
    "scrolled": true
   },
   "outputs": [
    {
     "data": {
      "text/html": [
       "<div>\n",
       "<style scoped>\n",
       "    .dataframe tbody tr th:only-of-type {\n",
       "        vertical-align: middle;\n",
       "    }\n",
       "\n",
       "    .dataframe tbody tr th {\n",
       "        vertical-align: top;\n",
       "    }\n",
       "\n",
       "    .dataframe thead th {\n",
       "        text-align: right;\n",
       "    }\n",
       "</style>\n",
       "<table border=\"1\" class=\"dataframe\">\n",
       "  <thead>\n",
       "    <tr style=\"text-align: right;\">\n",
       "      <th></th>\n",
       "      <th>Year</th>\n",
       "      <th>Year ending</th>\n",
       "      <th>Police Region</th>\n",
       "      <th>Local Government Area</th>\n",
       "      <th>Incidents Recorded</th>\n",
       "      <th>Rate per 100,000 population</th>\n",
       "    </tr>\n",
       "  </thead>\n",
       "  <tbody>\n",
       "    <tr>\n",
       "      <th>0</th>\n",
       "      <td>2021</td>\n",
       "      <td>September</td>\n",
       "      <td>1 North West Metro</td>\n",
       "      <td>Banyule</td>\n",
       "      <td>5666</td>\n",
       "      <td>4310.779038</td>\n",
       "    </tr>\n",
       "    <tr>\n",
       "      <th>1</th>\n",
       "      <td>2021</td>\n",
       "      <td>September</td>\n",
       "      <td>1 North West Metro</td>\n",
       "      <td>Brimbank</td>\n",
       "      <td>13161</td>\n",
       "      <td>6488.330843</td>\n",
       "    </tr>\n",
       "    <tr>\n",
       "      <th>2</th>\n",
       "      <td>2021</td>\n",
       "      <td>September</td>\n",
       "      <td>1 North West Metro</td>\n",
       "      <td>Darebin</td>\n",
       "      <td>10191</td>\n",
       "      <td>6180.887689</td>\n",
       "    </tr>\n",
       "    <tr>\n",
       "      <th>3</th>\n",
       "      <td>2021</td>\n",
       "      <td>September</td>\n",
       "      <td>1 North West Metro</td>\n",
       "      <td>Hobsons Bay</td>\n",
       "      <td>4473</td>\n",
       "      <td>4594.609322</td>\n",
       "    </tr>\n",
       "    <tr>\n",
       "      <th>4</th>\n",
       "      <td>2021</td>\n",
       "      <td>September</td>\n",
       "      <td>1 North West Metro</td>\n",
       "      <td>Hume</td>\n",
       "      <td>13396</td>\n",
       "      <td>5455.211528</td>\n",
       "    </tr>\n",
       "    <tr>\n",
       "      <th>5</th>\n",
       "      <td>2021</td>\n",
       "      <td>September</td>\n",
       "      <td>1 North West Metro</td>\n",
       "      <td>Maribyrnong</td>\n",
       "      <td>6903</td>\n",
       "      <td>7349.535480</td>\n",
       "    </tr>\n",
       "    <tr>\n",
       "      <th>6</th>\n",
       "      <td>2021</td>\n",
       "      <td>September</td>\n",
       "      <td>1 North West Metro</td>\n",
       "      <td>Melbourne</td>\n",
       "      <td>24508</td>\n",
       "      <td>14633.717469</td>\n",
       "    </tr>\n",
       "    <tr>\n",
       "      <th>7</th>\n",
       "      <td>2021</td>\n",
       "      <td>September</td>\n",
       "      <td>1 North West Metro</td>\n",
       "      <td>Melton</td>\n",
       "      <td>9060</td>\n",
       "      <td>5038.406836</td>\n",
       "    </tr>\n",
       "    <tr>\n",
       "      <th>8</th>\n",
       "      <td>2021</td>\n",
       "      <td>September</td>\n",
       "      <td>1 North West Metro</td>\n",
       "      <td>Moonee Valley</td>\n",
       "      <td>5860</td>\n",
       "      <td>4480.437518</td>\n",
       "    </tr>\n",
       "    <tr>\n",
       "      <th>9</th>\n",
       "      <td>2021</td>\n",
       "      <td>September</td>\n",
       "      <td>1 North West Metro</td>\n",
       "      <td>Moreland</td>\n",
       "      <td>9449</td>\n",
       "      <td>5052.578902</td>\n",
       "    </tr>\n",
       "    <tr>\n",
       "      <th>10</th>\n",
       "      <td>2021</td>\n",
       "      <td>September</td>\n",
       "      <td>1 North West Metro</td>\n",
       "      <td>Nillumbik</td>\n",
       "      <td>1441</td>\n",
       "      <td>2221.568966</td>\n",
       "    </tr>\n",
       "    <tr>\n",
       "      <th>11</th>\n",
       "      <td>2021</td>\n",
       "      <td>September</td>\n",
       "      <td>1 North West Metro</td>\n",
       "      <td>Whittlesea</td>\n",
       "      <td>10084</td>\n",
       "      <td>4235.692178</td>\n",
       "    </tr>\n",
       "    <tr>\n",
       "      <th>12</th>\n",
       "      <td>2021</td>\n",
       "      <td>September</td>\n",
       "      <td>1 North West Metro</td>\n",
       "      <td>Wyndham</td>\n",
       "      <td>12193</td>\n",
       "      <td>4195.019240</td>\n",
       "    </tr>\n",
       "    <tr>\n",
       "      <th>13</th>\n",
       "      <td>2021</td>\n",
       "      <td>September</td>\n",
       "      <td>1 North West Metro</td>\n",
       "      <td>Yarra</td>\n",
       "      <td>9760</td>\n",
       "      <td>9677.530367</td>\n",
       "    </tr>\n",
       "    <tr>\n",
       "      <th>14</th>\n",
       "      <td>2021</td>\n",
       "      <td>September</td>\n",
       "      <td>1 North West Metro</td>\n",
       "      <td>Total</td>\n",
       "      <td>136145</td>\n",
       "      <td>5930.846326</td>\n",
       "    </tr>\n",
       "    <tr>\n",
       "      <th>15</th>\n",
       "      <td>2021</td>\n",
       "      <td>September</td>\n",
       "      <td>2 Eastern</td>\n",
       "      <td>Alpine</td>\n",
       "      <td>371</td>\n",
       "      <td>2832.414162</td>\n",
       "    </tr>\n",
       "    <tr>\n",
       "      <th>16</th>\n",
       "      <td>2021</td>\n",
       "      <td>September</td>\n",
       "      <td>2 Eastern</td>\n",
       "      <td>Bass Coast</td>\n",
       "      <td>2124</td>\n",
       "      <td>5504.459705</td>\n",
       "    </tr>\n",
       "    <tr>\n",
       "      <th>17</th>\n",
       "      <td>2021</td>\n",
       "      <td>September</td>\n",
       "      <td>2 Eastern</td>\n",
       "      <td>Baw Baw</td>\n",
       "      <td>3186</td>\n",
       "      <td>5667.299581</td>\n",
       "    </tr>\n",
       "    <tr>\n",
       "      <th>18</th>\n",
       "      <td>2021</td>\n",
       "      <td>September</td>\n",
       "      <td>2 Eastern</td>\n",
       "      <td>Benalla</td>\n",
       "      <td>1004</td>\n",
       "      <td>7060.473756</td>\n",
       "    </tr>\n",
       "    <tr>\n",
       "      <th>19</th>\n",
       "      <td>2021</td>\n",
       "      <td>September</td>\n",
       "      <td>2 Eastern</td>\n",
       "      <td>Boroondara</td>\n",
       "      <td>5535</td>\n",
       "      <td>3107.774469</td>\n",
       "    </tr>\n",
       "  </tbody>\n",
       "</table>\n",
       "</div>"
      ],
      "text/plain": [
       "    Year Year ending       Police Region Local Government Area  \\\n",
       "0   2021   September  1 North West Metro               Banyule   \n",
       "1   2021   September  1 North West Metro              Brimbank   \n",
       "2   2021   September  1 North West Metro               Darebin   \n",
       "3   2021   September  1 North West Metro           Hobsons Bay   \n",
       "4   2021   September  1 North West Metro                  Hume   \n",
       "5   2021   September  1 North West Metro           Maribyrnong   \n",
       "6   2021   September  1 North West Metro             Melbourne   \n",
       "7   2021   September  1 North West Metro                Melton   \n",
       "8   2021   September  1 North West Metro         Moonee Valley   \n",
       "9   2021   September  1 North West Metro              Moreland   \n",
       "10  2021   September  1 North West Metro             Nillumbik   \n",
       "11  2021   September  1 North West Metro            Whittlesea   \n",
       "12  2021   September  1 North West Metro               Wyndham   \n",
       "13  2021   September  1 North West Metro                 Yarra   \n",
       "14  2021   September  1 North West Metro                 Total   \n",
       "15  2021   September           2 Eastern                Alpine   \n",
       "16  2021   September           2 Eastern            Bass Coast   \n",
       "17  2021   September           2 Eastern               Baw Baw   \n",
       "18  2021   September           2 Eastern               Benalla   \n",
       "19  2021   September           2 Eastern            Boroondara   \n",
       "\n",
       "    Incidents Recorded  Rate per 100,000 population  \n",
       "0                 5666                  4310.779038  \n",
       "1                13161                  6488.330843  \n",
       "2                10191                  6180.887689  \n",
       "3                 4473                  4594.609322  \n",
       "4                13396                  5455.211528  \n",
       "5                 6903                  7349.535480  \n",
       "6                24508                 14633.717469  \n",
       "7                 9060                  5038.406836  \n",
       "8                 5860                  4480.437518  \n",
       "9                 9449                  5052.578902  \n",
       "10                1441                  2221.568966  \n",
       "11               10084                  4235.692178  \n",
       "12               12193                  4195.019240  \n",
       "13                9760                  9677.530367  \n",
       "14              136145                  5930.846326  \n",
       "15                 371                  2832.414162  \n",
       "16                2124                  5504.459705  \n",
       "17                3186                  5667.299581  \n",
       "18                1004                  7060.473756  \n",
       "19                5535                  3107.774469  "
      ]
     },
     "execution_count": 7,
     "metadata": {},
     "output_type": "execute_result"
    }
   ],
   "source": [
    "df.head(20)"
   ]
  },
  {
   "cell_type": "code",
   "execution_count": null,
   "id": "11480f35",
   "metadata": {},
   "outputs": [],
   "source": []
  },
  {
   "cell_type": "markdown",
   "id": "a0d42c8b",
   "metadata": {},
   "source": [
    "## ANALYSIS OF \"INCIDENTS RECORDED\" OVER 10 YEARS FOR EACH POLICE REGION"
   ]
  },
  {
   "cell_type": "code",
   "execution_count": 8,
   "id": "c24169a2",
   "metadata": {
    "scrolled": true
   },
   "outputs": [
    {
     "data": {
      "text/html": [
       "<div>\n",
       "<style scoped>\n",
       "    .dataframe tbody tr th:only-of-type {\n",
       "        vertical-align: middle;\n",
       "    }\n",
       "\n",
       "    .dataframe tbody tr th {\n",
       "        vertical-align: top;\n",
       "    }\n",
       "\n",
       "    .dataframe thead th {\n",
       "        text-align: right;\n",
       "    }\n",
       "</style>\n",
       "<table border=\"1\" class=\"dataframe\">\n",
       "  <thead>\n",
       "    <tr style=\"text-align: right;\">\n",
       "      <th></th>\n",
       "      <th>Year</th>\n",
       "      <th>Police Region</th>\n",
       "      <th>Incidents Recorded</th>\n",
       "    </tr>\n",
       "  </thead>\n",
       "  <tbody>\n",
       "    <tr>\n",
       "      <th>14</th>\n",
       "      <td>2021</td>\n",
       "      <td>1 North West Metro</td>\n",
       "      <td>136145</td>\n",
       "    </tr>\n",
       "    <tr>\n",
       "      <th>40</th>\n",
       "      <td>2021</td>\n",
       "      <td>2 Eastern</td>\n",
       "      <td>81340</td>\n",
       "    </tr>\n",
       "    <tr>\n",
       "      <th>51</th>\n",
       "      <td>2021</td>\n",
       "      <td>3 Southern Metro</td>\n",
       "      <td>80847</td>\n",
       "    </tr>\n",
       "    <tr>\n",
       "      <th>82</th>\n",
       "      <td>2021</td>\n",
       "      <td>4 Western</td>\n",
       "      <td>58217</td>\n",
       "    </tr>\n",
       "    <tr>\n",
       "      <th>84</th>\n",
       "      <td>2021</td>\n",
       "      <td>Justice Institutions and Immigration Facilities</td>\n",
       "      <td>1093</td>\n",
       "    </tr>\n",
       "    <tr>\n",
       "      <th>86</th>\n",
       "      <td>2021</td>\n",
       "      <td>Unincorporated Vic</td>\n",
       "      <td>65</td>\n",
       "    </tr>\n",
       "    <tr>\n",
       "      <th>101</th>\n",
       "      <td>2020</td>\n",
       "      <td>1 North West Metro</td>\n",
       "      <td>158686</td>\n",
       "    </tr>\n",
       "    <tr>\n",
       "      <th>127</th>\n",
       "      <td>2020</td>\n",
       "      <td>2 Eastern</td>\n",
       "      <td>91063</td>\n",
       "    </tr>\n",
       "    <tr>\n",
       "      <th>138</th>\n",
       "      <td>2020</td>\n",
       "      <td>3 Southern Metro</td>\n",
       "      <td>98068</td>\n",
       "    </tr>\n",
       "    <tr>\n",
       "      <th>169</th>\n",
       "      <td>2020</td>\n",
       "      <td>4 Western</td>\n",
       "      <td>62947</td>\n",
       "    </tr>\n",
       "    <tr>\n",
       "      <th>171</th>\n",
       "      <td>2020</td>\n",
       "      <td>Justice Institutions and Immigration Facilities</td>\n",
       "      <td>1328</td>\n",
       "    </tr>\n",
       "    <tr>\n",
       "      <th>173</th>\n",
       "      <td>2020</td>\n",
       "      <td>Unincorporated Vic</td>\n",
       "      <td>60</td>\n",
       "    </tr>\n",
       "    <tr>\n",
       "      <th>188</th>\n",
       "      <td>2019</td>\n",
       "      <td>1 North West Metro</td>\n",
       "      <td>150072</td>\n",
       "    </tr>\n",
       "    <tr>\n",
       "      <th>214</th>\n",
       "      <td>2019</td>\n",
       "      <td>2 Eastern</td>\n",
       "      <td>88545</td>\n",
       "    </tr>\n",
       "    <tr>\n",
       "      <th>225</th>\n",
       "      <td>2019</td>\n",
       "      <td>3 Southern Metro</td>\n",
       "      <td>92444</td>\n",
       "    </tr>\n",
       "    <tr>\n",
       "      <th>256</th>\n",
       "      <td>2019</td>\n",
       "      <td>4 Western</td>\n",
       "      <td>63706</td>\n",
       "    </tr>\n",
       "    <tr>\n",
       "      <th>258</th>\n",
       "      <td>2019</td>\n",
       "      <td>Justice Institutions and Immigration Facilities</td>\n",
       "      <td>1438</td>\n",
       "    </tr>\n",
       "    <tr>\n",
       "      <th>260</th>\n",
       "      <td>2019</td>\n",
       "      <td>Unincorporated Vic</td>\n",
       "      <td>94</td>\n",
       "    </tr>\n",
       "    <tr>\n",
       "      <th>275</th>\n",
       "      <td>2018</td>\n",
       "      <td>1 North West Metro</td>\n",
       "      <td>150357</td>\n",
       "    </tr>\n",
       "    <tr>\n",
       "      <th>301</th>\n",
       "      <td>2018</td>\n",
       "      <td>2 Eastern</td>\n",
       "      <td>82213</td>\n",
       "    </tr>\n",
       "    <tr>\n",
       "      <th>312</th>\n",
       "      <td>2018</td>\n",
       "      <td>3 Southern Metro</td>\n",
       "      <td>87843</td>\n",
       "    </tr>\n",
       "    <tr>\n",
       "      <th>343</th>\n",
       "      <td>2018</td>\n",
       "      <td>4 Western</td>\n",
       "      <td>60780</td>\n",
       "    </tr>\n",
       "    <tr>\n",
       "      <th>345</th>\n",
       "      <td>2018</td>\n",
       "      <td>Justice Institutions and Immigration Facilities</td>\n",
       "      <td>1489</td>\n",
       "    </tr>\n",
       "    <tr>\n",
       "      <th>347</th>\n",
       "      <td>2018</td>\n",
       "      <td>Unincorporated Vic</td>\n",
       "      <td>95</td>\n",
       "    </tr>\n",
       "    <tr>\n",
       "      <th>362</th>\n",
       "      <td>2017</td>\n",
       "      <td>1 North West Metro</td>\n",
       "      <td>147426</td>\n",
       "    </tr>\n",
       "    <tr>\n",
       "      <th>388</th>\n",
       "      <td>2017</td>\n",
       "      <td>2 Eastern</td>\n",
       "      <td>86012</td>\n",
       "    </tr>\n",
       "    <tr>\n",
       "      <th>399</th>\n",
       "      <td>2017</td>\n",
       "      <td>3 Southern Metro</td>\n",
       "      <td>90671</td>\n",
       "    </tr>\n",
       "    <tr>\n",
       "      <th>430</th>\n",
       "      <td>2017</td>\n",
       "      <td>4 Western</td>\n",
       "      <td>64280</td>\n",
       "    </tr>\n",
       "    <tr>\n",
       "      <th>432</th>\n",
       "      <td>2017</td>\n",
       "      <td>Justice Institutions and Immigration Facilities</td>\n",
       "      <td>1395</td>\n",
       "    </tr>\n",
       "    <tr>\n",
       "      <th>434</th>\n",
       "      <td>2017</td>\n",
       "      <td>Unincorporated Vic</td>\n",
       "      <td>113</td>\n",
       "    </tr>\n",
       "    <tr>\n",
       "      <th>449</th>\n",
       "      <td>2016</td>\n",
       "      <td>1 North West Metro</td>\n",
       "      <td>160143</td>\n",
       "    </tr>\n",
       "    <tr>\n",
       "      <th>475</th>\n",
       "      <td>2016</td>\n",
       "      <td>2 Eastern</td>\n",
       "      <td>86938</td>\n",
       "    </tr>\n",
       "    <tr>\n",
       "      <th>486</th>\n",
       "      <td>2016</td>\n",
       "      <td>3 Southern Metro</td>\n",
       "      <td>96333</td>\n",
       "    </tr>\n",
       "    <tr>\n",
       "      <th>517</th>\n",
       "      <td>2016</td>\n",
       "      <td>4 Western</td>\n",
       "      <td>65959</td>\n",
       "    </tr>\n",
       "    <tr>\n",
       "      <th>519</th>\n",
       "      <td>2016</td>\n",
       "      <td>Justice Institutions and Immigration Facilities</td>\n",
       "      <td>931</td>\n",
       "    </tr>\n",
       "    <tr>\n",
       "      <th>521</th>\n",
       "      <td>2016</td>\n",
       "      <td>Unincorporated Vic</td>\n",
       "      <td>115</td>\n",
       "    </tr>\n",
       "    <tr>\n",
       "      <th>536</th>\n",
       "      <td>2015</td>\n",
       "      <td>1 North West Metro</td>\n",
       "      <td>141935</td>\n",
       "    </tr>\n",
       "    <tr>\n",
       "      <th>562</th>\n",
       "      <td>2015</td>\n",
       "      <td>2 Eastern</td>\n",
       "      <td>76300</td>\n",
       "    </tr>\n",
       "    <tr>\n",
       "      <th>573</th>\n",
       "      <td>2015</td>\n",
       "      <td>3 Southern Metro</td>\n",
       "      <td>83761</td>\n",
       "    </tr>\n",
       "    <tr>\n",
       "      <th>604</th>\n",
       "      <td>2015</td>\n",
       "      <td>4 Western</td>\n",
       "      <td>56503</td>\n",
       "    </tr>\n",
       "    <tr>\n",
       "      <th>606</th>\n",
       "      <td>2015</td>\n",
       "      <td>Justice Institutions and Immigration Facilities</td>\n",
       "      <td>738</td>\n",
       "    </tr>\n",
       "    <tr>\n",
       "      <th>608</th>\n",
       "      <td>2015</td>\n",
       "      <td>Unincorporated Vic</td>\n",
       "      <td>94</td>\n",
       "    </tr>\n",
       "    <tr>\n",
       "      <th>623</th>\n",
       "      <td>2014</td>\n",
       "      <td>1 North West Metro</td>\n",
       "      <td>137684</td>\n",
       "    </tr>\n",
       "    <tr>\n",
       "      <th>649</th>\n",
       "      <td>2014</td>\n",
       "      <td>2 Eastern</td>\n",
       "      <td>75408</td>\n",
       "    </tr>\n",
       "    <tr>\n",
       "      <th>660</th>\n",
       "      <td>2014</td>\n",
       "      <td>3 Southern Metro</td>\n",
       "      <td>78266</td>\n",
       "    </tr>\n",
       "    <tr>\n",
       "      <th>691</th>\n",
       "      <td>2014</td>\n",
       "      <td>4 Western</td>\n",
       "      <td>53564</td>\n",
       "    </tr>\n",
       "    <tr>\n",
       "      <th>693</th>\n",
       "      <td>2014</td>\n",
       "      <td>Justice Institutions and Immigration Facilities</td>\n",
       "      <td>757</td>\n",
       "    </tr>\n",
       "    <tr>\n",
       "      <th>695</th>\n",
       "      <td>2014</td>\n",
       "      <td>Unincorporated Vic</td>\n",
       "      <td>97</td>\n",
       "    </tr>\n",
       "    <tr>\n",
       "      <th>710</th>\n",
       "      <td>2013</td>\n",
       "      <td>1 North West Metro</td>\n",
       "      <td>131611</td>\n",
       "    </tr>\n",
       "    <tr>\n",
       "      <th>736</th>\n",
       "      <td>2013</td>\n",
       "      <td>2 Eastern</td>\n",
       "      <td>71682</td>\n",
       "    </tr>\n",
       "    <tr>\n",
       "      <th>747</th>\n",
       "      <td>2013</td>\n",
       "      <td>3 Southern Metro</td>\n",
       "      <td>78938</td>\n",
       "    </tr>\n",
       "    <tr>\n",
       "      <th>778</th>\n",
       "      <td>2013</td>\n",
       "      <td>4 Western</td>\n",
       "      <td>52696</td>\n",
       "    </tr>\n",
       "    <tr>\n",
       "      <th>780</th>\n",
       "      <td>2013</td>\n",
       "      <td>Justice Institutions and Immigration Facilities</td>\n",
       "      <td>1019</td>\n",
       "    </tr>\n",
       "    <tr>\n",
       "      <th>782</th>\n",
       "      <td>2013</td>\n",
       "      <td>Unincorporated Vic</td>\n",
       "      <td>69</td>\n",
       "    </tr>\n",
       "    <tr>\n",
       "      <th>797</th>\n",
       "      <td>2012</td>\n",
       "      <td>1 North West Metro</td>\n",
       "      <td>134869</td>\n",
       "    </tr>\n",
       "    <tr>\n",
       "      <th>823</th>\n",
       "      <td>2012</td>\n",
       "      <td>2 Eastern</td>\n",
       "      <td>69529</td>\n",
       "    </tr>\n",
       "    <tr>\n",
       "      <th>834</th>\n",
       "      <td>2012</td>\n",
       "      <td>3 Southern Metro</td>\n",
       "      <td>74959</td>\n",
       "    </tr>\n",
       "    <tr>\n",
       "      <th>865</th>\n",
       "      <td>2012</td>\n",
       "      <td>4 Western</td>\n",
       "      <td>51566</td>\n",
       "    </tr>\n",
       "    <tr>\n",
       "      <th>867</th>\n",
       "      <td>2012</td>\n",
       "      <td>Justice Institutions and Immigration Facilities</td>\n",
       "      <td>801</td>\n",
       "    </tr>\n",
       "    <tr>\n",
       "      <th>869</th>\n",
       "      <td>2012</td>\n",
       "      <td>Unincorporated Vic</td>\n",
       "      <td>106</td>\n",
       "    </tr>\n",
       "  </tbody>\n",
       "</table>\n",
       "</div>"
      ],
      "text/plain": [
       "     Year                                    Police Region  Incidents Recorded\n",
       "14   2021                               1 North West Metro              136145\n",
       "40   2021                                        2 Eastern               81340\n",
       "51   2021                                 3 Southern Metro               80847\n",
       "82   2021                                        4 Western               58217\n",
       "84   2021  Justice Institutions and Immigration Facilities                1093\n",
       "86   2021                               Unincorporated Vic                  65\n",
       "101  2020                               1 North West Metro              158686\n",
       "127  2020                                        2 Eastern               91063\n",
       "138  2020                                 3 Southern Metro               98068\n",
       "169  2020                                        4 Western               62947\n",
       "171  2020  Justice Institutions and Immigration Facilities                1328\n",
       "173  2020                               Unincorporated Vic                  60\n",
       "188  2019                               1 North West Metro              150072\n",
       "214  2019                                        2 Eastern               88545\n",
       "225  2019                                 3 Southern Metro               92444\n",
       "256  2019                                        4 Western               63706\n",
       "258  2019  Justice Institutions and Immigration Facilities                1438\n",
       "260  2019                               Unincorporated Vic                  94\n",
       "275  2018                               1 North West Metro              150357\n",
       "301  2018                                        2 Eastern               82213\n",
       "312  2018                                 3 Southern Metro               87843\n",
       "343  2018                                        4 Western               60780\n",
       "345  2018  Justice Institutions and Immigration Facilities                1489\n",
       "347  2018                               Unincorporated Vic                  95\n",
       "362  2017                               1 North West Metro              147426\n",
       "388  2017                                        2 Eastern               86012\n",
       "399  2017                                 3 Southern Metro               90671\n",
       "430  2017                                        4 Western               64280\n",
       "432  2017  Justice Institutions and Immigration Facilities                1395\n",
       "434  2017                               Unincorporated Vic                 113\n",
       "449  2016                               1 North West Metro              160143\n",
       "475  2016                                        2 Eastern               86938\n",
       "486  2016                                 3 Southern Metro               96333\n",
       "517  2016                                        4 Western               65959\n",
       "519  2016  Justice Institutions and Immigration Facilities                 931\n",
       "521  2016                               Unincorporated Vic                 115\n",
       "536  2015                               1 North West Metro              141935\n",
       "562  2015                                        2 Eastern               76300\n",
       "573  2015                                 3 Southern Metro               83761\n",
       "604  2015                                        4 Western               56503\n",
       "606  2015  Justice Institutions and Immigration Facilities                 738\n",
       "608  2015                               Unincorporated Vic                  94\n",
       "623  2014                               1 North West Metro              137684\n",
       "649  2014                                        2 Eastern               75408\n",
       "660  2014                                 3 Southern Metro               78266\n",
       "691  2014                                        4 Western               53564\n",
       "693  2014  Justice Institutions and Immigration Facilities                 757\n",
       "695  2014                               Unincorporated Vic                  97\n",
       "710  2013                               1 North West Metro              131611\n",
       "736  2013                                        2 Eastern               71682\n",
       "747  2013                                 3 Southern Metro               78938\n",
       "778  2013                                        4 Western               52696\n",
       "780  2013  Justice Institutions and Immigration Facilities                1019\n",
       "782  2013                               Unincorporated Vic                  69\n",
       "797  2012                               1 North West Metro              134869\n",
       "823  2012                                        2 Eastern               69529\n",
       "834  2012                                 3 Southern Metro               74959\n",
       "865  2012                                        4 Western               51566\n",
       "867  2012  Justice Institutions and Immigration Facilities                 801\n",
       "869  2012                               Unincorporated Vic                 106"
      ]
     },
     "execution_count": 8,
     "metadata": {},
     "output_type": "execute_result"
    }
   ],
   "source": [
    "c = df.loc[df['Local Government Area']=='Total',['Year','Police Region','Incidents Recorded']]\n",
    "c"
   ]
  },
  {
   "cell_type": "code",
   "execution_count": 9,
   "id": "affd3fa4",
   "metadata": {},
   "outputs": [
    {
     "data": {
      "text/html": [
       "<div>\n",
       "<style scoped>\n",
       "    .dataframe tbody tr th:only-of-type {\n",
       "        vertical-align: middle;\n",
       "    }\n",
       "\n",
       "    .dataframe tbody tr th {\n",
       "        vertical-align: top;\n",
       "    }\n",
       "\n",
       "    .dataframe thead th {\n",
       "        text-align: right;\n",
       "    }\n",
       "</style>\n",
       "<table border=\"1\" class=\"dataframe\">\n",
       "  <thead>\n",
       "    <tr style=\"text-align: right;\">\n",
       "      <th></th>\n",
       "      <th>sum</th>\n",
       "      <th>mean</th>\n",
       "      <th>median</th>\n",
       "      <th>var</th>\n",
       "      <th>std</th>\n",
       "    </tr>\n",
       "    <tr>\n",
       "      <th>Year</th>\n",
       "      <th></th>\n",
       "      <th></th>\n",
       "      <th></th>\n",
       "      <th></th>\n",
       "      <th></th>\n",
       "    </tr>\n",
       "  </thead>\n",
       "  <tbody>\n",
       "    <tr>\n",
       "      <th>2012</th>\n",
       "      <td>331830</td>\n",
       "      <td>55305.000000</td>\n",
       "      <td>60547.5</td>\n",
       "      <td>2.590126e+09</td>\n",
       "      <td>50893.276031</td>\n",
       "    </tr>\n",
       "    <tr>\n",
       "      <th>2013</th>\n",
       "      <td>336015</td>\n",
       "      <td>56002.500000</td>\n",
       "      <td>62189.0</td>\n",
       "      <td>2.530241e+09</td>\n",
       "      <td>50301.498565</td>\n",
       "    </tr>\n",
       "    <tr>\n",
       "      <th>2014</th>\n",
       "      <td>345776</td>\n",
       "      <td>57629.333333</td>\n",
       "      <td>64486.0</td>\n",
       "      <td>2.742332e+09</td>\n",
       "      <td>52367.282281</td>\n",
       "    </tr>\n",
       "    <tr>\n",
       "      <th>2015</th>\n",
       "      <td>359331</td>\n",
       "      <td>59888.500000</td>\n",
       "      <td>66401.5</td>\n",
       "      <td>2.931297e+09</td>\n",
       "      <td>54141.457759</td>\n",
       "    </tr>\n",
       "    <tr>\n",
       "      <th>2016</th>\n",
       "      <td>410419</td>\n",
       "      <td>68403.166667</td>\n",
       "      <td>76448.5</td>\n",
       "      <td>3.752311e+09</td>\n",
       "      <td>61256.107596</td>\n",
       "    </tr>\n",
       "    <tr>\n",
       "      <th>2017</th>\n",
       "      <td>389897</td>\n",
       "      <td>64982.833333</td>\n",
       "      <td>75146.0</td>\n",
       "      <td>3.230197e+09</td>\n",
       "      <td>56834.822577</td>\n",
       "    </tr>\n",
       "    <tr>\n",
       "      <th>2018</th>\n",
       "      <td>382777</td>\n",
       "      <td>63796.166667</td>\n",
       "      <td>71496.5</td>\n",
       "      <td>3.271865e+09</td>\n",
       "      <td>57200.221546</td>\n",
       "    </tr>\n",
       "    <tr>\n",
       "      <th>2019</th>\n",
       "      <td>396299</td>\n",
       "      <td>66049.833333</td>\n",
       "      <td>76125.5</td>\n",
       "      <td>3.358553e+09</td>\n",
       "      <td>57953.021597</td>\n",
       "    </tr>\n",
       "    <tr>\n",
       "      <th>2020</th>\n",
       "      <td>412152</td>\n",
       "      <td>68692.000000</td>\n",
       "      <td>77005.0</td>\n",
       "      <td>3.748719e+09</td>\n",
       "      <td>61226.784985</td>\n",
       "    </tr>\n",
       "    <tr>\n",
       "      <th>2021</th>\n",
       "      <td>357707</td>\n",
       "      <td>59617.833333</td>\n",
       "      <td>69532.0</td>\n",
       "      <td>2.750519e+09</td>\n",
       "      <td>52445.391959</td>\n",
       "    </tr>\n",
       "  </tbody>\n",
       "</table>\n",
       "</div>"
      ],
      "text/plain": [
       "         sum          mean   median           var           std\n",
       "Year                                                           \n",
       "2012  331830  55305.000000  60547.5  2.590126e+09  50893.276031\n",
       "2013  336015  56002.500000  62189.0  2.530241e+09  50301.498565\n",
       "2014  345776  57629.333333  64486.0  2.742332e+09  52367.282281\n",
       "2015  359331  59888.500000  66401.5  2.931297e+09  54141.457759\n",
       "2016  410419  68403.166667  76448.5  3.752311e+09  61256.107596\n",
       "2017  389897  64982.833333  75146.0  3.230197e+09  56834.822577\n",
       "2018  382777  63796.166667  71496.5  3.271865e+09  57200.221546\n",
       "2019  396299  66049.833333  76125.5  3.358553e+09  57953.021597\n",
       "2020  412152  68692.000000  77005.0  3.748719e+09  61226.784985\n",
       "2021  357707  59617.833333  69532.0  2.750519e+09  52445.391959"
      ]
     },
     "execution_count": 9,
     "metadata": {},
     "output_type": "execute_result"
    }
   ],
   "source": [
    "cdf = c.groupby('Year')['Incidents Recorded'].agg(['sum','mean','median',np.var,np.std])\n",
    "cdf.head(10)"
   ]
  },
  {
   "cell_type": "code",
   "execution_count": 10,
   "id": "77124576",
   "metadata": {
    "scrolled": true
   },
   "outputs": [
    {
     "data": {
      "text/plain": [
       "count        10.000000\n",
       "mean     372220.300000\n",
       "std       29954.865667\n",
       "min      331830.000000\n",
       "25%      348758.750000\n",
       "50%      371054.000000\n",
       "75%      394698.500000\n",
       "max      412152.000000\n",
       "Name: Incidents Recorded, dtype: float64"
      ]
     },
     "execution_count": 10,
     "metadata": {},
     "output_type": "execute_result"
    }
   ],
   "source": [
    "Total = c.groupby(['Year'])['Incidents Recorded'].agg('sum')\n",
    "Total.describe()"
   ]
  },
  {
   "cell_type": "code",
   "execution_count": 11,
   "id": "af1a6ade",
   "metadata": {},
   "outputs": [
    {
     "data": {
      "text/plain": [
       "<function matplotlib.pyplot.show(close=None, block=None)>"
      ]
     },
     "execution_count": 11,
     "metadata": {},
     "output_type": "execute_result"
    },
    {
     "data": {
      "image/png": "[encoded data removed]",
      "text/plain": [
       "<Figure size 432x288 with 1 Axes>"
      ]
     },
     "metadata": {
      "needs_background": "light"
     },
     "output_type": "display_data"
    }
   ],
   "source": [
    "x = np.arange(2012,2022,1)\n",
    "plt.plot(x,Total, marker=\"o\", color=\"pink\", linewidth=1, label=\"Total\")\n",
    "plt.show"
   ]
  },
  {
   "cell_type": "code",
   "execution_count": 12,
   "id": "e5d6bbbc",
   "metadata": {},
   "outputs": [
    {
     "data": {
      "text/plain": [
       "Year\n",
       "2012    134869\n",
       "2013    131611\n",
       "2014    137684\n",
       "2015    141935\n",
       "2016    160143\n",
       "2017    147426\n",
       "2018    150357\n",
       "2019    150072\n",
       "2020    158686\n",
       "2021    136145\n",
       "Name: Incidents Recorded, dtype: int64"
      ]
     },
     "execution_count": 12,
     "metadata": {},
     "output_type": "execute_result"
    }
   ],
   "source": [
    "NorthWestMetro = c[c['Police Region']=='1 North West Metro']\n",
    "del NorthWestMetro['Police Region']\n",
    "NorthWestMetro = NorthWestMetro.groupby(['Year'])['Incidents Recorded'].agg('sum')\n",
    "NorthWestMetro"
   ]
  },
  {
   "cell_type": "code",
   "execution_count": 13,
   "id": "ac91b6af",
   "metadata": {
    "scrolled": false
   },
   "outputs": [
    {
     "data": {
      "text/plain": [
       "Year\n",
       "2012    69529\n",
       "2013    71682\n",
       "2014    75408\n",
       "2015    76300\n",
       "2016    86938\n",
       "2017    86012\n",
       "2018    82213\n",
       "2019    88545\n",
       "2020    91063\n",
       "2021    81340\n",
       "Name: Incidents Recorded, dtype: int64"
      ]
     },
     "execution_count": 13,
     "metadata": {},
     "output_type": "execute_result"
    }
   ],
   "source": [
    "Eastern = c[c['Police Region']=='2 Eastern']\n",
    "del Eastern['Police Region']\n",
    "Eastern= Eastern.groupby(['Year'])['Incidents Recorded'].agg('sum')\n",
    "Eastern"
   ]
  },
  {
   "cell_type": "code",
   "execution_count": 14,
   "id": "9b46a451",
   "metadata": {
    "scrolled": true
   },
   "outputs": [
    {
     "data": {
      "text/plain": [
       "Year\n",
       "2012    74959\n",
       "2013    78938\n",
       "2014    78266\n",
       "2015    83761\n",
       "2016    96333\n",
       "2017    90671\n",
       "2018    87843\n",
       "2019    92444\n",
       "2020    98068\n",
       "2021    80847\n",
       "Name: Incidents Recorded, dtype: int64"
      ]
     },
     "execution_count": 14,
     "metadata": {},
     "output_type": "execute_result"
    }
   ],
   "source": [
    "SouthernMetro = c[c['Police Region']=='3 Southern Metro']\n",
    "del SouthernMetro['Police Region']\n",
    "SouthernMetro = SouthernMetro.groupby(['Year'])['Incidents Recorded'].agg('sum')\n",
    "SouthernMetro"
   ]
  },
  {
   "cell_type": "code",
   "execution_count": 15,
   "id": "13ea0b66",
   "metadata": {},
   "outputs": [
    {
     "data": {
      "text/plain": [
       "Year\n",
       "2012    51566\n",
       "2013    52696\n",
       "2014    53564\n",
       "2015    56503\n",
       "2016    65959\n",
       "2017    64280\n",
       "2018    60780\n",
       "2019    63706\n",
       "2020    62947\n",
       "2021    58217\n",
       "Name: Incidents Recorded, dtype: int64"
      ]
     },
     "execution_count": 15,
     "metadata": {},
     "output_type": "execute_result"
    }
   ],
   "source": [
    "Western = c[c['Police Region']=='4 Western']\n",
    "del Western['Police Region']\n",
    "Western = Western.groupby(['Year'])['Incidents Recorded'].agg('sum')\n",
    "Western"
   ]
  },
  {
   "cell_type": "code",
   "execution_count": 16,
   "id": "ded6a212",
   "metadata": {},
   "outputs": [
    {
     "data": {
      "text/plain": [
       "Year\n",
       "2012     801\n",
       "2013    1019\n",
       "2014     757\n",
       "2015     738\n",
       "2016     931\n",
       "2017    1395\n",
       "2018    1489\n",
       "2019    1438\n",
       "2020    1328\n",
       "2021    1093\n",
       "Name: Incidents Recorded, dtype: int64"
      ]
     },
     "execution_count": 16,
     "metadata": {},
     "output_type": "execute_result"
    }
   ],
   "source": [
    "Justice = c[c['Police Region']=='Justice Institutions and Immigration Facilities']\n",
    "del Justice['Police Region']\n",
    "Justice = Justice.groupby(['Year'])['Incidents Recorded'].agg('sum')\n",
    "Justice"
   ]
  },
  {
   "cell_type": "code",
   "execution_count": 44,
   "id": "71691ead",
   "metadata": {
    "scrolled": false
   },
   "outputs": [
    {
     "data": {
      "text/plain": [
       "<function matplotlib.pyplot.show(close=None, block=None)>"
      ]
     },
     "execution_count": 44,
     "metadata": {},
     "output_type": "execute_result"
    },
    {
     "data": {
      "image/png": "[encoded data removed]",
      "text/plain": [
       "<Figure size 432x288 with 1 Axes>"
      ]
     },
     "metadata": {
      "needs_background": "light"
     },
     "output_type": "display_data"
    }
   ],
   "source": [
    "x = np.arange(2012,2022,1)\n",
    "plt.plot(x,Total, marker=\"o\", color=\"blue\", linewidth=1, label=\"Total of Police Regions\")\n",
    "plt.plot(x,NorthWestMetro, marker=\"o\", color=\"red\", linewidth=1, label=\"North West Region\")\n",
    "plt.plot(x,Eastern, marker=\"o\", color=\"violet\", linewidth=1, label=\"Eastern Region\")\n",
    "plt.plot(x,SouthernMetro, marker=\"o\", color=\"lime\", linewidth=1, label=\"Southern Region\")\n",
    "plt.plot(x,Western, marker=\"o\", color=\"gold\", linewidth=1, label=\"Western Region\")\n",
    "plt.plot(x,Justice, marker=\"o\", color=\"coral\", linewidth=1, label=\"Facility Region\")\n",
    "plt.legend(loc='lower right', bbox_to_anchor=(1.5, 0.4))\n",
    "plt.title(\"Incidents recorded by Police Region\",fontsize = 20)\n",
    "plt.xlabel(\"YEAR\")\n",
    "plt.ylabel(\"INCIDENTS\")\n",
    "#plt.figure(figsize=(800,600))\n",
    "plt.show"
   ]
  },
  {
   "cell_type": "markdown",
   "id": "62df632f",
   "metadata": {},
   "source": [
    "Most crime is taking place in the North West Region. Further Analysis into this region below:"
   ]
  },
  {
   "cell_type": "code",
   "execution_count": 18,
   "id": "8a77549d",
   "metadata": {},
   "outputs": [
    {
     "data": {
      "text/html": [
       "<div>\n",
       "<style scoped>\n",
       "    .dataframe tbody tr th:only-of-type {\n",
       "        vertical-align: middle;\n",
       "    }\n",
       "\n",
       "    .dataframe tbody tr th {\n",
       "        vertical-align: top;\n",
       "    }\n",
       "\n",
       "    .dataframe thead th {\n",
       "        text-align: right;\n",
       "    }\n",
       "</style>\n",
       "<table border=\"1\" class=\"dataframe\">\n",
       "  <thead>\n",
       "    <tr style=\"text-align: right;\">\n",
       "      <th></th>\n",
       "      <th>Local Government Area</th>\n",
       "      <th>Year</th>\n",
       "      <th>Incidents Recorded</th>\n",
       "      <th>Rate per 100,000 population</th>\n",
       "    </tr>\n",
       "  </thead>\n",
       "  <tbody>\n",
       "    <tr>\n",
       "      <th>0</th>\n",
       "      <td>Banyule</td>\n",
       "      <td>2021</td>\n",
       "      <td>5666</td>\n",
       "      <td>4310.779038</td>\n",
       "    </tr>\n",
       "    <tr>\n",
       "      <th>1</th>\n",
       "      <td>Brimbank</td>\n",
       "      <td>2021</td>\n",
       "      <td>13161</td>\n",
       "      <td>6488.330843</td>\n",
       "    </tr>\n",
       "    <tr>\n",
       "      <th>2</th>\n",
       "      <td>Darebin</td>\n",
       "      <td>2021</td>\n",
       "      <td>10191</td>\n",
       "      <td>6180.887689</td>\n",
       "    </tr>\n",
       "    <tr>\n",
       "      <th>3</th>\n",
       "      <td>Hobsons Bay</td>\n",
       "      <td>2021</td>\n",
       "      <td>4473</td>\n",
       "      <td>4594.609322</td>\n",
       "    </tr>\n",
       "    <tr>\n",
       "      <th>4</th>\n",
       "      <td>Hume</td>\n",
       "      <td>2021</td>\n",
       "      <td>13396</td>\n",
       "      <td>5455.211528</td>\n",
       "    </tr>\n",
       "    <tr>\n",
       "      <th>...</th>\n",
       "      <td>...</td>\n",
       "      <td>...</td>\n",
       "      <td>...</td>\n",
       "      <td>...</td>\n",
       "    </tr>\n",
       "    <tr>\n",
       "      <th>793</th>\n",
       "      <td>Nillumbik</td>\n",
       "      <td>2012</td>\n",
       "      <td>1467</td>\n",
       "      <td>2330.976404</td>\n",
       "    </tr>\n",
       "    <tr>\n",
       "      <th>794</th>\n",
       "      <td>Whittlesea</td>\n",
       "      <td>2012</td>\n",
       "      <td>9736</td>\n",
       "      <td>5727.294653</td>\n",
       "    </tr>\n",
       "    <tr>\n",
       "      <th>795</th>\n",
       "      <td>Wyndham</td>\n",
       "      <td>2012</td>\n",
       "      <td>10980</td>\n",
       "      <td>6129.592310</td>\n",
       "    </tr>\n",
       "    <tr>\n",
       "      <th>796</th>\n",
       "      <td>Yarra</td>\n",
       "      <td>2012</td>\n",
       "      <td>9274</td>\n",
       "      <td>11411.625732</td>\n",
       "    </tr>\n",
       "    <tr>\n",
       "      <th>797</th>\n",
       "      <td>Total</td>\n",
       "      <td>2012</td>\n",
       "      <td>134869</td>\n",
       "      <td>7505.489894</td>\n",
       "    </tr>\n",
       "  </tbody>\n",
       "</table>\n",
       "<p>150 rows × 4 columns</p>\n",
       "</div>"
      ],
      "text/plain": [
       "    Local Government Area  Year  Incidents Recorded  \\\n",
       "0                 Banyule  2021                5666   \n",
       "1                Brimbank  2021               13161   \n",
       "2                 Darebin  2021               10191   \n",
       "3             Hobsons Bay  2021                4473   \n",
       "4                    Hume  2021               13396   \n",
       "..                    ...   ...                 ...   \n",
       "793             Nillumbik  2012                1467   \n",
       "794            Whittlesea  2012                9736   \n",
       "795               Wyndham  2012               10980   \n",
       "796                 Yarra  2012                9274   \n",
       "797                 Total  2012              134869   \n",
       "\n",
       "     Rate per 100,000 population  \n",
       "0                    4310.779038  \n",
       "1                    6488.330843  \n",
       "2                    6180.887689  \n",
       "3                    4594.609322  \n",
       "4                    5455.211528  \n",
       "..                           ...  \n",
       "793                  2330.976404  \n",
       "794                  5727.294653  \n",
       "795                  6129.592310  \n",
       "796                 11411.625732  \n",
       "797                  7505.489894  \n",
       "\n",
       "[150 rows x 4 columns]"
      ]
     },
     "execution_count": 18,
     "metadata": {},
     "output_type": "execute_result"
    }
   ],
   "source": [
    "nw = df.loc[df['Police Region']=='1 North West Metro',['Local Government Area','Year','Incidents Recorded','Rate per 100,000 population']]\n",
    "nw"
   ]
  },
  {
   "cell_type": "code",
   "execution_count": 19,
   "id": "07ff3525",
   "metadata": {},
   "outputs": [
    {
     "name": "stdout",
     "output_type": "stream",
     "text": [
      "Year\n",
      "2012    4888.982393\n",
      "2013    4775.005229\n",
      "2014    5449.735027\n",
      "2015    5578.643487\n",
      "2016    5707.470556\n",
      "2017    5777.020486\n",
      "2018    5528.598848\n",
      "2019    5379.823762\n",
      "2020    5227.376080\n",
      "2021    4310.779038\n",
      "Name: Rate per 100,000 population, dtype: float64\n"
     ]
    }
   ],
   "source": [
    "Banyulenw = nw.loc[nw['Local Government Area']==' Banyule',:]\n",
    "del Banyulenw['Local Government Area']\n",
    "inBanyulenw = Banyulenw.groupby(['Year'])['Incidents Recorded'].agg('sum')\n",
    "rateBanyulenw = Banyulenw.groupby(['Year'])['Rate per 100,000 population'].agg('sum')\n",
    "print(rateBanyulenw)"
   ]
  },
  {
   "cell_type": "code",
   "execution_count": 20,
   "id": "4738390b",
   "metadata": {
    "scrolled": true
   },
   "outputs": [
    {
     "name": "stdout",
     "output_type": "stream",
     "text": [
      "Year\n",
      "2012    7718.785802\n",
      "2013    7891.664840\n",
      "2014    6902.372171\n",
      "2015    7325.500349\n",
      "2016    7527.792742\n",
      "2017    6423.764596\n",
      "2018    6944.391216\n",
      "2019    6923.289815\n",
      "2020    7748.010776\n",
      "2021    6488.330843\n",
      "Name: Rate per 100,000 population, dtype: float64\n"
     ]
    }
   ],
   "source": [
    "Brimbanknw = nw.loc[nw['Local Government Area']==' Brimbank',:]\n",
    "del Brimbanknw['Local Government Area']\n",
    "inBrimbanknw = Brimbanknw.groupby(['Year'])['Incidents Recorded'].agg('sum')\n",
    "rateBrimbanknw = Brimbanknw.groupby(['Year'])['Rate per 100,000 population'].agg('sum')\n",
    "print(rateBrimbanknw)"
   ]
  },
  {
   "cell_type": "code",
   "execution_count": 21,
   "id": "7310c660",
   "metadata": {},
   "outputs": [
    {
     "name": "stdout",
     "output_type": "stream",
     "text": [
      "Year\n",
      "2012    7718.785802\n",
      "2013    7891.664840\n",
      "2014    6902.372171\n",
      "2015    7325.500349\n",
      "2016    7527.792742\n",
      "2017    6423.764596\n",
      "2018    6944.391216\n",
      "2019    6923.289815\n",
      "2020    7748.010776\n",
      "2021    6488.330843\n",
      "Name: Rate per 100,000 population, dtype: float64\n"
     ]
    }
   ],
   "source": [
    "Darebinnw = nw.loc[nw['Local Government Area']==' Darebin',:]\n",
    "del Darebinnw['Local Government Area']\n",
    "inDarebinnw = Darebinnw.groupby(['Year'])['Incidents Recorded'].agg('sum')\n",
    "rateDarebinnw = Brimbanknw.groupby(['Year'])['Rate per 100,000 population'].agg('sum')\n",
    "print(rateDarebinnw)"
   ]
  },
  {
   "cell_type": "code",
   "execution_count": 22,
   "id": "66369ceb",
   "metadata": {
    "scrolled": true
   },
   "outputs": [
    {
     "name": "stdout",
     "output_type": "stream",
     "text": [
      "Year\n",
      "2012    6464.868291\n",
      "2013    6234.022514\n",
      "2014    6199.055487\n",
      "2015    5776.992386\n",
      "2016    5867.622666\n",
      "2017    5195.064741\n",
      "2018    4910.811455\n",
      "2019    5108.167545\n",
      "2020    4751.041359\n",
      "2021    4594.609322\n",
      "Name: Rate per 100,000 population, dtype: float64\n"
     ]
    }
   ],
   "source": [
    "HobsonsBaynw = nw.loc[nw['Local Government Area']==' Hobsons Bay',:]\n",
    "del HobsonsBaynw['Local Government Area']\n",
    "inHobsonsBaynw = HobsonsBaynw.groupby(['Year'])['Incidents Recorded'].agg('sum')\n",
    "rateHobsonsBaynw = HobsonsBaynw.groupby(['Year'])['Rate per 100,000 population'].agg('sum')\n",
    "print(rateHobsonsBaynw)"
   ]
  },
  {
   "cell_type": "code",
   "execution_count": 23,
   "id": "4c0292cf",
   "metadata": {
    "scrolled": true
   },
   "outputs": [
    {
     "name": "stdout",
     "output_type": "stream",
     "text": [
      "Year\n",
      "2012    6524.480754\n",
      "2013    6308.655131\n",
      "2014    6952.184778\n",
      "2015    7241.038269\n",
      "2016    8228.804923\n",
      "2017    7178.565123\n",
      "2018    6955.169479\n",
      "2019    6725.042283\n",
      "2020    6899.596995\n",
      "2021    5455.211528\n",
      "Name: Rate per 100,000 population, dtype: float64\n"
     ]
    }
   ],
   "source": [
    "Humenw = nw.loc[nw['Local Government Area']==' Hume',:]\n",
    "del Humenw['Local Government Area']\n",
    "inHumenw = Humenw.groupby(['Year'])['Incidents Recorded'].agg('sum')\n",
    "rateHumenw = Humenw.groupby(['Year'])['Rate per 100,000 population'].agg('sum')\n",
    "print(rateHumenw)"
   ]
  },
  {
   "cell_type": "code",
   "execution_count": 24,
   "id": "88f0d5e5",
   "metadata": {},
   "outputs": [
    {
     "name": "stdout",
     "output_type": "stream",
     "text": [
      "Year\n",
      "2012    9735.808964\n",
      "2013    8770.148655\n",
      "2014    8153.959958\n",
      "2015    7832.938207\n",
      "2016    8427.457385\n",
      "2017    7310.713726\n",
      "2018    7629.111833\n",
      "2019    7191.758841\n",
      "2020    7846.749911\n",
      "2021    7349.535480\n",
      "Name: Rate per 100,000 population, dtype: float64\n"
     ]
    }
   ],
   "source": [
    "Maribyrnongnw = nw.loc[nw['Local Government Area']==' Maribyrnong',:]\n",
    "del Maribyrnongnw['Local Government Area']\n",
    "inMaribyrnongnw = Maribyrnongnw.groupby(['Year'])['Incidents Recorded'].agg('sum')\n",
    "rateMaribyrnongnw = Maribyrnongnw.groupby(['Year'])['Rate per 100,000 population'].agg('sum')\n",
    "print(rateMaribyrnongnw)"
   ]
  },
  {
   "cell_type": "code",
   "execution_count": 25,
   "id": "4d6cfdde",
   "metadata": {},
   "outputs": [
    {
     "name": "stdout",
     "output_type": "stream",
     "text": [
      "Year\n",
      "2012    22593.838889\n",
      "2013    20719.225683\n",
      "2014    18581.754249\n",
      "2015    18027.061780\n",
      "2016    18691.134596\n",
      "2017    16722.277729\n",
      "2018    16084.712624\n",
      "2019    14965.864778\n",
      "2020    14885.500337\n",
      "2021    14633.717469\n",
      "Name: Rate per 100,000 population, dtype: float64\n"
     ]
    }
   ],
   "source": [
    "Melbournenw = nw.loc[nw['Local Government Area']==' Melbourne',:]\n",
    "del Melbournenw['Local Government Area']\n",
    "inMelbournenw = Melbournenw.groupby(['Year'])['Incidents Recorded'].agg('sum')\n",
    "rateMelbournenw = Melbournenw.groupby(['Year'])['Rate per 100,000 population'].agg('sum')\n",
    "print(rateMelbournenw)"
   ]
  },
  {
   "cell_type": "code",
   "execution_count": 26,
   "id": "33b4b897",
   "metadata": {},
   "outputs": [
    {
     "name": "stdout",
     "output_type": "stream",
     "text": [
      "Year\n",
      "2012    5746.689315\n",
      "2013    5442.325071\n",
      "2014    5738.966352\n",
      "2015    5902.975948\n",
      "2016    6450.997030\n",
      "2017    5616.412548\n",
      "2018    5113.005526\n",
      "2019    5191.710724\n",
      "2020    5956.521739\n",
      "2021    5038.406836\n",
      "Name: Rate per 100,000 population, dtype: float64\n"
     ]
    }
   ],
   "source": [
    "Meltonnw = nw.loc[nw['Local Government Area']==' Melton',:]\n",
    "del Meltonnw['Local Government Area']\n",
    "inMeltonnw = Meltonnw.groupby(['Year'])['Incidents Recorded'].agg('sum')\n",
    "rateMeltonnw = Meltonnw.groupby(['Year'])['Rate per 100,000 population'].agg('sum')\n",
    "print(rateMeltonnw)"
   ]
  },
  {
   "cell_type": "code",
   "execution_count": 27,
   "id": "9af4567c",
   "metadata": {},
   "outputs": [
    {
     "name": "stdout",
     "output_type": "stream",
     "text": [
      "Year\n",
      "2012    5984.710529\n",
      "2013    5489.156793\n",
      "2014    5443.135790\n",
      "2015    5647.461969\n",
      "2016    6232.552840\n",
      "2017    5493.935939\n",
      "2018    5350.804497\n",
      "2019    4871.348215\n",
      "2020    5131.571957\n",
      "2021    4480.437518\n",
      "Name: Rate per 100,000 population, dtype: float64\n"
     ]
    }
   ],
   "source": [
    "MooneeValleynw = nw.loc[nw['Local Government Area']==' Moonee Valley',:]\n",
    "del MooneeValleynw['Local Government Area']\n",
    "inMooneeValleynw = MooneeValleynw.groupby(['Year'])['Incidents Recorded'].agg('sum')\n",
    "rateMooneeValleynw = MooneeValleynw.groupby(['Year'])['Rate per 100,000 population'].agg('sum')\n",
    "print(rateMooneeValleynw)"
   ]
  },
  {
   "cell_type": "code",
   "execution_count": 28,
   "id": "2bf44451",
   "metadata": {
    "scrolled": true
   },
   "outputs": [
    {
     "name": "stdout",
     "output_type": "stream",
     "text": [
      "Year\n",
      "2012    6164.990093\n",
      "2013    5672.502215\n",
      "2014    6153.602399\n",
      "2015    6446.059451\n",
      "2016    7057.123289\n",
      "2017    6105.416615\n",
      "2018    6345.582572\n",
      "2019    5787.601380\n",
      "2020    5955.118085\n",
      "2021    5052.578902\n",
      "Name: Rate per 100,000 population, dtype: float64\n"
     ]
    }
   ],
   "source": [
    "Morelandnw = nw.loc[nw['Local Government Area']==' Moreland',:]\n",
    "del Morelandnw['Local Government Area']\n",
    "inMorelandnw = Morelandnw.groupby(['Year'])['Incidents Recorded'].agg('sum')\n",
    "rateMorelandnw = Morelandnw.groupby(['Year'])['Rate per 100,000 population'].agg('sum')\n",
    "print(rateMorelandnw)"
   ]
  },
  {
   "cell_type": "code",
   "execution_count": 29,
   "id": "249e676f",
   "metadata": {
    "scrolled": true
   },
   "outputs": [
    {
     "name": "stdout",
     "output_type": "stream",
     "text": [
      "Year\n",
      "2012    2330.976404\n",
      "2013    2512.109412\n",
      "2014    2493.970016\n",
      "2015    2911.660777\n",
      "2016    3354.941253\n",
      "2017    3133.801727\n",
      "2018    2514.590166\n",
      "2019    2605.262754\n",
      "2020    2465.539183\n",
      "2021    2221.568966\n",
      "Name: Rate per 100,000 population, dtype: float64\n"
     ]
    }
   ],
   "source": [
    "Nillumbiknw = nw.loc[nw['Local Government Area']==' Nillumbik',:]\n",
    "del Nillumbiknw['Local Government Area']\n",
    "inNillumbiknw = Nillumbiknw.groupby(['Year'])['Incidents Recorded'].agg('sum')\n",
    "rateNillumbiknw = Nillumbiknw.groupby(['Year'])['Rate per 100,000 population'].agg('sum')\n",
    "print(rateNillumbiknw)"
   ]
  },
  {
   "cell_type": "code",
   "execution_count": 30,
   "id": "b8357e03",
   "metadata": {},
   "outputs": [
    {
     "name": "stdout",
     "output_type": "stream",
     "text": [
      "Year\n",
      "2012    6129.592310\n",
      "2013    5211.580823\n",
      "2014    5119.794355\n",
      "2015    5081.963380\n",
      "2016    5536.368762\n",
      "2017    4472.956100\n",
      "2018    4371.747328\n",
      "2019    4631.809229\n",
      "2020    4898.444725\n",
      "2021    4195.019240\n",
      "Name: Rate per 100,000 population, dtype: float64\n"
     ]
    }
   ],
   "source": [
    "Wyndhamnw = nw.loc[nw['Local Government Area']==' Wyndham',:]\n",
    "del Wyndhamnw['Local Government Area']\n",
    "inWyndhamnw = Wyndhamnw.groupby(['Year'])['Incidents Recorded'].agg('sum')\n",
    "rateWyndhamnw = Wyndhamnw.groupby(['Year'])['Rate per 100,000 population'].agg('sum')\n",
    "print(rateWyndhamnw)"
   ]
  },
  {
   "cell_type": "code",
   "execution_count": 31,
   "id": "e1918a9b",
   "metadata": {},
   "outputs": [
    {
     "name": "stdout",
     "output_type": "stream",
     "text": [
      "Year\n",
      "2012    5727.294653\n",
      "2013    5319.849168\n",
      "2014    5598.752521\n",
      "2015    5138.508588\n",
      "2016    6068.830956\n",
      "2017    5393.025046\n",
      "2018    5332.061769\n",
      "2019    5215.439194\n",
      "2020    5205.484085\n",
      "2021    4235.692178\n",
      "Name: Rate per 100,000 population, dtype: float64\n"
     ]
    }
   ],
   "source": [
    "Whittleseanw = nw.loc[nw['Local Government Area']==' Whittlesea',:]\n",
    "del Whittleseanw['Local Government Area']\n",
    "inWhittleseanw = Whittleseanw.groupby(['Year'])['Incidents Recorded'].agg('sum')\n",
    "rateWhittleseanw = Whittleseanw.groupby(['Year'])['Rate per 100,000 population'].agg('sum')\n",
    "print(rateWhittleseanw)"
   ]
  },
  {
   "cell_type": "code",
   "execution_count": 32,
   "id": "d6dc3d82",
   "metadata": {},
   "outputs": [
    {
     "name": "stdout",
     "output_type": "stream",
     "text": [
      "Year\n",
      "2012    11411.625732\n",
      "2013    10640.527858\n",
      "2014    11527.261888\n",
      "2015    10880.419915\n",
      "2016    11982.474649\n",
      "2017    11153.822114\n",
      "2018    11505.879250\n",
      "2019    10785.491942\n",
      "2020    11055.515152\n",
      "2021     9677.530367\n",
      "Name: Rate per 100,000 population, dtype: float64\n"
     ]
    }
   ],
   "source": [
    "Yarranw = nw.loc[nw['Local Government Area']==' Yarra',:]\n",
    "del Yarranw['Local Government Area']\n",
    "inYarranw = Yarranw.groupby(['Year'])['Incidents Recorded'].agg('sum')\n",
    "rateYarranw = Yarranw.groupby(['Year'])['Rate per 100,000 population'].agg('sum')\n",
    "print(rateYarranw)"
   ]
  },
  {
   "cell_type": "code",
   "execution_count": 33,
   "id": "ab28a2d8",
   "metadata": {},
   "outputs": [
    {
     "data": {
      "text/plain": [
       "<function matplotlib.pyplot.show(close=None, block=None)>"
      ]
     },
     "execution_count": 33,
     "metadata": {},
     "output_type": "execute_result"
    },
    {
     "data": {
      "image/png": "[encoded data removed]",
      "text/plain": [
       "<Figure size 432x288 with 1 Axes>"
      ]
     },
     "metadata": {
      "needs_background": "light"
     },
     "output_type": "display_data"
    }
   ],
   "source": [
    "x = np.arange(2012,2022,1)\n",
    "\n",
    "plt.plot(x,inMelbournenw, marker=\"o\", color=\"lime\", linewidth=1, label=\"Melbourne\")\n",
    "plt.plot(x,inBrimbanknw, marker=\"o\", color=\"blue\", linewidth=1, label=\"Brimbank\")\n",
    "plt.plot(x,inHumenw, marker=\"o\", color=\"red\", linewidth=1, label=\"Hume\")\n",
    "plt.plot(x,inDarebinnw, marker=\"o\", color=\"purple\", linewidth=1, label=\"Darebin\")\n",
    "plt.plot(x,inYarranw, marker=\"o\", color=\"violet\", linewidth=1, label=\"Yarra\")\n",
    "plt.plot(x,inMorelandnw, marker=\"o\", color=\"yellow\", linewidth=1, label=\"Moreland\")\n",
    "plt.plot(x,inWhittleseanw, marker=\"o\", color=\"black\", linewidth=1, label=\"Whittleseanw\")\n",
    "plt.plot(x,inWyndhamnw, marker=\"o\", color=\"lavender\", linewidth=1, label=\"Wyndam\")\n",
    "plt.plot(x,inMeltonnw, marker=\"o\", color=\"brown\", linewidth=1, label=\"Melton\")\n",
    "plt.plot(x,inBanyulenw, marker=\"o\", color=\"pink\", linewidth=1, label=\"Banyule\")\n",
    "plt.plot(x,inMooneeValleynw, marker=\"o\", color=\"beige\", linewidth=1, label=\"MooneeValley\")\n",
    "plt.plot(x,inMaribyrnongnw, marker=\"o\", color=\"green\", linewidth=1, label=\"Maribyrnong\")\n",
    "plt.plot(x,inHobsonsBaynw, marker=\"o\", color=\"orange\", linewidth=1, label=\"HobsonsBay\")\n",
    "plt.plot(x,inNillumbiknw, marker=\"o\", color=\"turquoise\", linewidth=1, label=\"Nillumbik\")\n",
    "plt.legend(loc='lower right', bbox_to_anchor=(1.4, 0.001))\n",
    "plt.title(\"Crime incidents in North West Police Region by Local Government Area('LGA')\")\n",
    "plt.xlabel(\"YEAR\")\n",
    "plt.ylabel(\"INCIDENTS per LGA\")\n",
    "#plt.figure(figsize=(800,600))\n",
    "plt.show"
   ]
  },
  {
   "cell_type": "code",
   "execution_count": 34,
   "id": "cd65178b",
   "metadata": {},
   "outputs": [
    {
     "data": {
      "text/plain": [
       "<function matplotlib.pyplot.show(close=None, block=None)>"
      ]
     },
     "execution_count": 34,
     "metadata": {},
     "output_type": "execute_result"
    },
    {
     "data": {
      "image/png": "[encoded data removed]",
      "text/plain": [
       "<Figure size 432x288 with 1 Axes>"
      ]
     },
     "metadata": {
      "needs_background": "light"
     },
     "output_type": "display_data"
    }
   ],
   "source": [
    "x = np.arange(2012,2022,1)\n",
    "\n",
    "plt.plot(x,rateMelbournenw, marker=\"o\", color=\"lime\", linewidth=1, label=\"Melbourne\")\n",
    "plt.plot(x,rateBrimbanknw, marker=\"o\", color=\"blue\", linewidth=1, label=\"Brimbank\")\n",
    "plt.plot(x,rateHumenw, marker=\"o\", color=\"red\", linewidth=1, label=\"Hume\")\n",
    "plt.plot(x,rateDarebinnw, marker=\"o\", color=\"purple\", linewidth=1, label=\"Darebin\")\n",
    "plt.plot(x,rateYarranw, marker=\"o\", color=\"violet\", linewidth=1, label=\"Yarra\")\n",
    "plt.plot(x,rateMorelandnw, marker=\"o\", color=\"yellow\", linewidth=1, label=\"Moreland\")\n",
    "plt.plot(x,rateWhittleseanw, marker=\"o\", color=\"black\", linewidth=1, label=\"Whittleseanw\")\n",
    "plt.plot(x,rateWyndhamnw, marker=\"o\", color=\"lavender\", linewidth=1, label=\"Wyndam\")\n",
    "plt.plot(x,rateMeltonnw, marker=\"o\", color=\"brown\", linewidth=1, label=\"Melton\")\n",
    "plt.plot(x,rateBanyulenw, marker=\"o\", color=\"pink\", linewidth=1, label=\"Banyule\")\n",
    "plt.plot(x,rateMooneeValleynw, marker=\"o\", color=\"beige\", linewidth=1, label=\"MooneeValley\")\n",
    "plt.plot(x,rateMaribyrnongnw, marker=\"o\", color=\"green\", linewidth=1, label=\"Maribyrnong\")\n",
    "plt.plot(x,rateHobsonsBaynw, marker=\"o\", color=\"orange\", linewidth=1, label=\"HobsonsBay\")\n",
    "plt.plot(x,rateNillumbiknw, marker=\"o\", color=\"turquoise\", linewidth=1, label=\"Nillumbik\")\n",
    "plt.legend(loc='lower right', bbox_to_anchor=(1.4, 0.001))\n",
    "plt.title(\"Crime rate per 100k population in North West Police Region by Local Government Area('LGA')\")\n",
    "plt.xlabel(\"YEAR\")\n",
    "plt.ylabel(\"Rate per 100k in LGA\")\n",
    "#plt.figure(figsize=(800,600))\n",
    "plt.show"
   ]
  },
  {
   "cell_type": "code",
   "execution_count": null,
   "id": "1650f3fc",
   "metadata": {
    "scrolled": true
   },
   "outputs": [],
   "source": []
  },
  {
   "cell_type": "code",
   "execution_count": null,
   "id": "95923b28",
   "metadata": {},
   "outputs": [],
   "source": []
  },
  {
   "cell_type": "code",
   "execution_count": null,
   "id": "da623268",
   "metadata": {},
   "outputs": [],
   "source": []
  },
  {
   "cell_type": "code",
   "execution_count": null,
   "id": "6b226f4f",
   "metadata": {
    "scrolled": true
   },
   "outputs": [],
   "source": []
  }
 ],
 "metadata": {
  "kernelspec": {
   "display_name": "Python 3",
   "language": "python",
   "name": "python3"
  },
  "language_info": {
   "codemirror_mode": {
    "name": "ipython",
    "version": 3
   },
   "file_extension": ".py",
   "mimetype": "text/x-python",
   "name": "python",
   "nbconvert_exporter": "python",
   "pygments_lexer": "ipython3",
   "version": "3.8.8"
  }
 },
 "nbformat": 4,
 "nbformat_minor": 5
}
