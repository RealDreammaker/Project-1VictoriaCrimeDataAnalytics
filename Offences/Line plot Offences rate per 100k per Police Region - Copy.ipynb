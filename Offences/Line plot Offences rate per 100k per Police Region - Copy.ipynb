{
 "cells": [
  {
   "cell_type": "code",
   "execution_count": 27,
   "id": "1082e0ed",
   "metadata": {
    "scrolled": true
   },
   "outputs": [],
   "source": [
    "# Dependencies and Setup\n",
    "import matplotlib.pyplot as plt\n",
    "import pandas as pd\n",
    "import scipy.stats as st\n",
    "import numpy as np\n",
    "from sklearn import datasets\n",
    "from scipy.stats import linregress\n",
    "\n",
    "xls = pd.ExcelFile(\"../Data/Data_Tables_LGA_Recorded_Offences_Year_Ending_September_2021.xlsx\")\n",
    "df = pd.read_excel (xls,'Table 01')"
   ]
  },
  {
   "cell_type": "code",
   "execution_count": 28,
   "id": "920bc557",
   "metadata": {
    "scrolled": true
   },
   "outputs": [
    {
     "data": {
      "text/html": [
       "<div>\n",
       "<style scoped>\n",
       "    .dataframe tbody tr th:only-of-type {\n",
       "        vertical-align: middle;\n",
       "    }\n",
       "\n",
       "    .dataframe tbody tr th {\n",
       "        vertical-align: top;\n",
       "    }\n",
       "\n",
       "    .dataframe thead th {\n",
       "        text-align: right;\n",
       "    }\n",
       "</style>\n",
       "<table border=\"1\" class=\"dataframe\">\n",
       "  <thead>\n",
       "    <tr style=\"text-align: right;\">\n",
       "      <th></th>\n",
       "      <th>Year</th>\n",
       "      <th>Year ending</th>\n",
       "      <th>Police Region</th>\n",
       "      <th>Local Government Area</th>\n",
       "      <th>Offence Count</th>\n",
       "      <th>Rate per 100,000 population</th>\n",
       "    </tr>\n",
       "  </thead>\n",
       "  <tbody>\n",
       "    <tr>\n",
       "      <th>0</th>\n",
       "      <td>2021</td>\n",
       "      <td>September</td>\n",
       "      <td>1 North West Metro</td>\n",
       "      <td>Banyule</td>\n",
       "      <td>7773</td>\n",
       "      <td>5913.816707</td>\n",
       "    </tr>\n",
       "    <tr>\n",
       "      <th>1</th>\n",
       "      <td>2021</td>\n",
       "      <td>September</td>\n",
       "      <td>1 North West Metro</td>\n",
       "      <td>Brimbank</td>\n",
       "      <td>17741</td>\n",
       "      <td>8746.256173</td>\n",
       "    </tr>\n",
       "    <tr>\n",
       "      <th>2</th>\n",
       "      <td>2021</td>\n",
       "      <td>September</td>\n",
       "      <td>1 North West Metro</td>\n",
       "      <td>Darebin</td>\n",
       "      <td>13379</td>\n",
       "      <td>8114.424138</td>\n",
       "    </tr>\n",
       "    <tr>\n",
       "      <th>3</th>\n",
       "      <td>2021</td>\n",
       "      <td>September</td>\n",
       "      <td>1 North West Metro</td>\n",
       "      <td>Hobsons Bay</td>\n",
       "      <td>5769</td>\n",
       "      <td>5925.844216</td>\n",
       "    </tr>\n",
       "    <tr>\n",
       "      <th>4</th>\n",
       "      <td>2021</td>\n",
       "      <td>September</td>\n",
       "      <td>1 North West Metro</td>\n",
       "      <td>Hume</td>\n",
       "      <td>18882</td>\n",
       "      <td>7689.258292</td>\n",
       "    </tr>\n",
       "    <tr>\n",
       "      <th>5</th>\n",
       "      <td>2021</td>\n",
       "      <td>September</td>\n",
       "      <td>1 North West Metro</td>\n",
       "      <td>Maribyrnong</td>\n",
       "      <td>8640</td>\n",
       "      <td>9198.897080</td>\n",
       "    </tr>\n",
       "    <tr>\n",
       "      <th>6</th>\n",
       "      <td>2021</td>\n",
       "      <td>September</td>\n",
       "      <td>1 North West Metro</td>\n",
       "      <td>Melbourne</td>\n",
       "      <td>34949</td>\n",
       "      <td>20868.034593</td>\n",
       "    </tr>\n",
       "    <tr>\n",
       "      <th>7</th>\n",
       "      <td>2021</td>\n",
       "      <td>September</td>\n",
       "      <td>1 North West Metro</td>\n",
       "      <td>Melton</td>\n",
       "      <td>12550</td>\n",
       "      <td>6979.250087</td>\n",
       "    </tr>\n",
       "    <tr>\n",
       "      <th>8</th>\n",
       "      <td>2021</td>\n",
       "      <td>September</td>\n",
       "      <td>1 North West Metro</td>\n",
       "      <td>Moonee Valley</td>\n",
       "      <td>7521</td>\n",
       "      <td>5750.404534</td>\n",
       "    </tr>\n",
       "    <tr>\n",
       "      <th>9</th>\n",
       "      <td>2021</td>\n",
       "      <td>September</td>\n",
       "      <td>1 North West Metro</td>\n",
       "      <td>Moreland</td>\n",
       "      <td>12128</td>\n",
       "      <td>6485.096509</td>\n",
       "    </tr>\n",
       "    <tr>\n",
       "      <th>10</th>\n",
       "      <td>2021</td>\n",
       "      <td>September</td>\n",
       "      <td>1 North West Metro</td>\n",
       "      <td>Nillumbik</td>\n",
       "      <td>2283</td>\n",
       "      <td>3519.668250</td>\n",
       "    </tr>\n",
       "    <tr>\n",
       "      <th>11</th>\n",
       "      <td>2021</td>\n",
       "      <td>September</td>\n",
       "      <td>1 North West Metro</td>\n",
       "      <td>Whittlesea</td>\n",
       "      <td>14371</td>\n",
       "      <td>6036.407406</td>\n",
       "    </tr>\n",
       "    <tr>\n",
       "      <th>12</th>\n",
       "      <td>2021</td>\n",
       "      <td>September</td>\n",
       "      <td>1 North West Metro</td>\n",
       "      <td>Wyndham</td>\n",
       "      <td>16292</td>\n",
       "      <td>5605.286104</td>\n",
       "    </tr>\n",
       "    <tr>\n",
       "      <th>13</th>\n",
       "      <td>2021</td>\n",
       "      <td>September</td>\n",
       "      <td>1 North West Metro</td>\n",
       "      <td>Yarra</td>\n",
       "      <td>12910</td>\n",
       "      <td>12800.913631</td>\n",
       "    </tr>\n",
       "    <tr>\n",
       "      <th>14</th>\n",
       "      <td>2021</td>\n",
       "      <td>September</td>\n",
       "      <td>1 North West Metro</td>\n",
       "      <td>Total</td>\n",
       "      <td>185188</td>\n",
       "      <td>8067.292735</td>\n",
       "    </tr>\n",
       "    <tr>\n",
       "      <th>15</th>\n",
       "      <td>2021</td>\n",
       "      <td>September</td>\n",
       "      <td>2 Eastern</td>\n",
       "      <td>Alpine</td>\n",
       "      <td>502</td>\n",
       "      <td>3832.538839</td>\n",
       "    </tr>\n",
       "    <tr>\n",
       "      <th>16</th>\n",
       "      <td>2021</td>\n",
       "      <td>September</td>\n",
       "      <td>2 Eastern</td>\n",
       "      <td>Bass Coast</td>\n",
       "      <td>3069</td>\n",
       "      <td>7953.477794</td>\n",
       "    </tr>\n",
       "    <tr>\n",
       "      <th>17</th>\n",
       "      <td>2021</td>\n",
       "      <td>September</td>\n",
       "      <td>2 Eastern</td>\n",
       "      <td>Baw Baw</td>\n",
       "      <td>4552</td>\n",
       "      <td>8097.158724</td>\n",
       "    </tr>\n",
       "    <tr>\n",
       "      <th>18</th>\n",
       "      <td>2021</td>\n",
       "      <td>September</td>\n",
       "      <td>2 Eastern</td>\n",
       "      <td>Benalla</td>\n",
       "      <td>1406</td>\n",
       "      <td>9887.476196</td>\n",
       "    </tr>\n",
       "    <tr>\n",
       "      <th>19</th>\n",
       "      <td>2021</td>\n",
       "      <td>September</td>\n",
       "      <td>2 Eastern</td>\n",
       "      <td>Boroondara</td>\n",
       "      <td>7406</td>\n",
       "      <td>4158.297691</td>\n",
       "    </tr>\n",
       "    <tr>\n",
       "      <th>20</th>\n",
       "      <td>2021</td>\n",
       "      <td>September</td>\n",
       "      <td>2 Eastern</td>\n",
       "      <td>East Gippsland</td>\n",
       "      <td>5084</td>\n",
       "      <td>10554.079096</td>\n",
       "    </tr>\n",
       "    <tr>\n",
       "      <th>21</th>\n",
       "      <td>2021</td>\n",
       "      <td>September</td>\n",
       "      <td>2 Eastern</td>\n",
       "      <td>Greater Shepparton</td>\n",
       "      <td>9227</td>\n",
       "      <td>13712.766367</td>\n",
       "    </tr>\n",
       "    <tr>\n",
       "      <th>22</th>\n",
       "      <td>2021</td>\n",
       "      <td>September</td>\n",
       "      <td>2 Eastern</td>\n",
       "      <td>Indigo</td>\n",
       "      <td>593</td>\n",
       "      <td>3464.183972</td>\n",
       "    </tr>\n",
       "    <tr>\n",
       "      <th>23</th>\n",
       "      <td>2021</td>\n",
       "      <td>September</td>\n",
       "      <td>2 Eastern</td>\n",
       "      <td>Knox</td>\n",
       "      <td>10622</td>\n",
       "      <td>6464.941131</td>\n",
       "    </tr>\n",
       "    <tr>\n",
       "      <th>24</th>\n",
       "      <td>2021</td>\n",
       "      <td>September</td>\n",
       "      <td>2 Eastern</td>\n",
       "      <td>Latrobe</td>\n",
       "      <td>12111</td>\n",
       "      <td>15881.758832</td>\n",
       "    </tr>\n",
       "    <tr>\n",
       "      <th>25</th>\n",
       "      <td>2021</td>\n",
       "      <td>September</td>\n",
       "      <td>2 Eastern</td>\n",
       "      <td>Manningham</td>\n",
       "      <td>4308</td>\n",
       "      <td>3380.741253</td>\n",
       "    </tr>\n",
       "    <tr>\n",
       "      <th>26</th>\n",
       "      <td>2021</td>\n",
       "      <td>September</td>\n",
       "      <td>2 Eastern</td>\n",
       "      <td>Mansfield</td>\n",
       "      <td>513</td>\n",
       "      <td>5351.039366</td>\n",
       "    </tr>\n",
       "    <tr>\n",
       "      <th>27</th>\n",
       "      <td>2021</td>\n",
       "      <td>September</td>\n",
       "      <td>2 Eastern</td>\n",
       "      <td>Maroondah</td>\n",
       "      <td>7682</td>\n",
       "      <td>6462.405550</td>\n",
       "    </tr>\n",
       "    <tr>\n",
       "      <th>28</th>\n",
       "      <td>2021</td>\n",
       "      <td>September</td>\n",
       "      <td>2 Eastern</td>\n",
       "      <td>Mitchell</td>\n",
       "      <td>4448</td>\n",
       "      <td>9164.124152</td>\n",
       "    </tr>\n",
       "    <tr>\n",
       "      <th>29</th>\n",
       "      <td>2021</td>\n",
       "      <td>September</td>\n",
       "      <td>2 Eastern</td>\n",
       "      <td>Moira</td>\n",
       "      <td>2392</td>\n",
       "      <td>7983.692197</td>\n",
       "    </tr>\n",
       "  </tbody>\n",
       "</table>\n",
       "</div>"
      ],
      "text/plain": [
       "    Year Year ending       Police Region Local Government Area  Offence Count  \\\n",
       "0   2021   September  1 North West Metro               Banyule           7773   \n",
       "1   2021   September  1 North West Metro              Brimbank          17741   \n",
       "2   2021   September  1 North West Metro               Darebin          13379   \n",
       "3   2021   September  1 North West Metro           Hobsons Bay           5769   \n",
       "4   2021   September  1 North West Metro                  Hume          18882   \n",
       "5   2021   September  1 North West Metro           Maribyrnong           8640   \n",
       "6   2021   September  1 North West Metro             Melbourne          34949   \n",
       "7   2021   September  1 North West Metro                Melton          12550   \n",
       "8   2021   September  1 North West Metro         Moonee Valley           7521   \n",
       "9   2021   September  1 North West Metro              Moreland          12128   \n",
       "10  2021   September  1 North West Metro             Nillumbik           2283   \n",
       "11  2021   September  1 North West Metro            Whittlesea          14371   \n",
       "12  2021   September  1 North West Metro               Wyndham          16292   \n",
       "13  2021   September  1 North West Metro                 Yarra          12910   \n",
       "14  2021   September  1 North West Metro                 Total         185188   \n",
       "15  2021   September           2 Eastern                Alpine            502   \n",
       "16  2021   September           2 Eastern            Bass Coast           3069   \n",
       "17  2021   September           2 Eastern               Baw Baw           4552   \n",
       "18  2021   September           2 Eastern               Benalla           1406   \n",
       "19  2021   September           2 Eastern            Boroondara           7406   \n",
       "20  2021   September           2 Eastern        East Gippsland           5084   \n",
       "21  2021   September           2 Eastern    Greater Shepparton           9227   \n",
       "22  2021   September           2 Eastern                Indigo            593   \n",
       "23  2021   September           2 Eastern                  Knox          10622   \n",
       "24  2021   September           2 Eastern               Latrobe          12111   \n",
       "25  2021   September           2 Eastern            Manningham           4308   \n",
       "26  2021   September           2 Eastern             Mansfield            513   \n",
       "27  2021   September           2 Eastern             Maroondah           7682   \n",
       "28  2021   September           2 Eastern              Mitchell           4448   \n",
       "29  2021   September           2 Eastern                 Moira           2392   \n",
       "\n",
       "    Rate per 100,000 population  \n",
       "0                   5913.816707  \n",
       "1                   8746.256173  \n",
       "2                   8114.424138  \n",
       "3                   5925.844216  \n",
       "4                   7689.258292  \n",
       "5                   9198.897080  \n",
       "6                  20868.034593  \n",
       "7                   6979.250087  \n",
       "8                   5750.404534  \n",
       "9                   6485.096509  \n",
       "10                  3519.668250  \n",
       "11                  6036.407406  \n",
       "12                  5605.286104  \n",
       "13                 12800.913631  \n",
       "14                  8067.292735  \n",
       "15                  3832.538839  \n",
       "16                  7953.477794  \n",
       "17                  8097.158724  \n",
       "18                  9887.476196  \n",
       "19                  4158.297691  \n",
       "20                 10554.079096  \n",
       "21                 13712.766367  \n",
       "22                  3464.183972  \n",
       "23                  6464.941131  \n",
       "24                 15881.758832  \n",
       "25                  3380.741253  \n",
       "26                  5351.039366  \n",
       "27                  6462.405550  \n",
       "28                  9164.124152  \n",
       "29                  7983.692197  "
      ]
     },
     "execution_count": 28,
     "metadata": {},
     "output_type": "execute_result"
    }
   ],
   "source": [
    "df.head(30)"
   ]
  },
  {
   "cell_type": "code",
   "execution_count": null,
   "id": "11480f35",
   "metadata": {},
   "outputs": [],
   "source": []
  },
  {
   "cell_type": "markdown",
   "id": "a0d42c8b",
   "metadata": {},
   "source": [
    "## ANALYSIS OFFENCES \"Rate per 100k population\" OVER 10 YEARS FOR EACH POLICE REGION"
   ]
  },
  {
   "cell_type": "code",
   "execution_count": 29,
   "id": "c24169a2",
   "metadata": {
    "scrolled": false
   },
   "outputs": [
    {
     "data": {
      "text/plain": [
       "(60, 3)"
      ]
     },
     "execution_count": 29,
     "metadata": {},
     "output_type": "execute_result"
    }
   ],
   "source": [
    "fc = df.loc[df['Local Government Area']=='Total',['Year','Police Region','Rate per 100,000 population']]\n",
    "fc.shape"
   ]
  },
  {
   "cell_type": "code",
   "execution_count": 30,
   "id": "ce16cb0e",
   "metadata": {},
   "outputs": [
    {
     "data": {
      "text/plain": [
       "(40, 3)"
      ]
     },
     "execution_count": 30,
     "metadata": {},
     "output_type": "execute_result"
    }
   ],
   "source": [
    "c = fc.dropna(axis=0, how='any')\n",
    "c.shape"
   ]
  },
  {
   "cell_type": "code",
   "execution_count": 31,
   "id": "affd3fa4",
   "metadata": {},
   "outputs": [
    {
     "data": {
      "text/html": [
       "<div>\n",
       "<style scoped>\n",
       "    .dataframe tbody tr th:only-of-type {\n",
       "        vertical-align: middle;\n",
       "    }\n",
       "\n",
       "    .dataframe tbody tr th {\n",
       "        vertical-align: top;\n",
       "    }\n",
       "\n",
       "    .dataframe thead th {\n",
       "        text-align: right;\n",
       "    }\n",
       "</style>\n",
       "<table border=\"1\" class=\"dataframe\">\n",
       "  <thead>\n",
       "    <tr style=\"text-align: right;\">\n",
       "      <th></th>\n",
       "      <th>sum</th>\n",
       "      <th>mean</th>\n",
       "      <th>median</th>\n",
       "      <th>var</th>\n",
       "      <th>std</th>\n",
       "    </tr>\n",
       "    <tr>\n",
       "      <th>Year</th>\n",
       "      <th></th>\n",
       "      <th></th>\n",
       "      <th></th>\n",
       "      <th></th>\n",
       "      <th></th>\n",
       "    </tr>\n",
       "  </thead>\n",
       "  <tbody>\n",
       "    <tr>\n",
       "      <th>2012</th>\n",
       "      <td>28472.584487</td>\n",
       "      <td>7118.146122</td>\n",
       "      <td>6861.174448</td>\n",
       "      <td>2.279687e+06</td>\n",
       "      <td>1509.863348</td>\n",
       "    </tr>\n",
       "    <tr>\n",
       "      <th>2013</th>\n",
       "      <td>29544.407874</td>\n",
       "      <td>7386.101969</td>\n",
       "      <td>7293.489657</td>\n",
       "      <td>1.867053e+06</td>\n",
       "      <td>1366.401465</td>\n",
       "    </tr>\n",
       "    <tr>\n",
       "      <th>2014</th>\n",
       "      <td>30364.455897</td>\n",
       "      <td>7591.113974</td>\n",
       "      <td>7395.800586</td>\n",
       "      <td>1.605980e+06</td>\n",
       "      <td>1267.272685</td>\n",
       "    </tr>\n",
       "    <tr>\n",
       "      <th>2015</th>\n",
       "      <td>31868.058592</td>\n",
       "      <td>7967.014648</td>\n",
       "      <td>7927.914287</td>\n",
       "      <td>1.545225e+06</td>\n",
       "      <td>1243.070884</td>\n",
       "    </tr>\n",
       "    <tr>\n",
       "      <th>2016</th>\n",
       "      <td>34796.251878</td>\n",
       "      <td>8699.062970</td>\n",
       "      <td>8726.451950</td>\n",
       "      <td>1.534538e+06</td>\n",
       "      <td>1238.764858</td>\n",
       "    </tr>\n",
       "    <tr>\n",
       "      <th>2017</th>\n",
       "      <td>32464.399004</td>\n",
       "      <td>8116.099751</td>\n",
       "      <td>8241.431021</td>\n",
       "      <td>9.059161e+05</td>\n",
       "      <td>951.796231</td>\n",
       "    </tr>\n",
       "    <tr>\n",
       "      <th>2018</th>\n",
       "      <td>31094.412407</td>\n",
       "      <td>7773.603102</td>\n",
       "      <td>7806.596389</td>\n",
       "      <td>1.068817e+06</td>\n",
       "      <td>1033.836292</td>\n",
       "    </tr>\n",
       "    <tr>\n",
       "      <th>2019</th>\n",
       "      <td>31803.162301</td>\n",
       "      <td>7950.790575</td>\n",
       "      <td>8016.721796</td>\n",
       "      <td>6.286163e+05</td>\n",
       "      <td>792.853258</td>\n",
       "    </tr>\n",
       "    <tr>\n",
       "      <th>2020</th>\n",
       "      <td>32536.654911</td>\n",
       "      <td>8134.163728</td>\n",
       "      <td>8161.627085</td>\n",
       "      <td>6.520510e+05</td>\n",
       "      <td>807.496743</td>\n",
       "    </tr>\n",
       "    <tr>\n",
       "      <th>2021</th>\n",
       "      <td>29459.888004</td>\n",
       "      <td>7364.972001</td>\n",
       "      <td>7303.798897</td>\n",
       "      <td>4.575257e+05</td>\n",
       "      <td>676.406431</td>\n",
       "    </tr>\n",
       "  </tbody>\n",
       "</table>\n",
       "</div>"
      ],
      "text/plain": [
       "               sum         mean       median           var          std\n",
       "Year                                                                   \n",
       "2012  28472.584487  7118.146122  6861.174448  2.279687e+06  1509.863348\n",
       "2013  29544.407874  7386.101969  7293.489657  1.867053e+06  1366.401465\n",
       "2014  30364.455897  7591.113974  7395.800586  1.605980e+06  1267.272685\n",
       "2015  31868.058592  7967.014648  7927.914287  1.545225e+06  1243.070884\n",
       "2016  34796.251878  8699.062970  8726.451950  1.534538e+06  1238.764858\n",
       "2017  32464.399004  8116.099751  8241.431021  9.059161e+05   951.796231\n",
       "2018  31094.412407  7773.603102  7806.596389  1.068817e+06  1033.836292\n",
       "2019  31803.162301  7950.790575  8016.721796  6.286163e+05   792.853258\n",
       "2020  32536.654911  8134.163728  8161.627085  6.520510e+05   807.496743\n",
       "2021  29459.888004  7364.972001  7303.798897  4.575257e+05   676.406431"
      ]
     },
     "execution_count": 31,
     "metadata": {},
     "output_type": "execute_result"
    }
   ],
   "source": [
    "cdf = c.groupby('Year')['Rate per 100,000 population'].agg(['sum','mean','median',np.var,np.std])\n",
    "cdf.head(10)"
   ]
  },
  {
   "cell_type": "code",
   "execution_count": 32,
   "id": "77124576",
   "metadata": {
    "scrolled": true
   },
   "outputs": [
    {
     "data": {
      "text/plain": [
       "count       10.000000\n",
       "mean     31240.427536\n",
       "std       1856.795180\n",
       "min      28472.584487\n",
       "25%      29749.419880\n",
       "50%      31448.787354\n",
       "75%      32315.313901\n",
       "max      34796.251878\n",
       "Name: Rate per 100,000 population, dtype: float64"
      ]
     },
     "execution_count": 32,
     "metadata": {},
     "output_type": "execute_result"
    }
   ],
   "source": [
    "Total = c.groupby(['Year'])['Rate per 100,000 population'].agg('sum')\n",
    "Total.describe()"
   ]
  },
  {
   "cell_type": "code",
   "execution_count": 33,
   "id": "af1a6ade",
   "metadata": {},
   "outputs": [
    {
     "data": {
      "text/plain": [
       "<function matplotlib.pyplot.show(close=None, block=None)>"
      ]
     },
     "execution_count": 33,
     "metadata": {},
     "output_type": "execute_result"
    },
    {
     "data": {
      "image/png": "[encoded data removed]",
      "text/plain": [
       "<Figure size 432x288 with 1 Axes>"
      ]
     },
     "metadata": {
      "needs_background": "light"
     },
     "output_type": "display_data"
    }
   ],
   "source": [
    "x = np.arange(2012,2022,1)\n",
    "plt.plot(x,Total, marker=\"o\", color=\"pink\", linewidth=1, label=\"Total\")\n",
    "plt.show"
   ]
  },
  {
   "cell_type": "code",
   "execution_count": 34,
   "id": "e5d6bbbc",
   "metadata": {},
   "outputs": [
    {
     "data": {
      "text/plain": [
       "Year\n",
       "2012     9188.185680\n",
       "2013     9145.108558\n",
       "2014     9311.272543\n",
       "2015     9523.017359\n",
       "2016    10173.603007\n",
       "2017     9072.230728\n",
       "2018     8904.392385\n",
       "2019     8727.002472\n",
       "2020     9070.984126\n",
       "2021     8067.292735\n",
       "Name: Rate per 100,000 population, dtype: float64"
      ]
     },
     "execution_count": 34,
     "metadata": {},
     "output_type": "execute_result"
    }
   ],
   "source": [
    "NorthWestMetro = c[c['Police Region']=='1 North West Metro']\n",
    "del NorthWestMetro['Police Region']\n",
    "NorthWestMetro = NorthWestMetro.groupby(['Year'])['Rate per 100,000 population'].agg('sum')\n",
    "NorthWestMetro"
   ]
  },
  {
   "cell_type": "code",
   "execution_count": 35,
   "id": "ac91b6af",
   "metadata": {
    "scrolled": false
   },
   "outputs": [
    {
     "data": {
      "text/plain": [
       "Year\n",
       "2012    5562.049911\n",
       "2013    5812.320002\n",
       "2014    6261.582182\n",
       "2015    6489.212658\n",
       "2016    7169.744970\n",
       "2017    6909.306234\n",
       "2018    6576.827243\n",
       "2019    7042.716237\n",
       "2020    7142.416615\n",
       "2021    6784.997475\n",
       "Name: Rate per 100,000 population, dtype: float64"
      ]
     },
     "execution_count": 35,
     "metadata": {},
     "output_type": "execute_result"
    }
   ],
   "source": [
    "Eastern = c[c['Police Region']=='2 Eastern']\n",
    "del Eastern['Police Region']\n",
    "Eastern= Eastern.groupby(['Year'])['Rate per 100,000 population'].agg('sum')\n",
    "Eastern"
   ]
  },
  {
   "cell_type": "code",
   "execution_count": 36,
   "id": "9b46a451",
   "metadata": {
    "scrolled": true
   },
   "outputs": [
    {
     "data": {
      "text/plain": [
       "Year\n",
       "2012    6845.459595\n",
       "2013    7212.523775\n",
       "2014    7309.067521\n",
       "2015    7810.494457\n",
       "2016    8515.462682\n",
       "2017    7844.067647\n",
       "2018    7309.948394\n",
       "2019    7542.353214\n",
       "2020    7945.467768\n",
       "2021    6786.368797\n",
       "Name: Rate per 100,000 population, dtype: float64"
      ]
     },
     "execution_count": 36,
     "metadata": {},
     "output_type": "execute_result"
    }
   ],
   "source": [
    "SouthernMetro = c[c['Police Region']=='3 Southern Metro']\n",
    "del SouthernMetro['Police Region']\n",
    "SouthernMetro = SouthernMetro.groupby(['Year'])['Rate per 100,000 population'].agg('sum')\n",
    "SouthernMetro"
   ]
  },
  {
   "cell_type": "code",
   "execution_count": 37,
   "id": "13ea0b66",
   "metadata": {},
   "outputs": [
    {
     "data": {
      "text/plain": [
       "Year\n",
       "2012    6876.889300\n",
       "2013    7374.455539\n",
       "2014    7482.533651\n",
       "2015    8045.334118\n",
       "2016    8937.441219\n",
       "2017    8638.794395\n",
       "2018    8303.244385\n",
       "2019    8491.090378\n",
       "2020    8377.786403\n",
       "2021    7821.228998\n",
       "Name: Rate per 100,000 population, dtype: float64"
      ]
     },
     "execution_count": 37,
     "metadata": {},
     "output_type": "execute_result"
    }
   ],
   "source": [
    "Western = c[c['Police Region']=='4 Western']\n",
    "del Western['Police Region']\n",
    "Western = Western.groupby(['Year'])['Rate per 100,000 population'].agg('sum')\n",
    "Western"
   ]
  },
  {
   "cell_type": "code",
   "execution_count": 38,
   "id": "ded6a212",
   "metadata": {},
   "outputs": [
    {
     "data": {
      "text/plain": [
       "Series([], Name: Rate per 100,000 population, dtype: float64)"
      ]
     },
     "execution_count": 38,
     "metadata": {},
     "output_type": "execute_result"
    }
   ],
   "source": [
    "Justice = c[c['Police Region']=='Justice Institutions and Immigration Facilities']\n",
    "del Justice['Police Region']\n",
    "Justice = Justice.groupby(['Year'])['Rate per 100,000 population'].agg('sum')\n",
    "Justice"
   ]
  },
  {
   "cell_type": "code",
   "execution_count": null,
   "id": "f4f26471",
   "metadata": {},
   "outputs": [],
   "source": []
  },
  {
   "cell_type": "code",
   "execution_count": 39,
   "id": "71691ead",
   "metadata": {
    "scrolled": false
   },
   "outputs": [
    {
     "data": {
      "text/plain": [
       "<function matplotlib.pyplot.show(close=None, block=None)>"
      ]
     },
     "execution_count": 39,
     "metadata": {},
     "output_type": "execute_result"
    },
    {
     "data": {
      "image/png": "[encoded data removed]",
      "text/plain": [
       "<Figure size 432x288 with 1 Axes>"
      ]
     },
     "metadata": {
      "needs_background": "light"
     },
     "output_type": "display_data"
    },
    {
     "data": {
      "text/plain": [
       "<Figure size 57600x43200 with 0 Axes>"
      ]
     },
     "metadata": {},
     "output_type": "display_data"
    }
   ],
   "source": [
    "x = np.arange(2012,2022,1)\n",
    "plt.plot(x,Total, marker=\"o\", color=\"pink\", linewidth=1, label=\"Total\")\n",
    "plt.plot(x,NorthWestMetro, marker=\"o\", color=\"red\", linewidth=1, label=\"NorthWest\")\n",
    "plt.plot(x,Eastern, marker=\"o\", color=\"purple\", linewidth=1, label=\"Eastern\")\n",
    "plt.plot(x,SouthernMetro, marker=\"o\", color=\"orange\", linewidth=1, label=\"Southern\")\n",
    "plt.plot(x,Western, marker=\"o\", color=\"green\", linewidth=1, label=\"Western\")\n",
    "#plt.plot(x,Justice, marker=\"o\", color=\"blue\", linewidth=1, label=\"Facility\")\n",
    "plt.legend(loc='lower right', bbox_to_anchor=(1.3, 0.1))\n",
    "plt.title(\"Offences Rate per 100,000 population per year by Police Region\")\n",
    "plt.xlabel(\"YEAR\")\n",
    "plt.ylabel(\"Rate of offences\")\n",
    "plt.figure(figsize=(800,600))\n",
    "plt.show"
   ]
  },
  {
   "cell_type": "code",
   "execution_count": null,
   "id": "07ff3525",
   "metadata": {},
   "outputs": [],
   "source": []
  },
  {
   "cell_type": "code",
   "execution_count": null,
   "id": "1650f3fc",
   "metadata": {
    "scrolled": true
   },
   "outputs": [],
   "source": []
  },
  {
   "cell_type": "code",
   "execution_count": null,
   "id": "95923b28",
   "metadata": {},
   "outputs": [],
   "source": []
  },
  {
   "cell_type": "code",
   "execution_count": null,
   "id": "da623268",
   "metadata": {},
   "outputs": [],
   "source": []
  },
  {
   "cell_type": "code",
   "execution_count": null,
   "id": "6b226f4f",
   "metadata": {
    "scrolled": true
   },
   "outputs": [],
   "source": []
  }
 ],
 "metadata": {
  "kernelspec": {
   "display_name": "Python 3",
   "language": "python",
   "name": "python3"
  },
  "language_info": {
   "codemirror_mode": {
    "name": "ipython",
    "version": 3
   },
   "file_extension": ".py",
   "mimetype": "text/x-python",
   "name": "python",
   "nbconvert_exporter": "python",
   "pygments_lexer": "ipython3",
   "version": "3.8.8"
  }
 },
 "nbformat": 4,
 "nbformat_minor": 5
}
